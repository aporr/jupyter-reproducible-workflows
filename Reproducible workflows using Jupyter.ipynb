{
 "cells": [
  {
   "cell_type": "markdown",
   "metadata": {
    "slideshow": {
     "slide_type": "slide"
    }
   },
   "source": [
    "<h1 style=\"text-align:center\">Remind me again how we did that?  Creating convenient and reproducible workflows using Jupyter Notebook</h1>\n",
    "\n",
    "<p style=\"font-size:24px; text-align:center\">\n",
    "MORPC Data Day<br />\n",
    "March 1, 2023<br />\n",
    "</p>\n",
    "\n",
    "<p style=\"text-align:center\">\n",
    "    <a href=\"mailto:aporr@morpc.org\">Adam Porr</a><br />\n",
    "    Research & Data Officer<br />\n",
    "    <a href=\"https://morpc.org\">Mid-Ohio Regional Planning Commission</a>\n",
    "</p>"
   ]
  },
  {
   "cell_type": "markdown",
   "metadata": {
    "slideshow": {
     "slide_type": "notes"
    },
    "tags": []
   },
   "source": [
    "## Abstract\n",
    "\n",
    "Attendees will be introduced to Jupyter notebooks and how they can be used to produce well-documented automated workflows using Python code.  We will walk through an existing Jupyter notebook that makes use of the popular Pandas data analysis and manipulation library (among others) and its geographic extensions (i.e. GeoPandas) to retrieve geographic data and attribute data from the Census website, integrate the retrieved data, and perform a simple common analysis task using the data.  We anticipate that attendees will already have experience downloading, integrating, and analyzing Census data using other tools (e.g., data.census.gov, Excel, ArcGIS), therefore this presentation will focus on the automation of this workflow using Jupyter and the efficiency, transparency, and reproducibility benefits that can be realized from this strategy.  All of tools demonstrated during the presentation will be free and open source, and the notebook will be made available so that attendees can experiment with the workflow after the presentation.  Basic familiarity with Python or other programming languages is beneficial to understand the workflow implementation, but not necessary to appreciate the primary learning objectives."
   ]
  },
  {
   "cell_type": "markdown",
   "metadata": {
    "slideshow": {
     "slide_type": "skip"
    },
    "tags": []
   },
   "source": [
    "## Introduction"
   ]
  },
  {
   "cell_type": "markdown",
   "metadata": {
    "slideshow": {
     "slide_type": "notes"
    },
    "tags": []
   },
   "source": [
    "My goal for this presentation: I want you to **want** to create reproducible workflows.  "
   ]
  },
  {
   "cell_type": "markdown",
   "metadata": {
    "slideshow": {
     "slide_type": "subslide"
    },
    "tags": []
   },
   "source": [
    "![Dishes scene from \"The Break Up\"](https://images.squarespace-cdn.com/content/v1/5aa40c3589c172a816875fd2/1579382959877-CX922N5S0DF9LMLUR75V/Dishes.jpg?format=1000w)"
   ]
  },
  {
   "cell_type": "markdown",
   "metadata": {
    "slideshow": {
     "slide_type": "subslide"
    },
    "tags": []
   },
   "source": [
    "### How I'll make my case\n",
    "\n",
    "  - Rant about the problem as I see it.\n",
    "  - Introduce a shiny new tool (Jupyter)\n",
    "  - Show off a tiny fraction of the cool things you can do with Jupyter while...\n",
    "    - Demonstrating how work done in Jupyter is inherently more reproducible\n",
    "    - Suggesting practices to make your Jupyter workflows even more reproducible"
   ]
  },
  {
   "cell_type": "markdown",
   "metadata": {
    "slideshow": {
     "slide_type": "slide"
    },
    "tags": []
   },
   "source": [
    "## Why we need reproducible workflows"
   ]
  },
  {
   "cell_type": "markdown",
   "metadata": {
    "slideshow": {
     "slide_type": "subslide"
    },
    "tags": [],
    "toc-hr-collapsed": true
   },
   "source": [
    "### Have you every been guilty of this?\n",
    "\n",
    "![XKCD comic](https://imgs.xkcd.com/comics/documents.png)\n",
    "\n",
    "Image credit: Randall Monroe ([XKCD](https://xkcd.com/1459/))"
   ]
  },
  {
   "cell_type": "markdown",
   "metadata": {
    "slideshow": {
     "slide_type": "notes"
    },
    "tags": []
   },
   "source": [
    "My favorite is \"Big official report FINAL v2 AMP comments.docx\""
   ]
  },
  {
   "cell_type": "markdown",
   "metadata": {
    "slideshow": {
     "slide_type": "subslide"
    },
    "tags": []
   },
   "source": [
    "### Or this?\n",
    "\n",
    "![File not found](./images/file_not_found.png)"
   ]
  },
  {
   "cell_type": "markdown",
   "metadata": {
    "slideshow": {
     "slide_type": "subslide"
    },
    "tags": []
   },
   "source": [
    "### Or this?\n",
    "\n",
    "```#TODO: Figure out what I’m doing here and comment accordingly.```"
   ]
  },
  {
   "cell_type": "markdown",
   "metadata": {
    "slideshow": {
     "slide_type": "fragment"
    },
    "tags": []
   },
   "source": [
    "```// Peter wrote this, nobody knows what it does, don't change it!```"
   ]
  },
  {
   "cell_type": "markdown",
   "metadata": {
    "slideshow": {
     "slide_type": "fragment"
    },
    "tags": []
   },
   "source": [
    "```// drunk, fix later```"
   ]
  },
  {
   "cell_type": "markdown",
   "metadata": {
    "slideshow": {
     "slide_type": "subslide"
    },
    "tags": []
   },
   "source": [
    " ### Why are we so bad a creating reproducible workflows?\n",
    " \n",
    " ![Comic](https://image.slidesharecdn.com/gooddocumentationpractice-124654020836-phpapp01/95/good-documentation-practice-15-728.jpg?cb=1264761241)\n",
    " "
   ]
  },
  {
   "cell_type": "markdown",
   "metadata": {
    "slideshow": {
     "slide_type": "notes"
    },
    "tags": []
   },
   "source": [
    "  - Creating reproducible workflows used to be difficult and tedious\n",
    "  - No wonder data scientists (and most other people) are bad at making workflows reproducible\n",
    "  - Creating reproducible workflows will lead to better:\n",
    "      - Transparency\n",
    "      - Efficiency\n",
    "      - Sanity!"
   ]
  },
  {
   "cell_type": "markdown",
   "metadata": {
    "slideshow": {
     "slide_type": "slide"
    },
    "tags": []
   },
   "source": [
    "## The case for programming your analysis"
   ]
  },
  {
   "cell_type": "markdown",
   "metadata": {
    "slideshow": {
     "slide_type": "subslide"
    },
    "tags": []
   },
   "source": [
    "### Code inherently provides documentation"
   ]
  },
  {
   "cell_type": "code",
   "execution_count": null,
   "metadata": {
    "slideshow": {
     "slide_type": "fragment"
    },
    "tags": []
   },
   "outputs": [],
   "source": [
    "r = requests.get(DECENNIAL_API_SOURCE_URL, params=DECENNIAL_API_PARAMS)\n",
    "decennialRaw = r.json()\n",
    "columns = decennialRaw.pop(0)\n",
    "decennialData = pd.DataFrame.from_records(decennialRaw, columns=columns) \\\n",
    "    .filter(items=morpc.avro_get_field_names(decennialSchema), axis=\"columns\") \\\n",
    "    .astype(morpc.avro_to_pandas_dtype_map(decennialSchema)) \\\n",
    "    .rename(columns=morpc.avro_map_to_first_alias(decennialSchema)) \n",
    "decennialData[\"GEOID\"] = decennialData[\"GEOID\"].apply(lambda x:x.split(\"US\")[1])"
   ]
  },
  {
   "cell_type": "markdown",
   "metadata": {
    "slideshow": {
     "slide_type": "subslide"
    },
    "tags": []
   },
   "source": [
    "![Example JSON](./images/json.png)"
   ]
  },
  {
   "cell_type": "markdown",
   "metadata": {
    "slideshow": {
     "slide_type": "fragment"
    },
    "tags": []
   },
   "source": [
    "![Example table](./images/table.png)"
   ]
  },
  {
   "cell_type": "markdown",
   "metadata": {
    "slideshow": {
     "slide_type": "subslide"
    },
    "tags": []
   },
   "source": [
    "### Code does only what you tell it to do"
   ]
  },
  {
   "cell_type": "markdown",
   "metadata": {},
   "source": [
    "![Comic](https://media.tumblr.com/tumblr_lxncwaZ4f21qhg0wt.jpg)"
   ]
  },
  {
   "cell_type": "markdown",
   "metadata": {
    "slideshow": {
     "slide_type": "subslide"
    },
    "tags": []
   },
   "source": [
    "### Code allows you to repeat steps with minimal effort\n",
    "\n",
    "![Example model](./images/model.svg)"
   ]
  },
  {
   "cell_type": "markdown",
   "metadata": {
    "slideshow": {
     "slide_type": "slide"
    },
    "tags": []
   },
   "source": [
    "## The case for literate programming"
   ]
  },
  {
   "cell_type": "markdown",
   "metadata": {
    "slideshow": {
     "slide_type": "subslide"
    },
    "tags": []
   },
   "source": [
    "### A few thoughtful, well-placed comments go a long way"
   ]
  },
  {
   "cell_type": "code",
   "execution_count": null,
   "metadata": {
    "slideshow": {
     "slide_type": "fragment"
    },
    "tags": []
   },
   "outputs": [],
   "source": [
    "<svg width=\"200\" height=\"250\" version=\"1.1\" xmlns=\"http://www.w3.org/2000/svg\">\n",
    "  <polygon points=\"50 160 55 180 70 180 60 190 65 205 50 195 35 205 40 190 30 180 45 180\"\n",
    "      stroke=\"green\" fill=\"transparent\" stroke-width=\"5\"/>\n",
    "</svg>"
   ]
  },
  {
   "cell_type": "markdown",
   "metadata": {
    "slideshow": {
     "slide_type": "fragment"
    },
    "tags": []
   },
   "source": [
    "Draw a green five-pointed star"
   ]
  },
  {
   "cell_type": "markdown",
   "metadata": {
    "slideshow": {
     "slide_type": "subslide"
    },
    "tags": []
   },
   "source": [
    "### But a picture is even better!\n",
    "\n",
    "![Star](./images/star.png)"
   ]
  },
  {
   "cell_type": "markdown",
   "metadata": {
    "slideshow": {
     "slide_type": "subslide"
    },
    "tags": []
   },
   "source": [
    "### Sometimes you just need the gist\n",
    "\n",
    "![Outline](./images/jupyter_outline.png)"
   ]
  },
  {
   "cell_type": "markdown",
   "metadata": {
    "slideshow": {
     "slide_type": "subslide"
    },
    "tags": []
   },
   "source": [
    "### Literate programming reads like a book but runs like code\n",
    "\n",
    "![Donald Knuth, the author of Literate Programming](./images/donald_knuth.png)"
   ]
  },
  {
   "cell_type": "markdown",
   "metadata": {
    "slideshow": {
     "slide_type": "subslide"
    },
    "tags": []
   },
   "source": [
    "### Jupyter makes literate programming possible for mere mortals\n",
    "\n",
    "![Jupyter notebook screenshot](https://jupyterlab.readthedocs.io/en/stable/_images/jupyterlab.png)"
   ]
  },
  {
   "cell_type": "markdown",
   "metadata": {
    "slideshow": {
     "slide_type": "slide"
    },
    "tags": []
   },
   "source": [
    "## Literate programming by example"
   ]
  },
  {
   "cell_type": "markdown",
   "metadata": {
    "slideshow": {
     "slide_type": "subslide"
    },
    "tags": []
   },
   "source": [
    "### Write an introduction\n",
    "\n",
    "In the remainder of this notebook, I'll demonstrate a simple (but hopefully compelling) use case for Jupyter that highlights it's literate programming capabilities.  It will use the popular pandas data analysis library and its spatially-enabled companion, geopandas.  The notebook will fetch U.S. Census data from the web, do some common manipulations to it, plot it, map it, and perform a statistical analysis.  Since I included an introduction, you can decide whether you care about any of that without having to try to interpret the rest of the document."
   ]
  },
  {
   "cell_type": "markdown",
   "metadata": {},
   "source": [
    "### Specify your input and output data"
   ]
  },
  {
   "cell_type": "markdown",
   "metadata": {
    "slideshow": {
     "slide_type": "notes"
    },
    "tags": []
   },
   "source": [
    "It's good to specify all prerequisites at the beginning of the document, including data, parameters, and required libraries.  This helps the reader understand the inputs and outputs and what steps they may have to take prior to running the script."
   ]
  },
  {
   "cell_type": "markdown",
   "metadata": {},
   "source": [
    "#### Input data"
   ]
  },
  {
   "cell_type": "markdown",
   "metadata": {
    "slideshow": {
     "slide_type": "fragment"
    },
    "tags": []
   },
   "source": [
    "We'll retrieve population estimates and factors of population change from the Census Population Estimates Program (PEP) website and archive a local copy."
   ]
  },
  {
   "cell_type": "code",
   "execution_count": 34,
   "metadata": {
    "slideshow": {
     "slide_type": "fragment"
    },
    "tags": []
   },
   "outputs": [],
   "source": [
    "CENSUS_PEP_URL = \"https://www2.census.gov/programs-surveys/popest/datasets/2010-2019/counties/totals/co-est2019-alldata.csv\"\n",
    "CENSUS_PEP_ARCHIVE_PATH = \"./input_data/census_pep.csv\""
   ]
  },
  {
   "cell_type": "markdown",
   "metadata": {
    "slideshow": {
     "slide_type": "fragment"
    },
    "tags": []
   },
   "source": [
    "We'll also need the county polygons Shapefile from the Census geography program."
   ]
  },
  {
   "cell_type": "code",
   "execution_count": 34,
   "metadata": {
    "slideshow": {
     "slide_type": "fragment"
    },
    "tags": []
   },
   "outputs": [],
   "source": [
    "CENSUS_COUNTY_POLYGONS_URL = \"https://www2.census.gov/geo/tiger/TIGER2019/COUNTY/tl_2019_us_county.zip\"\n",
    "CENSUS_COUNTY_POLYGONS_ARCHIVE_PATH = \"./input_data/county_polygons.shp\""
   ]
  },
  {
   "cell_type": "markdown",
   "metadata": {
    "slideshow": {
     "slide_type": "fragment"
    },
    "tags": []
   },
   "source": [
    "#### Output data"
   ]
  },
  {
   "cell_type": "markdown",
   "metadata": {
    "slideshow": {
     "slide_type": "fragment"
    },
    "tags": []
   },
   "source": [
    "We'll produce a spatial database (Shapefile) that includes the geometries and numerical population change for Franklin County and the surrounding counties."
   ]
  },
  {
   "cell_type": "code",
   "execution_count": 22,
   "metadata": {
    "slideshow": {
     "slide_type": "fragment"
    },
    "tags": []
   },
   "outputs": [],
   "source": [
    "POPCHANGE_FEATURECLASS_PATH = \"./output_data/popchange.shp\""
   ]
  },
  {
   "cell_type": "markdown",
   "metadata": {
    "slideshow": {
     "slide_type": "subslide"
    },
    "tags": []
   },
   "source": [
    "### Don't forget to specify the schemas!"
   ]
  },
  {
   "cell_type": "markdown",
   "metadata": {},
   "source": [
    "Schemas help humans to understand how datasets are structured and what the variables represent.  If the schema is specified in a machine readable format like this, then the computer can parse the data without additional effort from a human."
   ]
  },
  {
   "cell_type": "code",
   "execution_count": null,
   "metadata": {
    "slideshow": {
     "slide_type": "fragment"
    },
    "tags": []
   },
   "outputs": [],
   "source": [
    "POPCHG_FEATURECLASS_SCHEMA = {\n",
    "    \"type\": \"record\",\n",
    "    \"doc\": \"Numerical population change for Central Ohio counties for the years 2010 to 2019.\",\n",
    "    \"fields\": [\n",
    "        {\"name\":\"CTYNAME\", \"type\":\"string\", \"doc\":\"Name of the county\"},\n",
    "        {\"name\":\"2010\", \"type\":\"int\", \"doc\":\"Numeric change in resident total population 4/1/2010 to 7/1/2010\"},\n",
    "        {\"name\":\"2011\", \"type\":\"int\", \"doc\":\"Numeric change in resident total population 7/1/2010 to 7/1/2011\"},\n",
    "        {\"name\":\"2012\", \"type\":\"int\", \"doc\":\"Numeric change in resident total population 7/1/2011 to 7/1/2012\"},\n",
    "        {\"name\":\"2013\", \"type\":\"int\", \"doc\":\"Numeric change in resident total population 7/1/2012 to 7/1/2013\"},\n",
    "        {\"name\":\"2014\", \"type\":\"int\", \"doc\":\"Numeric change in resident total population 7/1/2013 to 7/1/2014\"},\n",
    "        {\"name\":\"2015\", \"type\":\"int\", \"doc\":\"Numeric change in resident total population 7/1/2014 to 7/1/2015\"},\n",
    "        {\"name\":\"2016\", \"type\":\"int\", \"doc\":\"Numeric change in resident total population 7/1/2015 to 7/1/2016\"},\n",
    "        {\"name\":\"2017\", \"type\":\"int\", \"doc\":\"Numeric change in resident total population 7/1/2016 to 7/1/2017\"},\n",
    "        {\"name\":\"2018\", \"type\":\"int\", \"doc\":\"Numeric change in resident total population 7/1/2017 to 7/1/2018\"},\n",
    "        {\"name\":\"2019\", \"type\":\"int\", \"doc\":\"Numeric change in resident total population 7/1/2018 to 7/1/2019\"}\n",
    "    ]\n",
    "}"
   ]
  },
  {
   "cell_type": "markdown",
   "metadata": {
    "slideshow": {
     "slide_type": "subslide"
    },
    "tags": []
   },
   "source": [
    "### Specify your parameters"
   ]
  },
  {
   "cell_type": "code",
   "execution_count": 26,
   "metadata": {
    "slideshow": {
     "slide_type": "fragment"
    },
    "tags": []
   },
   "outputs": [],
   "source": [
    "# For COUNTY_NAMES, enter a list of strings representing the names of the counties of interest\n",
    "COUNTY_NAMES = \\\n",
    "    [\"Franklin\",\"Fairfield\",\"Pickaway\",\"Madison\", \n",
    "     \"Union\", \"Delaware\", \"Licking\"]\n",
    "\n",
    "# For STATE_NAME, enter a string representing name of the state where the counties of interest\n",
    "# are located.\n",
    "STATE_NAME = \"Ohio\""
   ]
  },
  {
   "cell_type": "markdown",
   "metadata": {
    "slideshow": {
     "slide_type": "subslide"
    },
    "tags": []
   },
   "source": [
    "### Import your libraries"
   ]
  },
  {
   "cell_type": "code",
   "execution_count": 27,
   "metadata": {
    "slideshow": {
     "slide_type": "fragment"
    },
    "tags": []
   },
   "outputs": [],
   "source": [
    "import os                  # Perform basic filesystem operations, such as creating directories\n",
    "import pandas as pd        # Create and manipulate tabular data in the form of dataframes\n",
    "import geopandas as gpd    # Create and manipulate spatial data in the form of geodataframes"
   ]
  },
  {
   "cell_type": "markdown",
   "metadata": {
    "slideshow": {
     "slide_type": "subslide"
    },
    "tags": []
   },
   "source": [
    "### Prepare your environment"
   ]
  },
  {
   "cell_type": "markdown",
   "metadata": {
    "slideshow": {
     "slide_type": "fragment"
    },
    "tags": []
   },
   "source": [
    "Create subdirectories to store the input data and output data if they don't already exist."
   ]
  },
  {
   "cell_type": "code",
   "execution_count": null,
   "metadata": {
    "slideshow": {
     "slide_type": "fragment"
    },
    "tags": []
   },
   "outputs": [],
   "source": [
    "if not os.path.exists(\"./input_data\"):\n",
    "    os.makedirs(\"./input_data\")\n",
    "    \n",
    "if not os.path.exists(\"./output_data\"):\n",
    "    os.makedirs(\"./output_data\")    "
   ]
  },
  {
   "cell_type": "markdown",
   "metadata": {
    "slideshow": {
     "slide_type": "subslide"
    },
    "tags": []
   },
   "source": [
    "### Finally, let's get some data! Pandas makes working tabular data a dream.\n",
    "Read the CSV file directly from the Census website. This particular file uses an atypical text encoding format, so we have to specify it explicitly.  Pandas can determine the encoding for most CSV files automatically. After downloading the file, save an archival copy and display some sample records."
   ]
  },
  {
   "cell_type": "code",
   "execution_count": 28,
   "metadata": {
    "slideshow": {
     "slide_type": "fragment"
    },
    "tags": []
   },
   "outputs": [
    {
     "data": {
      "text/html": [
       "<div>\n",
       "<style scoped>\n",
       "    .dataframe tbody tr th:only-of-type {\n",
       "        vertical-align: middle;\n",
       "    }\n",
       "\n",
       "    .dataframe tbody tr th {\n",
       "        vertical-align: top;\n",
       "    }\n",
       "\n",
       "    .dataframe thead th {\n",
       "        text-align: right;\n",
       "    }\n",
       "</style>\n",
       "<table border=\"1\" class=\"dataframe\">\n",
       "  <thead>\n",
       "    <tr style=\"text-align: right;\">\n",
       "      <th></th>\n",
       "      <th>SUMLEV</th>\n",
       "      <th>REGION</th>\n",
       "      <th>DIVISION</th>\n",
       "      <th>STATE</th>\n",
       "      <th>COUNTY</th>\n",
       "      <th>STNAME</th>\n",
       "      <th>CTYNAME</th>\n",
       "      <th>CENSUS2010POP</th>\n",
       "      <th>ESTIMATESBASE2010</th>\n",
       "      <th>POPESTIMATE2010</th>\n",
       "      <th>...</th>\n",
       "      <th>RDOMESTICMIG2019</th>\n",
       "      <th>RNETMIG2011</th>\n",
       "      <th>RNETMIG2012</th>\n",
       "      <th>RNETMIG2013</th>\n",
       "      <th>RNETMIG2014</th>\n",
       "      <th>RNETMIG2015</th>\n",
       "      <th>RNETMIG2016</th>\n",
       "      <th>RNETMIG2017</th>\n",
       "      <th>RNETMIG2018</th>\n",
       "      <th>RNETMIG2019</th>\n",
       "    </tr>\n",
       "  </thead>\n",
       "  <tbody>\n",
       "    <tr>\n",
       "      <th>0</th>\n",
       "      <td>40</td>\n",
       "      <td>3</td>\n",
       "      <td>6</td>\n",
       "      <td>1</td>\n",
       "      <td>0</td>\n",
       "      <td>Alabama</td>\n",
       "      <td>Alabama</td>\n",
       "      <td>4779736</td>\n",
       "      <td>4780125</td>\n",
       "      <td>4785437</td>\n",
       "      <td>...</td>\n",
       "      <td>1.917501</td>\n",
       "      <td>0.578434</td>\n",
       "      <td>1.186314</td>\n",
       "      <td>1.522549</td>\n",
       "      <td>0.563489</td>\n",
       "      <td>0.626357</td>\n",
       "      <td>0.745172</td>\n",
       "      <td>1.090366</td>\n",
       "      <td>1.773786</td>\n",
       "      <td>2.483744</td>\n",
       "    </tr>\n",
       "    <tr>\n",
       "      <th>1</th>\n",
       "      <td>50</td>\n",
       "      <td>3</td>\n",
       "      <td>6</td>\n",
       "      <td>1</td>\n",
       "      <td>1</td>\n",
       "      <td>Alabama</td>\n",
       "      <td>Autauga County</td>\n",
       "      <td>54571</td>\n",
       "      <td>54597</td>\n",
       "      <td>54773</td>\n",
       "      <td>...</td>\n",
       "      <td>4.847310</td>\n",
       "      <td>6.018182</td>\n",
       "      <td>-6.226119</td>\n",
       "      <td>-3.902226</td>\n",
       "      <td>1.970443</td>\n",
       "      <td>-1.712875</td>\n",
       "      <td>4.777171</td>\n",
       "      <td>0.849656</td>\n",
       "      <td>0.540916</td>\n",
       "      <td>4.560062</td>\n",
       "    </tr>\n",
       "    <tr>\n",
       "      <th>2</th>\n",
       "      <td>50</td>\n",
       "      <td>3</td>\n",
       "      <td>6</td>\n",
       "      <td>1</td>\n",
       "      <td>3</td>\n",
       "      <td>Alabama</td>\n",
       "      <td>Baldwin County</td>\n",
       "      <td>182265</td>\n",
       "      <td>182265</td>\n",
       "      <td>183112</td>\n",
       "      <td>...</td>\n",
       "      <td>24.017829</td>\n",
       "      <td>16.641870</td>\n",
       "      <td>17.488579</td>\n",
       "      <td>22.751474</td>\n",
       "      <td>20.184334</td>\n",
       "      <td>17.725964</td>\n",
       "      <td>21.279291</td>\n",
       "      <td>22.398256</td>\n",
       "      <td>24.727215</td>\n",
       "      <td>24.380567</td>\n",
       "    </tr>\n",
       "    <tr>\n",
       "      <th>3</th>\n",
       "      <td>50</td>\n",
       "      <td>3</td>\n",
       "      <td>6</td>\n",
       "      <td>1</td>\n",
       "      <td>5</td>\n",
       "      <td>Alabama</td>\n",
       "      <td>Barbour County</td>\n",
       "      <td>27457</td>\n",
       "      <td>27455</td>\n",
       "      <td>27327</td>\n",
       "      <td>...</td>\n",
       "      <td>-5.690302</td>\n",
       "      <td>0.292676</td>\n",
       "      <td>-6.897817</td>\n",
       "      <td>-8.132185</td>\n",
       "      <td>-5.140431</td>\n",
       "      <td>-15.724575</td>\n",
       "      <td>-18.238016</td>\n",
       "      <td>-24.998528</td>\n",
       "      <td>-8.754922</td>\n",
       "      <td>-5.165664</td>\n",
       "    </tr>\n",
       "    <tr>\n",
       "      <th>4</th>\n",
       "      <td>50</td>\n",
       "      <td>3</td>\n",
       "      <td>6</td>\n",
       "      <td>1</td>\n",
       "      <td>7</td>\n",
       "      <td>Alabama</td>\n",
       "      <td>Bibb County</td>\n",
       "      <td>22915</td>\n",
       "      <td>22915</td>\n",
       "      <td>22870</td>\n",
       "      <td>...</td>\n",
       "      <td>1.385134</td>\n",
       "      <td>-4.998356</td>\n",
       "      <td>-3.787545</td>\n",
       "      <td>-5.797999</td>\n",
       "      <td>1.331144</td>\n",
       "      <td>1.329817</td>\n",
       "      <td>-0.708717</td>\n",
       "      <td>-3.234669</td>\n",
       "      <td>-6.857092</td>\n",
       "      <td>1.831952</td>\n",
       "    </tr>\n",
       "  </tbody>\n",
       "</table>\n",
       "<p>5 rows × 164 columns</p>\n",
       "</div>"
      ],
      "text/plain": [
       "   SUMLEV  REGION  DIVISION  STATE  COUNTY   STNAME         CTYNAME  \\\n",
       "0      40       3         6      1       0  Alabama         Alabama   \n",
       "1      50       3         6      1       1  Alabama  Autauga County   \n",
       "2      50       3         6      1       3  Alabama  Baldwin County   \n",
       "3      50       3         6      1       5  Alabama  Barbour County   \n",
       "4      50       3         6      1       7  Alabama     Bibb County   \n",
       "\n",
       "   CENSUS2010POP  ESTIMATESBASE2010  POPESTIMATE2010  ...  RDOMESTICMIG2019  \\\n",
       "0        4779736            4780125          4785437  ...          1.917501   \n",
       "1          54571              54597            54773  ...          4.847310   \n",
       "2         182265             182265           183112  ...         24.017829   \n",
       "3          27457              27455            27327  ...         -5.690302   \n",
       "4          22915              22915            22870  ...          1.385134   \n",
       "\n",
       "   RNETMIG2011  RNETMIG2012  RNETMIG2013  RNETMIG2014  RNETMIG2015  \\\n",
       "0     0.578434     1.186314     1.522549     0.563489     0.626357   \n",
       "1     6.018182    -6.226119    -3.902226     1.970443    -1.712875   \n",
       "2    16.641870    17.488579    22.751474    20.184334    17.725964   \n",
       "3     0.292676    -6.897817    -8.132185    -5.140431   -15.724575   \n",
       "4    -4.998356    -3.787545    -5.797999     1.331144     1.329817   \n",
       "\n",
       "   RNETMIG2016  RNETMIG2017  RNETMIG2018  RNETMIG2019  \n",
       "0     0.745172     1.090366     1.773786     2.483744  \n",
       "1     4.777171     0.849656     0.540916     4.560062  \n",
       "2    21.279291    22.398256    24.727215    24.380567  \n",
       "3   -18.238016   -24.998528    -8.754922    -5.165664  \n",
       "4    -0.708717    -3.234669    -6.857092     1.831952  \n",
       "\n",
       "[5 rows x 164 columns]"
      ]
     },
     "execution_count": 28,
     "metadata": {},
     "output_type": "execute_result"
    }
   ],
   "source": [
    "censusPepRaw = pd.read_csv(CENSUS_PEP_URL, encoding=\"ISO-8859-1\")\n",
    "censusPepRaw.to_csv(CENSUS_PEP_ARCHIVE_PATH, index=False)\n",
    "# If you need to load the archival copy, use the following line instead\n",
    "#censusPepRaw = pd.read_csv(CENSUS_PEP_ARCHIVE_PATH, encoding=\"ISO-8859-1\")\n",
    "censusPepRaw.head()"
   ]
  },
  {
   "cell_type": "markdown",
   "metadata": {
    "slideshow": {
     "slide_type": "subslide"
    },
    "tags": []
   },
   "source": [
    "Extract only the records that are county level (SUMLEV equal to 50) and whose state name (STNAME) and county name (CTYNAME) match those specified in the parameters.  When specifying the county names, it is necessary to append \" County\" to match the format of CTYNAME."
   ]
  },
  {
   "cell_type": "code",
   "execution_count": 29,
   "metadata": {
    "slideshow": {
     "slide_type": "fragment"
    },
    "tags": []
   },
   "outputs": [
    {
     "data": {
      "text/html": [
       "<div>\n",
       "<style scoped>\n",
       "    .dataframe tbody tr th:only-of-type {\n",
       "        vertical-align: middle;\n",
       "    }\n",
       "\n",
       "    .dataframe tbody tr th {\n",
       "        vertical-align: top;\n",
       "    }\n",
       "\n",
       "    .dataframe thead th {\n",
       "        text-align: right;\n",
       "    }\n",
       "</style>\n",
       "<table border=\"1\" class=\"dataframe\">\n",
       "  <thead>\n",
       "    <tr style=\"text-align: right;\">\n",
       "      <th></th>\n",
       "      <th>SUMLEV</th>\n",
       "      <th>REGION</th>\n",
       "      <th>DIVISION</th>\n",
       "      <th>STATE</th>\n",
       "      <th>COUNTY</th>\n",
       "      <th>STNAME</th>\n",
       "      <th>CTYNAME</th>\n",
       "      <th>CENSUS2010POP</th>\n",
       "      <th>ESTIMATESBASE2010</th>\n",
       "      <th>POPESTIMATE2010</th>\n",
       "      <th>...</th>\n",
       "      <th>RDOMESTICMIG2019</th>\n",
       "      <th>RNETMIG2011</th>\n",
       "      <th>RNETMIG2012</th>\n",
       "      <th>RNETMIG2013</th>\n",
       "      <th>RNETMIG2014</th>\n",
       "      <th>RNETMIG2015</th>\n",
       "      <th>RNETMIG2016</th>\n",
       "      <th>RNETMIG2017</th>\n",
       "      <th>RNETMIG2018</th>\n",
       "      <th>RNETMIG2019</th>\n",
       "    </tr>\n",
       "  </thead>\n",
       "  <tbody>\n",
       "    <tr>\n",
       "      <th>2099</th>\n",
       "      <td>50</td>\n",
       "      <td>2</td>\n",
       "      <td>3</td>\n",
       "      <td>39</td>\n",
       "      <td>41</td>\n",
       "      <td>Ohio</td>\n",
       "      <td>Delaware County</td>\n",
       "      <td>174214</td>\n",
       "      <td>174172</td>\n",
       "      <td>175099</td>\n",
       "      <td>...</td>\n",
       "      <td>14.546139</td>\n",
       "      <td>12.775921</td>\n",
       "      <td>7.779526</td>\n",
       "      <td>16.534473</td>\n",
       "      <td>14.817779</td>\n",
       "      <td>14.727125</td>\n",
       "      <td>13.806701</td>\n",
       "      <td>13.677911</td>\n",
       "      <td>16.139481</td>\n",
       "      <td>15.569631</td>\n",
       "    </tr>\n",
       "    <tr>\n",
       "      <th>2101</th>\n",
       "      <td>50</td>\n",
       "      <td>2</td>\n",
       "      <td>3</td>\n",
       "      <td>39</td>\n",
       "      <td>45</td>\n",
       "      <td>Ohio</td>\n",
       "      <td>Fairfield County</td>\n",
       "      <td>146156</td>\n",
       "      <td>146194</td>\n",
       "      <td>146417</td>\n",
       "      <td>...</td>\n",
       "      <td>7.398997</td>\n",
       "      <td>1.812045</td>\n",
       "      <td>-2.723491</td>\n",
       "      <td>6.477607</td>\n",
       "      <td>7.561272</td>\n",
       "      <td>3.269079</td>\n",
       "      <td>7.242397</td>\n",
       "      <td>10.153671</td>\n",
       "      <td>5.916284</td>\n",
       "      <td>8.151654</td>\n",
       "    </tr>\n",
       "    <tr>\n",
       "      <th>2103</th>\n",
       "      <td>50</td>\n",
       "      <td>2</td>\n",
       "      <td>3</td>\n",
       "      <td>39</td>\n",
       "      <td>49</td>\n",
       "      <td>Ohio</td>\n",
       "      <td>Franklin County</td>\n",
       "      <td>1163414</td>\n",
       "      <td>1163476</td>\n",
       "      <td>1166202</td>\n",
       "      <td>...</td>\n",
       "      <td>-2.261042</td>\n",
       "      <td>4.535147</td>\n",
       "      <td>7.345857</td>\n",
       "      <td>8.393981</td>\n",
       "      <td>7.728997</td>\n",
       "      <td>7.809282</td>\n",
       "      <td>5.912705</td>\n",
       "      <td>9.237498</td>\n",
       "      <td>2.811147</td>\n",
       "      <td>0.478576</td>\n",
       "    </tr>\n",
       "    <tr>\n",
       "      <th>2123</th>\n",
       "      <td>50</td>\n",
       "      <td>2</td>\n",
       "      <td>3</td>\n",
       "      <td>39</td>\n",
       "      <td>89</td>\n",
       "      <td>Ohio</td>\n",
       "      <td>Licking County</td>\n",
       "      <td>166492</td>\n",
       "      <td>166482</td>\n",
       "      <td>166705</td>\n",
       "      <td>...</td>\n",
       "      <td>5.026551</td>\n",
       "      <td>-0.197682</td>\n",
       "      <td>0.035847</td>\n",
       "      <td>2.701979</td>\n",
       "      <td>3.131373</td>\n",
       "      <td>5.258499</td>\n",
       "      <td>5.901858</td>\n",
       "      <td>7.372472</td>\n",
       "      <td>9.940364</td>\n",
       "      <td>5.349930</td>\n",
       "    </tr>\n",
       "    <tr>\n",
       "      <th>2127</th>\n",
       "      <td>50</td>\n",
       "      <td>2</td>\n",
       "      <td>3</td>\n",
       "      <td>39</td>\n",
       "      <td>97</td>\n",
       "      <td>Ohio</td>\n",
       "      <td>Madison County</td>\n",
       "      <td>43435</td>\n",
       "      <td>43438</td>\n",
       "      <td>43434</td>\n",
       "      <td>...</td>\n",
       "      <td>6.350987</td>\n",
       "      <td>-8.665712</td>\n",
       "      <td>-4.180942</td>\n",
       "      <td>6.887196</td>\n",
       "      <td>15.062589</td>\n",
       "      <td>3.222914</td>\n",
       "      <td>-17.116870</td>\n",
       "      <td>15.374408</td>\n",
       "      <td>7.463530</td>\n",
       "      <td>6.620287</td>\n",
       "    </tr>\n",
       "  </tbody>\n",
       "</table>\n",
       "<p>5 rows × 164 columns</p>\n",
       "</div>"
      ],
      "text/plain": [
       "      SUMLEV  REGION  DIVISION  STATE  COUNTY STNAME           CTYNAME  \\\n",
       "2099      50       2         3     39      41   Ohio   Delaware County   \n",
       "2101      50       2         3     39      45   Ohio  Fairfield County   \n",
       "2103      50       2         3     39      49   Ohio   Franklin County   \n",
       "2123      50       2         3     39      89   Ohio    Licking County   \n",
       "2127      50       2         3     39      97   Ohio    Madison County   \n",
       "\n",
       "      CENSUS2010POP  ESTIMATESBASE2010  POPESTIMATE2010  ...  \\\n",
       "2099         174214             174172           175099  ...   \n",
       "2101         146156             146194           146417  ...   \n",
       "2103        1163414            1163476          1166202  ...   \n",
       "2123         166492             166482           166705  ...   \n",
       "2127          43435              43438            43434  ...   \n",
       "\n",
       "      RDOMESTICMIG2019  RNETMIG2011  RNETMIG2012  RNETMIG2013  RNETMIG2014  \\\n",
       "2099         14.546139    12.775921     7.779526    16.534473    14.817779   \n",
       "2101          7.398997     1.812045    -2.723491     6.477607     7.561272   \n",
       "2103         -2.261042     4.535147     7.345857     8.393981     7.728997   \n",
       "2123          5.026551    -0.197682     0.035847     2.701979     3.131373   \n",
       "2127          6.350987    -8.665712    -4.180942     6.887196    15.062589   \n",
       "\n",
       "      RNETMIG2015  RNETMIG2016  RNETMIG2017  RNETMIG2018  RNETMIG2019  \n",
       "2099    14.727125    13.806701    13.677911    16.139481    15.569631  \n",
       "2101     3.269079     7.242397    10.153671     5.916284     8.151654  \n",
       "2103     7.809282     5.912705     9.237498     2.811147     0.478576  \n",
       "2123     5.258499     5.901858     7.372472     9.940364     5.349930  \n",
       "2127     3.222914   -17.116870    15.374408     7.463530     6.620287  \n",
       "\n",
       "[5 rows x 164 columns]"
      ]
     },
     "execution_count": 29,
     "metadata": {},
     "output_type": "execute_result"
    }
   ],
   "source": [
    "censusPep = censusPepRaw.loc[ \\\n",
    "    (censusPepRaw[\"SUMLEV\"] == 50) & \\\n",
    "    (censusPepRaw[\"STNAME\"] == STATE_NAME) & \\\n",
    "    (censusPepRaw[\"CTYNAME\"].isin([\"{} County\".format(x) for x in COUNTY_NAMES]))\n",
    "].copy()\n",
    "censusPep.head()     "
   ]
  },
  {
   "cell_type": "markdown",
   "metadata": {
    "slideshow": {
     "slide_type": "subslide"
    },
    "tags": []
   },
   "source": [
    "The CSV includes **a lot** of variables."
   ]
  },
  {
   "cell_type": "code",
   "execution_count": 6,
   "metadata": {
    "slideshow": {
     "slide_type": "fragment"
    },
    "tags": []
   },
   "outputs": [
    {
     "name": "stdout",
     "output_type": "stream",
     "text": [
      "SUMLEV, REGION, DIVISION, STATE, COUNTY, STNAME, CTYNAME, CENSUS2010POP, ESTIMATESBASE2010, POPESTIMATE2010, POPESTIMATE2011, POPESTIMATE2012, POPESTIMATE2013, POPESTIMATE2014, POPESTIMATE2015, POPESTIMATE2016, POPESTIMATE2017, POPESTIMATE2018, POPESTIMATE2019, NPOPCHG_2010, NPOPCHG_2011, NPOPCHG_2012, NPOPCHG_2013, NPOPCHG_2014, NPOPCHG_2015, NPOPCHG_2016, NPOPCHG_2017, NPOPCHG_2018, NPOPCHG_2019, BIRTHS2010, BIRTHS2011, BIRTHS2012, BIRTHS2013, BIRTHS2014, BIRTHS2015, BIRTHS2016, BIRTHS2017, BIRTHS2018, BIRTHS2019, DEATHS2010, DEATHS2011, DEATHS2012, DEATHS2013, DEATHS2014, DEATHS2015, DEATHS2016, DEATHS2017, DEATHS2018, DEATHS2019, NATURALINC2010, NATURALINC2011, NATURALINC2012, NATURALINC2013, NATURALINC2014, NATURALINC2015, NATURALINC2016, NATURALINC2017, NATURALINC2018, NATURALINC2019, INTERNATIONALMIG2010, INTERNATIONALMIG2011, INTERNATIONALMIG2012, INTERNATIONALMIG2013, INTERNATIONALMIG2014, INTERNATIONALMIG2015, INTERNATIONALMIG2016, INTERNATIONALMIG2017, INTERNATIONALMIG2018, INTERNATIONALMIG2019, DOMESTICMIG2010, DOMESTICMIG2011, DOMESTICMIG2012, DOMESTICMIG2013, DOMESTICMIG2014, DOMESTICMIG2015, DOMESTICMIG2016, DOMESTICMIG2017, DOMESTICMIG2018, DOMESTICMIG2019, NETMIG2010, NETMIG2011, NETMIG2012, NETMIG2013, NETMIG2014, NETMIG2015, NETMIG2016, NETMIG2017, NETMIG2018, NETMIG2019, RESIDUAL2010, RESIDUAL2011, RESIDUAL2012, RESIDUAL2013, RESIDUAL2014, RESIDUAL2015, RESIDUAL2016, RESIDUAL2017, RESIDUAL2018, RESIDUAL2019, GQESTIMATESBASE2010, GQESTIMATES2010, GQESTIMATES2011, GQESTIMATES2012, GQESTIMATES2013, GQESTIMATES2014, GQESTIMATES2015, GQESTIMATES2016, GQESTIMATES2017, GQESTIMATES2018, GQESTIMATES2019, RBIRTH2011, RBIRTH2012, RBIRTH2013, RBIRTH2014, RBIRTH2015, RBIRTH2016, RBIRTH2017, RBIRTH2018, RBIRTH2019, RDEATH2011, RDEATH2012, RDEATH2013, RDEATH2014, RDEATH2015, RDEATH2016, RDEATH2017, RDEATH2018, RDEATH2019, RNATURALINC2011, RNATURALINC2012, RNATURALINC2013, RNATURALINC2014, RNATURALINC2015, RNATURALINC2016, RNATURALINC2017, RNATURALINC2018, RNATURALINC2019, RINTERNATIONALMIG2011, RINTERNATIONALMIG2012, RINTERNATIONALMIG2013, RINTERNATIONALMIG2014, RINTERNATIONALMIG2015, RINTERNATIONALMIG2016, RINTERNATIONALMIG2017, RINTERNATIONALMIG2018, RINTERNATIONALMIG2019, RDOMESTICMIG2011, RDOMESTICMIG2012, RDOMESTICMIG2013, RDOMESTICMIG2014, RDOMESTICMIG2015, RDOMESTICMIG2016, RDOMESTICMIG2017, RDOMESTICMIG2018, RDOMESTICMIG2019, RNETMIG2011, RNETMIG2012, RNETMIG2013, RNETMIG2014, RNETMIG2015, RNETMIG2016, RNETMIG2017, RNETMIG2018, RNETMIG2019\n"
     ]
    }
   ],
   "source": [
    "print(\", \".join(list(censusPep.columns)))"
   ]
  },
  {
   "cell_type": "markdown",
   "metadata": {
    "slideshow": {
     "slide_type": "subslide"
    },
    "tags": []
   },
   "source": [
    "Create a new dataframe that includes only the county name (CTYNAME) and fields whose name includes \"NPOPCHG\""
   ]
  },
  {
   "cell_type": "code",
   "execution_count": 30,
   "metadata": {
    "slideshow": {
     "slide_type": "fragment"
    },
    "tags": []
   },
   "outputs": [
    {
     "data": {
      "text/html": [
       "<div>\n",
       "<style scoped>\n",
       "    .dataframe tbody tr th:only-of-type {\n",
       "        vertical-align: middle;\n",
       "    }\n",
       "\n",
       "    .dataframe tbody tr th {\n",
       "        vertical-align: top;\n",
       "    }\n",
       "\n",
       "    .dataframe thead th {\n",
       "        text-align: right;\n",
       "    }\n",
       "</style>\n",
       "<table border=\"1\" class=\"dataframe\">\n",
       "  <thead>\n",
       "    <tr style=\"text-align: right;\">\n",
       "      <th></th>\n",
       "      <th>CTYNAME</th>\n",
       "      <th>NPOPCHG_2010</th>\n",
       "      <th>NPOPCHG_2011</th>\n",
       "      <th>NPOPCHG_2012</th>\n",
       "      <th>NPOPCHG_2013</th>\n",
       "      <th>NPOPCHG_2014</th>\n",
       "      <th>NPOPCHG_2015</th>\n",
       "      <th>NPOPCHG_2016</th>\n",
       "      <th>NPOPCHG_2017</th>\n",
       "      <th>NPOPCHG_2018</th>\n",
       "      <th>NPOPCHG_2019</th>\n",
       "    </tr>\n",
       "  </thead>\n",
       "  <tbody>\n",
       "    <tr>\n",
       "      <th>2099</th>\n",
       "      <td>Delaware County</td>\n",
       "      <td>927</td>\n",
       "      <td>3436</td>\n",
       "      <td>2592</td>\n",
       "      <td>4253</td>\n",
       "      <td>4060</td>\n",
       "      <td>3951</td>\n",
       "      <td>3753</td>\n",
       "      <td>3726</td>\n",
       "      <td>4221</td>\n",
       "      <td>4086</td>\n",
       "    </tr>\n",
       "    <tr>\n",
       "      <th>2101</th>\n",
       "      <td>Fairfield County</td>\n",
       "      <td>223</td>\n",
       "      <td>757</td>\n",
       "      <td>127</td>\n",
       "      <td>1495</td>\n",
       "      <td>1564</td>\n",
       "      <td>894</td>\n",
       "      <td>1535</td>\n",
       "      <td>1897</td>\n",
       "      <td>1296</td>\n",
       "      <td>1592</td>\n",
       "    </tr>\n",
       "    <tr>\n",
       "      <th>2103</th>\n",
       "      <td>Franklin County</td>\n",
       "      <td>2726</td>\n",
       "      <td>14598</td>\n",
       "      <td>18245</td>\n",
       "      <td>19833</td>\n",
       "      <td>19484</td>\n",
       "      <td>19024</td>\n",
       "      <td>17064</td>\n",
       "      <td>21060</td>\n",
       "      <td>12188</td>\n",
       "      <td>9058</td>\n",
       "    </tr>\n",
       "    <tr>\n",
       "      <th>2123</th>\n",
       "      <td>Licking County</td>\n",
       "      <td>223</td>\n",
       "      <td>459</td>\n",
       "      <td>425</td>\n",
       "      <td>872</td>\n",
       "      <td>949</td>\n",
       "      <td>1201</td>\n",
       "      <td>1382</td>\n",
       "      <td>1624</td>\n",
       "      <td>2049</td>\n",
       "      <td>1196</td>\n",
       "    </tr>\n",
       "    <tr>\n",
       "      <th>2127</th>\n",
       "      <td>Madison County</td>\n",
       "      <td>-4</td>\n",
       "      <td>-320</td>\n",
       "      <td>-123</td>\n",
       "      <td>265</td>\n",
       "      <td>724</td>\n",
       "      <td>159</td>\n",
       "      <td>-762</td>\n",
       "      <td>664</td>\n",
       "      <td>348</td>\n",
       "      <td>342</td>\n",
       "    </tr>\n",
       "  </tbody>\n",
       "</table>\n",
       "</div>"
      ],
      "text/plain": [
       "               CTYNAME  NPOPCHG_2010  NPOPCHG_2011  NPOPCHG_2012  \\\n",
       "2099   Delaware County           927          3436          2592   \n",
       "2101  Fairfield County           223           757           127   \n",
       "2103   Franklin County          2726         14598         18245   \n",
       "2123    Licking County           223           459           425   \n",
       "2127    Madison County            -4          -320          -123   \n",
       "\n",
       "      NPOPCHG_2013  NPOPCHG_2014  NPOPCHG_2015  NPOPCHG_2016  NPOPCHG_2017  \\\n",
       "2099          4253          4060          3951          3753          3726   \n",
       "2101          1495          1564           894          1535          1897   \n",
       "2103         19833         19484         19024         17064         21060   \n",
       "2123           872           949          1201          1382          1624   \n",
       "2127           265           724           159          -762           664   \n",
       "\n",
       "      NPOPCHG_2018  NPOPCHG_2019  \n",
       "2099          4221          4086  \n",
       "2101          1296          1592  \n",
       "2103         12188          9058  \n",
       "2123          2049          1196  \n",
       "2127           348           342  "
      ]
     },
     "execution_count": 30,
     "metadata": {},
     "output_type": "execute_result"
    }
   ],
   "source": [
    "censusPepPopChg = pd.concat([\n",
    "    censusPep.filter(like=\"CTYNAME\", axis=\"columns\"), \n",
    "    censusPep.filter(like=\"NPOPCHG\", axis=\"columns\")\n",
    "], axis=\"columns\")\n",
    "censusPepPopChg.head()"
   ]
  },
  {
   "cell_type": "markdown",
   "metadata": {
    "slideshow": {
     "slide_type": "fragment"
    },
    "tags": []
   },
   "source": [
    "Eliminate the \" County\" suffix from the county names."
   ]
  },
  {
   "cell_type": "code",
   "execution_count": 31,
   "metadata": {
    "slideshow": {
     "slide_type": "fragment"
    },
    "tags": []
   },
   "outputs": [],
   "source": [
    "censusPepPopChg[\"CTYNAME\"] = censusPepPopChg[\"CTYNAME\"].str.replace(\" County\", \"\")"
   ]
  },
  {
   "cell_type": "markdown",
   "metadata": {
    "slideshow": {
     "slide_type": "subslide"
    },
    "tags": []
   },
   "source": [
    "Aside from CTYNAME, all of our columns include two parts separated by an underscore - a prefix \"NPOPCHG\" and a suffix representing the four-digit year.  Rename the columns retaining only the year and re-cast the column headers as integers (they are currently strings)."
   ]
  },
  {
   "cell_type": "code",
   "execution_count": 32,
   "metadata": {
    "slideshow": {
     "slide_type": "fragment"
    },
    "tags": []
   },
   "outputs": [
    {
     "data": {
      "text/html": [
       "<div>\n",
       "<style scoped>\n",
       "    .dataframe tbody tr th:only-of-type {\n",
       "        vertical-align: middle;\n",
       "    }\n",
       "\n",
       "    .dataframe tbody tr th {\n",
       "        vertical-align: top;\n",
       "    }\n",
       "\n",
       "    .dataframe thead th {\n",
       "        text-align: right;\n",
       "    }\n",
       "</style>\n",
       "<table border=\"1\" class=\"dataframe\">\n",
       "  <thead>\n",
       "    <tr style=\"text-align: right;\">\n",
       "      <th></th>\n",
       "      <th>2010</th>\n",
       "      <th>2011</th>\n",
       "      <th>2012</th>\n",
       "      <th>2013</th>\n",
       "      <th>2014</th>\n",
       "      <th>2015</th>\n",
       "      <th>2016</th>\n",
       "      <th>2017</th>\n",
       "      <th>2018</th>\n",
       "      <th>2019</th>\n",
       "    </tr>\n",
       "    <tr>\n",
       "      <th>CTYNAME</th>\n",
       "      <th></th>\n",
       "      <th></th>\n",
       "      <th></th>\n",
       "      <th></th>\n",
       "      <th></th>\n",
       "      <th></th>\n",
       "      <th></th>\n",
       "      <th></th>\n",
       "      <th></th>\n",
       "      <th></th>\n",
       "    </tr>\n",
       "  </thead>\n",
       "  <tbody>\n",
       "    <tr>\n",
       "      <th>Delaware</th>\n",
       "      <td>927</td>\n",
       "      <td>3436</td>\n",
       "      <td>2592</td>\n",
       "      <td>4253</td>\n",
       "      <td>4060</td>\n",
       "      <td>3951</td>\n",
       "      <td>3753</td>\n",
       "      <td>3726</td>\n",
       "      <td>4221</td>\n",
       "      <td>4086</td>\n",
       "    </tr>\n",
       "    <tr>\n",
       "      <th>Fairfield</th>\n",
       "      <td>223</td>\n",
       "      <td>757</td>\n",
       "      <td>127</td>\n",
       "      <td>1495</td>\n",
       "      <td>1564</td>\n",
       "      <td>894</td>\n",
       "      <td>1535</td>\n",
       "      <td>1897</td>\n",
       "      <td>1296</td>\n",
       "      <td>1592</td>\n",
       "    </tr>\n",
       "    <tr>\n",
       "      <th>Franklin</th>\n",
       "      <td>2726</td>\n",
       "      <td>14598</td>\n",
       "      <td>18245</td>\n",
       "      <td>19833</td>\n",
       "      <td>19484</td>\n",
       "      <td>19024</td>\n",
       "      <td>17064</td>\n",
       "      <td>21060</td>\n",
       "      <td>12188</td>\n",
       "      <td>9058</td>\n",
       "    </tr>\n",
       "    <tr>\n",
       "      <th>Licking</th>\n",
       "      <td>223</td>\n",
       "      <td>459</td>\n",
       "      <td>425</td>\n",
       "      <td>872</td>\n",
       "      <td>949</td>\n",
       "      <td>1201</td>\n",
       "      <td>1382</td>\n",
       "      <td>1624</td>\n",
       "      <td>2049</td>\n",
       "      <td>1196</td>\n",
       "    </tr>\n",
       "    <tr>\n",
       "      <th>Madison</th>\n",
       "      <td>-4</td>\n",
       "      <td>-320</td>\n",
       "      <td>-123</td>\n",
       "      <td>265</td>\n",
       "      <td>724</td>\n",
       "      <td>159</td>\n",
       "      <td>-762</td>\n",
       "      <td>664</td>\n",
       "      <td>348</td>\n",
       "      <td>342</td>\n",
       "    </tr>\n",
       "  </tbody>\n",
       "</table>\n",
       "</div>"
      ],
      "text/plain": [
       "           2010   2011   2012   2013   2014   2015   2016   2017   2018  2019\n",
       "CTYNAME                                                                      \n",
       "Delaware    927   3436   2592   4253   4060   3951   3753   3726   4221  4086\n",
       "Fairfield   223    757    127   1495   1564    894   1535   1897   1296  1592\n",
       "Franklin   2726  14598  18245  19833  19484  19024  17064  21060  12188  9058\n",
       "Licking     223    459    425    872    949   1201   1382   1624   2049  1196\n",
       "Madison      -4   -320   -123    265    724    159   -762    664    348   342"
      ]
     },
     "execution_count": 32,
     "metadata": {},
     "output_type": "execute_result"
    }
   ],
   "source": [
    "censusPepPopChg = censusPepPopChg \\\n",
    "    .set_index(\"CTYNAME\") \\\n",
    "    .rename(columns=(lambda x:x[-4:]))\n",
    "censusPepPopChg.columns = censusPepPopChg.columns.astype(\"int\")\n",
    "censusPepPopChg.head()"
   ]
  },
  {
   "cell_type": "markdown",
   "metadata": {
    "slideshow": {
     "slide_type": "subslide"
    },
    "tags": []
   },
   "source": [
    "### Jupyter can create charts."
   ]
  },
  {
   "cell_type": "markdown",
   "metadata": {
    "slideshow": {
     "slide_type": "skip"
    },
    "tags": []
   },
   "source": [
    "Plot the 2019 population change by county as a horizontal bar chart and Franklin County's population change by year as a line chart."
   ]
  },
  {
   "cell_type": "code",
   "execution_count": 33,
   "metadata": {
    "slideshow": {
     "slide_type": "fragment"
    },
    "tags": []
   },
   "outputs": [
    {
     "data": {
      "text/plain": [
       "<AxesSubplot:title={'center':'Franklin County population change by year'}>"
      ]
     },
     "execution_count": 33,
     "metadata": {},
     "output_type": "execute_result"
    },
    {
     "data": {
      "image/png": "[encoded data removed]",
      "text/plain": [
       "<Figure size 1080x360 with 2 Axes>"
      ]
     },
     "metadata": {
      "needs_background": "light"
     },
     "output_type": "display_data"
    }
   ],
   "source": [
    "import matplotlib.pyplot as plt\n",
    "fig, axes = plt.subplots(nrows=1, ncols=2, figsize=(15,5))\n",
    "censusPepPopChg[2019].plot.barh(ax=axes[0], title=\"2019 population change by county\", xlabel=\"\")\n",
    "censusPepPopChg.loc[\"Franklin\"].plot(ax=axes[1], title=\"Franklin County population change by year\", style=\"o-\")"
   ]
  },
  {
   "cell_type": "markdown",
   "metadata": {
    "slideshow": {
     "slide_type": "subslide"
    },
    "tags": []
   },
   "source": [
    "### Maps too!"
   ]
  },
  {
   "cell_type": "markdown",
   "metadata": {},
   "source": [
    "Read the county geography Shapefile directly from the Census website.  Note that GeoPandas can read the zipped Shapefile directly; it is not necessary to download it and unzip it first. Save an archival copy of the Shapefile."
   ]
  },
  {
   "cell_type": "code",
   "execution_count": 36,
   "metadata": {},
   "outputs": [],
   "source": [
    "censusCountyPolysRaw = gpd.read_file(CENSUS_COUNTY_POLYGONS_URL)\n",
    "# If you need to load the archival copy, use the following line instead\n",
    "# censusCountyPolysRaw = gpd.read_file(CENSUS_COUNTY_POLYGONS_ARCHIVE_PATH)\n",
    "censusCountyPolysRaw.to_file(CENSUS_COUNTY_POLYGONS_ARCHIVE_PATH, driver=\"ESRI Shapefile\")"
   ]
  },
  {
   "cell_type": "code",
   "execution_count": 11,
   "metadata": {},
   "outputs": [],
   "source": [
    "censusCountyPolys = censusCountyPolysRaw.loc[ \\\n",
    "    (censusCountyPolysRaw[\"STATEFP\"] == \"39\") & \\\n",
    "    (censusCountyPolysRaw[\"NAMELSAD\"].isin([\"Franklin County\",\"Fairfield County\",\"Pickaway County\",\"Madison County\", \"Union County\", \"Delaware County\", \"Licking County\"]))\n",
    "].copy()\n",
    "censusCountyPolys[\"NAMELSAD\"] = censusCountyPolys[\"NAMELSAD\"].str.replace(\" County\", \"\")\n",
    "censusCountyPolys = censusCountyPolys.set_index([\"NAMELSAD\"])"
   ]
  },
  {
   "cell_type": "code",
   "execution_count": 12,
   "metadata": {},
   "outputs": [
    {
     "data": {
      "text/html": [
       "<div>\n",
       "<style scoped>\n",
       "    .dataframe tbody tr th:only-of-type {\n",
       "        vertical-align: middle;\n",
       "    }\n",
       "\n",
       "    .dataframe tbody tr th {\n",
       "        vertical-align: top;\n",
       "    }\n",
       "\n",
       "    .dataframe thead th {\n",
       "        text-align: right;\n",
       "    }\n",
       "</style>\n",
       "<table border=\"1\" class=\"dataframe\">\n",
       "  <thead>\n",
       "    <tr style=\"text-align: right;\">\n",
       "      <th></th>\n",
       "      <th>2010</th>\n",
       "      <th>2011</th>\n",
       "      <th>2012</th>\n",
       "      <th>2013</th>\n",
       "      <th>2014</th>\n",
       "      <th>2015</th>\n",
       "      <th>2016</th>\n",
       "      <th>2017</th>\n",
       "      <th>2018</th>\n",
       "      <th>2019</th>\n",
       "      <th>geometry</th>\n",
       "    </tr>\n",
       "    <tr>\n",
       "      <th>CTYNAME</th>\n",
       "      <th></th>\n",
       "      <th></th>\n",
       "      <th></th>\n",
       "      <th></th>\n",
       "      <th></th>\n",
       "      <th></th>\n",
       "      <th></th>\n",
       "      <th></th>\n",
       "      <th></th>\n",
       "      <th></th>\n",
       "      <th></th>\n",
       "    </tr>\n",
       "  </thead>\n",
       "  <tbody>\n",
       "    <tr>\n",
       "      <th>Delaware</th>\n",
       "      <td>927</td>\n",
       "      <td>3436</td>\n",
       "      <td>2592</td>\n",
       "      <td>4253</td>\n",
       "      <td>4060</td>\n",
       "      <td>3951</td>\n",
       "      <td>3753</td>\n",
       "      <td>3726</td>\n",
       "      <td>4221</td>\n",
       "      <td>4086</td>\n",
       "      <td>POLYGON ((-83.19229 40.24440, -83.19672 40.244...</td>\n",
       "    </tr>\n",
       "    <tr>\n",
       "      <th>Fairfield</th>\n",
       "      <td>223</td>\n",
       "      <td>757</td>\n",
       "      <td>127</td>\n",
       "      <td>1495</td>\n",
       "      <td>1564</td>\n",
       "      <td>894</td>\n",
       "      <td>1535</td>\n",
       "      <td>1897</td>\n",
       "      <td>1296</td>\n",
       "      <td>1592</td>\n",
       "      <td>POLYGON ((-82.80248 39.82295, -82.80242 39.823...</td>\n",
       "    </tr>\n",
       "    <tr>\n",
       "      <th>Franklin</th>\n",
       "      <td>2726</td>\n",
       "      <td>14598</td>\n",
       "      <td>18245</td>\n",
       "      <td>19833</td>\n",
       "      <td>19484</td>\n",
       "      <td>19024</td>\n",
       "      <td>17064</td>\n",
       "      <td>21060</td>\n",
       "      <td>12188</td>\n",
       "      <td>9058</td>\n",
       "      <td>POLYGON ((-83.01188 40.13656, -83.01171 40.136...</td>\n",
       "    </tr>\n",
       "    <tr>\n",
       "      <th>Licking</th>\n",
       "      <td>223</td>\n",
       "      <td>459</td>\n",
       "      <td>425</td>\n",
       "      <td>872</td>\n",
       "      <td>949</td>\n",
       "      <td>1201</td>\n",
       "      <td>1382</td>\n",
       "      <td>1624</td>\n",
       "      <td>2049</td>\n",
       "      <td>1196</td>\n",
       "      <td>POLYGON ((-82.76183 40.12586, -82.76181 40.125...</td>\n",
       "    </tr>\n",
       "    <tr>\n",
       "      <th>Madison</th>\n",
       "      <td>-4</td>\n",
       "      <td>-320</td>\n",
       "      <td>-123</td>\n",
       "      <td>265</td>\n",
       "      <td>724</td>\n",
       "      <td>159</td>\n",
       "      <td>-762</td>\n",
       "      <td>664</td>\n",
       "      <td>348</td>\n",
       "      <td>342</td>\n",
       "      <td>POLYGON ((-83.54053 39.91715, -83.54039 39.917...</td>\n",
       "    </tr>\n",
       "  </tbody>\n",
       "</table>\n",
       "</div>"
      ],
      "text/plain": [
       "           2010      2011      2012      2013      2014      2015      \\\n",
       "CTYNAME                                                                 \n",
       "Delaware        927      3436      2592      4253      4060      3951   \n",
       "Fairfield       223       757       127      1495      1564       894   \n",
       "Franklin       2726     14598     18245     19833     19484     19024   \n",
       "Licking         223       459       425       872       949      1201   \n",
       "Madison          -4      -320      -123       265       724       159   \n",
       "\n",
       "           2016      2017      2018      2019      \\\n",
       "CTYNAME                                             \n",
       "Delaware       3753      3726      4221      4086   \n",
       "Fairfield      1535      1897      1296      1592   \n",
       "Franklin      17064     21060     12188      9058   \n",
       "Licking        1382      1624      2049      1196   \n",
       "Madison        -762       664       348       342   \n",
       "\n",
       "                                                    geometry  \n",
       "CTYNAME                                                       \n",
       "Delaware   POLYGON ((-83.19229 40.24440, -83.19672 40.244...  \n",
       "Fairfield  POLYGON ((-82.80248 39.82295, -82.80242 39.823...  \n",
       "Franklin   POLYGON ((-83.01188 40.13656, -83.01171 40.136...  \n",
       "Licking    POLYGON ((-82.76183 40.12586, -82.76181 40.125...  \n",
       "Madison    POLYGON ((-83.54053 39.91715, -83.54039 39.917...  "
      ]
     },
     "execution_count": 12,
     "metadata": {},
     "output_type": "execute_result"
    }
   ],
   "source": [
    "censusPepPolys = gpd.GeoDataFrame(data=censusPepPopChg.copy(), geometry=censusCountyPolys[\"geometry\"])\n",
    "censusPepPolys.columns = censusPepPolys.columns.astype(\"string\")\n",
    "censusPepPolys.head()"
   ]
  },
  {
   "cell_type": "code",
   "execution_count": 13,
   "metadata": {},
   "outputs": [
    {
     "data": {
      "text/html": [
       "<div style=\"width:100%;\"><div style=\"position:relative;width:100%;height:0;padding-bottom:60%;\"><span style=\"color:#565656\">Make this Notebook Trusted to load map: File -> Trust Notebook</span><iframe srcdoc=\"&lt;!DOCTYPE html&gt;\n",
       "&lt;head&gt;    \n",
       "    &lt;meta http-equiv=&quot;content-type&quot; content=&quot;text/html; charset=UTF-8&quot; /&gt;\n",
       "    \n",
       "        &lt;script&gt;\n",
       "            L_NO_TOUCH = false;\n",
       "            L_DISABLE_3D = false;\n",
       "        &lt;/script&gt;\n",
       "    \n",
       "    &lt;style&gt;html, body {width: 100%;height: 100%;margin: 0;padding: 0;}&lt;/style&gt;\n",
       "    &lt;style&gt;#map {position:absolute;top:0;bottom:0;right:0;left:0;}&lt;/style&gt;\n",
       "    &lt;script src=&quot;https://cdn.jsdelivr.net/npm/leaflet@1.6.0/dist/leaflet.js&quot;&gt;&lt;/script&gt;\n",
       "    &lt;script src=&quot;https://code.jquery.com/jquery-1.12.4.min.js&quot;&gt;&lt;/script&gt;\n",
       "    &lt;script src=&quot;https://maxcdn.bootstrapcdn.com/bootstrap/3.2.0/js/bootstrap.min.js&quot;&gt;&lt;/script&gt;\n",
       "    &lt;script src=&quot;https://cdnjs.cloudflare.com/ajax/libs/Leaflet.awesome-markers/2.0.2/leaflet.awesome-markers.js&quot;&gt;&lt;/script&gt;\n",
       "    &lt;link rel=&quot;stylesheet&quot; href=&quot;https://cdn.jsdelivr.net/npm/leaflet@1.6.0/dist/leaflet.css&quot;/&gt;\n",
       "    &lt;link rel=&quot;stylesheet&quot; href=&quot;https://maxcdn.bootstrapcdn.com/bootstrap/3.2.0/css/bootstrap.min.css&quot;/&gt;\n",
       "    &lt;link rel=&quot;stylesheet&quot; href=&quot;https://maxcdn.bootstrapcdn.com/bootstrap/3.2.0/css/bootstrap-theme.min.css&quot;/&gt;\n",
       "    &lt;link rel=&quot;stylesheet&quot; href=&quot;https://maxcdn.bootstrapcdn.com/font-awesome/4.6.3/css/font-awesome.min.css&quot;/&gt;\n",
       "    &lt;link rel=&quot;stylesheet&quot; href=&quot;https://cdnjs.cloudflare.com/ajax/libs/Leaflet.awesome-markers/2.0.2/leaflet.awesome-markers.css&quot;/&gt;\n",
       "    &lt;link rel=&quot;stylesheet&quot; href=&quot;https://cdn.jsdelivr.net/gh/python-visualization/folium/folium/templates/leaflet.awesome.rotate.min.css&quot;/&gt;\n",
       "    \n",
       "            &lt;meta name=&quot;viewport&quot; content=&quot;width=device-width,\n",
       "                initial-scale=1.0, maximum-scale=1.0, user-scalable=no&quot; /&gt;\n",
       "            &lt;style&gt;\n",
       "                #map_8ae16f75f35d455f5f2469142fab60db {\n",
       "                    position: relative;\n",
       "                    width: 100.0%;\n",
       "                    height: 100.0%;\n",
       "                    left: 0.0%;\n",
       "                    top: 0.0%;\n",
       "                }\n",
       "            &lt;/style&gt;\n",
       "        \n",
       "    \n",
       "                    &lt;style&gt;\n",
       "                        .foliumtooltip {\n",
       "                            \n",
       "                        }\n",
       "                       .foliumtooltip table{\n",
       "                            margin: auto;\n",
       "                        }\n",
       "                        .foliumtooltip tr{\n",
       "                            text-align: left;\n",
       "                        }\n",
       "                        .foliumtooltip th{\n",
       "                            padding: 2px; padding-right: 8px;\n",
       "                        }\n",
       "                    &lt;/style&gt;\n",
       "            \n",
       "    &lt;script src=&quot;https://cdnjs.cloudflare.com/ajax/libs/d3/3.5.5/d3.min.js&quot;&gt;&lt;/script&gt;\n",
       "&lt;/head&gt;\n",
       "&lt;body&gt;    \n",
       "    \n",
       "            &lt;div class=&quot;folium-map&quot; id=&quot;map_8ae16f75f35d455f5f2469142fab60db&quot; &gt;&lt;/div&gt;\n",
       "        \n",
       "&lt;/body&gt;\n",
       "&lt;script&gt;    \n",
       "    \n",
       "            var map_8ae16f75f35d455f5f2469142fab60db = L.map(\n",
       "                &quot;map_8ae16f75f35d455f5f2469142fab60db&quot;,\n",
       "                {\n",
       "                    center: [39.9875545, -82.9181045],\n",
       "                    crs: L.CRS.EPSG3857,\n",
       "                    zoom: 10,\n",
       "                    zoomControl: true,\n",
       "                    preferCanvas: false,\n",
       "                }\n",
       "            );\n",
       "            L.control.scale().addTo(map_8ae16f75f35d455f5f2469142fab60db);\n",
       "\n",
       "            \n",
       "\n",
       "        \n",
       "    \n",
       "            var tile_layer_006c705657da26ceb16baf4d321cbdfd = L.tileLayer(\n",
       "                &quot;https://{s}.tile.openstreetmap.org/{z}/{x}/{y}.png&quot;,\n",
       "                {&quot;attribution&quot;: &quot;Data by \\u0026copy; \\u003ca href=\\&quot;http://openstreetmap.org\\&quot;\\u003eOpenStreetMap\\u003c/a\\u003e, under \\u003ca href=\\&quot;http://www.openstreetmap.org/copyright\\&quot;\\u003eODbL\\u003c/a\\u003e.&quot;, &quot;detectRetina&quot;: false, &quot;maxNativeZoom&quot;: 18, &quot;maxZoom&quot;: 18, &quot;minZoom&quot;: 0, &quot;noWrap&quot;: false, &quot;opacity&quot;: 1, &quot;subdomains&quot;: &quot;abc&quot;, &quot;tms&quot;: false}\n",
       "            ).addTo(map_8ae16f75f35d455f5f2469142fab60db);\n",
       "        \n",
       "    \n",
       "            map_8ae16f75f35d455f5f2469142fab60db.fitBounds(\n",
       "                [[39.468061999999996, -83.653386], [40.507047, -82.182823]],\n",
       "                {}\n",
       "            );\n",
       "        \n",
       "    \n",
       "        function geo_json_cd6554dd9038d3817d7f1da09763bc2c_styler(feature) {\n",
       "            switch(feature.id) {\n",
       "                case &quot;0&quot;: \n",
       "                    return {&quot;color&quot;: &quot;#277f8e&quot;, &quot;fillColor&quot;: &quot;#277f8e&quot;, &quot;fillOpacity&quot;: 0.5, &quot;weight&quot;: 2};\n",
       "                case &quot;1&quot;: \n",
       "                    return {&quot;color&quot;: &quot;#46327e&quot;, &quot;fillColor&quot;: &quot;#46327e&quot;, &quot;fillOpacity&quot;: 0.5, &quot;weight&quot;: 2};\n",
       "                case &quot;2&quot;: \n",
       "                    return {&quot;color&quot;: &quot;#fde725&quot;, &quot;fillColor&quot;: &quot;#fde725&quot;, &quot;fillOpacity&quot;: 0.5, &quot;weight&quot;: 2};\n",
       "                case &quot;4&quot;: \n",
       "                    return {&quot;color&quot;: &quot;#440154&quot;, &quot;fillColor&quot;: &quot;#440154&quot;, &quot;fillOpacity&quot;: 0.5, &quot;weight&quot;: 2};\n",
       "                case &quot;5&quot;: \n",
       "                    return {&quot;color&quot;: &quot;#440256&quot;, &quot;fillColor&quot;: &quot;#440256&quot;, &quot;fillOpacity&quot;: 0.5, &quot;weight&quot;: 2};\n",
       "                default:\n",
       "                    return {&quot;color&quot;: &quot;#482475&quot;, &quot;fillColor&quot;: &quot;#482475&quot;, &quot;fillOpacity&quot;: 0.5, &quot;weight&quot;: 2};\n",
       "            }\n",
       "        }\n",
       "        function geo_json_cd6554dd9038d3817d7f1da09763bc2c_highlighter(feature) {\n",
       "            switch(feature.id) {\n",
       "                default:\n",
       "                    return {&quot;fillOpacity&quot;: 0.75};\n",
       "            }\n",
       "        }\n",
       "        function geo_json_cd6554dd9038d3817d7f1da09763bc2c_pointToLayer(feature, latlng) {\n",
       "            var opts = {&quot;bubblingMouseEvents&quot;: true, &quot;color&quot;: &quot;#3388ff&quot;, &quot;dashArray&quot;: null, &quot;dashOffset&quot;: null, &quot;fill&quot;: true, &quot;fillColor&quot;: &quot;#3388ff&quot;, &quot;fillOpacity&quot;: 0.2, &quot;fillRule&quot;: &quot;evenodd&quot;, &quot;lineCap&quot;: &quot;round&quot;, &quot;lineJoin&quot;: &quot;round&quot;, &quot;opacity&quot;: 1.0, &quot;radius&quot;: 2, &quot;stroke&quot;: true, &quot;weight&quot;: 3};\n",
       "            \n",
       "            let style = geo_json_cd6554dd9038d3817d7f1da09763bc2c_styler(feature)\n",
       "            Object.assign(opts, style)\n",
       "            \n",
       "            return new L.CircleMarker(latlng, opts)\n",
       "        }\n",
       "\n",
       "        function geo_json_cd6554dd9038d3817d7f1da09763bc2c_onEachFeature(feature, layer) {\n",
       "            layer.on({\n",
       "                mouseout: function(e) {\n",
       "                    if(typeof e.target.setStyle === &quot;function&quot;){\n",
       "                        geo_json_cd6554dd9038d3817d7f1da09763bc2c.resetStyle(e.target);\n",
       "                    }\n",
       "                },\n",
       "                mouseover: function(e) {\n",
       "                    if(typeof e.target.setStyle === &quot;function&quot;){\n",
       "                        const highlightStyle = geo_json_cd6554dd9038d3817d7f1da09763bc2c_highlighter(e.target.feature)\n",
       "                        e.target.setStyle(highlightStyle);\n",
       "                    }\n",
       "                },\n",
       "            });\n",
       "        };\n",
       "        var geo_json_cd6554dd9038d3817d7f1da09763bc2c = L.geoJson(null, {\n",
       "                onEachFeature: geo_json_cd6554dd9038d3817d7f1da09763bc2c_onEachFeature,\n",
       "            \n",
       "                style: geo_json_cd6554dd9038d3817d7f1da09763bc2c_styler,\n",
       "                pointToLayer: geo_json_cd6554dd9038d3817d7f1da09763bc2c_pointToLayer\n",
       "        });\n",
       "\n",
       "        function geo_json_cd6554dd9038d3817d7f1da09763bc2c_add (data) {\n",
       "            geo_json_cd6554dd9038d3817d7f1da09763bc2c\n",
       "                .addData(data)\n",
       "                .addTo(map_8ae16f75f35d455f5f2469142fab60db);\n",
       "        }\n",
       "            geo_json_cd6554dd9038d3817d7f1da09763bc2c_add({&quot;bbox&quot;: [-83.653386, 39.468061999999996, -82.182823, 40.507047], &quot;features&quot;: [{&quot;bbox&quot;: [-83.24962599999999, 40.125855, -82.744931, 40.443988999999995], &quot;geometry&quot;: {&quot;coordinates&quot;: [[[-83.19228799999999, 40.2444], [-83.196719, 40.244423], [-83.197603, 40.244417999999996], [-83.197723, 40.244417], [-83.19776, 40.244417], [-83.199023, 40.244412], [-83.199185, 40.244411], [-83.200086, 40.244408], [-83.200125, 40.244408], [-83.205916, 40.244419], [-83.214806, 40.244461], [-83.21641, 40.244457], [-83.226925, 40.244465], [-83.228248, 40.244465999999996], [-83.233728, 40.244484], [-83.233954, 40.244485], [-83.235525, 40.244482], [-83.23915099999999, 40.244492], [-83.24033, 40.244493999999996], [-83.24089599999999, 40.244496], [-83.246257, 40.244476], [-83.24633399999999, 40.244476], [-83.246466, 40.244475], [-83.246606, 40.244475], [-83.247481, 40.244474], [-83.24842799999999, 40.244465999999996], [-83.248442, 40.245067], [-83.24844999999999, 40.245415], [-83.24851, 40.24695], [-83.248593, 40.248687], [-83.248595, 40.248722], [-83.24859699999999, 40.248768], [-83.24860000000001, 40.24883], [-83.248603, 40.248903999999996], [-83.248604, 40.248926999999995], [-83.248605, 40.248961], [-83.24860699999999, 40.249], [-83.248611, 40.249092], [-83.24861899999999, 40.249249999999996], [-83.24862, 40.249269999999996], [-83.248621, 40.249294], [-83.248639, 40.249694], [-83.248673, 40.250481], [-83.248751, 40.252665], [-83.248891, 40.25577], [-83.248893, 40.255811], [-83.24896299999999, 40.257307], [-83.248972, 40.257503], [-83.24907499999999, 40.259068], [-83.249438, 40.264078999999995], [-83.249386, 40.264688], [-83.24912599999999, 40.267314], [-83.249152, 40.270326999999995], [-83.249124, 40.270846], [-83.24912499999999, 40.271218999999995], [-83.24912499999999, 40.27126], [-83.249156, 40.274156], [-83.249247, 40.280305999999996], [-83.249247, 40.280409999999996], [-83.249253, 40.282284], [-83.249318, 40.287219], [-83.24936199999999, 40.294753], [-83.24936199999999, 40.294779999999996], [-83.249364, 40.296518999999996], [-83.24936799999999, 40.302352], [-83.24937, 40.302482999999995], [-83.249372, 40.302496999999995], [-83.24937299999999, 40.302512], [-83.249372, 40.302544], [-83.249378, 40.303701], [-83.249383, 40.304596], [-83.24939599999999, 40.3074], [-83.249613, 40.311659999999996], [-83.24962599999999, 40.311910999999995], [-83.249406, 40.315768], [-83.249443, 40.322798999999996], [-83.24945699999999, 40.324014999999996], [-83.24945799999999, 40.324073], [-83.249495, 40.327093999999995], [-83.249566, 40.339335], [-83.249572, 40.339749], [-83.249573, 40.339846], [-83.249574, 40.339915999999995], [-83.249448, 40.349405999999995], [-83.249578, 40.349765], [-83.249572, 40.352888], [-83.249586, 40.357386999999996], [-83.24958199999999, 40.357699], [-83.249567, 40.358838], [-83.24959299999999, 40.362767], [-83.249591, 40.364305], [-83.249591, 40.364354999999996], [-83.249596, 40.365772], [-83.249588, 40.366924999999995], [-83.24958099999999, 40.370501], [-83.249573, 40.374075], [-83.24956999999999, 40.374507], [-83.249558, 40.376507], [-83.249558, 40.376605999999995], [-83.249557, 40.376664999999996], [-83.249557, 40.376678], [-83.249556, 40.376768], [-83.24953599999999, 40.379794], [-83.249524, 40.381499], [-83.249523, 40.381702], [-83.249523, 40.38181], [-83.249506, 40.384616], [-83.249468, 40.388508], [-83.249538, 40.398843], [-83.249526, 40.402699], [-83.249498, 40.40356], [-83.2493, 40.409535999999996], [-83.249293, 40.409873999999995], [-83.249292, 40.409940999999996], [-83.249259, 40.411529], [-83.249172, 40.415776], [-83.249158, 40.417384999999996], [-83.249158, 40.418724999999995], [-83.24915399999999, 40.419165], [-83.249133, 40.419957], [-83.249065, 40.423944], [-83.249044, 40.424569], [-83.248764, 40.432750999999996], [-83.248677, 40.438338], [-83.248654, 40.439881], [-83.248595, 40.443988999999995], [-83.236333, 40.443265], [-83.236318, 40.443123], [-83.233233, 40.443079999999995], [-83.228117, 40.442766], [-83.221612, 40.442392999999996], [-83.209317, 40.441663999999996], [-83.207065, 40.44153], [-83.207039, 40.441528], [-83.198156, 40.440903], [-83.194113, 40.440694], [-83.192111, 40.440526], [-83.192054, 40.44052], [-83.19183, 40.440535], [-83.191683, 40.440542], [-83.191549, 40.440511], [-83.19137099999999, 40.440464999999996], [-83.191341, 40.440456999999995], [-83.183545, 40.439955999999995], [-83.181927, 40.439865999999995], [-83.173116, 40.439431], [-83.17300399999999, 40.439425], [-83.17267199999999, 40.439408], [-83.172561, 40.439403], [-83.171471, 40.439347], [-83.168201, 40.439178999999996], [-83.167112, 40.439124], [-83.165115, 40.439022], [-83.160371, 40.438874], [-83.152997, 40.438581], [-83.15293799999999, 40.438578], [-83.146182, 40.438317999999995], [-83.142573, 40.438189], [-83.14141099999999, 40.438148], [-83.113678, 40.436994], [-83.09210499999999, 40.436375999999996], [-83.087211, 40.436187], [-83.07489699999999, 40.435677], [-83.074811, 40.435676], [-83.074671, 40.435669], [-83.07256799999999, 40.435572], [-83.072316, 40.435562], [-83.071683, 40.435537], [-83.067309, 40.435339], [-83.063092, 40.435148999999996], [-83.062962, 40.435143], [-83.062625, 40.435128], [-83.062467, 40.435120999999995], [-83.06230099999999, 40.435123], [-83.061599, 40.435131], [-83.060554, 40.435143], [-83.05951, 40.435154999999995], [-83.05935, 40.435148999999996], [-83.05918899999999, 40.435143], [-83.056688, 40.435046], [-83.05633499999999, 40.435047999999995], [-83.05572599999999, 40.435038], [-83.054501, 40.434993], [-83.053642, 40.434961], [-83.05175799999999, 40.434878999999995], [-83.050072, 40.434818], [-83.048474, 40.434757999999995], [-83.047536, 40.434723], [-83.046821, 40.434695999999995], [-83.046337, 40.434678], [-83.04488599999999, 40.434625], [-83.044403, 40.434608], [-83.044091, 40.434596], [-83.043157, 40.434562], [-83.042846, 40.434551], [-83.042541, 40.434539], [-83.03942699999999, 40.434427], [-83.034527, 40.434267999999996], [-83.03400599999999, 40.434255], [-83.032656, 40.434205], [-83.029085, 40.434087999999996], [-83.026355, 40.433988], [-83.02114499999999, 40.433806], [-83.020798, 40.433794999999996], [-83.02094199999999, 40.432097999999996], [-83.02207899999999, 40.418884], [-83.02078999999999, 40.418811], [-83.018135, 40.418659], [-83.01231299999999, 40.418327], [-83.009849, 40.418186999999996], [-83.002681, 40.417798], [-83.00048799999999, 40.417679], [-82.978416, 40.416655999999996], [-82.977975, 40.416633999999995], [-82.973269, 40.416508], [-82.97312099999999, 40.417175], [-82.96352, 40.416725], [-82.95369699999999, 40.41625], [-82.950848, 40.416129999999995], [-82.95078199999999, 40.416126999999996], [-82.950711, 40.416123999999996], [-82.95047699999999, 40.416114], [-82.950401, 40.416111], [-82.950012, 40.416095], [-82.947075, 40.415969], [-82.946721, 40.415954], [-82.939961, 40.415666], [-82.93880399999999, 40.415614999999995], [-82.935278, 40.415461], [-82.934491, 40.415426], [-82.924781, 40.415003999999996], [-82.924797, 40.414806], [-82.92539699999999, 40.407776999999996], [-82.926574, 40.39398], [-82.92747399999999, 40.383632], [-82.92822199999999, 40.374621999999995], [-82.928444, 40.372211], [-82.928448, 40.372141], [-82.928916, 40.366355], [-82.929233, 40.362558], [-82.929495, 40.359275], [-82.929588, 40.358123], [-82.922944, 40.357805], [-82.92133299999999, 40.357727], [-82.920143, 40.357669], [-82.885375, 40.355976], [-82.88270399999999, 40.355865], [-82.879684, 40.355731], [-82.868606, 40.355236], [-82.867134, 40.355171], [-82.862663, 40.354972], [-82.85681, 40.354712], [-82.85629, 40.354689], [-82.85580399999999, 40.354667], [-82.848899, 40.354358], [-82.844009, 40.354164], [-82.84024, 40.354011], [-82.83133099999999, 40.353561], [-82.824125, 40.353204999999996], [-82.823295, 40.353164], [-82.822158, 40.353107], [-82.82019, 40.353007999999996], [-82.81877999999999, 40.35294], [-82.81517, 40.352756], [-82.809052, 40.352441999999996], [-82.792687, 40.351777999999996], [-82.779044, 40.351105], [-82.775908, 40.35097], [-82.775793, 40.350964999999995], [-82.77569799999999, 40.350949], [-82.775649, 40.350944999999996], [-82.7756, 40.350947], [-82.77458999999999, 40.350896999999996], [-82.768845, 40.350651], [-82.76881, 40.350649], [-82.768327, 40.350629], [-82.767804, 40.350607], [-82.764811, 40.350484], [-82.763111, 40.350414], [-82.761378, 40.350342999999995], [-82.75850299999999, 40.350209], [-82.758275, 40.350198], [-82.758093, 40.35019], [-82.756772, 40.350142999999996], [-82.75642599999999, 40.350139999999996], [-82.754792, 40.350059], [-82.753321, 40.349996999999995], [-82.752464, 40.349956999999996], [-82.751674, 40.349914], [-82.75052199999999, 40.349858999999995], [-82.749704, 40.34982], [-82.74789899999999, 40.349751], [-82.746882, 40.349697], [-82.74582699999999, 40.349641], [-82.744931, 40.349602999999995], [-82.745544, 40.34136], [-82.745572, 40.340983], [-82.74557999999999, 40.340876], [-82.746088, 40.333948], [-82.74641199999999, 40.329847], [-82.74682899999999, 40.324580999999995], [-82.74709399999999, 40.322579], [-82.747095, 40.322562999999995], [-82.747344, 40.319762], [-82.74737999999999, 40.319356], [-82.74739, 40.319247999999995], [-82.74742599999999, 40.318832], [-82.748408, 40.307677999999996], [-82.74840999999999, 40.307598], [-82.748414, 40.307404999999996], [-82.748421, 40.307114], [-82.74842199999999, 40.307092999999995], [-82.749348, 40.295091], [-82.749532, 40.293248], [-82.749534, 40.293223999999995], [-82.74967199999999, 40.29144], [-82.74989599999999, 40.288636], [-82.75023499999999, 40.284087], [-82.750238, 40.284031], [-82.75023999999999, 40.28398], [-82.750264, 40.283446999999995], [-82.75039, 40.281706], [-82.750427, 40.281251], [-82.75044199999999, 40.281074], [-82.750485, 40.280546], [-82.75052199999999, 40.279992], [-82.75057699999999, 40.279179], [-82.75058299999999, 40.279083], [-82.750596, 40.278922], [-82.750648, 40.278287999999996], [-82.750664, 40.278067], [-82.75069599999999, 40.277623], [-82.750708, 40.27748], [-82.75074699999999, 40.276996], [-82.750928, 40.274629], [-82.750969, 40.274156999999995], [-82.750993, 40.273796], [-82.75105599999999, 40.272966], [-82.75107299999999, 40.272841], [-82.75108, 40.272748], [-82.751088, 40.272636999999996], [-82.75119699999999, 40.271103], [-82.75134299999999, 40.269208], [-82.751423, 40.268285], [-82.75150599999999, 40.267222], [-82.751528, 40.266934], [-82.751616, 40.265803999999996], [-82.751745, 40.264299], [-82.75182099999999, 40.263297], [-82.751841, 40.263114], [-82.75184399999999, 40.263079], [-82.751848, 40.263058], [-82.751879, 40.262597], [-82.751997, 40.261167], [-82.752009, 40.261092999999995], [-82.752022, 40.261010999999996], [-82.75201799999999, 40.26081], [-82.75204, 40.260573], [-82.752061, 40.260222], [-82.75210299999999, 40.259754], [-82.752128, 40.259388], [-82.752138, 40.259282], [-82.752163, 40.259001], [-82.75218699999999, 40.258856], [-82.75220499999999, 40.258751], [-82.75221499999999, 40.258384], [-82.75224399999999, 40.257932], [-82.752253, 40.257841], [-82.752279, 40.257566], [-82.75231099999999, 40.257087], [-82.752354, 40.256557], [-82.75239499999999, 40.255897], [-82.752472, 40.254979], [-82.752584, 40.253423], [-82.752675, 40.252331], [-82.752753, 40.251295], [-82.752984, 40.248214], [-82.75304799999999, 40.247502], [-82.753118, 40.246818], [-82.753134, 40.246626], [-82.75314999999999, 40.246451], [-82.753153, 40.246407], [-82.75316699999999, 40.246247], [-82.753186, 40.246133], [-82.753194, 40.245894], [-82.753249, 40.245191999999996], [-82.753267, 40.244904999999996], [-82.753292, 40.244654], [-82.753338, 40.2442], [-82.753356, 40.243972], [-82.753365, 40.243863999999995], [-82.75341499999999, 40.243189], [-82.753445, 40.242987], [-82.753457, 40.242774], [-82.753486, 40.2425], [-82.753515, 40.242098], [-82.753557, 40.241417999999996], [-82.753569, 40.241282999999996], [-82.75357699999999, 40.241081], [-82.753602, 40.240701], [-82.75364599999999, 40.240147], [-82.753734, 40.238862], [-82.753783, 40.237974], [-82.753827, 40.237383], [-82.753951, 40.23495], [-82.75406199999999, 40.232963], [-82.754086, 40.232577], [-82.754137, 40.23189], [-82.754166, 40.231415999999996], [-82.75419099999999, 40.231071], [-82.754352, 40.228873], [-82.754392, 40.228423], [-82.754398, 40.228367999999996], [-82.754438, 40.227927], [-82.75446699999999, 40.227658], [-82.75447799999999, 40.227514], [-82.754492, 40.227394], [-82.75452899999999, 40.227077], [-82.75453999999999, 40.226821], [-82.754578, 40.226417999999995], [-82.754577, 40.22638], [-82.754615, 40.225840999999996], [-82.754643, 40.225435999999995], [-82.75482199999999, 40.222871], [-82.754984, 40.220549999999996], [-82.755152, 40.218148], [-82.755263, 40.216557], [-82.755302, 40.215989], [-82.755518, 40.212894999999996], [-82.75571, 40.210153], [-82.755718, 40.210023], [-82.75582, 40.208572], [-82.755853, 40.2081], [-82.755867, 40.207896], [-82.755937, 40.206903], [-82.755943, 40.206813], [-82.75594699999999, 40.206665], [-82.756001, 40.205932], [-82.756013, 40.205908], [-82.756014, 40.205888], [-82.756017, 40.205863], [-82.75613899999999, 40.204298], [-82.75623399999999, 40.202908], [-82.756273, 40.202489], [-82.75631899999999, 40.201873], [-82.756367, 40.201328], [-82.756396, 40.200831], [-82.75640399999999, 40.200724], [-82.756408, 40.200647], [-82.75643699999999, 40.20017], [-82.756472, 40.199695999999996], [-82.756483, 40.19957], [-82.756498, 40.199432], [-82.756512, 40.199234], [-82.756526, 40.199034999999995], [-82.756534, 40.198924], [-82.756689, 40.196753], [-82.75672399999999, 40.196307999999995], [-82.756749, 40.195980999999996], [-82.75676899999999, 40.195723], [-82.756834, 40.194637], [-82.756903, 40.193835], [-82.756928, 40.193422999999996], [-82.75697799999999, 40.192730999999995], [-82.756998, 40.192401], [-82.75702199999999, 40.192], [-82.757077, 40.191322], [-82.757137, 40.190462], [-82.757161, 40.189934], [-82.757179, 40.189654], [-82.757223, 40.189361], [-82.757508, 40.184545], [-82.75752, 40.184422999999995], [-82.757527, 40.184328], [-82.757528, 40.184294], [-82.757581, 40.183355999999996], [-82.757592, 40.183201], [-82.757595, 40.183155], [-82.757656, 40.182286], [-82.757719, 40.181394], [-82.75782099999999, 40.179933999999996], [-82.757877, 40.179367], [-82.75791699999999, 40.178697], [-82.757993, 40.177726], [-82.75807999999999, 40.176324], [-82.758138, 40.175517], [-82.758147, 40.175511], [-82.758179, 40.175128], [-82.758394, 40.171794], [-82.75841, 40.171533], [-82.758472, 40.170503], [-82.758605, 40.168838], [-82.75876799999999, 40.166489], [-82.758837, 40.165599], [-82.75891, 40.164542999999995], [-82.758917, 40.164358], [-82.758946, 40.164006], [-82.758952, 40.163931], [-82.758954, 40.163892], [-82.758974, 40.163455], [-82.758989, 40.163253], [-82.759031, 40.162696], [-82.759073, 40.162298], [-82.759143, 40.161291999999996], [-82.759186, 40.160793], [-82.759401, 40.157964], [-82.759405, 40.157818999999996], [-82.759447, 40.157357999999995], [-82.759509, 40.156372999999995], [-82.75953899999999, 40.156158999999995], [-82.75956699999999, 40.155699], [-82.759706, 40.154187], [-82.75976299999999, 40.153389], [-82.759783, 40.153105], [-82.759877, 40.151875], [-82.760048, 40.149631], [-82.760105, 40.148725], [-82.760127, 40.148492], [-82.76024, 40.147], [-82.760286, 40.146547999999996], [-82.760316, 40.146156], [-82.76042799999999, 40.144718999999995], [-82.760481, 40.143951], [-82.760482, 40.143905], [-82.760511, 40.14351], [-82.76052299999999, 40.143343], [-82.760527, 40.14329], [-82.760609, 40.142342], [-82.760655, 40.141694], [-82.76069299999999, 40.141163999999996], [-82.76085599999999, 40.13886], [-82.76087, 40.138743999999996], [-82.760903, 40.138085], [-82.76091799999999, 40.138068], [-82.76105799999999, 40.136103999999996], [-82.761082, 40.135835], [-82.761095, 40.135577], [-82.761184, 40.134332], [-82.761223, 40.133659], [-82.76133, 40.132062999999995], [-82.761426, 40.130969], [-82.761432, 40.130832], [-82.76142999999999, 40.130762999999995], [-82.76145799999999, 40.130497], [-82.761636, 40.128079], [-82.761798, 40.125979], [-82.76178399999999, 40.125963999999996], [-82.761809, 40.125898], [-82.761827, 40.125855], [-82.769599, 40.126293], [-82.771337, 40.126363999999995], [-82.779808, 40.126711], [-82.78107, 40.126764], [-82.782429, 40.126829], [-82.785904, 40.126993999999996], [-82.78593699999999, 40.126995], [-82.78663499999999, 40.127016], [-82.78888599999999, 40.127085], [-82.788923, 40.127086], [-82.789504, 40.127103999999996], [-82.789988, 40.127119], [-82.79097999999999, 40.12715], [-82.79105299999999, 40.127153], [-82.794636, 40.127297999999996], [-82.795476, 40.127331999999996], [-82.796627, 40.127378], [-82.80163, 40.127584999999996], [-82.80265, 40.127628], [-82.803955, 40.127682], [-82.806327, 40.12778], [-82.80968, 40.127919], [-82.809996, 40.127932], [-82.810041, 40.127933999999996], [-82.81049, 40.12804], [-82.816121, 40.128226], [-82.821606, 40.128408], [-82.833969, 40.12894], [-82.83554, 40.129008999999996], [-82.84355, 40.129366999999995], [-82.84357, 40.12936], [-82.84364, 40.129348], [-82.843944, 40.129373], [-82.84431599999999, 40.129391], [-82.84477199999999, 40.129404], [-82.84530099999999, 40.129432], [-82.84585299999999, 40.129453999999996], [-82.846364, 40.129483], [-82.846791, 40.129497], [-82.84737899999999, 40.129522], [-82.84782, 40.129546999999995], [-82.84796, 40.129552], [-82.84840899999999, 40.129568], [-82.848669, 40.129581], [-82.849826, 40.129639], [-82.850068, 40.129644], [-82.85024399999999, 40.129650999999996], [-82.850967, 40.129681], [-82.851353, 40.129701999999995], [-82.85141999999999, 40.129706], [-82.851916, 40.129726], [-82.85261799999999, 40.129764], [-82.853331, 40.129779], [-82.85372699999999, 40.129796999999996], [-82.857607, 40.129971], [-82.858221, 40.129998], [-82.858432, 40.130009], [-82.858837, 40.130030999999995], [-82.86398799999999, 40.130272999999995], [-82.86426, 40.130283], [-82.864403, 40.130295], [-82.86675799999999, 40.130396999999995], [-82.86755699999999, 40.130435999999996], [-82.86918899999999, 40.130514999999995], [-82.869833, 40.130544], [-82.870069, 40.130552], [-82.87055199999999, 40.130579], [-82.870847, 40.13059], [-82.872508, 40.130671], [-82.874443, 40.130765], [-82.87487, 40.130787999999995], [-82.875492, 40.130821], [-82.87566799999999, 40.130829999999996], [-82.87653399999999, 40.130868], [-82.876565, 40.130869], [-82.878112, 40.130944], [-82.88001299999999, 40.131037], [-82.881838, 40.131125999999995], [-82.88230999999999, 40.131149], [-82.88248399999999, 40.131156999999995], [-82.88322199999999, 40.131192999999996], [-82.883652, 40.131219], [-82.883954, 40.131237999999996], [-82.884101, 40.131246999999995], [-82.884401, 40.131273], [-82.884832, 40.131288999999995], [-82.884856, 40.13129], [-82.88500499999999, 40.13129], [-82.885286, 40.131288], [-82.88607999999999, 40.131327999999996], [-82.886161, 40.131332], [-82.887824, 40.131415], [-82.889158, 40.131482], [-82.889397, 40.131499], [-82.89042099999999, 40.131549], [-82.892967, 40.131673], [-82.89409599999999, 40.131727], [-82.89428099999999, 40.131736], [-82.89536, 40.131786999999996], [-82.895945, 40.131816], [-82.89636399999999, 40.131836], [-82.89696599999999, 40.131865], [-82.900005, 40.132011], [-82.900858, 40.132052], [-82.901276, 40.132069], [-82.90189099999999, 40.132106], [-82.902343, 40.132123], [-82.90284, 40.132148], [-82.904392, 40.132211999999996], [-82.90478499999999, 40.132228], [-82.90522899999999, 40.132251], [-82.90540999999999, 40.132256999999996], [-82.905689, 40.132266], [-82.906786, 40.132311], [-82.90778999999999, 40.132352999999995], [-82.909545, 40.132428], [-82.911029, 40.13249], [-82.912227, 40.13254], [-82.91290099999999, 40.132568], [-82.914215, 40.132622999999995], [-82.914645, 40.132641], [-82.91528199999999, 40.132667999999995], [-82.915808, 40.13269], [-82.916354, 40.132712], [-82.917159, 40.132745], [-82.917698, 40.132768], [-82.918644, 40.132808], [-82.919128, 40.132829], [-82.919384, 40.132836999999995], [-82.920563, 40.13288], [-82.921104, 40.1329], [-82.92173, 40.132926], [-82.921797, 40.132929999999995], [-82.922017, 40.132942], [-82.922856, 40.132981], [-82.92299299999999, 40.132982], [-82.923704, 40.133010999999996], [-82.92425899999999, 40.133035], [-82.92448499999999, 40.13304], [-82.92482, 40.133058999999996], [-82.92559, 40.133091], [-82.92580699999999, 40.1331], [-82.925845, 40.133102], [-82.92591499999999, 40.133105], [-82.92611699999999, 40.133113], [-82.926464, 40.133126999999995], [-82.926827, 40.133143], [-82.92830699999999, 40.133202999999995], [-82.928394, 40.133207], [-82.92887999999999, 40.133227999999995], [-82.929221, 40.133241999999996], [-82.929557, 40.133255999999996], [-82.92993799999999, 40.133272], [-82.929991, 40.133274], [-82.93066999999999, 40.133302], [-82.93087899999999, 40.133311], [-82.931243, 40.133331999999996], [-82.9325, 40.133385], [-82.934883, 40.133486999999995], [-82.935577, 40.133517999999995], [-82.937156, 40.133583], [-82.940038, 40.133689], [-82.946876, 40.133953], [-82.947257, 40.133967], [-82.947516, 40.133976], [-82.950576, 40.134093], [-82.950655, 40.134096], [-82.950671, 40.134097], [-82.950847, 40.134104], [-82.95096099999999, 40.134108999999995], [-82.95109, 40.134114], [-82.95255999999999, 40.134129], [-82.95294299999999, 40.134116999999996], [-82.95618999999999, 40.13431], [-82.956367, 40.134315], [-82.95659599999999, 40.134254], [-82.95697, 40.134246], [-82.957115, 40.134273], [-82.957244, 40.134338], [-82.957369, 40.134344999999996], [-82.958038, 40.13438], [-82.95803, 40.134254], [-82.958541, 40.134281], [-82.958534, 40.134398999999995], [-82.95862, 40.134401], [-82.959014, 40.134395], [-82.970012, 40.134881], [-82.97013, 40.134886], [-82.970238, 40.134893], [-82.97039699999999, 40.134896999999995], [-82.970506, 40.134902], [-82.970766, 40.134913], [-82.97086999999999, 40.134917], [-82.971059, 40.134924999999996], [-82.971131, 40.134927], [-82.971189, 40.134929], [-82.971307, 40.134933], [-82.971329, 40.134934], [-82.971634, 40.134946], [-82.97169099999999, 40.134948], [-82.97375699999999, 40.135016], [-82.973914, 40.135020999999995], [-82.974029, 40.135028], [-82.974779, 40.135070999999996], [-82.977384, 40.135175], [-82.97775299999999, 40.13519], [-82.977936, 40.135197999999995], [-82.979843, 40.135276], [-82.980008, 40.135283], [-82.98081499999999, 40.135315999999996], [-82.98134999999999, 40.135338], [-82.981663, 40.135351], [-82.981905, 40.135360999999996], [-82.982812, 40.135397999999995], [-82.98311199999999, 40.135411], [-82.983277, 40.135417], [-82.983689, 40.135434], [-82.98438399999999, 40.135463], [-82.984664, 40.135473999999995], [-82.985045, 40.13549], [-82.98551599999999, 40.135509], [-82.98628099999999, 40.135540999999996], [-82.98686, 40.135565], [-82.987375, 40.135585999999996], [-82.987679, 40.135601], [-82.987793, 40.135602999999996], [-82.987867, 40.135605999999996], [-82.991676, 40.135763], [-82.99173499999999, 40.135765], [-82.99180899999999, 40.135768], [-82.994145, 40.13586], [-82.99430199999999, 40.135866], [-82.994569, 40.135875999999996], [-82.994635, 40.135878999999996], [-82.995131, 40.135895999999995], [-82.995313, 40.135903], [-82.995325, 40.135903], [-82.99568599999999, 40.13592], [-82.996173, 40.135943], [-82.99687399999999, 40.135968999999996], [-82.997259, 40.135985999999995], [-82.998025, 40.136019999999995], [-82.999629, 40.136091], [-83.000188, 40.136116], [-83.00068999999999, 40.136137999999995], [-83.001391, 40.136168999999995], [-83.001665, 40.136181], [-83.00267, 40.136226], [-83.004458, 40.136305], [-83.00520399999999, 40.136336], [-83.00544599999999, 40.136345999999996], [-83.005498, 40.136348999999996], [-83.005602, 40.136353], [-83.00567699999999, 40.136356], [-83.005752, 40.136359999999996], [-83.005889, 40.136367], [-83.006162, 40.136379999999996], [-83.006451, 40.136390999999996], [-83.007209, 40.13642], [-83.00727499999999, 40.136421999999996], [-83.00775, 40.136432], [-83.008111, 40.136438999999996], [-83.008468, 40.136452], [-83.009, 40.136471], [-83.00918399999999, 40.136477], [-83.00963899999999, 40.136492], [-83.010048, 40.136505], [-83.010335, 40.136514999999996], [-83.01052899999999, 40.136516], [-83.010679, 40.136531], [-83.010982, 40.136541], [-83.011318, 40.136551999999995], [-83.011359, 40.136553], [-83.011392, 40.136554], [-83.011473, 40.136558], [-83.01159299999999, 40.136559999999996], [-83.011712, 40.136562], [-83.01188499999999, 40.136565], [-83.012177, 40.136581], [-83.01254999999999, 40.136593], [-83.01258399999999, 40.136593999999995], [-83.0126, 40.136595], [-83.012686, 40.136598], [-83.013121, 40.136612], [-83.013441, 40.136624], [-83.013474, 40.136624999999995], [-83.013515, 40.136626], [-83.014016, 40.136644], [-83.014557, 40.136663], [-83.014862, 40.136672999999995], [-83.014963, 40.136676], [-83.015973, 40.136711], [-83.016136, 40.136711999999996], [-83.01646, 40.136721], [-83.016888, 40.136731999999995], [-83.017012, 40.136747], [-83.01759299999999, 40.136764], [-83.02436399999999, 40.136987], [-83.029386, 40.137153], [-83.03085999999999, 40.137274], [-83.030901, 40.137274999999995], [-83.030935, 40.137276], [-83.03105099999999, 40.13728], [-83.03119799999999, 40.137283], [-83.03134, 40.137291], [-83.031516, 40.137294], [-83.03169199999999, 40.137296], [-83.037491, 40.137434], [-83.037589, 40.137433], [-83.03981499999999, 40.137512], [-83.040008, 40.137519], [-83.04117699999999, 40.137561], [-83.042017, 40.137588], [-83.057267, 40.138047], [-83.05739899999999, 40.138051], [-83.05895199999999, 40.138098], [-83.05927899999999, 40.138107999999995], [-83.05942499999999, 40.138113], [-83.05944, 40.138114], [-83.060232, 40.138147], [-83.060605, 40.138163], [-83.063808, 40.138282], [-83.063975, 40.138289], [-83.063991, 40.138289], [-83.064037, 40.138290999999995], [-83.064624, 40.138304999999995], [-83.06549, 40.138335999999995], [-83.065517, 40.138337], [-83.06631399999999, 40.138363999999996], [-83.066784, 40.13838], [-83.067481, 40.138408], [-83.06761, 40.138413], [-83.068197, 40.138434], [-83.06873999999999, 40.138453], [-83.07204999999999, 40.138563999999995], [-83.074598, 40.138664999999996], [-83.07603, 40.138718], [-83.076408, 40.138731], [-83.077743, 40.138777999999995], [-83.08054299999999, 40.138881], [-83.089218, 40.139198], [-83.08937, 40.1392], [-83.089396, 40.139201], [-83.08950899999999, 40.139202999999995], [-83.089621, 40.139207], [-83.089705, 40.13921], [-83.089778, 40.139212], [-83.097709, 40.139475999999995], [-83.099904, 40.139547], [-83.102451, 40.139632], [-83.103341, 40.139669999999995], [-83.10336, 40.139669999999995], [-83.103388, 40.139671], [-83.104934, 40.139713], [-83.105441, 40.139728], [-83.105559, 40.139728999999996], [-83.109915, 40.139869], [-83.11434, 40.140007], [-83.118725, 40.140144], [-83.119593, 40.140167], [-83.119942, 40.140181], [-83.12016, 40.140195], [-83.122562, 40.140325], [-83.12282599999999, 40.140339], [-83.123976, 40.140403], [-83.124757, 40.140445], [-83.127082, 40.140574], [-83.127708, 40.140602], [-83.128418, 40.140692], [-83.128456, 40.140696999999996], [-83.128525, 40.140705], [-83.128592, 40.140677], [-83.128643, 40.140662999999996], [-83.12869599999999, 40.140648999999996], [-83.128805, 40.140639], [-83.128918, 40.14064], [-83.129007, 40.140646], [-83.129182, 40.140671], [-83.12930899999999, 40.140702], [-83.12971399999999, 40.140701], [-83.130057, 40.140733999999995], [-83.131551, 40.140828], [-83.132843, 40.140884], [-83.132971, 40.140885], [-83.13425099999999, 40.140899], [-83.134427, 40.140901], [-83.134467, 40.140902], [-83.13636799999999, 40.140921999999996], [-83.13716699999999, 40.140930999999995], [-83.137147, 40.141045], [-83.13776899999999, 40.141151], [-83.138565, 40.141192], [-83.14132599999999, 40.141338], [-83.144348, 40.141494], [-83.148429, 40.141708], [-83.14905499999999, 40.141563], [-83.151088, 40.141917], [-83.151294, 40.141954999999996], [-83.151382, 40.141971], [-83.151456, 40.141985], [-83.152604, 40.142074], [-83.15282499999999, 40.142092], [-83.152874, 40.142095999999995], [-83.153069, 40.142112], [-83.15661899999999, 40.142199], [-83.15721599999999, 40.14221], [-83.157811, 40.142222], [-83.161468, 40.142314], [-83.161733, 40.142339], [-83.163026, 40.142464], [-83.169134, 40.143011], [-83.169246, 40.143021], [-83.169358, 40.143031], [-83.16998099999999, 40.143087], [-83.16999299999999, 40.145103999999996], [-83.170002, 40.146587], [-83.17000999999999, 40.146989], [-83.170012, 40.147095], [-83.17002099999999, 40.147532], [-83.17004999999999, 40.148986], [-83.17004999999999, 40.149190999999995], [-83.17004999999999, 40.149229999999996], [-83.17004899999999, 40.149899], [-83.17004899999999, 40.150017], [-83.170051, 40.150166999999996], [-83.170053, 40.150268], [-83.170056, 40.150476999999995], [-83.17005999999999, 40.150768], [-83.170063, 40.151047], [-83.17007, 40.151562999999996], [-83.17009499999999, 40.152684], [-83.170118, 40.153354], [-83.170126, 40.15361], [-83.170132, 40.153782], [-83.17025, 40.156352], [-83.170256, 40.156498], [-83.17027499999999, 40.156963999999995], [-83.17029199999999, 40.157334], [-83.170295, 40.157396], [-83.170295, 40.157525], [-83.170295, 40.157841999999995], [-83.170295, 40.157927], [-83.170294, 40.158756], [-83.17030299999999, 40.159082999999995], [-83.170305, 40.15914], [-83.17031999999999, 40.159656999999996], [-83.170333, 40.16012], [-83.170407, 40.165034], [-83.17045999999999, 40.166833], [-83.170476, 40.167336], [-83.170478, 40.167393], [-83.17052699999999, 40.16896], [-83.170569, 40.170321], [-83.170732, 40.175551], [-83.17074699999999, 40.176503], [-83.170745, 40.178571], [-83.17075899999999, 40.179736999999996], [-83.170858, 40.182307], [-83.170861, 40.182365999999995], [-83.170874, 40.182775], [-83.170903, 40.184171], [-83.17094399999999, 40.186313999999996], [-83.17096099999999, 40.187868], [-83.171025, 40.190576], [-83.171087, 40.193171], [-83.171208, 40.195465999999996], [-83.171236, 40.196497], [-83.17123699999999, 40.196542], [-83.17127699999999, 40.198077], [-83.17137199999999, 40.201709], [-83.17139499999999, 40.202605999999996], [-83.171396, 40.202642], [-83.171427, 40.203795], [-83.171482, 40.207004999999995], [-83.171548, 40.209765], [-83.171646, 40.214479], [-83.171737, 40.216446], [-83.171826, 40.219079], [-83.17186099999999, 40.222305999999996], [-83.17191299999999, 40.224509999999995], [-83.171937, 40.225121], [-83.17203099999999, 40.227520999999996], [-83.172063, 40.228669], [-83.172241, 40.235084], [-83.172265, 40.236312999999996], [-83.172266, 40.23634], [-83.17233, 40.244257], [-83.17273899999999, 40.244259], [-83.172797, 40.244259], [-83.17484499999999, 40.244262], [-83.177424, 40.244265], [-83.183769, 40.244333999999995], [-83.185684, 40.24435], [-83.19077899999999, 40.244392], [-83.190818, 40.244392], [-83.19228799999999, 40.2444]]], &quot;type&quot;: &quot;Polygon&quot;}, &quot;id&quot;: &quot;0&quot;, &quot;properties&quot;: {&quot;2010&quot;: 927, &quot;2011&quot;: 3436, &quot;2012&quot;: 2592, &quot;2013&quot;: 4253, &quot;2014&quot;: 4060, &quot;2015&quot;: 3951, &quot;2016&quot;: 3753, &quot;2017&quot;: 3726, &quot;2018&quot;: 4221, &quot;2019&quot;: 4086, &quot;CTYNAME&quot;: &quot;Delaware&quot;, &quot;__folium_color&quot;: &quot;#277f8e&quot;}, &quot;type&quot;: &quot;Feature&quot;}, {&quot;bbox&quot;: [-82.842953, 39.554445, -82.366051, 39.941162], &quot;geometry&quot;: {&quot;coordinates&quot;: [[[-82.802476, 39.822953], [-82.80241699999999, 39.823979], [-82.802414, 39.824024], [-82.802413, 39.824045999999996], [-82.80231599999999, 39.825706], [-82.802269, 39.826522], [-82.802311, 39.827467999999996], [-82.80232, 39.827948], [-82.802317, 39.828253], [-82.80230499999999, 39.828533], [-82.802267, 39.829193], [-82.802251, 39.829485], [-82.80224199999999, 39.829640999999995], [-82.802227, 39.829906], [-82.802194, 39.830400000000004], [-82.802191, 39.830449], [-82.802053, 39.831765999999995], [-82.801998, 39.832283], [-82.80180299999999, 39.834174999999995], [-82.801707, 39.835162], [-82.801659, 39.835602], [-82.801656, 39.835632], [-82.80165099999999, 39.835679999999996], [-82.801643, 39.835761], [-82.801642, 39.835772], [-82.801638, 39.83582], [-82.801637, 39.835834], [-82.801633, 39.83587], [-82.80163, 39.835899], [-82.801615, 39.836051999999995], [-82.801613, 39.836068], [-82.801604, 39.836157], [-82.80160000000001, 39.836203999999995], [-82.801591, 39.836295], [-82.801585, 39.836355999999995], [-82.801581, 39.836396], [-82.80158, 39.83641], [-82.80157299999999, 39.836478], [-82.801571, 39.836498], [-82.801557, 39.836625], [-82.801514, 39.837028], [-82.801496, 39.837199], [-82.801385, 39.838235], [-82.801377, 39.838311999999995], [-82.801374, 39.838339], [-82.801373, 39.838349], [-82.801366, 39.838409], [-82.80135, 39.838561999999996], [-82.801321, 39.838836], [-82.80131399999999, 39.838906], [-82.8013, 39.83904], [-82.80129699999999, 39.839068], [-82.801288, 39.839148], [-82.801284, 39.839268], [-82.80128599999999, 39.839376], [-82.80125699999999, 39.839987], [-82.80122899999999, 39.840579], [-82.80121, 39.840848], [-82.801208, 39.840882], [-82.801206, 39.840907], [-82.80119599999999, 39.841052999999995], [-82.80119499999999, 39.841063], [-82.801182, 39.841282], [-82.801129, 39.842189], [-82.801058, 39.8434], [-82.801058, 39.843424999999996], [-82.800996, 39.844467], [-82.800981, 39.844722999999995], [-82.800975, 39.844750999999995], [-82.80095, 39.844876], [-82.80094799999999, 39.844906], [-82.800941, 39.845008], [-82.800922, 39.845172999999996], [-82.800856, 39.845918999999995], [-82.800809, 39.84612], [-82.800799, 39.846160999999995], [-82.800721, 39.846486], [-82.80066699999999, 39.846708], [-82.800619, 39.846907], [-82.800614, 39.846928], [-82.800606, 39.846962], [-82.80057599999999, 39.847111], [-82.800564, 39.847159], [-82.800512, 39.847373999999995], [-82.800483, 39.847493], [-82.800432, 39.847705], [-82.800428, 39.847719999999995], [-82.800426, 39.84773], [-82.800421, 39.847752], [-82.80039699999999, 39.847857], [-82.800392, 39.847868], [-82.800394, 39.848071999999995], [-82.800392, 39.848287], [-82.80039699999999, 39.848574], [-82.80039699999999, 39.848971], [-82.800354, 39.849509999999995], [-82.800347, 39.849596], [-82.800333, 39.849706999999995], [-82.800123, 39.851323], [-82.800085, 39.85162], [-82.799724, 39.854436], [-82.799695, 39.854662999999995], [-82.799213, 39.859684], [-82.799212, 39.859693], [-82.798694, 39.864563], [-82.79865699999999, 39.865046], [-82.798599, 39.865159], [-82.798597, 39.865182], [-82.79859499999999, 39.865204999999996], [-82.798479, 39.866310999999996], [-82.798453, 39.866608], [-82.798416, 39.867045999999995], [-82.798403, 39.867148], [-82.798402, 39.867159], [-82.79839, 39.867284], [-82.798389, 39.867295999999996], [-82.798349, 39.867719], [-82.798345, 39.867763], [-82.798335, 39.867871], [-82.798216, 39.869136999999995], [-82.798034, 39.871141], [-82.797887, 39.872733], [-82.797877, 39.872848], [-82.79782, 39.873473], [-82.797742, 39.874390999999996], [-82.797736, 39.874489], [-82.79763799999999, 39.875526], [-82.79758, 39.876145], [-82.79754199999999, 39.876484], [-82.797516, 39.876720999999996], [-82.797501, 39.876857], [-82.797505, 39.876965999999996], [-82.797506, 39.876978], [-82.797517, 39.876996999999996], [-82.79757099999999, 39.877088], [-82.797686, 39.87717], [-82.797995, 39.877326], [-82.797995, 39.877367], [-82.797951, 39.877745999999995], [-82.79791999999999, 39.878049], [-82.797888, 39.878352], [-82.797707, 39.880035], [-82.797693, 39.880162999999996], [-82.797665, 39.880773], [-82.797602, 39.882203], [-82.797538, 39.883632999999996], [-82.79749799999999, 39.884543], [-82.797491, 39.884594], [-82.79746399999999, 39.884802], [-82.797462, 39.884814], [-82.797049, 39.887904999999996], [-82.797041, 39.887969], [-82.797004, 39.888245], [-82.795895, 39.896566], [-82.795892, 39.89662], [-82.79588799999999, 39.896705], [-82.795506, 39.902794], [-82.795501, 39.902867], [-82.795495, 39.902955], [-82.795491, 39.902983], [-82.79544299999999, 39.903255], [-82.795277, 39.90419], [-82.795272, 39.904216], [-82.795234, 39.904432], [-82.795227, 39.904474], [-82.795211, 39.904568], [-82.795197, 39.904641], [-82.79519599999999, 39.904655999999996], [-82.795186, 39.904727], [-82.795169, 39.904852999999996], [-82.795154, 39.904956999999996], [-82.794383, 39.910785], [-82.794862, 39.910803], [-82.795361, 39.910833], [-82.795476, 39.91084], [-82.795621, 39.910849], [-82.796408, 39.910886999999995], [-82.796426, 39.910888], [-82.79734599999999, 39.910934], [-82.798011, 39.910967], [-82.798586, 39.910995], [-82.798658, 39.910999], [-82.799, 39.911016], [-82.799054, 39.911018999999996], [-82.799461, 39.911038999999995], [-82.79974299999999, 39.911052], [-82.800727, 39.911096], [-82.80109399999999, 39.911113], [-82.801138, 39.911114999999995], [-82.801165, 39.911116], [-82.80178599999999, 39.911144], [-82.802247, 39.91117], [-82.802266, 39.911170999999996], [-82.802314, 39.911173999999995], [-82.802376, 39.911176999999995], [-82.802455, 39.911181], [-82.80253599999999, 39.911184999999996], [-82.80257999999999, 39.911187], [-82.80301, 39.91121], [-82.803345, 39.911227], [-82.803482, 39.911234], [-82.804366, 39.911279], [-82.806674, 39.911393], [-82.806736, 39.911395999999996], [-82.806787, 39.911398], [-82.806887, 39.911403], [-82.807851, 39.911451], [-82.807895, 39.911453], [-82.808194, 39.91147], [-82.808223, 39.911471999999996], [-82.808888, 39.911508999999995], [-82.809095, 39.911518], [-82.80922799999999, 39.911524], [-82.809428, 39.911536], [-82.809682, 39.91155], [-82.809821, 39.911556999999995], [-82.809855, 39.911558], [-82.810233, 39.911575], [-82.811199, 39.911629999999995], [-82.811911, 39.911608], [-82.812108, 39.911623999999996], [-82.81235, 39.911632999999995], [-82.812561, 39.911642], [-82.812812, 39.911652], [-82.81302, 39.91166], [-82.813069, 39.911662], [-82.813096, 39.911663], [-82.813093, 39.911719999999995], [-82.812997, 39.913461999999996], [-82.81299, 39.913539], [-82.812983, 39.913616999999995], [-82.81257099999999, 39.918139], [-82.812568, 39.918175], [-82.812505, 39.918861], [-82.812415, 39.91984], [-82.812394, 39.920063], [-82.81239099999999, 39.920111], [-82.812371, 39.920451], [-82.81237, 39.920463], [-82.81222199999999, 39.922717999999996], [-82.812107, 39.924321], [-82.81205, 39.925211], [-82.812049, 39.925224], [-82.81204699999999, 39.925244], [-82.811996, 39.926063], [-82.811962, 39.926491], [-82.811954, 39.92659], [-82.811696, 39.929781999999996], [-82.811607, 39.930687999999996], [-82.811532, 39.931472], [-82.811521, 39.931591], [-82.811495, 39.931858], [-82.811483, 39.93202], [-82.811476, 39.932116], [-82.811458, 39.932373999999996], [-82.81128799999999, 39.934751], [-82.810807, 39.941027999999996], [-82.810797, 39.941162], [-82.798396, 39.940563], [-82.798164, 39.940546999999995], [-82.79809, 39.940538], [-82.79806099999999, 39.940534], [-82.79801599999999, 39.940529], [-82.79563499999999, 39.940371999999996], [-82.795305, 39.940349999999995], [-82.79259499999999, 39.940163], [-82.79199799999999, 39.940162], [-82.791596, 39.940162], [-82.791493, 39.940163999999996], [-82.78252499999999, 39.939664], [-82.782495, 39.939662], [-82.782105, 39.939769999999996], [-82.781055, 39.939723], [-82.780731, 39.939709], [-82.77972199999999, 39.939664], [-82.779693, 39.939662999999996], [-82.779609, 39.939659999999996], [-82.779552, 39.939657], [-82.778891, 39.939627], [-82.77829, 39.939600999999996], [-82.778211, 39.939597], [-82.77813499999999, 39.939592999999995], [-82.77796099999999, 39.939586], [-82.77788699999999, 39.939583], [-82.777638, 39.939571], [-82.77743199999999, 39.93956], [-82.77614899999999, 39.939493999999996], [-82.775758, 39.939474], [-82.775335, 39.939453], [-82.775302, 39.939451], [-82.775268, 39.939448999999996], [-82.775251, 39.939448], [-82.7752, 39.939446], [-82.775157, 39.939444], [-82.775092, 39.93944], [-82.775071, 39.939439], [-82.775047, 39.939437999999996], [-82.775015, 39.939437], [-82.774999, 39.939436], [-82.774963, 39.939434], [-82.774917, 39.939431], [-82.77477499999999, 39.939423999999995], [-82.774385, 39.939403999999996], [-82.77423499999999, 39.939395999999995], [-82.774158, 39.939392], [-82.772909, 39.939327999999996], [-82.77287, 39.939326], [-82.771761, 39.93926], [-82.768805, 39.939085], [-82.768441, 39.939066], [-82.768282, 39.939057999999996], [-82.768057, 39.939046], [-82.768014, 39.939043999999996], [-82.765869, 39.938928], [-82.76502599999999, 39.938882], [-82.764701, 39.938866], [-82.761673, 39.938714], [-82.760914, 39.938676], [-82.754147, 39.938336], [-82.74989099999999, 39.938123], [-82.74834299999999, 39.938044999999995], [-82.747438, 39.937996], [-82.745577, 39.937894], [-82.74445899999999, 39.937833999999995], [-82.74436, 39.937829], [-82.742398, 39.937722], [-82.74085699999999, 39.937638], [-82.740765, 39.937633], [-82.739665, 39.937554], [-82.739159, 39.937529], [-82.738895, 39.937515999999995], [-82.735218, 39.937318], [-82.730713, 39.937070999999996], [-82.72890799999999, 39.936963999999996], [-82.72886199999999, 39.936961], [-82.723123, 39.936648999999996], [-82.721842, 39.936589], [-82.716059, 39.936256], [-82.713366, 39.936126], [-82.707415, 39.935795], [-82.707306, 39.935789], [-82.70662399999999, 39.935750999999996], [-82.697184, 39.935266999999996], [-82.692881, 39.935064], [-82.690688, 39.93496], [-82.69063899999999, 39.934958], [-82.68773399999999, 39.934821], [-82.687681, 39.934819], [-82.68444, 39.934666], [-82.684296, 39.934658999999996], [-82.68118299999999, 39.93446], [-82.681161, 39.934459], [-82.681043, 39.934456999999995], [-82.681028, 39.934458], [-82.680989, 39.934461], [-82.680926, 39.934453999999995], [-82.678148, 39.93434], [-82.677792, 39.934326], [-82.674966, 39.93419], [-82.672702, 39.934081], [-82.671719, 39.934031], [-82.671639, 39.934025999999996], [-82.671211, 39.934005], [-82.670501, 39.933976], [-82.668368, 39.933872], [-82.668301, 39.933868], [-82.667915, 39.933848999999995], [-82.665303, 39.933721999999996], [-82.66483199999999, 39.933693], [-82.661406, 39.933513], [-82.65987, 39.933445], [-82.658816, 39.933392999999995], [-82.65652299999999, 39.933285], [-82.65601199999999, 39.933261], [-82.652869, 39.93311], [-82.649611, 39.932942], [-82.64902599999999, 39.932916], [-82.64902699999999, 39.932943], [-82.63941899999999, 39.932438], [-82.636601, 39.932292], [-82.630488, 39.931975], [-82.62974799999999, 39.931968], [-82.62965899999999, 39.931964], [-82.620137, 39.931551999999996], [-82.615252, 39.931363], [-82.610427, 39.931155], [-82.60925, 39.931104], [-82.608865, 39.931089], [-82.60112699999999, 39.930779], [-82.601101, 39.930777], [-82.591421, 39.930451999999995], [-82.589621, 39.930392], [-82.589351, 39.930382], [-82.581813, 39.930156], [-82.581788, 39.930136], [-82.581301, 39.930105999999995], [-82.581282, 39.930104], [-82.56922999999999, 39.9296], [-82.567852, 39.929542999999995], [-82.567799, 39.929541], [-82.562213, 39.929289], [-82.55848399999999, 39.929124], [-82.55710499999999, 39.929061999999995], [-82.557082, 39.92906], [-82.54509499999999, 39.928554], [-82.545028, 39.928551], [-82.543954, 39.928492999999996], [-82.543717, 39.928491], [-82.54351199999999, 39.928470999999995], [-82.54335499999999, 39.928455], [-82.542625, 39.928422999999995], [-82.537759, 39.928205], [-82.53378599999999, 39.928024], [-82.533304, 39.928002], [-82.532698, 39.927974999999996], [-82.532635, 39.927972], [-82.528312, 39.927749999999996], [-82.526794, 39.927685], [-82.526327, 39.927665], [-82.522729, 39.927493999999996], [-82.522266, 39.927462999999996], [-82.52197199999999, 39.927444], [-82.52192699999999, 39.927441], [-82.52067799999999, 39.927386], [-82.519199, 39.927321], [-82.518596, 39.927301], [-82.51798099999999, 39.927274], [-82.517465, 39.927251], [-82.512953, 39.927037999999996], [-82.512873, 39.927035], [-82.51113, 39.926953], [-82.509152, 39.926859], [-82.50865499999999, 39.926835], [-82.508568, 39.926831], [-82.508448, 39.926825], [-82.508144, 39.926809], [-82.508062, 39.926805], [-82.507993, 39.926803], [-82.50710099999999, 39.926753999999995], [-82.506945, 39.926746], [-82.506743, 39.926735], [-82.50640299999999, 39.926724], [-82.506063, 39.926725999999995], [-82.50563799999999, 39.926705], [-82.505534, 39.926700000000004], [-82.50490099999999, 39.926666999999995], [-82.503203, 39.92658], [-82.500022, 39.92642], [-82.498233, 39.926331], [-82.497675, 39.926299], [-82.497608, 39.926294999999996], [-82.496783, 39.926248], [-82.49615, 39.926212], [-82.494175, 39.926100999999996], [-82.49405, 39.926095], [-82.493434, 39.926064], [-82.49340699999999, 39.926063], [-82.488438, 39.925813999999995], [-82.488205, 39.925802], [-82.487387, 39.925761], [-82.486569, 39.92572], [-82.483412, 39.925562], [-82.482141, 39.925498999999995], [-82.48144599999999, 39.925464999999996], [-82.48075, 39.92543], [-82.47946, 39.925366], [-82.47816999999999, 39.925301], [-82.477616, 39.925274], [-82.477391, 39.925263], [-82.473423, 39.925065], [-82.470185, 39.926725999999995], [-82.47005999999999, 39.92679], [-82.47001399999999, 39.926814], [-82.469844, 39.926901], [-82.46977799999999, 39.926935], [-82.469179, 39.927231], [-82.462813, 39.93038], [-82.463064, 39.928793999999996], [-82.463425, 39.926072], [-82.46372099999999, 39.924638], [-82.463623, 39.924063], [-82.463589, 39.923860999999995], [-82.463585, 39.923835], [-82.463572, 39.923764999999996], [-82.463563, 39.923708999999995], [-82.463554, 39.923655], [-82.46355299999999, 39.923632], [-82.46355199999999, 39.923612999999996], [-82.46355199999999, 39.923594], [-82.46355, 39.923550999999996], [-82.46355299999999, 39.923528], [-82.463573, 39.923319], [-82.463578, 39.923261], [-82.46360299999999, 39.923007], [-82.463611, 39.922919], [-82.46361399999999, 39.922888], [-82.463625, 39.922768], [-82.46366599999999, 39.922311], [-82.46367599999999, 39.922199], [-82.463698, 39.921973], [-82.463703, 39.921918999999995], [-82.463707, 39.921882], [-82.463736, 39.921586999999995], [-82.463775, 39.921192], [-82.463787, 39.921073], [-82.463791, 39.921029], [-82.46382899999999, 39.920638], [-82.463836, 39.920567], [-82.46384599999999, 39.920459], [-82.464556, 39.913222], [-82.464629, 39.912548], [-82.46463399999999, 39.912489], [-82.46471799999999, 39.911417], [-82.46481299999999, 39.910537999999995], [-82.46482, 39.910477], [-82.46488099999999, 39.909909999999996], [-82.46504499999999, 39.9082], [-82.465152, 39.907160999999995], [-82.465158, 39.907101999999995], [-82.465284, 39.905998], [-82.46544899999999, 39.90421], [-82.46544999999999, 39.9042], [-82.46547799999999, 39.903895999999996], [-82.465633, 39.902287], [-82.465812, 39.900583], [-82.46616, 39.896972], [-82.466349, 39.894963], [-82.46638, 39.894684999999996], [-82.466531, 39.893361], [-82.466713, 39.891659], [-82.466915, 39.889872], [-82.466922, 39.889739999999996], [-82.467207, 39.886973999999995], [-82.467328, 39.885664999999996], [-82.46736399999999, 39.885301999999996], [-82.467367, 39.88527], [-82.467421, 39.884737], [-82.467423, 39.884718], [-82.46750899999999, 39.883865], [-82.467669, 39.882653999999995], [-82.467698, 39.882376], [-82.467705, 39.882304999999995], [-82.46777399999999, 39.88163], [-82.467897, 39.880271], [-82.467913, 39.880094], [-82.46793699999999, 39.879861], [-82.46808399999999, 39.878447], [-82.468153, 39.877787], [-82.468402, 39.875476], [-82.468488, 39.874679], [-82.468606, 39.87348], [-82.468857, 39.871159], [-82.46886599999999, 39.871041999999996], [-82.469235, 39.867759], [-82.46927199999999, 39.867427], [-82.46941, 39.866163], [-82.469428, 39.866], [-82.46943499999999, 39.865938], [-82.469481, 39.865500999999995], [-82.469774, 39.86273], [-82.47004299999999, 39.860326], [-82.470094, 39.859913], [-82.470108, 39.859778], [-82.470269, 39.858236999999995], [-82.470278, 39.858154], [-82.470293, 39.858014], [-82.470508, 39.85611], [-82.47060499999999, 39.8552], [-82.47090299999999, 39.852532], [-82.470905, 39.852509999999995], [-82.470908, 39.852488], [-82.471006, 39.851588], [-82.471007, 39.851577999999996], [-82.471094, 39.850773], [-82.47118499999999, 39.849817], [-82.47120799999999, 39.849575], [-82.471204, 39.849471], [-82.471234, 39.848980999999995], [-82.47126399999999, 39.848825999999995], [-82.47135999999999, 39.84872], [-82.471683, 39.848580999999996], [-82.471898, 39.846033999999996], [-82.47196, 39.845296], [-82.471965, 39.845223], [-82.472062, 39.843972], [-82.472104, 39.843423], [-82.472112, 39.843316], [-82.472117, 39.84325], [-82.472218, 39.841927999999996], [-82.472222, 39.841879999999996], [-82.472228, 39.841746], [-82.472233, 39.841636], [-82.472252, 39.841215999999996], [-82.47232199999999, 39.839634], [-82.472354, 39.839335999999996], [-82.47237, 39.83894], [-82.472354, 39.838842], [-82.472402, 39.837223], [-82.47173699999999, 39.837188999999995], [-82.470541, 39.837117], [-82.46867499999999, 39.836991], [-82.46520699999999, 39.836757999999996], [-82.46166099999999, 39.836531], [-82.45997299999999, 39.83642], [-82.456837, 39.836216], [-82.452118, 39.835935], [-82.448233, 39.835721], [-82.447955, 39.835705999999995], [-82.44739, 39.835674999999995], [-82.445959, 39.835589999999996], [-82.445542, 39.835569], [-82.445478, 39.835566], [-82.44426299999999, 39.835485], [-82.444042, 39.83547], [-82.443822, 39.835456], [-82.443055, 39.835425], [-82.442786, 39.835407], [-82.442166, 39.835387], [-82.43888799999999, 39.835192], [-82.435694, 39.835018], [-82.435665, 39.835015999999996], [-82.43459399999999, 39.834959999999995], [-82.434421, 39.834951], [-82.432589, 39.834855999999995], [-82.42827, 39.834641999999995], [-82.426154, 39.834541], [-82.425084, 39.834489999999995], [-82.424814, 39.834477], [-82.42249699999999, 39.834365999999996], [-82.420519, 39.834264999999995], [-82.420312, 39.834254], [-82.418453, 39.834159], [-82.41821999999999, 39.834147], [-82.415911, 39.834030999999996], [-82.41241, 39.833855], [-82.40963099999999, 39.833715], [-82.407778, 39.833617], [-82.40758199999999, 39.833607], [-82.40672599999999, 39.833562], [-82.40576, 39.833512999999996], [-82.405632, 39.833506], [-82.397193, 39.833075], [-82.396996, 39.833073999999996], [-82.39695999999999, 39.833073999999996], [-82.396594, 39.833057], [-82.3973, 39.820964], [-82.397241, 39.818498999999996], [-82.397251, 39.818396], [-82.39753, 39.815446], [-82.397538, 39.815365], [-82.398032, 39.810147], [-82.398038, 39.810086999999996], [-82.398112, 39.809304], [-82.398297, 39.807347], [-82.39831699999999, 39.807136], [-82.398642, 39.803712999999995], [-82.399425, 39.795435999999995], [-82.39943, 39.795387999999996], [-82.399833, 39.791129], [-82.399838, 39.791076], [-82.400075, 39.788577], [-82.40008999999999, 39.788415], [-82.400125, 39.788050999999996], [-82.40016, 39.787681], [-82.400162, 39.787661], [-82.40019199999999, 39.787348], [-82.40023, 39.78693], [-82.400262, 39.786606], [-82.400292, 39.786283], [-82.400297, 39.786226], [-82.400306, 39.786134], [-82.40032, 39.785985], [-82.400329, 39.785889], [-82.400337, 39.785804], [-82.400385, 39.785302], [-82.400387, 39.785275], [-82.400842, 39.779956], [-82.401195, 39.77583], [-82.40122099999999, 39.775524], [-82.401223, 39.775506], [-82.40123299999999, 39.775385], [-82.401234, 39.775376], [-82.401235, 39.775359], [-82.401246, 39.775231], [-82.40125499999999, 39.775126], [-82.40181199999999, 39.768615], [-82.401823, 39.768482999999996], [-82.40182399999999, 39.768435], [-82.40182899999999, 39.768186], [-82.40182999999999, 39.768142], [-82.40191, 39.767438], [-82.401967, 39.766808], [-82.402085, 39.765533999999995], [-82.402136, 39.765012], [-82.40230799999999, 39.763272], [-82.402632, 39.759558999999996], [-82.40263399999999, 39.759533999999995], [-82.402661, 39.759274999999995], [-82.40272999999999, 39.758382999999995], [-82.402777, 39.757779], [-82.402807, 39.757484999999996], [-82.402808, 39.757472], [-82.40296699999999, 39.755877999999996], [-82.40326499999999, 39.752637], [-82.403302, 39.752238999999996], [-82.403303, 39.752227999999995], [-82.403373, 39.751469], [-82.403415, 39.750899], [-82.40342, 39.750828999999996], [-82.403447, 39.750465], [-82.40356299999999, 39.74926], [-82.403627, 39.748363], [-82.403629, 39.748331], [-82.403674, 39.747955999999995], [-82.40369199999999, 39.747654], [-82.40389499999999, 39.745667], [-82.403941, 39.745264999999996], [-82.403995, 39.745069], [-82.404039, 39.744974], [-82.404065, 39.744929], [-82.4042, 39.744698], [-82.404246, 39.744605], [-82.39248599999999, 39.743972], [-82.392305, 39.743961999999996], [-82.392286, 39.743975], [-82.392166, 39.744008], [-82.39215399999999, 39.744008], [-82.392038, 39.744012], [-82.391863, 39.743997], [-82.39139899999999, 39.743956], [-82.390997, 39.743932], [-82.390491, 39.743902], [-82.390264, 39.743871999999996], [-82.389977, 39.743834], [-82.389719, 39.743834], [-82.389465, 39.743860999999995], [-82.389207, 39.743865], [-82.388043, 39.743786], [-82.385848, 39.743662], [-82.385784, 39.743659], [-82.385702, 39.743656], [-82.385689, 39.743655], [-82.38547, 39.743646], [-82.38527599999999, 39.743637], [-82.385001, 39.743625], [-82.384954, 39.743623], [-82.38370599999999, 39.743528], [-82.383406, 39.743505], [-82.38297899999999, 39.743477999999996], [-82.382712, 39.743462], [-82.382114, 39.743424999999995], [-82.381208, 39.743389], [-82.380236, 39.743339999999996], [-82.379865, 39.743321], [-82.379757, 39.743316], [-82.37933699999999, 39.743294999999996], [-82.37932099999999, 39.743294], [-82.37891599999999, 39.743274], [-82.378766, 39.743251], [-82.377892, 39.743126], [-82.37662499999999, 39.743072999999995], [-82.376278, 39.743058999999995], [-82.374867, 39.743], [-82.372453, 39.742866], [-82.372373, 39.742861999999995], [-82.371422, 39.74281], [-82.36622899999999, 39.742529999999995], [-82.366051, 39.74252], [-82.366631, 39.736554], [-82.366642, 39.736436999999995], [-82.366744, 39.735383], [-82.367155, 39.731148], [-82.367164, 39.731061], [-82.367492, 39.727685], [-82.367494, 39.727661999999995], [-82.367508, 39.727522], [-82.36751199999999, 39.72748], [-82.367522, 39.727382], [-82.368099, 39.72144], [-82.368151, 39.720908], [-82.368169, 39.720723], [-82.368241, 39.719978999999995], [-82.36824299999999, 39.719961999999995], [-82.36824899999999, 39.719892], [-82.368254, 39.719837999999996], [-82.368256, 39.71982], [-82.368346, 39.718713], [-82.368369, 39.718475999999995], [-82.368845, 39.713601], [-82.36885, 39.713553], [-82.370132, 39.70045], [-82.370145, 39.700311], [-82.370311, 39.698613], [-82.37031999999999, 39.698524], [-82.37075999999999, 39.694019999999995], [-82.370766, 39.69396], [-82.371032, 39.691233], [-82.37104599999999, 39.691086], [-82.371588, 39.685573999999995], [-82.371597, 39.685483999999995], [-82.371603, 39.685417], [-82.37168, 39.68463], [-82.371691, 39.684515999999995], [-82.371729, 39.684134], [-82.37177799999999, 39.683932999999996], [-82.37182, 39.683757], [-82.371845, 39.683651999999995], [-82.37186899999999, 39.683552], [-82.371877, 39.683521999999996], [-82.37187999999999, 39.683509], [-82.371883, 39.683496999999996], [-82.37189699999999, 39.683439], [-82.371909, 39.683389], [-82.37195, 39.683220999999996], [-82.371952, 39.6832], [-82.37198699999999, 39.682741], [-82.372192, 39.680378], [-82.372193, 39.680367], [-82.37221799999999, 39.680076], [-82.372745, 39.674022], [-82.37285899999999, 39.672709], [-82.37286399999999, 39.672647999999995], [-82.37314599999999, 39.669404], [-82.373173, 39.669098], [-82.37335499999999, 39.667006], [-82.373815, 39.662302], [-82.37383, 39.662147], [-82.373842, 39.662028], [-82.373845, 39.661999], [-82.373848, 39.661966], [-82.373932, 39.660992], [-82.373938, 39.660925999999996], [-82.374099, 39.659054999999995], [-82.374127, 39.658777], [-82.374476, 39.655373], [-82.37449699999999, 39.655169], [-82.37453099999999, 39.654959], [-82.374917, 39.654979999999995], [-82.375338, 39.655003], [-82.376975, 39.655091], [-82.37875799999999, 39.655187], [-82.385384, 39.655544], [-82.385435, 39.655547], [-82.385621, 39.655556], [-82.393288, 39.655958999999996], [-82.40661999999999, 39.656661], [-82.406707, 39.656665], [-82.406798, 39.65667], [-82.410078, 39.656841], [-82.410471, 39.656862], [-82.410485, 39.656863], [-82.41181399999999, 39.656937], [-82.412854, 39.656987], [-82.41290699999999, 39.65699], [-82.41294099999999, 39.656999], [-82.413054, 39.657022], [-82.413325, 39.657061], [-82.41346999999999, 39.657069], [-82.413654, 39.657073], [-82.413815, 39.657084], [-82.41405999999999, 39.657115], [-82.414489, 39.657140999999996], [-82.414923, 39.657156], [-82.415115, 39.657156], [-82.415202, 39.657153], [-82.41523099999999, 39.657151999999996], [-82.415274, 39.657148], [-82.415418, 39.657136], [-82.415442, 39.657134], [-82.415471, 39.657129999999995], [-82.415579, 39.657114], [-82.41558599999999, 39.657126999999996], [-82.415651, 39.657123999999996], [-82.41633399999999, 39.657156], [-82.417096, 39.657191], [-82.417157, 39.657194], [-82.417199, 39.657196], [-82.417389, 39.657205], [-82.417722, 39.657221], [-82.41775, 39.657222], [-82.41844999999999, 39.657255], [-82.420632, 39.657382999999996], [-82.425116, 39.657646], [-82.42857, 39.657848], [-82.43036099999999, 39.657953], [-82.433275, 39.658113], [-82.441108, 39.658592999999996], [-82.443859, 39.658761999999996], [-82.44444899999999, 39.658798], [-82.44684699999999, 39.658944999999996], [-82.448675, 39.659065999999996], [-82.448869, 39.659078], [-82.44899199999999, 39.659087], [-82.45013999999999, 39.659157], [-82.452912, 39.659332], [-82.45309499999999, 39.659343], [-82.45311, 39.659344999999995], [-82.453127, 39.659344], [-82.453142, 39.659344999999995], [-82.45315599999999, 39.659346], [-82.453244, 39.659351], [-82.45326299999999, 39.659352], [-82.45338, 39.65936], [-82.45344999999999, 39.659364], [-82.453526, 39.659369], [-82.455743, 39.659512], [-82.45663499999999, 39.659569], [-82.459259, 39.659746999999996], [-82.46092399999999, 39.659859999999995], [-82.468918, 39.660374999999995], [-82.469794, 39.66043], [-82.470187, 39.660455999999996], [-82.470578, 39.660481999999995], [-82.470776, 39.660494], [-82.470974, 39.660506999999996], [-82.471766, 39.660558], [-82.471814, 39.660561], [-82.472713, 39.660619], [-82.476703, 39.660877], [-82.477199, 39.660909], [-82.47859199999999, 39.660999], [-82.48495899999999, 39.66141], [-82.488371, 39.661589], [-82.490329, 39.661704], [-82.490422, 39.660713], [-82.490532, 39.659583999999995], [-82.491272, 39.652037], [-82.491413, 39.650724], [-82.49141499999999, 39.650708], [-82.491835, 39.646996], [-82.49192099999999, 39.646238], [-82.49199899999999, 39.64527], [-82.49204399999999, 39.644718], [-82.49243, 39.640296], [-82.492432, 39.640271999999996], [-82.492559, 39.638796], [-82.492627, 39.637783999999996], [-82.492651, 39.637730999999995], [-82.493084, 39.632762], [-82.493093, 39.63266], [-82.49310799999999, 39.63257], [-82.49313, 39.632439999999995], [-82.493133, 39.632419999999996], [-82.493279, 39.631555], [-82.49331699999999, 39.631322], [-82.493347, 39.631053], [-82.493455, 39.630092999999995], [-82.493657, 39.628082], [-82.494322, 39.621007999999996], [-82.494658, 39.617442], [-82.494693, 39.617067999999996], [-82.495117, 39.612541], [-82.49538, 39.610112], [-82.49554499999999, 39.608503], [-82.496123, 39.602849], [-82.498286, 39.602953], [-82.504224, 39.603238], [-82.505603, 39.603305], [-82.505847, 39.603302], [-82.50629699999999, 39.603344], [-82.515222, 39.603819], [-82.520457, 39.604121], [-82.52086, 39.604144], [-82.523472, 39.604285999999995], [-82.525066, 39.604372999999995], [-82.525185, 39.60438], [-82.534667, 39.604909], [-82.535446, 39.604948], [-82.538195, 39.605084999999995], [-82.53824399999999, 39.605087], [-82.53836799999999, 39.605093], [-82.53994999999999, 39.605171999999996], [-82.542611, 39.605305], [-82.543297, 39.605339], [-82.545211, 39.605433999999995], [-82.545264, 39.605436999999995], [-82.545333, 39.605441], [-82.54538099999999, 39.605443], [-82.54858, 39.605602], [-82.54888299999999, 39.605613999999996], [-82.548908, 39.605613999999996], [-82.54900599999999, 39.605618], [-82.549052, 39.605619999999995], [-82.54907399999999, 39.605621], [-82.549148, 39.605624999999996], [-82.549523, 39.605641], [-82.549804, 39.605653], [-82.551451, 39.60573], [-82.554081, 39.605844999999995], [-82.57319, 39.606708999999995], [-82.574249, 39.606756999999995], [-82.585151, 39.607248], [-82.590154, 39.607473999999996], [-82.59222299999999, 39.607566], [-82.59351699999999, 39.607624], [-82.599339, 39.607884999999996], [-82.601688, 39.607991], [-82.602767, 39.608035], [-82.602976, 39.608045], [-82.60299599999999, 39.608046], [-82.603054, 39.608048], [-82.60338899999999, 39.608062], [-82.603416, 39.608070999999995], [-82.603426, 39.608063], [-82.60344099999999, 39.608064], [-82.603543, 39.608067999999996], [-82.604039, 39.608089], [-82.606053, 39.608171999999996], [-82.607991, 39.608239], [-82.60801, 39.608239999999995], [-82.608024, 39.608239999999995], [-82.608181, 39.608270999999995], [-82.60822499999999, 39.608289], [-82.608289, 39.60829], [-82.608374, 39.608292999999996], [-82.60851199999999, 39.608294], [-82.608679, 39.6083], [-82.608862, 39.608303], [-82.609127, 39.608305], [-82.609304, 39.608308], [-82.609611, 39.608317], [-82.609657, 39.608317], [-82.61019399999999, 39.608323], [-82.610226, 39.608323999999996], [-82.61301399999999, 39.608447999999996], [-82.613873, 39.608506999999996], [-82.61747799999999, 39.608602], [-82.61754599999999, 39.608605], [-82.617548, 39.608571], [-82.61755199999999, 39.608511], [-82.61760799999999, 39.607713], [-82.617764, 39.605669], [-82.617876, 39.604211], [-82.617882, 39.604133999999995], [-82.617888, 39.604054999999995], [-82.61791, 39.603609999999996], [-82.618327, 39.59571], [-82.618433, 39.593833], [-82.618434, 39.593802], [-82.618453, 39.593318], [-82.618456, 39.593266], [-82.61846299999999, 39.593178], [-82.618466, 39.593077], [-82.618644, 39.589698999999996], [-82.618861, 39.585834], [-82.61907099999999, 39.582094], [-82.619177, 39.580211], [-82.61918299999999, 39.580103], [-82.61918899999999, 39.579995], [-82.619196, 39.579862999999996], [-82.619204, 39.579730999999995], [-82.61927299999999, 39.578500000000005], [-82.620088, 39.563987], [-82.620708, 39.564012], [-82.62943899999999, 39.564358999999996], [-82.630465, 39.564408], [-82.632128, 39.564485999999995], [-82.635053, 39.564627], [-82.63892, 39.564806999999995], [-82.64100499999999, 39.564887999999996], [-82.642524, 39.564947], [-82.642566, 39.564949], [-82.645279, 39.565045999999995], [-82.649851, 39.565208999999996], [-82.653857, 39.565400000000004], [-82.657324, 39.565565], [-82.663167, 39.565762], [-82.669187, 39.565965], [-82.671126, 39.566030999999995], [-82.67584699999999, 39.566227999999995], [-82.67642099999999, 39.56625], [-82.678677, 39.566336], [-82.69077399999999, 39.566797], [-82.693691, 39.566907], [-82.694081, 39.566928999999995], [-82.70097299999999, 39.567313], [-82.700999, 39.567313999999996], [-82.701083, 39.567319], [-82.701101, 39.567319999999995], [-82.701146, 39.567322999999995], [-82.70120299999999, 39.567326], [-82.702857, 39.567417999999996], [-82.707145, 39.567631], [-82.710179, 39.567783], [-82.711995, 39.567873999999996], [-82.716848, 39.568231999999995], [-82.71752, 39.568273999999995], [-82.718853, 39.568357999999996], [-82.721175, 39.568491], [-82.72325, 39.568622], [-82.730272, 39.569066], [-82.73109699999999, 39.559098999999996], [-82.731172, 39.558268], [-82.731482, 39.554845], [-82.731493, 39.55482], [-82.731518, 39.554445], [-82.733594, 39.554545999999995], [-82.734228, 39.554576999999995], [-82.734662, 39.554606], [-82.73601099999999, 39.554717], [-82.736076, 39.554742999999995], [-82.736144, 39.554766], [-82.736305, 39.554811], [-82.73656299999999, 39.554867], [-82.73663499999999, 39.554877], [-82.73680499999999, 39.554888], [-82.736976, 39.554883], [-82.737561, 39.554834], [-82.737783, 39.554829999999995], [-82.738005, 39.554837], [-82.73946699999999, 39.554922], [-82.739626, 39.554930999999996], [-82.74066499999999, 39.555006], [-82.740693, 39.555008], [-82.740718, 39.555009], [-82.742744, 39.555129], [-82.743668, 39.555181], [-82.74470699999999, 39.555254], [-82.745746, 39.555316], [-82.746207, 39.555351], [-82.747592, 39.555428], [-82.747641, 39.555431], [-82.747804, 39.555442], [-82.74856899999999, 39.555492], [-82.749878, 39.555578], [-82.750523, 39.55562], [-82.75543499999999, 39.555915999999996], [-82.756473, 39.555966], [-82.758898, 39.556151], [-82.75994, 39.556199], [-82.760519, 39.556239], [-82.761561, 39.556304], [-82.762698, 39.556371], [-82.76290999999999, 39.556384], [-82.764692, 39.556489], [-82.765964, 39.55658], [-82.767355, 39.556654], [-82.767702, 39.55668], [-82.768509, 39.556759], [-82.76874099999999, 39.556774], [-82.76956899999999, 39.556838], [-82.76989499999999, 39.556863], [-82.770247, 39.556884], [-82.770448, 39.556895999999995], [-82.77054299999999, 39.556902], [-82.77142099999999, 39.556967], [-82.771604, 39.556978], [-82.77217, 39.557013999999995], [-82.772274, 39.557021999999996], [-82.77293399999999, 39.557072], [-82.77352599999999, 39.557117], [-82.774722, 39.557207999999996], [-82.774974, 39.557227], [-82.77569, 39.557275], [-82.775714, 39.557276], [-82.775759, 39.557263999999996], [-82.777673, 39.557353], [-82.778155, 39.557375], [-82.778264, 39.557381], [-82.778528, 39.557395], [-82.78103899999999, 39.557565], [-82.786979, 39.557967999999995], [-82.787538, 39.558006], [-82.787601, 39.558009999999996], [-82.78851499999999, 39.558071999999996], [-82.789822, 39.558178999999996], [-82.789935, 39.558188], [-82.790258, 39.558214], [-82.79029799999999, 39.558217], [-82.79073799999999, 39.558256], [-82.79134499999999, 39.558296999999996], [-82.793494, 39.558440999999995], [-82.793516, 39.558442], [-82.793934, 39.558465999999996], [-82.794311, 39.558488], [-82.796718, 39.558659], [-82.796849, 39.558668], [-82.79727, 39.558699], [-82.798451, 39.558785], [-82.79995, 39.558895], [-82.800111, 39.558907], [-82.800394, 39.558927], [-82.800783, 39.558955], [-82.801711, 39.559027], [-82.802031, 39.559049], [-82.802179, 39.559059], [-82.803178, 39.559127], [-82.803776, 39.559166999999995], [-82.803887, 39.559174999999996], [-82.804643, 39.559225999999995], [-82.804926, 39.559245], [-82.80529399999999, 39.55927], [-82.80562599999999, 39.559293], [-82.805697, 39.559297], [-82.805874, 39.559307], [-82.80627899999999, 39.559332], [-82.807729, 39.559413], [-82.808542, 39.559464999999996], [-82.80868799999999, 39.559474], [-82.810682, 39.559602999999996], [-82.81430499999999, 39.559844999999996], [-82.816042, 39.559954], [-82.816968, 39.560016], [-82.81801, 39.56008], [-82.81824999999999, 39.560092999999995], [-82.81830099999999, 39.560096], [-82.819499, 39.560161], [-82.82328799999999, 39.560386], [-82.82338999999999, 39.560392], [-82.824108, 39.560435], [-82.824266, 39.560444], [-82.825138, 39.560497], [-82.82652399999999, 39.560569], [-82.826881, 39.560587999999996], [-82.82691299999999, 39.560589], [-82.827393, 39.560614], [-82.82924799999999, 39.560724], [-82.83040799999999, 39.560786], [-82.830756, 39.560795], [-82.830972, 39.56079], [-82.831105, 39.560787], [-82.831454, 39.560767], [-82.8318, 39.560752], [-82.832033, 39.56075], [-82.832146, 39.560756], [-82.832263, 39.560767999999996], [-82.832377, 39.560787999999995], [-82.83259799999999, 39.560842], [-82.83288, 39.560893], [-82.833167, 39.560929], [-82.833399, 39.560947], [-82.83594699999999, 39.561095], [-82.836186, 39.561108], [-82.83906499999999, 39.561262], [-82.841528, 39.561401], [-82.841601, 39.561405], [-82.841686, 39.561409999999995], [-82.841988, 39.561426999999995], [-82.842137, 39.561434999999996], [-82.842878, 39.561476], [-82.842953, 39.561479999999996], [-82.84294, 39.561609], [-82.842913, 39.562004], [-82.8429, 39.562014], [-82.842708, 39.563947999999996], [-82.842697, 39.564054], [-82.84266699999999, 39.564361], [-82.84263399999999, 39.5647], [-82.842502, 39.56603], [-82.8422, 39.569082], [-82.842135, 39.569767999999996], [-82.842134, 39.569784], [-82.84176699999999, 39.573682], [-82.841537, 39.576122999999995], [-82.841552, 39.576209], [-82.841624, 39.576448], [-82.841571, 39.577334], [-82.841331, 39.581331999999996], [-82.841309, 39.581815999999996], [-82.84098, 39.582135], [-82.840986, 39.582212999999996], [-82.84099499999999, 39.582335], [-82.840993, 39.582436], [-82.840949, 39.582704], [-82.840837, 39.583509], [-82.840705, 39.584945], [-82.840639, 39.585754], [-82.84063599999999, 39.585778999999995], [-82.84062399999999, 39.585909], [-82.840481, 39.587454], [-82.840474, 39.587531999999996], [-82.840464, 39.58764], [-82.840316, 39.589256999999996], [-82.840204, 39.590334], [-82.840169, 39.590714], [-82.84016299999999, 39.590782999999995], [-82.840155, 39.590869999999995], [-82.840152, 39.590906], [-82.84015, 39.590931], [-82.840147, 39.590962], [-82.84013999999999, 39.591052], [-82.840133, 39.591128999999995], [-82.840124, 39.591232], [-82.840115, 39.591322], [-82.840105, 39.591411], [-82.840069, 39.59177], [-82.84006099999999, 39.59186], [-82.840043, 39.59204], [-82.83999299999999, 39.592487999999996], [-82.839984, 39.592577999999996], [-82.839974, 39.592667999999996], [-82.83996499999999, 39.592757999999996], [-82.839963, 39.592782], [-82.839956, 39.592847], [-82.83993799999999, 39.593027], [-82.839936, 39.593053], [-82.839929, 39.593117], [-82.83991999999999, 39.593207], [-82.8399, 39.593385999999995], [-82.839873, 39.593655], [-82.839865, 39.593745], [-82.83984699999999, 39.593925], [-82.83984, 39.594014], [-82.839832, 39.594104], [-82.83981399999999, 39.594282], [-82.839805, 39.594373999999995], [-82.83979599999999, 39.594463], [-82.83978599999999, 39.594553], [-82.839777, 39.594643], [-82.839771, 39.594691999999995], [-82.839767, 39.594733], [-82.839749, 39.594893], [-82.83966699999999, 39.59563], [-82.839658, 39.595718999999995], [-82.839648, 39.595808999999996], [-82.83963899999999, 39.595898999999996], [-82.839637, 39.595923], [-82.83963, 39.595988999999996], [-82.839621, 39.596078], [-82.83960499999999, 39.596258], [-82.83958799999999, 39.596438], [-82.83957, 39.596616999999995], [-82.839562, 39.596706999999995], [-82.839558, 39.596743], [-82.839553, 39.596796999999995], [-82.839533, 39.596976], [-82.839524, 39.597066], [-82.83951499999999, 39.597152], [-82.839506, 39.597246], [-82.839479, 39.597515], [-82.839474, 39.597561999999996], [-82.839469, 39.597605], [-82.839415, 39.598143], [-82.839399, 39.598323], [-82.839394, 39.598380999999996], [-82.83939099999999, 39.598413], [-82.839387, 39.598462999999995], [-82.839365, 39.598715], [-82.839353, 39.598819], [-82.83931, 39.599212], [-82.839288, 39.5994], [-82.839277, 39.599489999999996], [-82.83926699999999, 39.599579], [-82.83926199999999, 39.599613], [-82.83925599999999, 39.599669], [-82.839246, 39.599759], [-82.839236, 39.59986], [-82.83922799999999, 39.599938], [-82.839219, 39.600021999999996], [-82.83921, 39.600117999999995], [-82.839201, 39.600207999999995], [-82.839193, 39.600297], [-82.839188, 39.600345999999995], [-82.839185, 39.600387], [-82.839167, 39.600567], [-82.839159, 39.600657], [-82.83914999999999, 39.600747], [-82.839142, 39.600836], [-82.83913199999999, 39.600926], [-82.83910499999999, 39.601195], [-82.839097, 39.601285], [-82.83908799999999, 39.601375], [-82.839072, 39.601555], [-82.83906999999999, 39.601576], [-82.83905399999999, 39.601734], [-82.839046, 39.601824], [-82.839028, 39.602004], [-82.838988, 39.602363], [-82.838985, 39.602394], [-82.838979, 39.602452], [-82.838972, 39.602542], [-82.83896399999999, 39.602632], [-82.838957, 39.602722], [-82.83894099999999, 39.602900999999996], [-82.838934, 39.602990999999996], [-82.838926, 39.603071], [-82.838917, 39.603170999999996], [-82.83890699999999, 39.603260999999996], [-82.838899, 39.603344], [-82.838889, 39.60344], [-82.838881, 39.60353], [-82.838872, 39.60362], [-82.838864, 39.60371], [-82.838855, 39.603798999999995], [-82.838844, 39.603888999999995], [-82.838835, 39.603978999999995], [-82.838805, 39.604248], [-82.838797, 39.604338], [-82.838788, 39.604428], [-82.838775, 39.604572], [-82.838771, 39.604607], [-82.838765, 39.604697], [-82.83875599999999, 39.604787], [-82.83874899999999, 39.604876999999995], [-82.83874, 39.604966999999995], [-82.83873, 39.605056], [-82.83872199999999, 39.605118], [-82.838719, 39.605146], [-82.83870999999999, 39.605236], [-82.838708, 39.605253999999995], [-82.83869899999999, 39.605325], [-82.83868, 39.60548], [-82.838663, 39.60563], [-82.838618, 39.606043], [-82.83842, 39.608002], [-82.838402, 39.60818], [-82.837912, 39.613029999999995], [-82.83790499999999, 39.613101], [-82.837724, 39.614889999999995], [-82.837711, 39.615021], [-82.837488, 39.617084], [-82.837171, 39.620560999999995], [-82.83704399999999, 39.622001999999995], [-82.837034, 39.622115], [-82.836739, 39.625063], [-82.836496, 39.627494999999996], [-82.83646, 39.627856], [-82.83622799999999, 39.630599], [-82.836165, 39.631293], [-82.836103, 39.631741999999996], [-82.835689, 39.635785999999996], [-82.835537, 39.637332], [-82.835492, 39.637792], [-82.834417, 39.649045], [-82.834411, 39.649108], [-82.834378, 39.649445], [-82.834414, 39.649446999999995], [-82.835143, 39.649485], [-82.837398, 39.649592999999996], [-82.837616, 39.649606], [-82.837514, 39.650675], [-82.837259, 39.6546], [-82.837204, 39.655443], [-82.83708, 39.655508999999995], [-82.836981, 39.656681], [-82.836942, 39.657039999999995], [-82.8369, 39.657579], [-82.836742, 39.659284], [-82.83655, 39.661542], [-82.836434, 39.663165], [-82.83632899999999, 39.664417], [-82.83631799999999, 39.664556999999995], [-82.836308, 39.664674], [-82.836281, 39.665082], [-82.83626699999999, 39.665301], [-82.83624499999999, 39.665634], [-82.83623, 39.665859], [-82.836216, 39.666076], [-82.836202, 39.666292], [-82.836192, 39.666416999999996], [-82.836081, 39.667729], [-82.835929, 39.669255], [-82.835638, 39.672343], [-82.835531, 39.673474], [-82.83531099999999, 39.675847], [-82.835281, 39.676169], [-82.835239, 39.676634], [-82.835133, 39.677811], [-82.83505799999999, 39.678681999999995], [-82.834913, 39.680208], [-82.83482599999999, 39.681014999999995], [-82.83470899999999, 39.682361], [-82.83470299999999, 39.682427], [-82.834474, 39.684923], [-82.83442199999999, 39.685412], [-82.834036, 39.689809], [-82.833773, 39.692634], [-82.833685, 39.693580999999995], [-82.83349, 39.695816], [-82.833434, 39.696453999999996], [-82.833289, 39.697981], [-82.83318799999999, 39.698968], [-82.83314999999999, 39.699369999999995], [-82.833079, 39.700134999999996], [-82.832983, 39.701032], [-82.83282, 39.702738], [-82.832736, 39.703545], [-82.832714, 39.703778], [-82.83261, 39.704892], [-82.832459, 39.706328], [-82.832216, 39.709164], [-82.832188, 39.709434], [-82.832179, 39.709525], [-82.83203499999999, 39.71113], [-82.832004, 39.711476999999995], [-82.831902, 39.712615], [-82.831893, 39.712702], [-82.831887, 39.712767], [-82.83187199999999, 39.712914999999995], [-82.831558, 39.716026], [-82.831317, 39.71854], [-82.83122, 39.719437], [-82.83110599999999, 39.720785], [-82.831036, 39.721537999999995], [-82.831002, 39.72191], [-82.83099299999999, 39.722021999999996], [-82.830989, 39.722062], [-82.83098299999999, 39.722148], [-82.830963, 39.722401], [-82.830917, 39.722864], [-82.83076899999999, 39.724647], [-82.830466, 39.727973], [-82.830343, 39.729406999999995], [-82.829976, 39.733449], [-82.82969299999999, 39.736455], [-82.82967, 39.736698], [-82.82921999999999, 39.741530999999995], [-82.829077, 39.743148], [-82.82898399999999, 39.744046], [-82.828935, 39.744496999999996], [-82.82886599999999, 39.745121999999995], [-82.82885499999999, 39.745242], [-82.828636, 39.747727], [-82.828542, 39.748895], [-82.82841599999999, 39.750063], [-82.8284, 39.750206], [-82.82826899999999, 39.751508], [-82.828214, 39.752126], [-82.82816299999999, 39.752732], [-82.828136, 39.753057999999996], [-82.82788, 39.756133], [-82.82776899999999, 39.757337], [-82.82771699999999, 39.757965999999996], [-82.82746999999999, 39.760388999999996], [-82.827319, 39.762096], [-82.827294, 39.762339999999995], [-82.827237, 39.762893999999996], [-82.827176, 39.763487], [-82.826989, 39.765418], [-82.826961, 39.765755999999996], [-82.826955, 39.765823999999995], [-82.826904, 39.766448], [-82.826813, 39.767483999999996], [-82.82638399999999, 39.772064], [-82.8263, 39.773001], [-82.826295, 39.773053], [-82.82627099999999, 39.773322], [-82.826117, 39.774938], [-82.825864, 39.777723], [-82.825617, 39.780224], [-82.825606, 39.780333999999996], [-82.825571, 39.780685], [-82.825533, 39.781182], [-82.825518, 39.781374], [-82.825509, 39.781495], [-82.825474, 39.781943], [-82.825374, 39.782928999999996], [-82.82536499999999, 39.783021], [-82.825361, 39.783291], [-82.825379, 39.78356], [-82.8254, 39.78374], [-82.825402, 39.783829999999995], [-82.825389, 39.784003], [-82.82534799999999, 39.784186999999996], [-82.825251, 39.784538999999995], [-82.825184, 39.784894], [-82.82512299999999, 39.785340999999995], [-82.825102, 39.78561], [-82.825079, 39.78613], [-82.82506599999999, 39.786417], [-82.824974, 39.787583], [-82.824936, 39.788121], [-82.82490399999999, 39.788415], [-82.82477, 39.789663999999995], [-82.82460499999999, 39.791432], [-82.824466, 39.792774], [-82.824336, 39.794163999999995], [-82.824264, 39.794897999999996], [-82.82425599999999, 39.794978], [-82.824254, 39.794996], [-82.824247, 39.795074], [-82.824201, 39.795567999999996], [-82.824199, 39.795592], [-82.824091, 39.796732], [-82.824074, 39.796932], [-82.824072, 39.796956], [-82.82406999999999, 39.796980999999995], [-82.824062, 39.797064999999996], [-82.823989, 39.797906999999995], [-82.823948, 39.798302], [-82.823759, 39.800140999999996], [-82.823562, 39.802167999999995], [-82.82355799999999, 39.802214], [-82.82349099999999, 39.802901999999996], [-82.823444, 39.803463], [-82.823443, 39.803478999999996], [-82.823364, 39.804409], [-82.823358, 39.804485], [-82.823337, 39.804773], [-82.823312, 39.80507], [-82.82324899999999, 39.805842], [-82.823222, 39.806135999999995], [-82.82319799999999, 39.806385], [-82.823195, 39.806414], [-82.82318099999999, 39.806566], [-82.823156, 39.80684], [-82.823148, 39.806923], [-82.823146, 39.806943], [-82.82314099999999, 39.806993], [-82.82313099999999, 39.807106], [-82.823123, 39.807196], [-82.823072, 39.807728999999995], [-82.823066, 39.807797], [-82.82304599999999, 39.808012], [-82.822941, 39.809098999999996], [-82.82290499999999, 39.809466], [-82.82289899999999, 39.809537], [-82.822874, 39.809788999999995], [-82.822825, 39.810302], [-82.822771, 39.810862], [-82.822769, 39.810888], [-82.822767, 39.810915], [-82.82269699999999, 39.811637999999995], [-82.82259499999999, 39.812768], [-82.822582, 39.812895999999995], [-82.822474, 39.814026999999996], [-82.82243799999999, 39.814402], [-82.822406, 39.814733], [-82.822321, 39.815461], [-82.82230899999999, 39.815612], [-82.82230799999999, 39.815630999999996], [-82.822304, 39.815643], [-82.82226, 39.816123], [-82.822255, 39.816176999999996], [-82.822229, 39.816488], [-82.822159, 39.817367999999995], [-82.822133, 39.817704], [-82.82206, 39.818503], [-82.82193699999999, 39.819748], [-82.82183599999999, 39.820761], [-82.821817, 39.820957], [-82.821815, 39.82098], [-82.821803, 39.821104], [-82.821769, 39.821442], [-82.821742, 39.821706], [-82.821715, 39.821982], [-82.821685, 39.822289], [-82.821658, 39.822576999999995], [-82.821634, 39.822831], [-82.821632, 39.822851], [-82.821631, 39.822863999999996], [-82.821561, 39.823598], [-82.821531, 39.823907999999996], [-82.82151999999999, 39.824023], [-82.82150299999999, 39.824206], [-82.821496, 39.824270999999996], [-82.816667, 39.823889], [-82.81440099999999, 39.823699], [-82.814109, 39.823674], [-82.81257599999999, 39.823544999999996], [-82.8125, 39.823539], [-82.81241299999999, 39.823532], [-82.81233999999999, 39.823526], [-82.812282, 39.823521], [-82.81223299999999, 39.823516999999995], [-82.802977, 39.822981], [-82.802476, 39.822953]]], &quot;type&quot;: &quot;Polygon&quot;}, &quot;id&quot;: &quot;1&quot;, &quot;properties&quot;: {&quot;2010&quot;: 223, &quot;2011&quot;: 757, &quot;2012&quot;: 127, &quot;2013&quot;: 1495, &quot;2014&quot;: 1564, &quot;2015&quot;: 894, &quot;2016&quot;: 1535, &quot;2017&quot;: 1897, &quot;2018&quot;: 1296, &quot;2019&quot;: 1592, &quot;CTYNAME&quot;: &quot;Fairfield&quot;, &quot;__folium_color&quot;: &quot;#46327e&quot;}, &quot;type&quot;: &quot;Feature&quot;}, {&quot;bbox&quot;: [-83.260877, 39.794996, -82.761827, 40.143087], &quot;geometry&quot;: {&quot;coordinates&quot;: [[[-83.01188499999999, 40.136565], [-83.011712, 40.136562], [-83.01159299999999, 40.136559999999996], [-83.011473, 40.136558], [-83.011392, 40.136554], [-83.011359, 40.136553], [-83.011318, 40.136551999999995], [-83.010982, 40.136541], [-83.010679, 40.136531], [-83.01052899999999, 40.136516], [-83.010335, 40.136514999999996], [-83.010048, 40.136505], [-83.00963899999999, 40.136492], [-83.00918399999999, 40.136477], [-83.009, 40.136471], [-83.008468, 40.136452], [-83.008111, 40.136438999999996], [-83.00775, 40.136432], [-83.00727499999999, 40.136421999999996], [-83.007209, 40.13642], [-83.006451, 40.136390999999996], [-83.006162, 40.136379999999996], [-83.005889, 40.136367], [-83.005752, 40.136359999999996], [-83.00567699999999, 40.136356], [-83.005602, 40.136353], [-83.005498, 40.136348999999996], [-83.00544599999999, 40.136345999999996], [-83.00520399999999, 40.136336], [-83.004458, 40.136305], [-83.00267, 40.136226], [-83.001665, 40.136181], [-83.001391, 40.136168999999995], [-83.00068999999999, 40.136137999999995], [-83.000188, 40.136116], [-82.999629, 40.136091], [-82.998025, 40.136019999999995], [-82.997259, 40.135985999999995], [-82.99687399999999, 40.135968999999996], [-82.996173, 40.135943], [-82.99568599999999, 40.13592], [-82.995325, 40.135903], [-82.995313, 40.135903], [-82.995131, 40.135895999999995], [-82.994635, 40.135878999999996], [-82.994569, 40.135875999999996], [-82.99430199999999, 40.135866], [-82.994145, 40.13586], [-82.99180899999999, 40.135768], [-82.99173499999999, 40.135765], [-82.991676, 40.135763], [-82.987867, 40.135605999999996], [-82.987793, 40.135602999999996], [-82.987679, 40.135601], [-82.987375, 40.135585999999996], [-82.98686, 40.135565], [-82.98628099999999, 40.135540999999996], [-82.98551599999999, 40.135509], [-82.985045, 40.13549], [-82.984664, 40.135473999999995], [-82.98438399999999, 40.135463], [-82.983689, 40.135434], [-82.983277, 40.135417], [-82.98311199999999, 40.135411], [-82.982812, 40.135397999999995], [-82.981905, 40.135360999999996], [-82.981663, 40.135351], [-82.98134999999999, 40.135338], [-82.98081499999999, 40.135315999999996], [-82.980008, 40.135283], [-82.979843, 40.135276], [-82.977936, 40.135197999999995], [-82.97775299999999, 40.13519], [-82.977384, 40.135175], [-82.974779, 40.135070999999996], [-82.974029, 40.135028], [-82.973914, 40.135020999999995], [-82.97375699999999, 40.135016], [-82.97169099999999, 40.134948], [-82.971634, 40.134946], [-82.971329, 40.134934], [-82.971307, 40.134933], [-82.971189, 40.134929], [-82.971131, 40.134927], [-82.971059, 40.134924999999996], [-82.97086999999999, 40.134917], [-82.970766, 40.134913], [-82.970506, 40.134902], [-82.97039699999999, 40.134896999999995], [-82.970238, 40.134893], [-82.97013, 40.134886], [-82.970012, 40.134881], [-82.959014, 40.134395], [-82.95862, 40.134401], [-82.958534, 40.134398999999995], [-82.958541, 40.134281], [-82.95803, 40.134254], [-82.958038, 40.13438], [-82.957369, 40.134344999999996], [-82.957244, 40.134338], [-82.957115, 40.134273], [-82.95697, 40.134246], [-82.95659599999999, 40.134254], [-82.956367, 40.134315], [-82.95618999999999, 40.13431], [-82.95294299999999, 40.134116999999996], [-82.95255999999999, 40.134129], [-82.95109, 40.134114], [-82.95096099999999, 40.134108999999995], [-82.950847, 40.134104], [-82.950671, 40.134097], [-82.950655, 40.134096], [-82.950576, 40.134093], [-82.947516, 40.133976], [-82.947257, 40.133967], [-82.946876, 40.133953], [-82.940038, 40.133689], [-82.937156, 40.133583], [-82.935577, 40.133517999999995], [-82.934883, 40.133486999999995], [-82.9325, 40.133385], [-82.931243, 40.133331999999996], [-82.93087899999999, 40.133311], [-82.93066999999999, 40.133302], [-82.929991, 40.133274], [-82.92993799999999, 40.133272], [-82.929557, 40.133255999999996], [-82.929221, 40.133241999999996], [-82.92887999999999, 40.133227999999995], [-82.928394, 40.133207], [-82.92830699999999, 40.133202999999995], [-82.926827, 40.133143], [-82.926464, 40.133126999999995], [-82.92611699999999, 40.133113], [-82.92591499999999, 40.133105], [-82.925845, 40.133102], [-82.92580699999999, 40.1331], [-82.92559, 40.133091], [-82.92482, 40.133058999999996], [-82.92448499999999, 40.13304], [-82.92425899999999, 40.133035], [-82.923704, 40.133010999999996], [-82.92299299999999, 40.132982], [-82.922856, 40.132981], [-82.922017, 40.132942], [-82.921797, 40.132929999999995], [-82.92173, 40.132926], [-82.921104, 40.1329], [-82.920563, 40.13288], [-82.919384, 40.132836999999995], [-82.919128, 40.132829], [-82.918644, 40.132808], [-82.917698, 40.132768], [-82.917159, 40.132745], [-82.916354, 40.132712], [-82.915808, 40.13269], [-82.91528199999999, 40.132667999999995], [-82.914645, 40.132641], [-82.914215, 40.132622999999995], [-82.91290099999999, 40.132568], [-82.912227, 40.13254], [-82.911029, 40.13249], [-82.909545, 40.132428], [-82.90778999999999, 40.132352999999995], [-82.906786, 40.132311], [-82.905689, 40.132266], [-82.90540999999999, 40.132256999999996], [-82.90522899999999, 40.132251], [-82.90478499999999, 40.132228], [-82.904392, 40.132211999999996], [-82.90284, 40.132148], [-82.902343, 40.132123], [-82.90189099999999, 40.132106], [-82.901276, 40.132069], [-82.900858, 40.132052], [-82.900005, 40.132011], [-82.89696599999999, 40.131865], [-82.89636399999999, 40.131836], [-82.895945, 40.131816], [-82.89536, 40.131786999999996], [-82.89428099999999, 40.131736], [-82.89409599999999, 40.131727], [-82.892967, 40.131673], [-82.89042099999999, 40.131549], [-82.889397, 40.131499], [-82.889158, 40.131482], [-82.887824, 40.131415], [-82.886161, 40.131332], [-82.88607999999999, 40.131327999999996], [-82.885286, 40.131288], [-82.88500499999999, 40.13129], [-82.884856, 40.13129], [-82.884832, 40.131288999999995], [-82.884401, 40.131273], [-82.884101, 40.131246999999995], [-82.883954, 40.131237999999996], [-82.883652, 40.131219], [-82.88322199999999, 40.131192999999996], [-82.88248399999999, 40.131156999999995], [-82.88230999999999, 40.131149], [-82.881838, 40.131125999999995], [-82.88001299999999, 40.131037], [-82.878112, 40.130944], [-82.876565, 40.130869], [-82.87653399999999, 40.130868], [-82.87566799999999, 40.130829999999996], [-82.875492, 40.130821], [-82.87487, 40.130787999999995], [-82.874443, 40.130765], [-82.872508, 40.130671], [-82.870847, 40.13059], [-82.87055199999999, 40.130579], [-82.870069, 40.130552], [-82.869833, 40.130544], [-82.86918899999999, 40.130514999999995], [-82.86755699999999, 40.130435999999996], [-82.86675799999999, 40.130396999999995], [-82.864403, 40.130295], [-82.86426, 40.130283], [-82.86398799999999, 40.130272999999995], [-82.858837, 40.130030999999995], [-82.858432, 40.130009], [-82.858221, 40.129998], [-82.857607, 40.129971], [-82.85372699999999, 40.129796999999996], [-82.853331, 40.129779], [-82.85261799999999, 40.129764], [-82.851916, 40.129726], [-82.85141999999999, 40.129706], [-82.851353, 40.129701999999995], [-82.850967, 40.129681], [-82.85024399999999, 40.129650999999996], [-82.850068, 40.129644], [-82.849826, 40.129639], [-82.848669, 40.129581], [-82.84840899999999, 40.129568], [-82.84796, 40.129552], [-82.84782, 40.129546999999995], [-82.84737899999999, 40.129522], [-82.846791, 40.129497], [-82.846364, 40.129483], [-82.84585299999999, 40.129453999999996], [-82.84530099999999, 40.129432], [-82.84477199999999, 40.129404], [-82.84431599999999, 40.129391], [-82.843944, 40.129373], [-82.84364, 40.129348], [-82.84357, 40.12936], [-82.84355, 40.129366999999995], [-82.83554, 40.129008999999996], [-82.833969, 40.12894], [-82.821606, 40.128408], [-82.816121, 40.128226], [-82.81049, 40.12804], [-82.810041, 40.127933999999996], [-82.809996, 40.127932], [-82.80968, 40.127919], [-82.806327, 40.12778], [-82.803955, 40.127682], [-82.80265, 40.127628], [-82.80163, 40.127584999999996], [-82.796627, 40.127378], [-82.795476, 40.127331999999996], [-82.794636, 40.127297999999996], [-82.79105299999999, 40.127153], [-82.79097999999999, 40.12715], [-82.789988, 40.127119], [-82.789504, 40.127103999999996], [-82.788923, 40.127086], [-82.78888599999999, 40.127085], [-82.78663499999999, 40.127016], [-82.78593699999999, 40.126995], [-82.785904, 40.126993999999996], [-82.782429, 40.126829], [-82.78107, 40.126764], [-82.779808, 40.126711], [-82.771337, 40.126363999999995], [-82.769599, 40.126293], [-82.761827, 40.125855], [-82.761911, 40.124621999999995], [-82.76199199999999, 40.123587], [-82.7622, 40.120771999999995], [-82.762941, 40.11034], [-82.76375399999999, 40.097701], [-82.763763, 40.097561], [-82.76377099999999, 40.097528], [-82.763773, 40.097505999999996], [-82.763776, 40.097424], [-82.763784, 40.097373], [-82.76379399999999, 40.097260999999996], [-82.763804, 40.097139999999996], [-82.763817, 40.097007999999995], [-82.763834, 40.096756], [-82.763841, 40.096503], [-82.763853, 40.096287], [-82.76387, 40.096002999999996], [-82.763871, 40.095971999999996], [-82.763874, 40.095935], [-82.763877, 40.095883], [-82.763879, 40.095853], [-82.763882, 40.095836999999996], [-82.763893, 40.095791], [-82.763897, 40.095776], [-82.764539, 40.088415999999995], [-82.76454799999999, 40.088288], [-82.764577, 40.087911999999996], [-82.76470599999999, 40.08621], [-82.764907, 40.083588], [-82.765142, 40.080497], [-82.76518399999999, 40.079924999999996], [-82.76520000000001, 40.079719999999995], [-82.76520599999999, 40.079645], [-82.76523, 40.079350999999996], [-82.76525699999999, 40.079012999999996], [-82.76588199999999, 40.071197999999995], [-82.765912, 40.070822], [-82.76605699999999, 40.069016], [-82.76613499999999, 40.068027], [-82.766382, 40.064903], [-82.766914, 40.058206999999996], [-82.767483, 40.051027999999995], [-82.76767699999999, 40.049234999999996], [-82.767924, 40.046955], [-82.767898, 40.046273], [-82.767989, 40.045117], [-82.768112, 40.043566], [-82.76820000000001, 40.042255999999995], [-82.76828499999999, 40.041238], [-82.768385, 40.039777], [-82.768472, 40.038723], [-82.768517, 40.038253], [-82.768526, 40.038108], [-82.768543, 40.037879], [-82.768553, 40.037745], [-82.76860099999999, 40.037191], [-82.768621, 40.036955999999996], [-82.768649, 40.036619], [-82.768737, 40.03563], [-82.7688, 40.034969], [-82.768853, 40.034416], [-82.76887599999999, 40.034174], [-82.768884, 40.034081], [-82.768886, 40.034062999999996], [-82.768891, 40.033995999999995], [-82.76889899999999, 40.033909], [-82.76897, 40.033128999999995], [-82.769049, 40.032377], [-82.769103, 40.031745], [-82.76910699999999, 40.031698], [-82.769134, 40.031386999999995], [-82.76916899999999, 40.030926], [-82.769324, 40.029069], [-82.76946099999999, 40.027526], [-82.769533, 40.026745], [-82.769717, 40.024525], [-82.769776, 40.023801], [-82.76977699999999, 40.023779999999995], [-82.769784, 40.023709], [-82.76985499999999, 40.022876], [-82.769942, 40.021799], [-82.770088, 40.019766], [-82.770125, 40.019299], [-82.770226, 40.018249999999995], [-82.770341, 40.017953], [-82.770349, 40.017919], [-82.770411, 40.017237], [-82.770719, 40.012935], [-82.77073999999999, 40.01264], [-82.77092999999999, 40.009992], [-82.77095899999999, 40.009678], [-82.77105, 40.008736999999996], [-82.771081, 40.008424], [-82.771085, 40.008372], [-82.77109399999999, 40.008216999999995], [-82.77110499999999, 40.008165999999996], [-82.771114, 40.007957], [-82.77114399999999, 40.007329999999996], [-82.771154, 40.007121999999995], [-82.77118399999999, 40.0069], [-82.771278, 40.006237], [-82.77131, 40.006015999999995], [-82.77131299999999, 40.005992], [-82.771322, 40.005924], [-82.771326, 40.005901], [-82.771333, 40.005823], [-82.771356, 40.00559], [-82.77136399999999, 40.005513], [-82.771411, 40.005109999999995], [-82.77145999999999, 40.005029], [-82.771492, 40.004971999999995], [-82.771518, 40.004919], [-82.771543, 40.004841], [-82.771564, 40.004748], [-82.77158399999999, 40.004605], [-82.77157, 40.004594999999995], [-82.77155499999999, 40.004585], [-82.77149, 40.00454], [-82.771434, 40.004511], [-82.77142099999999, 40.004504], [-82.771379, 40.004448], [-82.771379, 40.004382], [-82.771378, 40.00429], [-82.77139, 40.004218], [-82.771395, 40.004188], [-82.771435, 40.003896999999995], [-82.77157, 40.002933999999996], [-82.77159499999999, 40.002759999999995], [-82.77160599999999, 40.002612], [-82.77166, 40.001815], [-82.771776, 40.000132], [-82.771823, 39.999427], [-82.771878, 39.998630999999996], [-82.771878, 39.998571999999996], [-82.771879, 39.998453], [-82.77188, 39.998399], [-82.771881, 39.998340999999996], [-82.771881, 39.998328], [-82.771881, 39.998290999999995], [-82.77188199999999, 39.998279], [-82.771881, 39.998233], [-82.771897, 39.998025999999996], [-82.771959, 39.99727], [-82.77198, 39.997019], [-82.77206699999999, 39.995908], [-82.772302, 39.99295], [-82.772334, 39.992578], [-82.772431, 39.991468999999995], [-82.77245099999999, 39.991242], [-82.772482, 39.990652], [-82.772616, 39.988201], [-82.772661, 39.987384999999996], [-82.772663, 39.987348999999995], [-82.772667, 39.987293], [-82.772677, 39.987111999999996], [-82.772683, 39.987001], [-82.77270899999999, 39.98676], [-82.772713, 39.986723999999995], [-82.772725, 39.986616], [-82.77273, 39.986581], [-82.77277699999999, 39.986166999999995], [-82.772919, 39.984925], [-82.772967, 39.984511999999995], [-82.772976, 39.984431], [-82.773003, 39.984190999999996], [-82.77301299999999, 39.984111], [-82.773026, 39.983990999999996], [-82.773067, 39.983633], [-82.77308099999999, 39.983514], [-82.773088, 39.983452], [-82.773108, 39.983267], [-82.773116, 39.983205999999996], [-82.773121, 39.983156], [-82.773138, 39.983008999999996], [-82.773145, 39.98296], [-82.773146, 39.982943], [-82.773151, 39.982895], [-82.77315399999999, 39.98288], [-82.77315999999999, 39.982827], [-82.77317699999999, 39.982669], [-82.773184, 39.982617], [-82.773201, 39.982462], [-82.773254, 39.981997], [-82.773273, 39.981843], [-82.773405, 39.980686999999996], [-82.773414, 39.980609], [-82.773467, 39.98001], [-82.773586, 39.978699], [-82.773629, 39.978213], [-82.773684, 39.977615], [-82.773712, 39.977317], [-82.77379599999999, 39.976422], [-82.773825, 39.976124999999996], [-82.779459, 39.976293], [-82.779482, 39.976026], [-82.77950799999999, 39.975713], [-82.77953, 39.975449], [-82.779546, 39.975263999999996], [-82.779607, 39.974551], [-82.779611, 39.974497], [-82.779625, 39.974334999999996], [-82.77963, 39.974281999999995], [-82.77964999999999, 39.974042999999995], [-82.779668, 39.973816], [-82.779688, 39.973594999999996], [-82.779693, 39.973546999999996], [-82.7797, 39.973459999999996], [-82.779701, 39.973444], [-82.77970499999999, 39.973395], [-82.779707, 39.97338], [-82.779713, 39.973307], [-82.779731, 39.973089], [-82.779738, 39.973017], [-82.779754, 39.972820999999996], [-82.77980099999999, 39.972263], [-82.779803, 39.972234], [-82.77982, 39.972038999999995], [-82.779878, 39.971359], [-82.780051, 39.969319], [-82.78011, 39.96864], [-82.78011099999999, 39.968619], [-82.78011599999999, 39.968557], [-82.780119, 39.968537], [-82.78013399999999, 39.968354], [-82.780181, 39.967807], [-82.780197, 39.967625], [-82.780282, 39.966614], [-82.780328, 39.966091], [-82.780401, 39.965433999999995], [-82.780396, 39.965422], [-82.780395, 39.965404], [-82.780433, 39.964893], [-82.78047099999999, 39.964403], [-82.780473, 39.964380999999996], [-82.780568, 39.963249], [-82.78064599999999, 39.962316], [-82.78082599999999, 39.960162], [-82.780828, 39.960142999999995], [-82.780982, 39.95776], [-82.780988, 39.957719], [-82.781244, 39.955875999999996], [-82.78124799999999, 39.955819], [-82.781251, 39.955776], [-82.781257, 39.955695999999996], [-82.781262, 39.955622999999996], [-82.781346, 39.954443999999995], [-82.78149499999999, 39.952362], [-82.78149499999999, 39.951515], [-82.78149499999999, 39.951361999999996], [-82.781516, 39.95115], [-82.781528, 39.951032], [-82.781528, 39.951015], [-82.781533, 39.950927], [-82.781553, 39.950612], [-82.781562, 39.950478], [-82.781562, 39.950466], [-82.78156299999999, 39.950433], [-82.781564, 39.950423], [-82.781565, 39.950403], [-82.78157, 39.950345], [-82.781572, 39.950326], [-82.781577, 39.950264], [-82.781582, 39.950218], [-82.781604, 39.95008], [-82.781615, 39.950019], [-82.781638, 39.949859], [-82.78170999999999, 39.949379], [-82.78172699999999, 39.949269], [-82.781729, 39.949219], [-82.78180499999999, 39.947047999999995], [-82.781808, 39.947005], [-82.781809, 39.946981], [-82.781809, 39.946971], [-82.781819, 39.946779], [-82.78188, 39.945896], [-82.781959, 39.945098], [-82.782012, 39.944745999999995], [-82.782063, 39.944154], [-82.782133, 39.943328], [-82.782169, 39.942949], [-82.782277, 39.941811], [-82.782314, 39.941432999999996], [-82.78232299999999, 39.941344], [-82.78235, 39.941078], [-82.78245799999999, 39.940016], [-82.782495, 39.939662], [-82.78252499999999, 39.939664], [-82.791493, 39.940163999999996], [-82.791596, 39.940162], [-82.79199799999999, 39.940162], [-82.79259499999999, 39.940163], [-82.795305, 39.940349999999995], [-82.79563499999999, 39.940371999999996], [-82.79801599999999, 39.940529], [-82.79806099999999, 39.940534], [-82.79809, 39.940538], [-82.798164, 39.940546999999995], [-82.798396, 39.940563], [-82.810797, 39.941162], [-82.810807, 39.941027999999996], [-82.81128799999999, 39.934751], [-82.811458, 39.932373999999996], [-82.811476, 39.932116], [-82.811483, 39.93202], [-82.811495, 39.931858], [-82.811521, 39.931591], [-82.811532, 39.931472], [-82.811607, 39.930687999999996], [-82.811696, 39.929781999999996], [-82.811954, 39.92659], [-82.811962, 39.926491], [-82.811996, 39.926063], [-82.81204699999999, 39.925244], [-82.812049, 39.925224], [-82.81205, 39.925211], [-82.812107, 39.924321], [-82.81222199999999, 39.922717999999996], [-82.81237, 39.920463], [-82.812371, 39.920451], [-82.81239099999999, 39.920111], [-82.812394, 39.920063], [-82.812415, 39.91984], [-82.812505, 39.918861], [-82.812568, 39.918175], [-82.81257099999999, 39.918139], [-82.812983, 39.913616999999995], [-82.81299, 39.913539], [-82.812997, 39.913461999999996], [-82.813093, 39.911719999999995], [-82.813096, 39.911663], [-82.813069, 39.911662], [-82.81302, 39.91166], [-82.812812, 39.911652], [-82.812561, 39.911642], [-82.81235, 39.911632999999995], [-82.812108, 39.911623999999996], [-82.811911, 39.911608], [-82.811199, 39.911629999999995], [-82.810233, 39.911575], [-82.809855, 39.911558], [-82.809821, 39.911556999999995], [-82.809682, 39.91155], [-82.809428, 39.911536], [-82.80922799999999, 39.911524], [-82.809095, 39.911518], [-82.808888, 39.911508999999995], [-82.808223, 39.911471999999996], [-82.808194, 39.91147], [-82.807895, 39.911453], [-82.807851, 39.911451], [-82.806887, 39.911403], [-82.806787, 39.911398], [-82.806736, 39.911395999999996], [-82.806674, 39.911393], [-82.804366, 39.911279], [-82.803482, 39.911234], [-82.803345, 39.911227], [-82.80301, 39.91121], [-82.80257999999999, 39.911187], [-82.80253599999999, 39.911184999999996], [-82.802455, 39.911181], [-82.802376, 39.911176999999995], [-82.802314, 39.911173999999995], [-82.802266, 39.911170999999996], [-82.802247, 39.91117], [-82.80178599999999, 39.911144], [-82.801165, 39.911116], [-82.801138, 39.911114999999995], [-82.80109399999999, 39.911113], [-82.800727, 39.911096], [-82.79974299999999, 39.911052], [-82.799461, 39.911038999999995], [-82.799054, 39.911018999999996], [-82.799, 39.911016], [-82.798658, 39.910999], [-82.798586, 39.910995], [-82.798011, 39.910967], [-82.79734599999999, 39.910934], [-82.796426, 39.910888], [-82.796408, 39.910886999999995], [-82.795621, 39.910849], [-82.795476, 39.91084], [-82.795361, 39.910833], [-82.794862, 39.910803], [-82.794383, 39.910785], [-82.795154, 39.904956999999996], [-82.795169, 39.904852999999996], [-82.795186, 39.904727], [-82.79519599999999, 39.904655999999996], [-82.795197, 39.904641], [-82.795211, 39.904568], [-82.795227, 39.904474], [-82.795234, 39.904432], [-82.795272, 39.904216], [-82.795277, 39.90419], [-82.79544299999999, 39.903255], [-82.795491, 39.902983], [-82.795495, 39.902955], [-82.795501, 39.902867], [-82.795506, 39.902794], [-82.79588799999999, 39.896705], [-82.795892, 39.89662], [-82.795895, 39.896566], [-82.797004, 39.888245], [-82.797041, 39.887969], [-82.797049, 39.887904999999996], [-82.797462, 39.884814], [-82.79746399999999, 39.884802], [-82.797491, 39.884594], [-82.79749799999999, 39.884543], [-82.797538, 39.883632999999996], [-82.797602, 39.882203], [-82.797665, 39.880773], [-82.797693, 39.880162999999996], [-82.797707, 39.880035], [-82.797888, 39.878352], [-82.79791999999999, 39.878049], [-82.797951, 39.877745999999995], [-82.797995, 39.877367], [-82.797995, 39.877326], [-82.797686, 39.87717], [-82.79757099999999, 39.877088], [-82.797517, 39.876996999999996], [-82.797506, 39.876978], [-82.797505, 39.876965999999996], [-82.797501, 39.876857], [-82.797516, 39.876720999999996], [-82.79754199999999, 39.876484], [-82.79758, 39.876145], [-82.79763799999999, 39.875526], [-82.797736, 39.874489], [-82.797742, 39.874390999999996], [-82.79782, 39.873473], [-82.797877, 39.872848], [-82.797887, 39.872733], [-82.798034, 39.871141], [-82.798216, 39.869136999999995], [-82.798335, 39.867871], [-82.798345, 39.867763], [-82.798349, 39.867719], [-82.798389, 39.867295999999996], [-82.79839, 39.867284], [-82.798402, 39.867159], [-82.798403, 39.867148], [-82.798416, 39.867045999999995], [-82.798453, 39.866608], [-82.798479, 39.866310999999996], [-82.79859499999999, 39.865204999999996], [-82.798597, 39.865182], [-82.798599, 39.865159], [-82.79865699999999, 39.865046], [-82.798694, 39.864563], [-82.799212, 39.859693], [-82.799213, 39.859684], [-82.799695, 39.854662999999995], [-82.799724, 39.854436], [-82.800085, 39.85162], [-82.800123, 39.851323], [-82.800333, 39.849706999999995], [-82.800347, 39.849596], [-82.800354, 39.849509999999995], [-82.80039699999999, 39.848971], [-82.80039699999999, 39.848574], [-82.800392, 39.848287], [-82.800394, 39.848071999999995], [-82.800392, 39.847868], [-82.80039699999999, 39.847857], [-82.800421, 39.847752], [-82.800426, 39.84773], [-82.800428, 39.847719999999995], [-82.800432, 39.847705], [-82.800483, 39.847493], [-82.800512, 39.847373999999995], [-82.800564, 39.847159], [-82.80057599999999, 39.847111], [-82.800606, 39.846962], [-82.800614, 39.846928], [-82.800619, 39.846907], [-82.80066699999999, 39.846708], [-82.800721, 39.846486], [-82.800799, 39.846160999999995], [-82.800809, 39.84612], [-82.800856, 39.845918999999995], [-82.800922, 39.845172999999996], [-82.800941, 39.845008], [-82.80094799999999, 39.844906], [-82.80095, 39.844876], [-82.800975, 39.844750999999995], [-82.800981, 39.844722999999995], [-82.800996, 39.844467], [-82.801058, 39.843424999999996], [-82.801058, 39.8434], [-82.801129, 39.842189], [-82.801182, 39.841282], [-82.80119499999999, 39.841063], [-82.80119599999999, 39.841052999999995], [-82.801206, 39.840907], [-82.801208, 39.840882], [-82.80121, 39.840848], [-82.80122899999999, 39.840579], [-82.80125699999999, 39.839987], [-82.80128599999999, 39.839376], [-82.801284, 39.839268], [-82.801288, 39.839148], [-82.80129699999999, 39.839068], [-82.8013, 39.83904], [-82.80131399999999, 39.838906], [-82.801321, 39.838836], [-82.80135, 39.838561999999996], [-82.801366, 39.838409], [-82.801373, 39.838349], [-82.801374, 39.838339], [-82.801377, 39.838311999999995], [-82.801385, 39.838235], [-82.801496, 39.837199], [-82.801514, 39.837028], [-82.801557, 39.836625], [-82.801571, 39.836498], [-82.80157299999999, 39.836478], [-82.80158, 39.83641], [-82.801581, 39.836396], [-82.801585, 39.836355999999995], [-82.801591, 39.836295], [-82.80160000000001, 39.836203999999995], [-82.801604, 39.836157], [-82.801613, 39.836068], [-82.801615, 39.836051999999995], [-82.80163, 39.835899], [-82.801633, 39.83587], [-82.801637, 39.835834], [-82.801638, 39.83582], [-82.801642, 39.835772], [-82.801643, 39.835761], [-82.80165099999999, 39.835679999999996], [-82.801656, 39.835632], [-82.801659, 39.835602], [-82.801707, 39.835162], [-82.80180299999999, 39.834174999999995], [-82.801998, 39.832283], [-82.802053, 39.831765999999995], [-82.802191, 39.830449], [-82.802194, 39.830400000000004], [-82.802227, 39.829906], [-82.80224199999999, 39.829640999999995], [-82.802251, 39.829485], [-82.802267, 39.829193], [-82.80230499999999, 39.828533], [-82.802317, 39.828253], [-82.80232, 39.827948], [-82.802311, 39.827467999999996], [-82.802269, 39.826522], [-82.80231599999999, 39.825706], [-82.802413, 39.824045999999996], [-82.802414, 39.824024], [-82.80241699999999, 39.823979], [-82.802476, 39.822953], [-82.802977, 39.822981], [-82.81223299999999, 39.823516999999995], [-82.812282, 39.823521], [-82.81233999999999, 39.823526], [-82.81241299999999, 39.823532], [-82.8125, 39.823539], [-82.81257599999999, 39.823544999999996], [-82.814109, 39.823674], [-82.81440099999999, 39.823699], [-82.816667, 39.823889], [-82.821496, 39.824270999999996], [-82.82150299999999, 39.824206], [-82.82151999999999, 39.824023], [-82.821531, 39.823907999999996], [-82.821561, 39.823598], [-82.821631, 39.822863999999996], [-82.821632, 39.822851], [-82.821634, 39.822831], [-82.821658, 39.822576999999995], [-82.821685, 39.822289], [-82.821715, 39.821982], [-82.821742, 39.821706], [-82.821769, 39.821442], [-82.821803, 39.821104], [-82.821815, 39.82098], [-82.821817, 39.820957], [-82.82183599999999, 39.820761], [-82.82193699999999, 39.819748], [-82.82206, 39.818503], [-82.822133, 39.817704], [-82.822159, 39.817367999999995], [-82.822229, 39.816488], [-82.822255, 39.816176999999996], [-82.82226, 39.816123], [-82.822304, 39.815643], [-82.82230799999999, 39.815630999999996], [-82.82230899999999, 39.815612], [-82.822321, 39.815461], [-82.822406, 39.814733], [-82.82243799999999, 39.814402], [-82.822474, 39.814026999999996], [-82.822582, 39.812895999999995], [-82.82259499999999, 39.812768], [-82.82269699999999, 39.811637999999995], [-82.822767, 39.810915], [-82.822769, 39.810888], [-82.822771, 39.810862], [-82.822825, 39.810302], [-82.822874, 39.809788999999995], [-82.82289899999999, 39.809537], [-82.82290499999999, 39.809466], [-82.822941, 39.809098999999996], [-82.82304599999999, 39.808012], [-82.823066, 39.807797], [-82.823072, 39.807728999999995], [-82.823123, 39.807196], [-82.82313099999999, 39.807106], [-82.82314099999999, 39.806993], [-82.823146, 39.806943], [-82.823148, 39.806923], [-82.823156, 39.80684], [-82.82318099999999, 39.806566], [-82.823195, 39.806414], [-82.82319799999999, 39.806385], [-82.823222, 39.806135999999995], [-82.82324899999999, 39.805842], [-82.823312, 39.80507], [-82.823337, 39.804773], [-82.823358, 39.804485], [-82.823364, 39.804409], [-82.823443, 39.803478999999996], [-82.823444, 39.803463], [-82.82349099999999, 39.802901999999996], [-82.82355799999999, 39.802214], [-82.823562, 39.802167999999995], [-82.823759, 39.800140999999996], [-82.823948, 39.798302], [-82.823989, 39.797906999999995], [-82.824062, 39.797064999999996], [-82.82406999999999, 39.796980999999995], [-82.824072, 39.796956], [-82.824074, 39.796932], [-82.824091, 39.796732], [-82.824199, 39.795592], [-82.824201, 39.795567999999996], [-82.824247, 39.795074], [-82.824254, 39.794996], [-82.824434, 39.795004], [-82.825588, 39.795066], [-82.82564699999999, 39.795069], [-82.825738, 39.795074], [-82.82580999999999, 39.795077], [-82.828605, 39.795213], [-82.82867999999999, 39.795217], [-82.82943, 39.795255], [-82.82968199999999, 39.795266], [-82.82978399999999, 39.795271], [-82.832323, 39.795393], [-82.835657, 39.795553999999996], [-82.839968, 39.795794], [-82.840226, 39.795808], [-82.840519, 39.795825], [-82.840575, 39.795828], [-82.840713, 39.795836], [-82.84150000000001, 39.795864], [-82.841966, 39.795888999999995], [-82.842214, 39.795902999999996], [-82.84295499999999, 39.79595], [-82.84322499999999, 39.795966], [-82.843366, 39.795975], [-82.844448, 39.796042], [-82.845816, 39.796113999999996], [-82.84594299999999, 39.796121], [-82.84699599999999, 39.796175999999996], [-82.848022, 39.79623], [-82.85157099999999, 39.796428999999996], [-82.85262399999999, 39.796496999999995], [-82.85288, 39.796504999999996], [-82.853191, 39.796524], [-82.854586, 39.796594999999996], [-82.855896, 39.796667], [-82.857286, 39.796741], [-82.858773, 39.796817], [-82.861367, 39.796957], [-82.86195, 39.796983999999995], [-82.864796, 39.797134], [-82.86653799999999, 39.797219999999996], [-82.86833999999999, 39.797315], [-82.870125, 39.797404], [-82.870302, 39.797411], [-82.87129399999999, 39.797453], [-82.871425, 39.79746], [-82.87148499999999, 39.797463], [-82.872276, 39.797495999999995], [-82.872905, 39.797529], [-82.873076, 39.797537999999996], [-82.873696, 39.797579999999996], [-82.876751, 39.79775], [-82.877617, 39.797796999999996], [-82.879515, 39.797895], [-82.88090199999999, 39.797961], [-82.88259599999999, 39.798038999999996], [-82.884704, 39.798139], [-82.887007, 39.798246999999996], [-82.887677, 39.798280999999996], [-82.890101, 39.798398999999996], [-82.89023, 39.798406], [-82.890309, 39.798411], [-82.89149599999999, 39.798477999999996], [-82.894682, 39.798656], [-82.895006, 39.798674], [-82.895749, 39.798711999999995], [-82.89609, 39.79873], [-82.897897, 39.798818], [-82.898669, 39.798857999999996], [-82.898848, 39.798867], [-82.899087, 39.79888], [-82.899429, 39.798898], [-82.899517, 39.798905], [-82.89984299999999, 39.798935], [-82.90200399999999, 39.799119], [-82.902412, 39.799167], [-82.918544, 39.800065], [-82.919085, 39.800095], [-82.921101, 39.800159], [-82.924984, 39.800357], [-82.92535, 39.800376], [-82.930542, 39.80064], [-82.937725, 39.801007], [-82.941628, 39.801182], [-82.941801, 39.801199], [-82.94260299999999, 39.801279], [-82.951179, 39.801643], [-82.952556, 39.801701], [-82.95526199999999, 39.801815], [-82.95533999999999, 39.801818], [-82.95617299999999, 39.801852], [-82.956307, 39.801857999999996], [-82.956336, 39.801859], [-82.95690599999999, 39.801884], [-82.956958, 39.801885999999996], [-82.95724799999999, 39.801897], [-82.957662, 39.801919], [-82.960289, 39.802039], [-82.960351, 39.802042], [-82.974901, 39.802713], [-82.98053, 39.802934], [-82.980749, 39.802943], [-82.980899, 39.802949], [-82.980927, 39.802949999999996], [-82.98104699999999, 39.802955], [-82.983055, 39.803034], [-82.983307, 39.803044], [-82.98355, 39.803053999999996], [-82.983885, 39.803087], [-82.991563, 39.803461999999996], [-82.991867, 39.803473], [-82.992133, 39.803481999999995], [-82.992741, 39.803518], [-82.993104, 39.80354], [-82.993211, 39.803546999999995], [-82.993299, 39.803551999999996], [-82.993755, 39.803579], [-82.995228, 39.803622999999995], [-82.995892, 39.803647999999995], [-82.996353, 39.803661999999996], [-83.011753, 39.804342], [-83.011923, 39.804348], [-83.01207699999999, 39.804356], [-83.01262899999999, 39.804379], [-83.01285, 39.804386], [-83.013071, 39.804393999999995], [-83.01324, 39.804399], [-83.01375999999999, 39.804415], [-83.030193, 39.805192], [-83.03223899999999, 39.805293], [-83.03227799999999, 39.805296], [-83.03536299999999, 39.805453], [-83.03627999999999, 39.8055], [-83.037634, 39.805566999999996], [-83.037672, 39.805566999999996], [-83.03865499999999, 39.805558999999995], [-83.043476, 39.805493], [-83.04356299999999, 39.805485999999995], [-83.044252, 39.805468], [-83.044277, 39.805467], [-83.044291, 39.805355], [-83.044361, 39.805299], [-83.04445799999999, 39.805282], [-83.04516799999999, 39.805304], [-83.047393, 39.805372], [-83.049829, 39.805425], [-83.051711, 39.805465999999996], [-83.051904, 39.80547], [-83.052268, 39.805479], [-83.052656, 39.80549], [-83.05457, 39.805543], [-83.054914, 39.805552999999996], [-83.05528, 39.805563], [-83.056034, 39.805586], [-83.05644, 39.805595], [-83.05730199999999, 39.805614999999996], [-83.05938599999999, 39.805664], [-83.059519, 39.805667], [-83.06047, 39.805685], [-83.06145599999999, 39.80581], [-83.07257, 39.806053], [-83.074686, 39.806138], [-83.089342, 39.806627999999996], [-83.101353, 39.80712], [-83.10155, 39.807128], [-83.10170099999999, 39.807134], [-83.101806, 39.807144], [-83.101922, 39.807155], [-83.102052, 39.807167], [-83.10242099999999, 39.807198], [-83.11138, 39.80751], [-83.12035499999999, 39.807823], [-83.12943299999999, 39.808011], [-83.137464, 39.808178999999996], [-83.147171, 39.808398], [-83.14787799999999, 39.808414], [-83.149253, 39.808426], [-83.149822, 39.808431999999996], [-83.151207, 39.808491], [-83.15172799999999, 39.808527], [-83.153026, 39.808489], [-83.153257, 39.808465], [-83.153436, 39.808479], [-83.153515, 39.808476999999996], [-83.154118, 39.80851], [-83.162599, 39.808701], [-83.165103, 39.808710999999995], [-83.166479, 39.808681], [-83.167085, 39.808668999999995], [-83.167627, 39.808684], [-83.16793799999999, 39.808735], [-83.168016, 39.808738999999996], [-83.168424, 39.80876], [-83.168477, 39.808763], [-83.168888, 39.808783999999996], [-83.16895, 39.808786999999995], [-83.168981, 39.808789], [-83.16902, 39.808791], [-83.169383, 39.808797], [-83.16989199999999, 39.808817], [-83.17004299999999, 39.808823], [-83.170816, 39.808853], [-83.170929, 39.808856999999996], [-83.171869, 39.80889], [-83.172285, 39.808909], [-83.172521, 39.808932999999996], [-83.17269499999999, 39.808949999999996], [-83.172731, 39.808954], [-83.172764, 39.808957], [-83.172938, 39.808974], [-83.173447, 39.808989], [-83.175783, 39.809069], [-83.17644, 39.809084999999996], [-83.17911199999999, 39.809197], [-83.18063099999999, 39.809227], [-83.180959, 39.809233], [-83.181544, 39.809245], [-83.183272, 39.809261], [-83.18512799999999, 39.809340999999996], [-83.192906, 39.810247], [-83.193288, 39.810257], [-83.193621, 39.810266], [-83.194659, 39.810300999999995], [-83.200943, 39.810656], [-83.243702, 39.812503], [-83.243659, 39.81355], [-83.243843, 39.815129999999996], [-83.243865, 39.815661], [-83.24387899999999, 39.817433], [-83.243939, 39.819511999999996], [-83.244001, 39.821514], [-83.24401, 39.822333], [-83.244202, 39.823149], [-83.244304, 39.824211], [-83.244536, 39.826069], [-83.245014, 39.828965], [-83.24502, 39.829045], [-83.245278, 39.832639], [-83.24644099999999, 39.848827], [-83.247301, 39.860777], [-83.24734699999999, 39.861334], [-83.247523, 39.863529], [-83.24752699999999, 39.863572999999995], [-83.247652, 39.865133], [-83.249467, 39.887674], [-83.24976199999999, 39.891342], [-83.25028499999999, 39.897780999999995], [-83.25074699999999, 39.903501], [-83.250798, 39.904126999999995], [-83.250824, 39.904443], [-83.250878, 39.905021999999995], [-83.252031, 39.917363], [-83.25007699999999, 39.918254], [-83.249935, 39.918324], [-83.249793, 39.918392999999995], [-83.246516, 39.920038999999996], [-83.230879, 39.928397], [-83.23066399999999, 39.928512], [-83.230617, 39.928551999999996], [-83.23029, 39.928688], [-83.229929, 39.929024], [-83.229552, 39.929375], [-83.228417, 39.930096999999996], [-83.227232, 39.930639], [-83.22582799999999, 39.932035], [-83.22564299999999, 39.932262], [-83.225937, 39.933372], [-83.226467, 39.934121999999995], [-83.22665099999999, 39.934484], [-83.22675699999999, 39.934681999999995], [-83.226922, 39.935133], [-83.227065, 39.935426], [-83.227327, 39.936358], [-83.227651, 39.936813], [-83.228156, 39.937311], [-83.228718, 39.937829], [-83.229018, 39.938309], [-83.229046, 39.938615], [-83.228676, 39.939167], [-83.228591, 39.93925], [-83.22857599999999, 39.939301], [-83.228426, 39.939854], [-83.228506, 39.940219], [-83.229137, 39.940777], [-83.2299, 39.941053], [-83.230527, 39.941372], [-83.23093899999999, 39.941599], [-83.231116, 39.941696], [-83.231175, 39.941829999999996], [-83.231233, 39.941963], [-83.231228, 39.942181], [-83.23122699999999, 39.942225], [-83.23119299999999, 39.942727999999995], [-83.23119899999999, 39.943113], [-83.231383, 39.943805], [-83.23157499999999, 39.944359999999996], [-83.231689, 39.944565999999995], [-83.231865, 39.944863999999995], [-83.232907, 39.945752], [-83.233942, 39.946494], [-83.235174, 39.94704], [-83.23546999999999, 39.947185], [-83.235765, 39.947333], [-83.235845, 39.947361], [-83.236042, 39.947429], [-83.236243, 39.947725999999996], [-83.23639899999999, 39.948344999999996], [-83.236453, 39.948544], [-83.236504, 39.948733], [-83.236544, 39.948884], [-83.236903, 39.949616], [-83.237298, 39.949954], [-83.237399, 39.949991], [-83.237935, 39.950184], [-83.238643, 39.950641999999995], [-83.23931499999999, 39.950852], [-83.23968099999999, 39.950944], [-83.240133, 39.951147], [-83.240225, 39.951187999999995], [-83.240628, 39.951465], [-83.24113299999999, 39.952042], [-83.241699, 39.952552], [-83.24194399999999, 39.953032], [-83.242183, 39.953858], [-83.242317, 39.954603999999996], [-83.24237699999999, 39.954927], [-83.24242699999999, 39.955495], [-83.242389, 39.955993], [-83.242277, 39.956367], [-83.242156, 39.956514], [-83.242057, 39.956534999999995], [-83.24198799999999, 39.956528999999996], [-83.24189899999999, 39.956537], [-83.241823, 39.956618], [-83.24175699999999, 39.956793], [-83.241682, 39.957139], [-83.24160499999999, 39.957280999999995], [-83.24132499999999, 39.957509], [-83.24095, 39.957957], [-83.240731, 39.958208], [-83.240568, 39.958448], [-83.24034, 39.95879], [-83.240251, 39.959224999999996], [-83.24023799999999, 39.959924], [-83.24041299999999, 39.960321], [-83.240828, 39.960730999999996], [-83.24148699999999, 39.961054999999995], [-83.241991, 39.961414999999995], [-83.243984, 39.962396999999996], [-83.24483099999999, 39.962869999999995], [-83.245435, 39.963288], [-83.24577599999999, 39.963639], [-83.24590099999999, 39.963901], [-83.245967, 39.964268], [-83.245875, 39.964721], [-83.245852, 39.965098], [-83.24585499999999, 39.966285], [-83.245826, 39.966338], [-83.24555, 39.966839], [-83.245502, 39.967102], [-83.245471, 39.967254], [-83.245516, 39.967563999999996], [-83.24554499999999, 39.96828], [-83.245819, 39.968778], [-83.24612499999999, 39.969028], [-83.246545, 39.969272], [-83.246848, 39.969566], [-83.246922, 39.969671], [-83.246937, 39.969805], [-83.24691299999999, 39.969899], [-83.246909, 39.969985], [-83.24684599999999, 39.970087], [-83.246792, 39.970194], [-83.246765, 39.970388], [-83.246768, 39.970698], [-83.24697499999999, 39.971119], [-83.24718999999999, 39.971343999999995], [-83.247408, 39.971478999999995], [-83.247714, 39.971514], [-83.247894, 39.97152], [-83.24812299999999, 39.97145], [-83.24839899999999, 39.971281999999995], [-83.24852299999999, 39.971167], [-83.24857399999999, 39.970988999999996], [-83.248577, 39.970774], [-83.24868699999999, 39.970476999999995], [-83.24862499999999, 39.970264], [-83.248693, 39.97013], [-83.249253, 39.969972], [-83.249876, 39.970138], [-83.250087, 39.97023], [-83.250227, 39.970327999999995], [-83.250411, 39.970711], [-83.25052199999999, 39.971115999999995], [-83.250571, 39.971598], [-83.250559, 39.971968], [-83.250531, 39.97258], [-83.250312, 39.972778], [-83.249899, 39.973006], [-83.2497, 39.973017999999996], [-83.24954199999999, 39.973054999999995], [-83.249439, 39.973169], [-83.24944099999999, 39.973400999999996], [-83.24946899999999, 39.973684], [-83.249558, 39.974402], [-83.24962599999999, 39.974754], [-83.24971099999999, 39.975324], [-83.249836, 39.975529], [-83.25004, 39.975853], [-83.25010999999999, 39.975964999999995], [-83.250219, 39.976319], [-83.250242, 39.976703], [-83.25023999999999, 39.977185999999996], [-83.250204, 39.977517], [-83.250095, 39.977657], [-83.249777, 39.977813999999995], [-83.24955899999999, 39.97788], [-83.249449, 39.977917999999995], [-83.24933899999999, 39.977956999999996], [-83.249021, 39.978148999999995], [-83.248975, 39.978370999999996], [-83.248977, 39.978950999999995], [-83.249201, 39.979938], [-83.249282, 39.980070999999995], [-83.249363, 39.980205], [-83.249397, 39.980298], [-83.24940000000001, 39.980501], [-83.24942899999999, 39.98076], [-83.249451, 39.980958], [-83.249515, 39.981122], [-83.24980699999999, 39.98122], [-83.25005399999999, 39.981251], [-83.25027899999999, 39.981349], [-83.25035199999999, 39.981497], [-83.25038699999999, 39.981911], [-83.25042599999999, 39.982217], [-83.250419, 39.982366999999996], [-83.25037499999999, 39.982561], [-83.250337, 39.982768], [-83.25026799999999, 39.982946], [-83.250123, 39.983154], [-83.24998, 39.983213], [-83.249866, 39.983236], [-83.24974399999999, 39.983270999999995], [-83.249584, 39.983349], [-83.24945799999999, 39.983503], [-83.24940000000001, 39.983588], [-83.249257, 39.983698], [-83.24886099999999, 39.98385], [-83.24872599999999, 39.983883999999996], [-83.248543, 39.983937999999995], [-83.24832599999999, 39.984145], [-83.24819099999999, 39.984342], [-83.247947, 39.984576], [-83.247351, 39.985158999999996], [-83.247118, 39.985337], [-83.247072, 39.985486], [-83.247005, 39.985562], [-83.24680699999999, 39.985731], [-83.246642, 39.985943], [-83.24656499999999, 39.986036], [-83.246483, 39.986151], [-83.246443, 39.986191], [-83.24630599999999, 39.986231], [-83.246147, 39.98641], [-83.24601, 39.986736], [-83.24596199999999, 39.987015], [-83.246112, 39.987322999999996], [-83.24642, 39.98762], [-83.246809, 39.987908], [-83.247362, 39.988141999999996], [-83.24766699999999, 39.988482999999995], [-83.248092, 39.988883], [-83.248505, 39.989235], [-83.24896199999999, 39.989712], [-83.249471, 39.99021], [-83.250546, 39.99097], [-83.25109599999999, 39.991337], [-83.25153499999999, 39.992041], [-83.251999, 39.992613], [-83.252513, 39.993226], [-83.252842, 39.993947], [-83.253683, 39.994963999999996], [-83.254131, 39.995453], [-83.255027, 39.996083999999996], [-83.25527, 39.996328999999996], [-83.25540199999999, 39.996385], [-83.25550799999999, 39.996398], [-83.25564299999999, 39.996504], [-83.255712, 39.996673], [-83.25572799999999, 39.99682], [-83.255735, 39.997008], [-83.25582399999999, 39.997113999999996], [-83.255854, 39.99722], [-83.25580699999999, 39.997417999999996], [-83.255814, 39.997589999999995], [-83.255814, 39.997792], [-83.255817, 39.998177], [-83.25585, 39.998301], [-83.256091, 39.998723999999996], [-83.256328, 39.998875999999996], [-83.25647, 39.999022], [-83.25652199999999, 39.999100999999996], [-83.25674, 39.999334], [-83.25734899999999, 39.999853], [-83.258074, 40.000278], [-83.258506, 40.000465], [-83.258917, 40.000582], [-83.25931299999999, 40.000721], [-83.259484, 40.000817], [-83.259616, 40.000906], [-83.25985899999999, 40.001086], [-83.26033699999999, 40.001785], [-83.260588, 40.002244999999995], [-83.260566, 40.002396999999995], [-83.260679, 40.002455], [-83.260877, 40.002807], [-83.260677, 40.003402], [-83.260381, 40.003805], [-83.259923, 40.004272], [-83.259587, 40.004427], [-83.259391, 40.004532], [-83.25900399999999, 40.004736], [-83.25855299999999, 40.004822], [-83.25825499999999, 40.004779], [-83.25786599999999, 40.004629], [-83.257181, 40.004343], [-83.256951, 40.004356], [-83.25627899999999, 40.004394], [-83.256171, 40.004442], [-83.255966, 40.004509999999996], [-83.25563799999999, 40.004601], [-83.255437, 40.004526], [-83.255264, 40.004528], [-83.25490099999999, 40.004686], [-83.254314, 40.004794], [-83.25408999999999, 40.005044999999996], [-83.254018, 40.005126], [-83.253518, 40.005679], [-83.252865, 40.006391], [-83.252374, 40.006912], [-83.251924, 40.007694], [-83.25168, 40.008376], [-83.251792, 40.008703], [-83.25202, 40.008981], [-83.25226599999999, 40.009724999999996], [-83.252308, 40.00985], [-83.25235699999999, 40.009978], [-83.25244699999999, 40.010216], [-83.25253599999999, 40.010464999999996], [-83.252634, 40.010726999999996], [-83.25273, 40.011050999999995], [-83.252898, 40.012212999999996], [-83.252999, 40.012886], [-83.25308, 40.013345], [-83.25326799999999, 40.014325], [-83.25323499999999, 40.014652999999996], [-83.253119, 40.014959999999995], [-83.25313899999999, 40.01539], [-83.253119, 40.015558], [-83.253027, 40.015747], [-83.252922, 40.016248], [-83.25296399999999, 40.016729], [-83.253027, 40.016919], [-83.25267099999999, 40.017402], [-83.252315, 40.018088], [-83.252223, 40.018401999999995], [-83.25175899999999, 40.019632], [-83.251722, 40.020123], [-83.251828, 40.020708], [-83.251857, 40.021398999999995], [-83.25211399999999, 40.022217], [-83.252118, 40.022427], [-83.252223, 40.022675], [-83.25232199999999, 40.022811999999995], [-83.25236799999999, 40.022974], [-83.25230499999999, 40.023148], [-83.252091, 40.023303], [-83.251976, 40.023328], [-83.25186099999999, 40.023283], [-83.251745, 40.023288], [-83.251729, 40.023337999999995], [-83.251755, 40.023498], [-83.251801, 40.023647], [-83.251825, 40.023723], [-83.251846, 40.023952], [-83.251871, 40.024232], [-83.251905, 40.024321], [-83.252068, 40.024743], [-83.252124, 40.02492], [-83.252341, 40.025562], [-83.25240000000001, 40.025737], [-83.25245, 40.025884999999995], [-83.252526, 40.026042], [-83.25268799999999, 40.026044], [-83.252839, 40.026081999999995], [-83.252922, 40.026148], [-83.25298099999999, 40.02632], [-83.253007, 40.026475], [-83.253001, 40.026686999999995], [-83.252918, 40.026706999999995], [-83.252856, 40.026768], [-83.25282299999999, 40.026872], [-83.252859, 40.027054], [-83.25284599999999, 40.027190999999995], [-83.252912, 40.027403], [-83.252862, 40.027592999999996], [-83.25278, 40.027753], [-83.252704, 40.028054], [-83.252674, 40.02811], [-83.252602, 40.028148], [-83.252574, 40.028158999999995], [-83.252569, 40.028211999999996], [-83.25260999999999, 40.028242999999996], [-83.25266099999999, 40.028321], [-83.25275099999999, 40.028447], [-83.25306599999999, 40.028608999999996], [-83.25340299999999, 40.028735999999995], [-83.253832, 40.028779], [-83.254285, 40.028717], [-83.254706, 40.028712999999996], [-83.255511, 40.02879], [-83.25572799999999, 40.028985999999996], [-83.255879, 40.029266], [-83.25621799999999, 40.03055], [-83.256232, 40.03161], [-83.256115, 40.032551999999995], [-83.256114, 40.032781], [-83.255996, 40.033071], [-83.25591299999999, 40.033190999999995], [-83.255691, 40.033533999999996], [-83.25549199999999, 40.033775], [-83.25540099999999, 40.033905], [-83.25527699999999, 40.03431], [-83.25524899999999, 40.034465], [-83.255214, 40.034546], [-83.25517599999999, 40.034596], [-83.25511999999999, 40.03465], [-83.255026, 40.034825999999995], [-83.254933, 40.035002], [-83.254825, 40.035063], [-83.25429199999999, 40.036139], [-83.25387599999999, 40.037136], [-83.25316, 40.038812], [-83.25263799999999, 40.040062], [-83.25255, 40.040287], [-83.252451, 40.040515], [-83.252476, 40.040589], [-83.25262699999999, 40.040982], [-83.252847, 40.041108], [-83.253018, 40.041191], [-83.253085, 40.041207], [-83.253171, 40.041247999999996], [-83.253326, 40.041298999999995], [-83.25348699999999, 40.041339], [-83.25353899999999, 40.041391999999995], [-83.253581, 40.041487], [-83.253671, 40.041567], [-83.253919, 40.041726], [-83.25398799999999, 40.04177], [-83.254455, 40.042265], [-83.25457, 40.042367999999996], [-83.25489499999999, 40.042682], [-83.2551, 40.042997], [-83.255245, 40.043319], [-83.25528299999999, 40.043454], [-83.25536699999999, 40.043523], [-83.25551, 40.043962], [-83.25562, 40.044579999999996], [-83.255629, 40.044902], [-83.255647, 40.045522999999996], [-83.255555, 40.046382], [-83.25546399999999, 40.047401], [-83.25534999999999, 40.048246999999996], [-83.255051, 40.048614], [-83.254702, 40.048781999999996], [-83.25462, 40.048826], [-83.254565, 40.04885], [-83.254527, 40.048871], [-83.25439399999999, 40.048941], [-83.25427599999999, 40.048998999999995], [-83.254159, 40.049057], [-83.25383, 40.049217999999996], [-83.239842, 40.048823], [-83.220838, 40.047883], [-83.21219599999999, 40.048069], [-83.21101, 40.059450999999996], [-83.21058699999999, 40.065276999999995], [-83.21028, 40.069072], [-83.21025399999999, 40.069272999999995], [-83.21006299999999, 40.070811], [-83.210033, 40.071054], [-83.210021, 40.071146999999996], [-83.210009, 40.071242], [-83.209887, 40.072224999999996], [-83.209524, 40.075143], [-83.20788399999999, 40.092816], [-83.20725, 40.100763], [-83.207211, 40.101247], [-83.206812, 40.10576], [-83.206273, 40.107732999999996], [-83.19614299999999, 40.107541999999995], [-83.19448899999999, 40.107484], [-83.19161199999999, 40.107437], [-83.19139799999999, 40.107431999999996], [-83.191206, 40.107428], [-83.19032399999999, 40.107409], [-83.185446, 40.107296999999996], [-83.181535, 40.107206999999995], [-83.181309, 40.107199], [-83.18042299999999, 40.107181], [-83.178699, 40.107147], [-83.178585, 40.107144999999996], [-83.178445, 40.107143], [-83.17826699999999, 40.107139], [-83.178146, 40.107137], [-83.17620099999999, 40.107144], [-83.174476, 40.107079999999996], [-83.173785, 40.107051], [-83.173703, 40.107048], [-83.17325699999999, 40.107031], [-83.172889, 40.107017], [-83.17277, 40.107012999999995], [-83.172755, 40.107012], [-83.172736, 40.107011], [-83.17263799999999, 40.107005], [-83.17215, 40.10698], [-83.170208, 40.106927], [-83.170208, 40.107073], [-83.17020099999999, 40.107459], [-83.170198, 40.107715], [-83.17019599999999, 40.107838], [-83.17019499999999, 40.107867], [-83.17019499999999, 40.107890999999995], [-83.170141, 40.112632], [-83.170141, 40.112673], [-83.170136, 40.112801], [-83.170127, 40.113482999999995], [-83.170124, 40.113866], [-83.170118, 40.114139], [-83.17011699999999, 40.114228], [-83.170093, 40.116049], [-83.170085, 40.11676], [-83.170071, 40.117702], [-83.17005999999999, 40.118556], [-83.17004899999999, 40.119349], [-83.170047, 40.119530999999995], [-83.17003299999999, 40.120549], [-83.17003, 40.120751], [-83.170009, 40.122361999999995], [-83.169985, 40.124159999999996], [-83.16996, 40.126028999999996], [-83.169957, 40.126309], [-83.16995299999999, 40.126743999999995], [-83.169932, 40.127483], [-83.169933, 40.127500999999995], [-83.16993099999999, 40.127696], [-83.169923, 40.128538], [-83.169922, 40.128679999999996], [-83.169922, 40.128825], [-83.16991999999999, 40.128943], [-83.169919, 40.129054], [-83.16991999999999, 40.129239999999996], [-83.169919, 40.129311], [-83.169916, 40.129453], [-83.169915, 40.129509999999996], [-83.16991399999999, 40.129538], [-83.16991399999999, 40.129557999999996], [-83.16991399999999, 40.129577], [-83.16991399999999, 40.129593], [-83.16991399999999, 40.129619], [-83.169913, 40.129681999999995], [-83.169912, 40.129818], [-83.16991, 40.130013999999996], [-83.169907, 40.13033], [-83.169902, 40.131022], [-83.16988599999999, 40.131588], [-83.16989699999999, 40.131792], [-83.1699, 40.13184], [-83.169913, 40.132072], [-83.16994799999999, 40.135382], [-83.169958, 40.136249], [-83.169967, 40.138566999999995], [-83.169967, 40.138704], [-83.169968, 40.13878], [-83.169968, 40.138824], [-83.169968, 40.138892999999996], [-83.169967, 40.138962], [-83.169968, 40.1391], [-83.169968, 40.139154999999995], [-83.169969, 40.13921], [-83.16998099999999, 40.143087], [-83.169358, 40.143031], [-83.169246, 40.143021], [-83.169134, 40.143011], [-83.163026, 40.142464], [-83.161733, 40.142339], [-83.161468, 40.142314], [-83.157811, 40.142222], [-83.15721599999999, 40.14221], [-83.15661899999999, 40.142199], [-83.153069, 40.142112], [-83.152874, 40.142095999999995], [-83.15282499999999, 40.142092], [-83.152604, 40.142074], [-83.151456, 40.141985], [-83.151382, 40.141971], [-83.151294, 40.141954999999996], [-83.151088, 40.141917], [-83.14905499999999, 40.141563], [-83.148429, 40.141708], [-83.144348, 40.141494], [-83.14132599999999, 40.141338], [-83.138565, 40.141192], [-83.13776899999999, 40.141151], [-83.137147, 40.141045], [-83.13716699999999, 40.140930999999995], [-83.13636799999999, 40.140921999999996], [-83.134467, 40.140902], [-83.134427, 40.140901], [-83.13425099999999, 40.140899], [-83.132971, 40.140885], [-83.132843, 40.140884], [-83.131551, 40.140828], [-83.130057, 40.140733999999995], [-83.12971399999999, 40.140701], [-83.12930899999999, 40.140702], [-83.129182, 40.140671], [-83.129007, 40.140646], [-83.128918, 40.14064], [-83.128805, 40.140639], [-83.12869599999999, 40.140648999999996], [-83.128643, 40.140662999999996], [-83.128592, 40.140677], [-83.128525, 40.140705], [-83.128456, 40.140696999999996], [-83.128418, 40.140692], [-83.127708, 40.140602], [-83.127082, 40.140574], [-83.124757, 40.140445], [-83.123976, 40.140403], [-83.12282599999999, 40.140339], [-83.122562, 40.140325], [-83.12016, 40.140195], [-83.119942, 40.140181], [-83.119593, 40.140167], [-83.118725, 40.140144], [-83.11434, 40.140007], [-83.109915, 40.139869], [-83.105559, 40.139728999999996], [-83.105441, 40.139728], [-83.104934, 40.139713], [-83.103388, 40.139671], [-83.10336, 40.139669999999995], [-83.103341, 40.139669999999995], [-83.102451, 40.139632], [-83.099904, 40.139547], [-83.097709, 40.139475999999995], [-83.089778, 40.139212], [-83.089705, 40.13921], [-83.089621, 40.139207], [-83.08950899999999, 40.139202999999995], [-83.089396, 40.139201], [-83.08937, 40.1392], [-83.089218, 40.139198], [-83.08054299999999, 40.138881], [-83.077743, 40.138777999999995], [-83.076408, 40.138731], [-83.07603, 40.138718], [-83.074598, 40.138664999999996], [-83.07204999999999, 40.138563999999995], [-83.06873999999999, 40.138453], [-83.068197, 40.138434], [-83.06761, 40.138413], [-83.067481, 40.138408], [-83.066784, 40.13838], [-83.06631399999999, 40.138363999999996], [-83.065517, 40.138337], [-83.06549, 40.138335999999995], [-83.064624, 40.138304999999995], [-83.064037, 40.138290999999995], [-83.063991, 40.138289], [-83.063975, 40.138289], [-83.063808, 40.138282], [-83.060605, 40.138163], [-83.060232, 40.138147], [-83.05944, 40.138114], [-83.05942499999999, 40.138113], [-83.05927899999999, 40.138107999999995], [-83.05895199999999, 40.138098], [-83.05739899999999, 40.138051], [-83.057267, 40.138047], [-83.042017, 40.137588], [-83.04117699999999, 40.137561], [-83.040008, 40.137519], [-83.03981499999999, 40.137512], [-83.037589, 40.137433], [-83.037491, 40.137434], [-83.03169199999999, 40.137296], [-83.031516, 40.137294], [-83.03134, 40.137291], [-83.03119799999999, 40.137283], [-83.03105099999999, 40.13728], [-83.030935, 40.137276], [-83.030901, 40.137274999999995], [-83.03085999999999, 40.137274], [-83.029386, 40.137153], [-83.02436399999999, 40.136987], [-83.01759299999999, 40.136764], [-83.017012, 40.136747], [-83.016888, 40.136731999999995], [-83.01646, 40.136721], [-83.016136, 40.136711999999996], [-83.015973, 40.136711], [-83.014963, 40.136676], [-83.014862, 40.136672999999995], [-83.014557, 40.136663], [-83.014016, 40.136644], [-83.013515, 40.136626], [-83.013474, 40.136624999999995], [-83.013441, 40.136624], [-83.013121, 40.136612], [-83.012686, 40.136598], [-83.0126, 40.136595], [-83.01258399999999, 40.136593999999995], [-83.01254999999999, 40.136593], [-83.012177, 40.136581], [-83.01188499999999, 40.136565]]], &quot;type&quot;: &quot;Polygon&quot;}, &quot;id&quot;: &quot;2&quot;, &quot;properties&quot;: {&quot;2010&quot;: 2726, &quot;2011&quot;: 14598, &quot;2012&quot;: 18245, &quot;2013&quot;: 19833, &quot;2014&quot;: 19484, &quot;2015&quot;: 19024, &quot;2016&quot;: 17064, &quot;2017&quot;: 21060, &quot;2018&quot;: 12188, &quot;2019&quot;: 9058, &quot;CTYNAME&quot;: &quot;Franklin&quot;, &quot;__folium_color&quot;: &quot;#fde725&quot;}, &quot;type&quot;: &quot;Feature&quot;}, {&quot;bbox&quot;: [-82.782495, 39.91326, -82.182823, 40.276996], &quot;geometry&quot;: {&quot;coordinates&quot;: [[[-82.761827, 40.125855], [-82.761809, 40.125898], [-82.76178399999999, 40.125963999999996], [-82.761798, 40.125979], [-82.761636, 40.128079], [-82.76145799999999, 40.130497], [-82.76142999999999, 40.130762999999995], [-82.761432, 40.130832], [-82.761426, 40.130969], [-82.76133, 40.132062999999995], [-82.761223, 40.133659], [-82.761184, 40.134332], [-82.761095, 40.135577], [-82.761082, 40.135835], [-82.76105799999999, 40.136103999999996], [-82.76091799999999, 40.138068], [-82.760903, 40.138085], [-82.76087, 40.138743999999996], [-82.76085599999999, 40.13886], [-82.76069299999999, 40.141163999999996], [-82.760655, 40.141694], [-82.760609, 40.142342], [-82.760527, 40.14329], [-82.76052299999999, 40.143343], [-82.760511, 40.14351], [-82.760482, 40.143905], [-82.760481, 40.143951], [-82.76042799999999, 40.144718999999995], [-82.760316, 40.146156], [-82.760286, 40.146547999999996], [-82.76024, 40.147], [-82.760127, 40.148492], [-82.760105, 40.148725], [-82.760048, 40.149631], [-82.759877, 40.151875], [-82.759783, 40.153105], [-82.75976299999999, 40.153389], [-82.759706, 40.154187], [-82.75956699999999, 40.155699], [-82.75953899999999, 40.156158999999995], [-82.759509, 40.156372999999995], [-82.759447, 40.157357999999995], [-82.759405, 40.157818999999996], [-82.759401, 40.157964], [-82.759186, 40.160793], [-82.759143, 40.161291999999996], [-82.759073, 40.162298], [-82.759031, 40.162696], [-82.758989, 40.163253], [-82.758974, 40.163455], [-82.758954, 40.163892], [-82.758952, 40.163931], [-82.758946, 40.164006], [-82.758917, 40.164358], [-82.75891, 40.164542999999995], [-82.758837, 40.165599], [-82.75876799999999, 40.166489], [-82.758605, 40.168838], [-82.758472, 40.170503], [-82.75841, 40.171533], [-82.758394, 40.171794], [-82.758179, 40.175128], [-82.758147, 40.175511], [-82.758138, 40.175517], [-82.75807999999999, 40.176324], [-82.757993, 40.177726], [-82.75791699999999, 40.178697], [-82.757877, 40.179367], [-82.75782099999999, 40.179933999999996], [-82.757719, 40.181394], [-82.757656, 40.182286], [-82.757595, 40.183155], [-82.757592, 40.183201], [-82.757581, 40.183355999999996], [-82.757528, 40.184294], [-82.757527, 40.184328], [-82.75752, 40.184422999999995], [-82.757508, 40.184545], [-82.757223, 40.189361], [-82.757179, 40.189654], [-82.757161, 40.189934], [-82.757137, 40.190462], [-82.757077, 40.191322], [-82.75702199999999, 40.192], [-82.756998, 40.192401], [-82.75697799999999, 40.192730999999995], [-82.756928, 40.193422999999996], [-82.756903, 40.193835], [-82.756834, 40.194637], [-82.75676899999999, 40.195723], [-82.756749, 40.195980999999996], [-82.75672399999999, 40.196307999999995], [-82.756689, 40.196753], [-82.756534, 40.198924], [-82.756526, 40.199034999999995], [-82.756512, 40.199234], [-82.756498, 40.199432], [-82.756483, 40.19957], [-82.756472, 40.199695999999996], [-82.75643699999999, 40.20017], [-82.756408, 40.200647], [-82.75640399999999, 40.200724], [-82.756396, 40.200831], [-82.756367, 40.201328], [-82.75631899999999, 40.201873], [-82.756273, 40.202489], [-82.75623399999999, 40.202908], [-82.75613899999999, 40.204298], [-82.756017, 40.205863], [-82.756014, 40.205888], [-82.756013, 40.205908], [-82.756001, 40.205932], [-82.75594699999999, 40.206665], [-82.755943, 40.206813], [-82.755937, 40.206903], [-82.755867, 40.207896], [-82.755853, 40.2081], [-82.75582, 40.208572], [-82.755718, 40.210023], [-82.75571, 40.210153], [-82.755518, 40.212894999999996], [-82.755302, 40.215989], [-82.755263, 40.216557], [-82.755152, 40.218148], [-82.754984, 40.220549999999996], [-82.75482199999999, 40.222871], [-82.754643, 40.225435999999995], [-82.754615, 40.225840999999996], [-82.754577, 40.22638], [-82.754578, 40.226417999999995], [-82.75453999999999, 40.226821], [-82.75452899999999, 40.227077], [-82.754492, 40.227394], [-82.75447799999999, 40.227514], [-82.75446699999999, 40.227658], [-82.754438, 40.227927], [-82.754398, 40.228367999999996], [-82.754392, 40.228423], [-82.754352, 40.228873], [-82.75419099999999, 40.231071], [-82.754166, 40.231415999999996], [-82.754137, 40.23189], [-82.754086, 40.232577], [-82.75406199999999, 40.232963], [-82.753951, 40.23495], [-82.753827, 40.237383], [-82.753783, 40.237974], [-82.753734, 40.238862], [-82.75364599999999, 40.240147], [-82.753602, 40.240701], [-82.75357699999999, 40.241081], [-82.753569, 40.241282999999996], [-82.753557, 40.241417999999996], [-82.753515, 40.242098], [-82.753486, 40.2425], [-82.753457, 40.242774], [-82.753445, 40.242987], [-82.75341499999999, 40.243189], [-82.753365, 40.243863999999995], [-82.753356, 40.243972], [-82.753338, 40.2442], [-82.753292, 40.244654], [-82.753267, 40.244904999999996], [-82.753249, 40.245191999999996], [-82.753194, 40.245894], [-82.753186, 40.246133], [-82.75316699999999, 40.246247], [-82.753153, 40.246407], [-82.75314999999999, 40.246451], [-82.753134, 40.246626], [-82.753118, 40.246818], [-82.75304799999999, 40.247502], [-82.752984, 40.248214], [-82.752753, 40.251295], [-82.752675, 40.252331], [-82.752584, 40.253423], [-82.752472, 40.254979], [-82.75239499999999, 40.255897], [-82.752354, 40.256557], [-82.75231099999999, 40.257087], [-82.752279, 40.257566], [-82.752253, 40.257841], [-82.75224399999999, 40.257932], [-82.75221499999999, 40.258384], [-82.75220499999999, 40.258751], [-82.75218699999999, 40.258856], [-82.752163, 40.259001], [-82.752138, 40.259282], [-82.752128, 40.259388], [-82.75210299999999, 40.259754], [-82.752061, 40.260222], [-82.75204, 40.260573], [-82.75201799999999, 40.26081], [-82.752022, 40.261010999999996], [-82.752009, 40.261092999999995], [-82.751997, 40.261167], [-82.751879, 40.262597], [-82.751848, 40.263058], [-82.75184399999999, 40.263079], [-82.751841, 40.263114], [-82.75182099999999, 40.263297], [-82.751745, 40.264299], [-82.751616, 40.265803999999996], [-82.751528, 40.266934], [-82.75150599999999, 40.267222], [-82.751423, 40.268285], [-82.75134299999999, 40.269208], [-82.75119699999999, 40.271103], [-82.751088, 40.272636999999996], [-82.75108, 40.272748], [-82.75107299999999, 40.272841], [-82.75105599999999, 40.272966], [-82.750993, 40.273796], [-82.750969, 40.274156999999995], [-82.750928, 40.274629], [-82.75074699999999, 40.276996], [-82.74711099999999, 40.276872], [-82.747016, 40.276869], [-82.73467, 40.276388999999995], [-82.731957, 40.276281999999995], [-82.731934, 40.276281], [-82.731911, 40.27628], [-82.731875, 40.276278999999995], [-82.731839, 40.276278], [-82.731664, 40.276271], [-82.73164899999999, 40.27627], [-82.731111, 40.276249], [-82.721446, 40.275867], [-82.717715, 40.27568], [-82.717548, 40.275673], [-82.71259599999999, 40.275469], [-82.70647, 40.275197999999996], [-82.706454, 40.275197], [-82.70634799999999, 40.275192], [-82.70618499999999, 40.275185], [-82.705252, 40.275135], [-82.70485699999999, 40.275124999999996], [-82.70483, 40.275124], [-82.697688, 40.274853], [-82.690781, 40.274564999999996], [-82.690765, 40.274564], [-82.68918, 40.274488999999996], [-82.686679, 40.274378], [-82.675861, 40.27398], [-82.674858, 40.273933], [-82.67423699999999, 40.273904], [-82.673666, 40.273877999999996], [-82.67351, 40.273871], [-82.67333099999999, 40.273863], [-82.67299899999999, 40.273846999999996], [-82.672961, 40.273845], [-82.672376, 40.273832], [-82.672308, 40.27383], [-82.67178299999999, 40.273801999999996], [-82.67173, 40.273799], [-82.67169799999999, 40.273798], [-82.67143399999999, 40.27379], [-82.671407, 40.273789], [-82.671059, 40.273779], [-82.670287, 40.273758], [-82.668285, 40.273654], [-82.667765, 40.273634], [-82.667401, 40.27362], [-82.667247, 40.273615], [-82.666775, 40.273599], [-82.66377, 40.273461], [-82.663185, 40.273441], [-82.662038, 40.273388], [-82.658709, 40.273241999999996], [-82.65634299999999, 40.273134999999996], [-82.656224, 40.273136], [-82.656177, 40.273137], [-82.656122, 40.273134999999996], [-82.65238099999999, 40.272971], [-82.651594, 40.272937], [-82.649127, 40.272847999999996], [-82.647637, 40.27277], [-82.645926, 40.272704999999995], [-82.645709, 40.2727], [-82.645521, 40.272695], [-82.645009, 40.272683], [-82.64420799999999, 40.272664], [-82.643182, 40.272607], [-82.64244599999999, 40.272566], [-82.641567, 40.272526], [-82.641515, 40.272523], [-82.64147, 40.272521], [-82.641295, 40.272513], [-82.641215, 40.272509], [-82.640393, 40.272465], [-82.63923299999999, 40.272417999999995], [-82.639184, 40.272414999999995], [-82.63915399999999, 40.272414], [-82.63911999999999, 40.272413], [-82.639093, 40.272411999999996], [-82.639055, 40.27241], [-82.638905, 40.272403], [-82.638865, 40.272400999999995], [-82.636709, 40.272301], [-82.635644, 40.272252], [-82.635486, 40.272245], [-82.635395, 40.272241], [-82.631981, 40.272085], [-82.631913, 40.272082], [-82.62983799999999, 40.271994], [-82.62926, 40.271963], [-82.627454, 40.271874], [-82.626818, 40.27185], [-82.62594399999999, 40.271817], [-82.625033, 40.271764], [-82.622361, 40.271636], [-82.622248, 40.271625], [-82.622226, 40.271623], [-82.62053, 40.271532], [-82.619586, 40.271481], [-82.619069, 40.271462], [-82.617492, 40.271404], [-82.615422, 40.271319], [-82.61533299999999, 40.271315], [-82.610969, 40.271116], [-82.610924, 40.271114], [-82.610839, 40.27111], [-82.610751, 40.271105], [-82.61072899999999, 40.271104], [-82.610646, 40.271100000000004], [-82.61055499999999, 40.271096], [-82.607705, 40.270955], [-82.60569199999999, 40.270866999999996], [-82.604897, 40.270815999999996], [-82.604379, 40.270793], [-82.603826, 40.270762999999995], [-82.603708, 40.270756], [-82.603679, 40.270754], [-82.60361, 40.27075], [-82.603585, 40.270748999999995], [-82.600089, 40.270585], [-82.599372, 40.270544], [-82.599424, 40.270568999999995], [-82.598838, 40.270539], [-82.59873999999999, 40.270537], [-82.59584, 40.270416999999995], [-82.593975, 40.270358], [-82.591241, 40.270271], [-82.589557, 40.27017], [-82.58573899999999, 40.269943999999995], [-82.585725, 40.269943], [-82.583967, 40.269816], [-82.581104, 40.269695], [-82.580517, 40.269767], [-82.580378, 40.269785], [-82.573923, 40.269388], [-82.573883, 40.269386999999995], [-82.573871, 40.269386999999995], [-82.573815, 40.269385], [-82.572681, 40.269355999999995], [-82.572668, 40.269355999999995], [-82.571865, 40.269335999999996], [-82.571806, 40.269334], [-82.571579, 40.269338999999995], [-82.571505, 40.269307], [-82.57146499999999, 40.2693], [-82.571311, 40.269272], [-82.569705, 40.269206], [-82.568106, 40.269138], [-82.566611, 40.269039], [-82.56374, 40.268882999999995], [-82.56208099999999, 40.268808], [-82.562046, 40.268806], [-82.561289, 40.268767], [-82.561256, 40.268766], [-82.560667, 40.268744], [-82.560642, 40.268741999999996], [-82.560215, 40.268706], [-82.55896, 40.26865], [-82.55888399999999, 40.268647], [-82.557789, 40.268597], [-82.557745, 40.268595], [-82.557695, 40.268592999999996], [-82.557659, 40.268591], [-82.557315, 40.268575], [-82.556709, 40.268546], [-82.55534, 40.268457999999995], [-82.5552, 40.26845], [-82.55424599999999, 40.268397], [-82.554163, 40.268392], [-82.551518, 40.268248], [-82.545996, 40.267986], [-82.54594999999999, 40.267981], [-82.545844, 40.267970999999996], [-82.544677, 40.267925], [-82.542531, 40.267831], [-82.54195299999999, 40.2678], [-82.541934, 40.267796], [-82.538476, 40.267617], [-82.536108, 40.26751], [-82.536062, 40.267506], [-82.535573, 40.267475], [-82.533464, 40.267375], [-82.53045499999999, 40.267226], [-82.530416, 40.267224999999996], [-82.529746, 40.267202], [-82.529718, 40.267201], [-82.52942, 40.267185999999995], [-82.529359, 40.267182999999996], [-82.52638999999999, 40.267041], [-82.526341, 40.267039], [-82.526313, 40.267036999999995], [-82.525741, 40.26701], [-82.524694, 40.266959], [-82.524622, 40.266956], [-82.52143199999999, 40.266802999999996], [-82.520622, 40.266771], [-82.519949, 40.266738], [-82.519919, 40.266737], [-82.51909599999999, 40.266697], [-82.51678, 40.266574999999996], [-82.516751, 40.266574], [-82.515659, 40.266526], [-82.515622, 40.266525], [-82.515568, 40.266521999999995], [-82.51546599999999, 40.266517], [-82.515422, 40.266515], [-82.515408, 40.266514], [-82.515371, 40.266512999999996], [-82.514321, 40.266459999999995], [-82.514194, 40.266453999999996], [-82.510302, 40.266261], [-82.51021899999999, 40.266256], [-82.507296, 40.266113999999995], [-82.506421, 40.266016], [-82.505794, 40.26602], [-82.50541899999999, 40.266022], [-82.505185, 40.266011999999996], [-82.50516499999999, 40.266011], [-82.505139, 40.266009], [-82.504798, 40.265996], [-82.504783, 40.265995], [-82.504652, 40.265991], [-82.504632, 40.265989999999995], [-82.503529, 40.26593], [-82.500717, 40.265782], [-82.500692, 40.265782], [-82.50044199999999, 40.265769], [-82.500401, 40.265767], [-82.50033599999999, 40.265764], [-82.500317, 40.265763], [-82.50030000000001, 40.265761999999995], [-82.500181, 40.265757], [-82.499911, 40.265746], [-82.499479, 40.265727], [-82.498536, 40.265685], [-82.498392, 40.265687], [-82.498279, 40.265729], [-82.498221, 40.265726], [-82.49416599999999, 40.265524], [-82.49135, 40.265404], [-82.49118399999999, 40.265395999999996], [-82.484967, 40.265077], [-82.478219, 40.264737], [-82.478195, 40.264735], [-82.476114, 40.264703], [-82.476694, 40.260551], [-82.476692, 40.260501], [-82.476665, 40.259791], [-82.476631, 40.258888999999996], [-82.476998, 40.251908], [-82.477, 40.251863], [-82.477001, 40.251846], [-82.477024, 40.25132], [-82.47704499999999, 40.250855], [-82.477046, 40.250833], [-82.477273, 40.24581], [-82.476456, 40.245782], [-82.47642499999999, 40.245781], [-82.474184, 40.245716], [-82.462763, 40.245152], [-82.46263499999999, 40.245146], [-82.462532, 40.245141], [-82.4625, 40.245138999999995], [-82.461489, 40.245062999999995], [-82.46129599999999, 40.245053999999996], [-82.45870099999999, 40.244928], [-82.458428, 40.244927], [-82.458389, 40.244931], [-82.458247, 40.244944], [-82.45822, 40.244932999999996], [-82.458199, 40.244924], [-82.458064, 40.244901], [-82.457612, 40.244878], [-82.45614499999999, 40.244823], [-82.453223, 40.244655], [-82.452692, 40.24463], [-82.452612, 40.244626], [-82.452524, 40.244623], [-82.452136, 40.244605], [-82.452114, 40.244603999999995], [-82.45209299999999, 40.244603], [-82.451943, 40.244596], [-82.451842, 40.244586], [-82.45151299999999, 40.244577], [-82.449378, 40.244479999999996], [-82.449035, 40.24446], [-82.44622199999999, 40.244337], [-82.441031, 40.2441], [-82.43853299999999, 40.243987], [-82.43741, 40.243936], [-82.436675, 40.243902999999996], [-82.435265, 40.243839], [-82.435234, 40.243837], [-82.434507, 40.243803], [-82.434007, 40.243781], [-82.433555, 40.243761], [-82.43219599999999, 40.243699], [-82.430516, 40.243623], [-82.43047299999999, 40.243624], [-82.430268, 40.243621999999995], [-82.429997, 40.243625], [-82.42998399999999, 40.243625], [-82.429948, 40.243626], [-82.429936, 40.243626], [-82.429765, 40.243628], [-82.429751, 40.243628], [-82.429608, 40.243629999999996], [-82.429572, 40.243629999999996], [-82.429192, 40.243628], [-82.42918, 40.243628], [-82.42898199999999, 40.243627], [-82.428865, 40.243627], [-82.42881, 40.243627], [-82.42854899999999, 40.243625], [-82.42827299999999, 40.243611], [-82.42822, 40.243609], [-82.427826, 40.243590999999995], [-82.427511, 40.243576], [-82.426896, 40.243533], [-82.42581899999999, 40.243497], [-82.425105, 40.243471], [-82.424796, 40.243452999999995], [-82.42388799999999, 40.243427], [-82.423367, 40.243404], [-82.423305, 40.243401], [-82.42101199999999, 40.243306], [-82.420065, 40.243266999999996], [-82.41990299999999, 40.24326], [-82.41977899999999, 40.243262], [-82.41954, 40.243257], [-82.41939699999999, 40.243241999999995], [-82.419372, 40.243252], [-82.419219, 40.24323], [-82.41819799999999, 40.243275], [-82.418145, 40.243277], [-82.41732999999999, 40.243306], [-82.41713899999999, 40.243313], [-82.417086, 40.24332], [-82.41706599999999, 40.243314], [-82.412035, 40.242923999999995], [-82.41189299999999, 40.242920999999996], [-82.41111699999999, 40.242903], [-82.409549, 40.242835], [-82.408368, 40.242782999999996], [-82.407738, 40.242768999999996], [-82.40749, 40.242759], [-82.40693, 40.242737999999996], [-82.406386, 40.242709], [-82.40297799999999, 40.242523], [-82.402918, 40.24252], [-82.400516, 40.242401], [-82.39914999999999, 40.242349999999995], [-82.39903799999999, 40.242346], [-82.398876, 40.24234], [-82.396551, 40.242249], [-82.395404, 40.242194999999995], [-82.395361, 40.242191999999996], [-82.39526699999999, 40.242187], [-82.391239, 40.242025999999996], [-82.391167, 40.242022999999996], [-82.38805099999999, 40.2419], [-82.38796099999999, 40.241897], [-82.386318, 40.241836], [-82.38515199999999, 40.241780999999996], [-82.385105, 40.241779], [-82.38314, 40.241686], [-82.38292, 40.241676], [-82.382834, 40.241672], [-82.382778, 40.24167], [-82.381714, 40.241634999999995], [-82.381295, 40.241620999999995], [-82.380561, 40.241620999999995], [-82.380411, 40.24165], [-82.380365, 40.241659], [-82.380343, 40.241662999999996], [-82.380299, 40.241671], [-82.380236, 40.241682999999995], [-82.380123, 40.241704999999996], [-82.374873, 40.241275], [-82.371074, 40.24122], [-82.369444, 40.241183], [-82.364344, 40.240957], [-82.36335, 40.240925], [-82.363173, 40.240916], [-82.36204599999999, 40.240853], [-82.360643, 40.240794], [-82.360616, 40.240793], [-82.35648599999999, 40.240598999999996], [-82.352695, 40.240455], [-82.352666, 40.240454], [-82.346317, 40.240213], [-82.33659899999999, 40.239984], [-82.336568, 40.239982999999995], [-82.333507, 40.239908], [-82.331993, 40.239871], [-82.331429, 40.239857], [-82.33104999999999, 40.239847999999995], [-82.33102, 40.239847], [-82.331004, 40.239847], [-82.33075199999999, 40.239841], [-82.330146, 40.239826], [-82.330058, 40.239824], [-82.329769, 40.239816999999995], [-82.329556, 40.239812], [-82.329402, 40.239808], [-82.329341, 40.239806], [-82.329301, 40.239805], [-82.32867499999999, 40.23979], [-82.32863499999999, 40.239788999999995], [-82.328268, 40.239779999999996], [-82.326025, 40.239725], [-82.32240499999999, 40.239683], [-82.319344, 40.239647999999995], [-82.317505, 40.239627], [-82.314129, 40.239595], [-82.31409699999999, 40.239595], [-82.31296499999999, 40.239577], [-82.312646, 40.239571999999995], [-82.31256599999999, 40.239571], [-82.312544, 40.23957], [-82.312473, 40.239568999999996], [-82.309842, 40.239526999999995], [-82.309617, 40.239525], [-82.30959899999999, 40.239525], [-82.30888499999999, 40.239518], [-82.30597999999999, 40.239478], [-82.302753, 40.239433], [-82.30249599999999, 40.23943], [-82.301284, 40.239413], [-82.301063, 40.239408999999995], [-82.298568, 40.239387], [-82.298349, 40.239385], [-82.29090699999999, 40.239315999999995], [-82.284431, 40.239287999999995], [-82.28264, 40.23928], [-82.28201, 40.239275], [-82.281953, 40.239273999999995], [-82.280942, 40.239250999999996], [-82.280895, 40.240173], [-82.28043799999999, 40.24017], [-82.279681, 40.240137], [-82.27906999999999, 40.240134999999995], [-82.27882799999999, 40.240134], [-82.27860199999999, 40.240124], [-82.278407, 40.240125], [-82.270174, 40.240182999999995], [-82.270055, 40.240182999999995], [-82.26997899999999, 40.240182999999995], [-82.269762, 40.240184], [-82.269634, 40.240184], [-82.269561, 40.240184], [-82.26954599999999, 40.240184], [-82.269514, 40.240187], [-82.269499, 40.240184], [-82.269446, 40.240184], [-82.26943299999999, 40.240184], [-82.26941599999999, 40.240184], [-82.269393, 40.240184], [-82.269362, 40.240184], [-82.269318, 40.240184], [-82.269251, 40.240184], [-82.268822, 40.240185], [-82.268506, 40.240185], [-82.268283, 40.240185], [-82.264977, 40.240187999999996], [-82.263904, 40.240168], [-82.26316, 40.240164], [-82.263144, 40.240164], [-82.26312399999999, 40.240162999999995], [-82.263089, 40.240162999999995], [-82.263044, 40.240162999999995], [-82.262996, 40.240162999999995], [-82.26297799999999, 40.240162999999995], [-82.26280299999999, 40.240162], [-82.262569, 40.240162], [-82.262232, 40.240161], [-82.25259299999999, 40.240128999999996], [-82.24987, 40.240072999999995], [-82.249218, 40.240061], [-82.248656, 40.240051], [-82.246802, 40.240017], [-82.24669899999999, 40.240016], [-82.242302, 40.239961], [-82.24071099999999, 40.23994], [-82.23987, 40.239926], [-82.23980399999999, 40.239925], [-82.22783, 40.239742], [-82.21822499999999, 40.239647], [-82.217342, 40.23964], [-82.216841, 40.239633999999995], [-82.216675, 40.239632], [-82.216242, 40.239615], [-82.215274, 40.239577], [-82.20691099999999, 40.239484999999995], [-82.197217, 40.239118999999995], [-82.19714599999999, 40.239115999999996], [-82.195911, 40.239070999999996], [-82.195506, 40.239056], [-82.195398, 40.239052], [-82.182823, 40.238624], [-82.18285999999999, 40.238037], [-82.18318699999999, 40.232935999999995], [-82.18318699999999, 40.232808], [-82.18318699999999, 40.232752], [-82.18319699999999, 40.232623], [-82.18354099999999, 40.227731999999996], [-82.18355199999999, 40.227588999999995], [-82.183488, 40.227458999999996], [-82.183492, 40.22726], [-82.18354, 40.226614], [-82.18360299999999, 40.225975], [-82.183611, 40.225891], [-82.18368699999999, 40.225404], [-82.183705, 40.225288], [-82.18373799999999, 40.225074], [-82.18389599999999, 40.223712], [-82.18448699999999, 40.213907999999996], [-82.184489, 40.213891], [-82.184702, 40.210364], [-82.184703, 40.210347], [-82.18482, 40.208386999999995], [-82.184828, 40.208252], [-82.184831, 40.208203], [-82.18484699999999, 40.207937], [-82.18485, 40.207882], [-82.184922, 40.206711], [-82.18502, 40.205104], [-82.18502099999999, 40.205079999999995], [-82.18510599999999, 40.203989], [-82.185114, 40.203874], [-82.18619799999999, 40.189971], [-82.186211, 40.189799], [-82.186739, 40.183015999999995], [-82.186785, 40.182814], [-82.18679499999999, 40.182773], [-82.18657499999999, 40.182609], [-82.18651299999999, 40.182569], [-82.186458, 40.18249], [-82.186418, 40.182398], [-82.186393, 40.182314999999996], [-82.18639399999999, 40.182145], [-82.186405, 40.181948999999996], [-82.186424, 40.181404], [-82.18648499999999, 40.180073], [-82.186579, 40.178412], [-82.186605, 40.177558999999995], [-82.187041, 40.167196], [-82.187038, 40.167151], [-82.187105, 40.16688], [-82.187136, 40.166875999999995], [-82.187212, 40.165974999999996], [-82.187219, 40.165892], [-82.187226, 40.165808999999996], [-82.187232, 40.165727], [-82.187209, 40.165594999999996], [-82.187108, 40.164952], [-82.18710399999999, 40.16493], [-82.187102, 40.164896], [-82.187103, 40.164843], [-82.18714299999999, 40.164623], [-82.187163, 40.164522999999996], [-82.18717099999999, 40.164463999999995], [-82.18718799999999, 40.164218999999996], [-82.187214, 40.163751], [-82.187225, 40.163607], [-82.187232, 40.16352], [-82.187235, 40.163492999999995], [-82.187268, 40.163191], [-82.187309, 40.162673999999996], [-82.18733499999999, 40.162195], [-82.187371, 40.16162], [-82.187383, 40.161339], [-82.18741, 40.160582], [-82.187405, 40.160219], [-82.187403, 40.160179], [-82.18739699999999, 40.160036999999996], [-82.187606, 40.157160999999995], [-82.187609, 40.157115], [-82.187619, 40.156977], [-82.187623, 40.156932], [-82.18762699999999, 40.156847], [-82.18764, 40.156594999999996], [-82.18764499999999, 40.156510999999995], [-82.187652, 40.156349], [-82.187676, 40.155863], [-82.187686, 40.155702999999995], [-82.18778499999999, 40.153748], [-82.18809, 40.147887999999995], [-82.188192, 40.145936999999996], [-82.188212, 40.145537999999995], [-82.18824, 40.145], [-82.188272, 40.144341999999995], [-82.188293, 40.143944], [-82.18836399999999, 40.142571], [-82.18857899999999, 40.138452], [-82.188632, 40.137459], [-82.18865, 40.13708], [-82.188698, 40.136146], [-82.188842, 40.133342999999996], [-82.188891, 40.13241], [-82.188902, 40.132188], [-82.188937, 40.131522], [-82.188949, 40.131301], [-82.189026, 40.129557999999996], [-82.189227, 40.125066], [-82.189257, 40.124328999999996], [-82.18933, 40.122586999999996], [-82.189332, 40.122496], [-82.18934, 40.122223], [-82.189343, 40.122133], [-82.189403, 40.121038999999996], [-82.189587, 40.11776], [-82.189649, 40.116667], [-82.189656, 40.116566999999996], [-82.189681, 40.116267], [-82.18969, 40.116167999999995], [-82.1897, 40.115949], [-82.189731, 40.115296], [-82.189742, 40.115078], [-82.189763, 40.114658999999996], [-82.189827, 40.113403999999996], [-82.189849, 40.112986], [-82.189853, 40.112837999999996], [-82.189869, 40.112393999999995], [-82.189874, 40.112246999999996], [-82.189928, 40.111108], [-82.190094, 40.107693], [-82.19015, 40.106555], [-82.190152, 40.106508999999996], [-82.190252, 40.104307], [-82.190409, 40.100874999999995], [-82.190595, 40.097567999999995], [-82.19072299999999, 40.095323], [-82.190733, 40.095129], [-82.190767, 40.094549], [-82.190776, 40.094404999999995], [-82.190777, 40.094356], [-82.190778, 40.094286], [-82.19078499999999, 40.094077], [-82.190787, 40.094007999999995], [-82.190788, 40.093989], [-82.190821, 40.093435], [-82.190924, 40.091716], [-82.19095899999999, 40.091144], [-82.190961, 40.091091], [-82.19097, 40.090936], [-82.190974, 40.090883999999996], [-82.19097599999999, 40.090844], [-82.190998, 40.090468], [-82.191003, 40.090371], [-82.19100499999999, 40.090346], [-82.191013, 40.090223], [-82.19109, 40.08891], [-82.191092, 40.088832], [-82.19111099999999, 40.088364999999996], [-82.191114, 40.088319], [-82.191175, 40.087365], [-82.19136499999999, 40.084505], [-82.191408, 40.083855], [-82.19142699999999, 40.083552999999995], [-82.191475, 40.082825], [-82.191498, 40.082471], [-82.191634, 40.080053], [-82.191853, 40.078331], [-82.191806, 40.07805], [-82.191813, 40.077982], [-82.191825, 40.07788], [-82.191845, 40.077619], [-82.191876, 40.077059999999996], [-82.191891, 40.076764], [-82.191893, 40.076751], [-82.19192199999999, 40.07638], [-82.19194999999999, 40.075914999999995], [-82.191958, 40.075658], [-82.191959, 40.075002], [-82.19197799999999, 40.074258], [-82.191991, 40.074056999999996], [-82.191992, 40.073975999999995], [-82.192011, 40.072449999999996], [-82.19238399999999, 40.065632], [-82.192399, 40.065325], [-82.19244599999999, 40.064406999999996], [-82.19246199999999, 40.064101], [-82.19246799999999, 40.063976], [-82.192486, 40.063604999999995], [-82.192493, 40.063480999999996], [-82.192494, 40.063462], [-82.192495, 40.063435], [-82.19250199999999, 40.063297999999996], [-82.192505, 40.063252999999996], [-82.192517, 40.063007999999996], [-82.192542, 40.062505], [-82.192657, 40.060264], [-82.192695, 40.059517], [-82.1927, 40.059436999999996], [-82.192739, 40.058775], [-82.192875, 40.056549], [-82.192921, 40.055808], [-82.192931, 40.05562], [-82.192961, 40.055056], [-82.192971, 40.054868], [-82.192973, 40.054826999999996], [-82.193075, 40.053004], [-82.193141, 40.051794], [-82.19355999999999, 40.04419], [-82.19363, 40.042570999999995], [-82.193765, 40.039496], [-82.193771, 40.039350999999996], [-82.19378999999999, 40.038919], [-82.19379699999999, 40.038775], [-82.19379699999999, 40.038748], [-82.193801, 40.038669999999996], [-82.193803, 40.038644], [-82.193809, 40.038489], [-82.193829, 40.038053], [-82.19382999999999, 40.038025999999995], [-82.193837, 40.037872], [-82.193844, 40.037698], [-82.193863, 40.037281], [-82.193866, 40.037209], [-82.193867, 40.037178], [-82.19387499999999, 40.037005], [-82.19387499999999, 40.036991], [-82.193877, 40.036953], [-82.193878, 40.03694], [-82.193878, 40.036923], [-82.19388099999999, 40.036871999999995], [-82.193882, 40.036856], [-82.193889, 40.036677], [-82.193913, 40.036141], [-82.193922, 40.035962999999995], [-82.193966, 40.034977999999995], [-82.194013, 40.034262], [-82.194351, 40.029164], [-82.194464, 40.027465], [-82.194513, 40.026427999999996], [-82.19466299999999, 40.023319], [-82.194713, 40.022283], [-82.194727, 40.021965], [-82.194771, 40.021011], [-82.194786, 40.020694], [-82.194818, 40.019931], [-82.19491699999999, 40.017646], [-82.19494999999999, 40.016884999999995], [-82.19494999999999, 40.016853999999995], [-82.194949, 40.016813], [-82.194947, 40.016602], [-82.194947, 40.016532], [-82.19496099999999, 40.016059], [-82.195004, 40.014641999999995], [-82.195019, 40.01417], [-82.195028, 40.013846], [-82.195059, 40.012875], [-82.19506899999999, 40.012552], [-82.195075, 40.012113], [-82.19509599999999, 40.0108], [-82.195103, 40.010362], [-82.19514, 40.00967], [-82.195252, 40.007597], [-82.19529, 40.006906], [-82.19529899999999, 40.006718], [-82.19533, 40.006153999999995], [-82.19534, 40.005967], [-82.195456, 40.004416], [-82.195782, 40.000065], [-82.195818, 39.999767], [-82.195914, 39.998977], [-82.196006, 39.998224], [-82.19612, 39.995909999999995], [-82.196289, 39.992520999999996], [-82.19647499999999, 39.988971], [-82.196597, 39.986658], [-82.196755, 39.983644999999996], [-82.196788, 39.982986], [-82.197088, 39.977047], [-82.197161, 39.9757], [-82.19726299999999, 39.975623], [-82.19728099999999, 39.975408], [-82.197278, 39.975335], [-82.197284, 39.975153999999996], [-82.197282, 39.975017], [-82.197282, 39.974965], [-82.19729699999999, 39.97462], [-82.19730299999999, 39.974505], [-82.197324, 39.974236], [-82.19739, 39.973420999999995], [-82.197413, 39.973023], [-82.197414, 39.973], [-82.197418, 39.97293], [-82.19742, 39.972912], [-82.197446, 39.972443999999996], [-82.19749499999999, 39.971591], [-82.197526, 39.971043], [-82.197553, 39.970571], [-82.197553, 39.970554], [-82.197557, 39.970487999999996], [-82.197559, 39.970467], [-82.197572, 39.970242], [-82.19758499999999, 39.970020999999996], [-82.197627, 39.969569], [-82.197649, 39.969342999999995], [-82.19765699999999, 39.969257999999996], [-82.19767999999999, 39.968973], [-82.197704, 39.968683], [-82.19771399999999, 39.968455999999996], [-82.197728, 39.968274], [-82.197749, 39.967853], [-82.197758, 39.9677], [-82.197768, 39.967479999999995], [-82.197774, 39.967334], [-82.19779299999999, 39.966896], [-82.197795, 39.966856], [-82.197797, 39.96675], [-82.19779799999999, 39.966671], [-82.19779899999999, 39.966639], [-82.19780999999999, 39.966437], [-82.197814, 39.96636], [-82.197818, 39.966299], [-82.19782599999999, 39.966166], [-82.197829, 39.96612], [-82.197834, 39.966060999999996], [-82.197834, 39.966049999999996], [-82.19788299999999, 39.965416999999995], [-82.198022, 39.963605], [-82.19802899999999, 39.963485999999996], [-82.198065, 39.962935], [-82.19806799999999, 39.962854], [-82.19806899999999, 39.962841999999995], [-82.198087, 39.962441], [-82.19809099999999, 39.962379999999996], [-82.198156, 39.961434], [-82.198185, 39.961013], [-82.198185, 39.960995], [-82.198208, 39.960528], [-82.19820899999999, 39.960497], [-82.19821499999999, 39.960386], [-82.198216, 39.960353999999995], [-82.198219, 39.960302], [-82.19822599999999, 39.960159999999995], [-82.198227, 39.960150999999996], [-82.198229, 39.960118], [-82.19823199999999, 39.960085], [-82.198239, 39.960001], [-82.198241, 39.959978], [-82.198245, 39.959935], [-82.198246, 39.959904], [-82.198256, 39.959694999999996], [-82.19825999999999, 39.959624999999996], [-82.19827099999999, 39.959385], [-82.198284, 39.959208], [-82.198313, 39.958847999999996], [-82.198368, 39.957969], [-82.198368, 39.957957], [-82.19839499999999, 39.957538], [-82.198405, 39.957377], [-82.198414, 39.957242], [-82.198449, 39.956782], [-82.198471, 39.956351], [-82.198482, 39.956143], [-82.198488, 39.956054], [-82.19850000000001, 39.955847999999996], [-82.19854, 39.955231], [-82.198542, 39.955206], [-82.198562, 39.955027], [-82.19856399999999, 39.955006999999995], [-82.198571, 39.954949], [-82.198574, 39.95493], [-82.198577, 39.954901], [-82.198595, 39.95453], [-82.198617, 39.954375], [-82.19862499999999, 39.954271999999996], [-82.198629, 39.954195999999996], [-82.19863099999999, 39.954135], [-82.19863, 39.954077], [-82.198707, 39.95241], [-82.19872099999999, 39.952116], [-82.19872199999999, 39.952087999999996], [-82.198751, 39.951465], [-82.198728, 39.950196], [-82.19877199999999, 39.95014], [-82.198843, 39.950142], [-82.2001, 39.950201], [-82.20387199999999, 39.950379999999996], [-82.20513, 39.95044], [-82.205458, 39.95045], [-82.205828, 39.950462], [-82.206441, 39.950528999999996], [-82.206722, 39.950559999999996], [-82.206769, 39.950565], [-82.207004, 39.950590999999996], [-82.207188, 39.950612], [-82.20770999999999, 39.950669999999995], [-82.20794599999999, 39.950646], [-82.207945, 39.950593999999995], [-82.207945, 39.95054], [-82.208197, 39.950539], [-82.20830000000001, 39.950539], [-82.208349, 39.95054], [-82.208497, 39.950542999999996], [-82.208547, 39.950544], [-82.211197, 39.950582], [-82.211607, 39.950694999999996], [-82.211711, 39.950725], [-82.211845, 39.950764], [-82.21189799999999, 39.950756999999996], [-82.21192099999999, 39.950738], [-82.212006, 39.95071], [-82.212064, 39.950708999999996], [-82.212203, 39.95071], [-82.21262, 39.950714999999995], [-82.21276, 39.950717], [-82.212904, 39.950714999999995], [-82.21331699999999, 39.950713], [-82.21340099999999, 39.950713], [-82.213522, 39.950716], [-82.21365399999999, 39.95072], [-82.21378299999999, 39.950725], [-82.214665, 39.950762999999995], [-82.214959, 39.950776999999995], [-82.215023, 39.950773999999996], [-82.215217, 39.950766], [-82.215282, 39.950764], [-82.215502, 39.950753999999996], [-82.216166, 39.950725], [-82.216297, 39.95072], [-82.216386, 39.950734], [-82.217513, 39.950933], [-82.217745, 39.950975], [-82.217931, 39.951142], [-82.219248, 39.951125999999995], [-82.21937, 39.951108999999995], [-82.219523, 39.951088999999996], [-82.220185, 39.951001], [-82.22035, 39.950981], [-82.220627, 39.950949], [-82.220658, 39.95095], [-82.220753, 39.950953], [-82.22078499999999, 39.950953999999996], [-82.220992, 39.950959999999995], [-82.221488, 39.950976], [-82.221614, 39.950979], [-82.221822, 39.950986], [-82.22184899999999, 39.950986], [-82.22193, 39.950989], [-82.221957, 39.95099], [-82.22227, 39.950998999999996], [-82.22321099999999, 39.951028], [-82.223525, 39.951038], [-82.223655, 39.951038], [-82.22404499999999, 39.951042], [-82.224175, 39.951043], [-82.224505, 39.951043999999996], [-82.22549699999999, 39.951046999999996], [-82.22582799999999, 39.951049], [-82.231695, 39.951074999999996], [-82.23174, 39.949106], [-82.231763, 39.94863], [-82.231786, 39.9483], [-82.23177799999999, 39.948228], [-82.231765, 39.948191], [-82.231726, 39.948079], [-82.23168, 39.947586], [-82.231692, 39.947429], [-82.231732, 39.946965999999996], [-82.231747, 39.946813999999996], [-82.231785, 39.946382], [-82.231937, 39.943919], [-82.23205, 39.942614999999996], [-82.23206499999999, 39.942475], [-82.232074, 39.942372], [-82.232325, 39.939535], [-82.23240299999999, 39.938607999999995], [-82.232669, 39.934995], [-82.23333099999999, 39.926029], [-82.23347, 39.924158999999996], [-82.233735, 39.920577], [-82.233739, 39.920547], [-82.233688, 39.920508], [-82.23366, 39.920474999999996], [-82.233644, 39.920446], [-82.233631, 39.920401999999996], [-82.23362499999999, 39.920358], [-82.23362499999999, 39.920313], [-82.233646, 39.920063999999996], [-82.233657, 39.919889], [-82.233738, 39.918703], [-82.233775, 39.918276], [-82.23380499999999, 39.917792], [-82.233823, 39.917514], [-82.23382699999999, 39.917328999999995], [-82.233818, 39.917229], [-82.233795, 39.917152], [-82.233764, 39.917105], [-82.233806, 39.916336], [-82.233932, 39.914029], [-82.23397399999999, 39.91326], [-82.234161, 39.913267999999995], [-82.241175, 39.913573], [-82.24121799999999, 39.913575], [-82.24126199999999, 39.913577], [-82.243196, 39.913671], [-82.2435, 39.913692], [-82.243579, 39.913696], [-82.243608, 39.913697], [-82.247815, 39.913866], [-82.249866, 39.913942999999996], [-82.253376, 39.914097999999996], [-82.255257, 39.914184], [-82.255382, 39.914190999999995], [-82.260801, 39.914497], [-82.263627, 39.914603], [-82.26603, 39.914694], [-82.273971, 39.914995], [-82.27520299999999, 39.91506], [-82.27522499999999, 39.915061], [-82.287393, 39.915586], [-82.28744499999999, 39.915589], [-82.289571, 39.915707999999995], [-82.289602, 39.91571], [-82.293236, 39.915889], [-82.29498799999999, 39.915976], [-82.301429, 39.916286], [-82.30145, 39.916287], [-82.301557, 39.916246], [-82.301675, 39.916227], [-82.30178, 39.916221], [-82.301876, 39.916219], [-82.301946, 39.916219999999996], [-82.302115, 39.916229], [-82.302639, 39.91625], [-82.303163, 39.916267999999995], [-82.303434, 39.916281], [-82.303685, 39.91629], [-82.304029, 39.916292], [-82.30433099999999, 39.916304], [-82.304575, 39.916315], [-82.304806, 39.916325], [-82.305195, 39.916351999999996], [-82.305848, 39.916393], [-82.30594599999999, 39.916399], [-82.306168, 39.916416999999996], [-82.306288, 39.916433], [-82.306428, 39.916446], [-82.306536, 39.916456], [-82.306626, 39.916464], [-82.307195, 39.916487], [-82.307273, 39.916494], [-82.307324, 39.916492999999996], [-82.316887, 39.916776], [-82.316947, 39.916779999999996], [-82.31895899999999, 39.916877], [-82.32553399999999, 39.917193], [-82.32682799999999, 39.917296], [-82.32694599999999, 39.917305999999996], [-82.33689799999999, 39.918003999999996], [-82.336929, 39.918005], [-82.337068, 39.918011], [-82.33709499999999, 39.918012], [-82.337108, 39.918012999999995], [-82.338124, 39.91806], [-82.34192999999999, 39.918282], [-82.34358999999999, 39.918379], [-82.348117, 39.918624], [-82.348554, 39.918647], [-82.34880199999999, 39.918661], [-82.348914, 39.918667], [-82.34897199999999, 39.91867], [-82.34899399999999, 39.918670999999996], [-82.349195, 39.918682], [-82.349293, 39.918687], [-82.34947, 39.918697], [-82.34998, 39.918724999999995], [-82.350319, 39.918744], [-82.351286, 39.918800000000005], [-82.35345099999999, 39.918924], [-82.355993, 39.91907], [-82.357559, 39.919153], [-82.358999, 39.919245], [-82.362012, 39.91941], [-82.365145, 39.919581], [-82.367111, 39.91968], [-82.36848499999999, 39.919743], [-82.368675, 39.919751999999995], [-82.36911099999999, 39.919779999999996], [-82.369584, 39.919810999999996], [-82.369772, 39.919819], [-82.36981899999999, 39.919821], [-82.371263, 39.919895], [-82.372057, 39.919936], [-82.372563, 39.919975], [-82.372781, 39.919992], [-82.373114, 39.920007], [-82.373142, 39.920007999999996], [-82.37315799999999, 39.920009], [-82.374752, 39.920082], [-82.374775, 39.920083], [-82.37679899999999, 39.920176], [-82.377754, 39.920228], [-82.37875199999999, 39.920283], [-82.38094199999999, 39.920401999999996], [-82.381114, 39.920411], [-82.383712, 39.920546], [-82.385466, 39.920638], [-82.38744, 39.920739999999995], [-82.388018, 39.920770999999995], [-82.388577, 39.9208], [-82.38861, 39.920801999999995], [-82.38869, 39.920806], [-82.389574, 39.920856], [-82.389653, 39.92086], [-82.391149, 39.920944999999996], [-82.391185, 39.920947], [-82.391229, 39.92095], [-82.39344299999999, 39.921074999999995], [-82.393462, 39.921076], [-82.39358899999999, 39.921082999999996], [-82.39380299999999, 39.921095], [-82.394423, 39.921130999999995], [-82.394537, 39.921138], [-82.39473699999999, 39.921149], [-82.396496, 39.921248999999996], [-82.396508, 39.92125], [-82.396711, 39.921261], [-82.39855899999999, 39.921366], [-82.398592, 39.921368], [-82.399951, 39.921445], [-82.40041599999999, 39.921473999999996], [-82.40120499999999, 39.921523], [-82.40262899999999, 39.921611999999996], [-82.40267, 39.921614999999996], [-82.40327599999999, 39.921652], [-82.40443499999999, 39.921715999999996], [-82.40599, 39.921802], [-82.40610099999999, 39.921808], [-82.407409, 39.921881], [-82.40866199999999, 39.921949999999995], [-82.40896699999999, 39.921966999999995], [-82.40898399999999, 39.921968], [-82.409019, 39.92197], [-82.412655, 39.922094], [-82.412888, 39.922160999999996], [-82.41295699999999, 39.922163999999995], [-82.414144, 39.922219], [-82.417208, 39.922363], [-82.418666, 39.922447], [-82.418579, 39.923424], [-82.41853499999999, 39.923919999999995], [-82.418179, 39.927935999999995], [-82.424904, 39.928183], [-82.42668499999999, 39.928247999999996], [-82.428771, 39.928326], [-82.43320299999999, 39.928593], [-82.44390399999999, 39.929238999999995], [-82.45132799999999, 39.929687], [-82.462813, 39.93038], [-82.469179, 39.927231], [-82.46977799999999, 39.926935], [-82.469844, 39.926901], [-82.47001399999999, 39.926814], [-82.47005999999999, 39.92679], [-82.470185, 39.926725999999995], [-82.473423, 39.925065], [-82.477391, 39.925263], [-82.477616, 39.925274], [-82.47816999999999, 39.925301], [-82.47946, 39.925366], [-82.48075, 39.92543], [-82.48144599999999, 39.925464999999996], [-82.482141, 39.925498999999995], [-82.483412, 39.925562], [-82.486569, 39.92572], [-82.487387, 39.925761], [-82.488205, 39.925802], [-82.488438, 39.925813999999995], [-82.49340699999999, 39.926063], [-82.493434, 39.926064], [-82.49405, 39.926095], [-82.494175, 39.926100999999996], [-82.49615, 39.926212], [-82.496783, 39.926248], [-82.497608, 39.926294999999996], [-82.497675, 39.926299], [-82.498233, 39.926331], [-82.500022, 39.92642], [-82.503203, 39.92658], [-82.50490099999999, 39.926666999999995], [-82.505534, 39.926700000000004], [-82.50563799999999, 39.926705], [-82.506063, 39.926725999999995], [-82.50640299999999, 39.926724], [-82.506743, 39.926735], [-82.506945, 39.926746], [-82.50710099999999, 39.926753999999995], [-82.507993, 39.926803], [-82.508062, 39.926805], [-82.508144, 39.926809], [-82.508448, 39.926825], [-82.508568, 39.926831], [-82.50865499999999, 39.926835], [-82.509152, 39.926859], [-82.51113, 39.926953], [-82.512873, 39.927035], [-82.512953, 39.927037999999996], [-82.517465, 39.927251], [-82.51798099999999, 39.927274], [-82.518596, 39.927301], [-82.519199, 39.927321], [-82.52067799999999, 39.927386], [-82.52192699999999, 39.927441], [-82.52197199999999, 39.927444], [-82.522266, 39.927462999999996], [-82.522729, 39.927493999999996], [-82.526327, 39.927665], [-82.526794, 39.927685], [-82.528312, 39.927749999999996], [-82.532635, 39.927972], [-82.532698, 39.927974999999996], [-82.533304, 39.928002], [-82.53378599999999, 39.928024], [-82.537759, 39.928205], [-82.542625, 39.928422999999995], [-82.54335499999999, 39.928455], [-82.54351199999999, 39.928470999999995], [-82.543717, 39.928491], [-82.543954, 39.928492999999996], [-82.545028, 39.928551], [-82.54509499999999, 39.928554], [-82.557082, 39.92906], [-82.55710499999999, 39.929061999999995], [-82.55848399999999, 39.929124], [-82.562213, 39.929289], [-82.567799, 39.929541], [-82.567852, 39.929542999999995], [-82.56922999999999, 39.9296], [-82.581282, 39.930104], [-82.581301, 39.930105999999995], [-82.581788, 39.930136], [-82.581813, 39.930156], [-82.589351, 39.930382], [-82.589621, 39.930392], [-82.591421, 39.930451999999995], [-82.601101, 39.930777], [-82.60112699999999, 39.930779], [-82.608865, 39.931089], [-82.60925, 39.931104], [-82.610427, 39.931155], [-82.615252, 39.931363], [-82.620137, 39.931551999999996], [-82.62965899999999, 39.931964], [-82.62974799999999, 39.931968], [-82.630488, 39.931975], [-82.636601, 39.932292], [-82.63941899999999, 39.932438], [-82.64902699999999, 39.932943], [-82.64902599999999, 39.932916], [-82.649611, 39.932942], [-82.652869, 39.93311], [-82.65601199999999, 39.933261], [-82.65652299999999, 39.933285], [-82.658816, 39.933392999999995], [-82.65987, 39.933445], [-82.661406, 39.933513], [-82.66483199999999, 39.933693], [-82.665303, 39.933721999999996], [-82.667915, 39.933848999999995], [-82.668301, 39.933868], [-82.668368, 39.933872], [-82.670501, 39.933976], [-82.671211, 39.934005], [-82.671639, 39.934025999999996], [-82.671719, 39.934031], [-82.672702, 39.934081], [-82.674966, 39.93419], [-82.677792, 39.934326], [-82.678148, 39.93434], [-82.680926, 39.934453999999995], [-82.680989, 39.934461], [-82.681028, 39.934458], [-82.681043, 39.934456999999995], [-82.681161, 39.934459], [-82.68118299999999, 39.93446], [-82.684296, 39.934658999999996], [-82.68444, 39.934666], [-82.687681, 39.934819], [-82.68773399999999, 39.934821], [-82.69063899999999, 39.934958], [-82.690688, 39.93496], [-82.692881, 39.935064], [-82.697184, 39.935266999999996], [-82.70662399999999, 39.935750999999996], [-82.707306, 39.935789], [-82.707415, 39.935795], [-82.713366, 39.936126], [-82.716059, 39.936256], [-82.721842, 39.936589], [-82.723123, 39.936648999999996], [-82.72886199999999, 39.936961], [-82.72890799999999, 39.936963999999996], [-82.730713, 39.937070999999996], [-82.735218, 39.937318], [-82.738895, 39.937515999999995], [-82.739159, 39.937529], [-82.739665, 39.937554], [-82.740765, 39.937633], [-82.74085699999999, 39.937638], [-82.742398, 39.937722], [-82.74436, 39.937829], [-82.74445899999999, 39.937833999999995], [-82.745577, 39.937894], [-82.747438, 39.937996], [-82.74834299999999, 39.938044999999995], [-82.74989099999999, 39.938123], [-82.754147, 39.938336], [-82.760914, 39.938676], [-82.761673, 39.938714], [-82.764701, 39.938866], [-82.76502599999999, 39.938882], [-82.765869, 39.938928], [-82.768014, 39.939043999999996], [-82.768057, 39.939046], [-82.768282, 39.939057999999996], [-82.768441, 39.939066], [-82.768805, 39.939085], [-82.771761, 39.93926], [-82.77287, 39.939326], [-82.772909, 39.939327999999996], [-82.774158, 39.939392], [-82.77423499999999, 39.939395999999995], [-82.774385, 39.939403999999996], [-82.77477499999999, 39.939423999999995], [-82.774917, 39.939431], [-82.774963, 39.939434], [-82.774999, 39.939436], [-82.775015, 39.939437], [-82.775047, 39.939437999999996], [-82.775071, 39.939439], [-82.775092, 39.93944], [-82.775157, 39.939444], [-82.7752, 39.939446], [-82.775251, 39.939448], [-82.775268, 39.939448999999996], [-82.775302, 39.939451], [-82.775335, 39.939453], [-82.775758, 39.939474], [-82.77614899999999, 39.939493999999996], [-82.77743199999999, 39.93956], [-82.777638, 39.939571], [-82.77788699999999, 39.939583], [-82.77796099999999, 39.939586], [-82.77813499999999, 39.939592999999995], [-82.778211, 39.939597], [-82.77829, 39.939600999999996], [-82.778891, 39.939627], [-82.779552, 39.939657], [-82.779609, 39.939659999999996], [-82.779693, 39.939662999999996], [-82.77972199999999, 39.939664], [-82.780731, 39.939709], [-82.781055, 39.939723], [-82.782105, 39.939769999999996], [-82.782495, 39.939662], [-82.78245799999999, 39.940016], [-82.78235, 39.941078], [-82.78232299999999, 39.941344], [-82.782314, 39.941432999999996], [-82.782277, 39.941811], [-82.782169, 39.942949], [-82.782133, 39.943328], [-82.782063, 39.944154], [-82.782012, 39.944745999999995], [-82.781959, 39.945098], [-82.78188, 39.945896], [-82.781819, 39.946779], [-82.781809, 39.946971], [-82.781809, 39.946981], [-82.781808, 39.947005], [-82.78180499999999, 39.947047999999995], [-82.781729, 39.949219], [-82.78172699999999, 39.949269], [-82.78170999999999, 39.949379], [-82.781638, 39.949859], [-82.781615, 39.950019], [-82.781604, 39.95008], [-82.781582, 39.950218], [-82.781577, 39.950264], [-82.781572, 39.950326], [-82.78157, 39.950345], [-82.781565, 39.950403], [-82.781564, 39.950423], [-82.78156299999999, 39.950433], [-82.781562, 39.950466], [-82.781562, 39.950478], [-82.781553, 39.950612], [-82.781533, 39.950927], [-82.781528, 39.951015], [-82.781528, 39.951032], [-82.781516, 39.95115], [-82.78149499999999, 39.951361999999996], [-82.78149499999999, 39.951515], [-82.78149499999999, 39.952362], [-82.781346, 39.954443999999995], [-82.781262, 39.955622999999996], [-82.781257, 39.955695999999996], [-82.781251, 39.955776], [-82.78124799999999, 39.955819], [-82.781244, 39.955875999999996], [-82.780988, 39.957719], [-82.780982, 39.95776], [-82.780828, 39.960142999999995], [-82.78082599999999, 39.960162], [-82.78064599999999, 39.962316], [-82.780568, 39.963249], [-82.780473, 39.964380999999996], [-82.78047099999999, 39.964403], [-82.780433, 39.964893], [-82.780395, 39.965404], [-82.780396, 39.965422], [-82.780401, 39.965433999999995], [-82.780328, 39.966091], [-82.780282, 39.966614], [-82.780197, 39.967625], [-82.780181, 39.967807], [-82.78013399999999, 39.968354], [-82.780119, 39.968537], [-82.78011599999999, 39.968557], [-82.78011099999999, 39.968619], [-82.78011, 39.96864], [-82.780051, 39.969319], [-82.779878, 39.971359], [-82.77982, 39.972038999999995], [-82.779803, 39.972234], [-82.77980099999999, 39.972263], [-82.779754, 39.972820999999996], [-82.779738, 39.973017], [-82.779731, 39.973089], [-82.779713, 39.973307], [-82.779707, 39.97338], [-82.77970499999999, 39.973395], [-82.779701, 39.973444], [-82.7797, 39.973459999999996], [-82.779693, 39.973546999999996], [-82.779688, 39.973594999999996], [-82.779668, 39.973816], [-82.77964999999999, 39.974042999999995], [-82.77963, 39.974281999999995], [-82.779625, 39.974334999999996], [-82.779611, 39.974497], [-82.779607, 39.974551], [-82.779546, 39.975263999999996], [-82.77953, 39.975449], [-82.77950799999999, 39.975713], [-82.779482, 39.976026], [-82.779459, 39.976293], [-82.773825, 39.976124999999996], [-82.77379599999999, 39.976422], [-82.773712, 39.977317], [-82.773684, 39.977615], [-82.773629, 39.978213], [-82.773586, 39.978699], [-82.773467, 39.98001], [-82.773414, 39.980609], [-82.773405, 39.980686999999996], [-82.773273, 39.981843], [-82.773254, 39.981997], [-82.773201, 39.982462], [-82.773184, 39.982617], [-82.77317699999999, 39.982669], [-82.77315999999999, 39.982827], [-82.77315399999999, 39.98288], [-82.773151, 39.982895], [-82.773146, 39.982943], [-82.773145, 39.98296], [-82.773138, 39.983008999999996], [-82.773121, 39.983156], [-82.773116, 39.983205999999996], [-82.773108, 39.983267], [-82.773088, 39.983452], [-82.77308099999999, 39.983514], [-82.773067, 39.983633], [-82.773026, 39.983990999999996], [-82.77301299999999, 39.984111], [-82.773003, 39.984190999999996], [-82.772976, 39.984431], [-82.772967, 39.984511999999995], [-82.772919, 39.984925], [-82.77277699999999, 39.986166999999995], [-82.77273, 39.986581], [-82.772725, 39.986616], [-82.772713, 39.986723999999995], [-82.77270899999999, 39.98676], [-82.772683, 39.987001], [-82.772677, 39.987111999999996], [-82.772667, 39.987293], [-82.772663, 39.987348999999995], [-82.772661, 39.987384999999996], [-82.772616, 39.988201], [-82.772482, 39.990652], [-82.77245099999999, 39.991242], [-82.772431, 39.991468999999995], [-82.772334, 39.992578], [-82.772302, 39.99295], [-82.77206699999999, 39.995908], [-82.77198, 39.997019], [-82.771959, 39.99727], [-82.771897, 39.998025999999996], [-82.771881, 39.998233], [-82.77188199999999, 39.998279], [-82.771881, 39.998290999999995], [-82.771881, 39.998328], [-82.771881, 39.998340999999996], [-82.77188, 39.998399], [-82.771879, 39.998453], [-82.771878, 39.998571999999996], [-82.771878, 39.998630999999996], [-82.771823, 39.999427], [-82.771776, 40.000132], [-82.77166, 40.001815], [-82.77160599999999, 40.002612], [-82.77159499999999, 40.002759999999995], [-82.77157, 40.002933999999996], [-82.771435, 40.003896999999995], [-82.771395, 40.004188], [-82.77139, 40.004218], [-82.771378, 40.00429], [-82.771379, 40.004382], [-82.771379, 40.004448], [-82.77142099999999, 40.004504], [-82.771434, 40.004511], [-82.77149, 40.00454], [-82.77155499999999, 40.004585], [-82.77157, 40.004594999999995], [-82.77158399999999, 40.004605], [-82.771564, 40.004748], [-82.771543, 40.004841], [-82.771518, 40.004919], [-82.771492, 40.004971999999995], [-82.77145999999999, 40.005029], [-82.771411, 40.005109999999995], [-82.77136399999999, 40.005513], [-82.771356, 40.00559], [-82.771333, 40.005823], [-82.771326, 40.005901], [-82.771322, 40.005924], [-82.77131299999999, 40.005992], [-82.77131, 40.006015999999995], [-82.771278, 40.006237], [-82.77118399999999, 40.0069], [-82.771154, 40.007121999999995], [-82.77114399999999, 40.007329999999996], [-82.771114, 40.007957], [-82.77110499999999, 40.008165999999996], [-82.77109399999999, 40.008216999999995], [-82.771085, 40.008372], [-82.771081, 40.008424], [-82.77105, 40.008736999999996], [-82.77095899999999, 40.009678], [-82.77092999999999, 40.009992], [-82.77073999999999, 40.01264], [-82.770719, 40.012935], [-82.770411, 40.017237], [-82.770349, 40.017919], [-82.770341, 40.017953], [-82.770226, 40.018249999999995], [-82.770125, 40.019299], [-82.770088, 40.019766], [-82.769942, 40.021799], [-82.76985499999999, 40.022876], [-82.769784, 40.023709], [-82.76977699999999, 40.023779999999995], [-82.769776, 40.023801], [-82.769717, 40.024525], [-82.769533, 40.026745], [-82.76946099999999, 40.027526], [-82.769324, 40.029069], [-82.76916899999999, 40.030926], [-82.769134, 40.031386999999995], [-82.76910699999999, 40.031698], [-82.769103, 40.031745], [-82.769049, 40.032377], [-82.76897, 40.033128999999995], [-82.76889899999999, 40.033909], [-82.768891, 40.033995999999995], [-82.768886, 40.034062999999996], [-82.768884, 40.034081], [-82.76887599999999, 40.034174], [-82.768853, 40.034416], [-82.7688, 40.034969], [-82.768737, 40.03563], [-82.768649, 40.036619], [-82.768621, 40.036955999999996], [-82.76860099999999, 40.037191], [-82.768553, 40.037745], [-82.768543, 40.037879], [-82.768526, 40.038108], [-82.768517, 40.038253], [-82.768472, 40.038723], [-82.768385, 40.039777], [-82.76828499999999, 40.041238], [-82.76820000000001, 40.042255999999995], [-82.768112, 40.043566], [-82.767989, 40.045117], [-82.767898, 40.046273], [-82.767924, 40.046955], [-82.76767699999999, 40.049234999999996], [-82.767483, 40.051027999999995], [-82.766914, 40.058206999999996], [-82.766382, 40.064903], [-82.76613499999999, 40.068027], [-82.76605699999999, 40.069016], [-82.765912, 40.070822], [-82.76588199999999, 40.071197999999995], [-82.76525699999999, 40.079012999999996], [-82.76523, 40.079350999999996], [-82.76520599999999, 40.079645], [-82.76520000000001, 40.079719999999995], [-82.76518399999999, 40.079924999999996], [-82.765142, 40.080497], [-82.764907, 40.083588], [-82.76470599999999, 40.08621], [-82.764577, 40.087911999999996], [-82.76454799999999, 40.088288], [-82.764539, 40.088415999999995], [-82.763897, 40.095776], [-82.763893, 40.095791], [-82.763882, 40.095836999999996], [-82.763879, 40.095853], [-82.763877, 40.095883], [-82.763874, 40.095935], [-82.763871, 40.095971999999996], [-82.76387, 40.096002999999996], [-82.763853, 40.096287], [-82.763841, 40.096503], [-82.763834, 40.096756], [-82.763817, 40.097007999999995], [-82.763804, 40.097139999999996], [-82.76379399999999, 40.097260999999996], [-82.763784, 40.097373], [-82.763776, 40.097424], [-82.763773, 40.097505999999996], [-82.76377099999999, 40.097528], [-82.763763, 40.097561], [-82.76375399999999, 40.097701], [-82.762941, 40.11034], [-82.7622, 40.120771999999995], [-82.76199199999999, 40.123587], [-82.761911, 40.124621999999995], [-82.761827, 40.125855]]], &quot;type&quot;: &quot;Polygon&quot;}, &quot;id&quot;: &quot;3&quot;, &quot;properties&quot;: {&quot;2010&quot;: 223, &quot;2011&quot;: 459, &quot;2012&quot;: 425, &quot;2013&quot;: 872, &quot;2014&quot;: 949, &quot;2015&quot;: 1201, &quot;2016&quot;: 1382, &quot;2017&quot;: 1624, &quot;2018&quot;: 2049, &quot;2019&quot;: 1196, &quot;CTYNAME&quot;: &quot;Licking&quot;, &quot;__folium_color&quot;: &quot;#482475&quot;}, &quot;type&quot;: &quot;Feature&quot;}, {&quot;bbox&quot;: [-83.653386, 39.695437999999996, -83.206273, 40.111486], &quot;geometry&quot;: {&quot;coordinates&quot;: [[[-83.540525, 39.917153], [-83.54039, 39.917528], [-83.53922899999999, 39.920742], [-83.539041, 39.921264], [-83.535572, 39.931353], [-83.535512, 39.931531], [-83.53546399999999, 39.931702], [-83.534594, 39.934346], [-83.533142, 39.938765], [-83.533046, 39.939057999999996], [-83.532896, 39.939516999999995], [-83.532671, 39.94021], [-83.53254, 39.940614], [-83.53251999999999, 39.940681], [-83.53243499999999, 39.940977], [-83.5323, 39.941452], [-83.532235, 39.94168], [-83.530756, 39.946469], [-83.52788799999999, 39.956311], [-83.522649, 39.972322999999996], [-83.520934, 39.977564], [-83.516329, 39.990007999999996], [-83.515981, 39.99102], [-83.514169, 39.996303999999995], [-83.51270199999999, 40.001002], [-83.511797, 40.003904], [-83.50993299999999, 40.009910999999995], [-83.51215499999999, 40.010002], [-83.516155, 40.010188], [-83.514876, 40.019588], [-83.51279699999999, 40.03584], [-83.511988, 40.042162999999995], [-83.511967, 40.042318], [-83.511788, 40.043723], [-83.511337, 40.047244], [-83.51132299999999, 40.0474], [-83.51078, 40.053424], [-83.509579, 40.060403], [-83.509568, 40.060489], [-83.508753, 40.066587], [-83.50826099999999, 40.070263], [-83.506192, 40.086942], [-83.504679, 40.102312999999995], [-83.504311, 40.106049], [-83.503714, 40.111467999999995], [-83.49988599999999, 40.111486], [-83.499164, 40.111413], [-83.49717199999999, 40.111398], [-83.496219, 40.111397], [-83.496184, 40.111397], [-83.492108, 40.111381], [-83.49104, 40.111368], [-83.488874, 40.111325], [-83.48477199999999, 40.111266], [-83.48464, 40.111264], [-83.480238, 40.111213], [-83.472769, 40.111111], [-83.46903999999999, 40.111069], [-83.46352, 40.110993], [-83.453338, 40.110913], [-83.449117, 40.11088], [-83.447231, 40.110842999999996], [-83.439739, 40.110822], [-83.429481, 40.110794], [-83.424405, 40.110761], [-83.42400099999999, 40.110757], [-83.418309, 40.1107], [-83.414614, 40.110659], [-83.408723, 40.110583], [-83.405023, 40.110524999999996], [-83.396574, 40.110453], [-83.39525499999999, 40.110434999999995], [-83.395128, 40.110437999999995], [-83.392629, 40.110405], [-83.39258699999999, 40.110405], [-83.39246, 40.110403999999996], [-83.392442, 40.110403999999996], [-83.392022, 40.110403], [-83.385542, 40.110347], [-83.382262, 40.110313999999995], [-83.378258, 40.110274], [-83.374916, 40.110240999999995], [-83.371545, 40.110206999999996], [-83.368675, 40.110161999999995], [-83.36497299999999, 40.110076], [-83.359404, 40.110059], [-83.35157, 40.110011], [-83.350583, 40.110003999999996], [-83.347478, 40.10998], [-83.346409, 40.109972], [-83.345187, 40.109956], [-83.340857, 40.10994], [-83.339173, 40.109921], [-83.328898, 40.109803], [-83.322617, 40.109738], [-83.322217, 40.109733999999996], [-83.316937, 40.109663999999995], [-83.31035299999999, 40.109593], [-83.308758, 40.109576], [-83.307001, 40.109556999999995], [-83.300106, 40.109482], [-83.29615199999999, 40.109452], [-83.29236, 40.109379], [-83.291879, 40.109366], [-83.2917, 40.109364], [-83.29162099999999, 40.109362999999995], [-83.28939299999999, 40.109334], [-83.287441, 40.109319], [-83.287274, 40.109317999999995], [-83.28598099999999, 40.109293], [-83.28523899999999, 40.109280999999996], [-83.28510299999999, 40.109279], [-83.284998, 40.109279], [-83.281814, 40.10926], [-83.28124299999999, 40.109255999999995], [-83.279861, 40.109237], [-83.27976, 40.109235999999996], [-83.279415, 40.109229], [-83.27827099999999, 40.109207], [-83.27723999999999, 40.109152], [-83.276185, 40.109094999999996], [-83.276012, 40.109091], [-83.275879, 40.109088], [-83.275853, 40.109086999999995], [-83.275621, 40.109082], [-83.274731, 40.109049], [-83.274284, 40.10904], [-83.274194, 40.109038999999996], [-83.27416, 40.109038999999996], [-83.273006, 40.109021999999996], [-83.272392, 40.108988], [-83.27183099999999, 40.108976], [-83.270454, 40.108958], [-83.26928199999999, 40.108943], [-83.26926, 40.108943], [-83.268605, 40.108934], [-83.267457, 40.108906], [-83.26620899999999, 40.108865], [-83.265627, 40.108841999999996], [-83.264941, 40.108824], [-83.264377, 40.108804], [-83.26383799999999, 40.108805], [-83.263808, 40.108802999999995], [-83.263131, 40.108765999999996], [-83.26301, 40.108759], [-83.262903, 40.108756], [-83.262846, 40.108754], [-83.262729, 40.108748999999996], [-83.259388, 40.108678], [-83.259339, 40.108677], [-83.258905, 40.108667], [-83.258822, 40.108666], [-83.258586, 40.108661], [-83.258343, 40.108655999999996], [-83.25773699999999, 40.108643], [-83.255186, 40.108579], [-83.250935, 40.108475], [-83.250438, 40.108463], [-83.245272, 40.108368999999996], [-83.240145, 40.108273], [-83.24004099999999, 40.108270999999995], [-83.23934299999999, 40.10826], [-83.237898, 40.108236], [-83.236105, 40.108205999999996], [-83.236042, 40.108205999999996], [-83.233666, 40.108176], [-83.22701599999999, 40.108073999999995], [-83.22205199999999, 40.107988999999996], [-83.215567, 40.107929], [-83.214428, 40.107918999999995], [-83.209921, 40.107816], [-83.206273, 40.107732999999996], [-83.206812, 40.10576], [-83.207211, 40.101247], [-83.20725, 40.100763], [-83.20788399999999, 40.092816], [-83.209524, 40.075143], [-83.209887, 40.072224999999996], [-83.210009, 40.071242], [-83.210021, 40.071146999999996], [-83.210033, 40.071054], [-83.21006299999999, 40.070811], [-83.21025399999999, 40.069272999999995], [-83.21028, 40.069072], [-83.21058699999999, 40.065276999999995], [-83.21101, 40.059450999999996], [-83.21219599999999, 40.048069], [-83.220838, 40.047883], [-83.239842, 40.048823], [-83.25383, 40.049217999999996], [-83.254159, 40.049057], [-83.25427599999999, 40.048998999999995], [-83.25439399999999, 40.048941], [-83.254527, 40.048871], [-83.254565, 40.04885], [-83.25462, 40.048826], [-83.254702, 40.048781999999996], [-83.255051, 40.048614], [-83.25534999999999, 40.048246999999996], [-83.25546399999999, 40.047401], [-83.255555, 40.046382], [-83.255647, 40.045522999999996], [-83.255629, 40.044902], [-83.25562, 40.044579999999996], [-83.25551, 40.043962], [-83.25536699999999, 40.043523], [-83.25528299999999, 40.043454], [-83.255245, 40.043319], [-83.2551, 40.042997], [-83.25489499999999, 40.042682], [-83.25457, 40.042367999999996], [-83.254455, 40.042265], [-83.25398799999999, 40.04177], [-83.253919, 40.041726], [-83.253671, 40.041567], [-83.253581, 40.041487], [-83.25353899999999, 40.041391999999995], [-83.25348699999999, 40.041339], [-83.253326, 40.041298999999995], [-83.253171, 40.041247999999996], [-83.253085, 40.041207], [-83.253018, 40.041191], [-83.252847, 40.041108], [-83.25262699999999, 40.040982], [-83.252476, 40.040589], [-83.252451, 40.040515], [-83.25255, 40.040287], [-83.25263799999999, 40.040062], [-83.25316, 40.038812], [-83.25387599999999, 40.037136], [-83.25429199999999, 40.036139], [-83.254825, 40.035063], [-83.254933, 40.035002], [-83.255026, 40.034825999999995], [-83.25511999999999, 40.03465], [-83.25517599999999, 40.034596], [-83.255214, 40.034546], [-83.25524899999999, 40.034465], [-83.25527699999999, 40.03431], [-83.25540099999999, 40.033905], [-83.25549199999999, 40.033775], [-83.255691, 40.033533999999996], [-83.25591299999999, 40.033190999999995], [-83.255996, 40.033071], [-83.256114, 40.032781], [-83.256115, 40.032551999999995], [-83.256232, 40.03161], [-83.25621799999999, 40.03055], [-83.255879, 40.029266], [-83.25572799999999, 40.028985999999996], [-83.255511, 40.02879], [-83.254706, 40.028712999999996], [-83.254285, 40.028717], [-83.253832, 40.028779], [-83.25340299999999, 40.028735999999995], [-83.25306599999999, 40.028608999999996], [-83.25275099999999, 40.028447], [-83.25266099999999, 40.028321], [-83.25260999999999, 40.028242999999996], [-83.252569, 40.028211999999996], [-83.252574, 40.028158999999995], [-83.252602, 40.028148], [-83.252674, 40.02811], [-83.252704, 40.028054], [-83.25278, 40.027753], [-83.252862, 40.027592999999996], [-83.252912, 40.027403], [-83.25284599999999, 40.027190999999995], [-83.252859, 40.027054], [-83.25282299999999, 40.026872], [-83.252856, 40.026768], [-83.252918, 40.026706999999995], [-83.253001, 40.026686999999995], [-83.253007, 40.026475], [-83.25298099999999, 40.02632], [-83.252922, 40.026148], [-83.252839, 40.026081999999995], [-83.25268799999999, 40.026044], [-83.252526, 40.026042], [-83.25245, 40.025884999999995], [-83.25240000000001, 40.025737], [-83.252341, 40.025562], [-83.252124, 40.02492], [-83.252068, 40.024743], [-83.251905, 40.024321], [-83.251871, 40.024232], [-83.251846, 40.023952], [-83.251825, 40.023723], [-83.251801, 40.023647], [-83.251755, 40.023498], [-83.251729, 40.023337999999995], [-83.251745, 40.023288], [-83.25186099999999, 40.023283], [-83.251976, 40.023328], [-83.252091, 40.023303], [-83.25230499999999, 40.023148], [-83.25236799999999, 40.022974], [-83.25232199999999, 40.022811999999995], [-83.252223, 40.022675], [-83.252118, 40.022427], [-83.25211399999999, 40.022217], [-83.251857, 40.021398999999995], [-83.251828, 40.020708], [-83.251722, 40.020123], [-83.25175899999999, 40.019632], [-83.252223, 40.018401999999995], [-83.252315, 40.018088], [-83.25267099999999, 40.017402], [-83.253027, 40.016919], [-83.25296399999999, 40.016729], [-83.252922, 40.016248], [-83.253027, 40.015747], [-83.253119, 40.015558], [-83.25313899999999, 40.01539], [-83.253119, 40.014959999999995], [-83.25323499999999, 40.014652999999996], [-83.25326799999999, 40.014325], [-83.25308, 40.013345], [-83.252999, 40.012886], [-83.252898, 40.012212999999996], [-83.25273, 40.011050999999995], [-83.252634, 40.010726999999996], [-83.25253599999999, 40.010464999999996], [-83.25244699999999, 40.010216], [-83.25235699999999, 40.009978], [-83.252308, 40.00985], [-83.25226599999999, 40.009724999999996], [-83.25202, 40.008981], [-83.251792, 40.008703], [-83.25168, 40.008376], [-83.251924, 40.007694], [-83.252374, 40.006912], [-83.252865, 40.006391], [-83.253518, 40.005679], [-83.254018, 40.005126], [-83.25408999999999, 40.005044999999996], [-83.254314, 40.004794], [-83.25490099999999, 40.004686], [-83.255264, 40.004528], [-83.255437, 40.004526], [-83.25563799999999, 40.004601], [-83.255966, 40.004509999999996], [-83.256171, 40.004442], [-83.25627899999999, 40.004394], [-83.256951, 40.004356], [-83.257181, 40.004343], [-83.25786599999999, 40.004629], [-83.25825499999999, 40.004779], [-83.25855299999999, 40.004822], [-83.25900399999999, 40.004736], [-83.259391, 40.004532], [-83.259587, 40.004427], [-83.259923, 40.004272], [-83.260381, 40.003805], [-83.260677, 40.003402], [-83.260877, 40.002807], [-83.260679, 40.002455], [-83.260566, 40.002396999999995], [-83.260588, 40.002244999999995], [-83.26033699999999, 40.001785], [-83.25985899999999, 40.001086], [-83.259616, 40.000906], [-83.259484, 40.000817], [-83.25931299999999, 40.000721], [-83.258917, 40.000582], [-83.258506, 40.000465], [-83.258074, 40.000278], [-83.25734899999999, 39.999853], [-83.25674, 39.999334], [-83.25652199999999, 39.999100999999996], [-83.25647, 39.999022], [-83.256328, 39.998875999999996], [-83.256091, 39.998723999999996], [-83.25585, 39.998301], [-83.255817, 39.998177], [-83.255814, 39.997792], [-83.255814, 39.997589999999995], [-83.25580699999999, 39.997417999999996], [-83.255854, 39.99722], [-83.25582399999999, 39.997113999999996], [-83.255735, 39.997008], [-83.25572799999999, 39.99682], [-83.255712, 39.996673], [-83.25564299999999, 39.996504], [-83.25550799999999, 39.996398], [-83.25540199999999, 39.996385], [-83.25527, 39.996328999999996], [-83.255027, 39.996083999999996], [-83.254131, 39.995453], [-83.253683, 39.994963999999996], [-83.252842, 39.993947], [-83.252513, 39.993226], [-83.251999, 39.992613], [-83.25153499999999, 39.992041], [-83.25109599999999, 39.991337], [-83.250546, 39.99097], [-83.249471, 39.99021], [-83.24896199999999, 39.989712], [-83.248505, 39.989235], [-83.248092, 39.988883], [-83.24766699999999, 39.988482999999995], [-83.247362, 39.988141999999996], [-83.246809, 39.987908], [-83.24642, 39.98762], [-83.246112, 39.987322999999996], [-83.24596199999999, 39.987015], [-83.24601, 39.986736], [-83.246147, 39.98641], [-83.24630599999999, 39.986231], [-83.246443, 39.986191], [-83.246483, 39.986151], [-83.24656499999999, 39.986036], [-83.246642, 39.985943], [-83.24680699999999, 39.985731], [-83.247005, 39.985562], [-83.247072, 39.985486], [-83.247118, 39.985337], [-83.247351, 39.985158999999996], [-83.247947, 39.984576], [-83.24819099999999, 39.984342], [-83.24832599999999, 39.984145], [-83.248543, 39.983937999999995], [-83.24872599999999, 39.983883999999996], [-83.24886099999999, 39.98385], [-83.249257, 39.983698], [-83.24940000000001, 39.983588], [-83.24945799999999, 39.983503], [-83.249584, 39.983349], [-83.24974399999999, 39.983270999999995], [-83.249866, 39.983236], [-83.24998, 39.983213], [-83.250123, 39.983154], [-83.25026799999999, 39.982946], [-83.250337, 39.982768], [-83.25037499999999, 39.982561], [-83.250419, 39.982366999999996], [-83.25042599999999, 39.982217], [-83.25038699999999, 39.981911], [-83.25035199999999, 39.981497], [-83.25027899999999, 39.981349], [-83.25005399999999, 39.981251], [-83.24980699999999, 39.98122], [-83.249515, 39.981122], [-83.249451, 39.980958], [-83.24942899999999, 39.98076], [-83.24940000000001, 39.980501], [-83.249397, 39.980298], [-83.249363, 39.980205], [-83.249282, 39.980070999999995], [-83.249201, 39.979938], [-83.248977, 39.978950999999995], [-83.248975, 39.978370999999996], [-83.249021, 39.978148999999995], [-83.24933899999999, 39.977956999999996], [-83.249449, 39.977917999999995], [-83.24955899999999, 39.97788], [-83.249777, 39.977813999999995], [-83.250095, 39.977657], [-83.250204, 39.977517], [-83.25023999999999, 39.977185999999996], [-83.250242, 39.976703], [-83.250219, 39.976319], [-83.25010999999999, 39.975964999999995], [-83.25004, 39.975853], [-83.249836, 39.975529], [-83.24971099999999, 39.975324], [-83.24962599999999, 39.974754], [-83.249558, 39.974402], [-83.24946899999999, 39.973684], [-83.24944099999999, 39.973400999999996], [-83.249439, 39.973169], [-83.24954199999999, 39.973054999999995], [-83.2497, 39.973017999999996], [-83.249899, 39.973006], [-83.250312, 39.972778], [-83.250531, 39.97258], [-83.250559, 39.971968], [-83.250571, 39.971598], [-83.25052199999999, 39.971115999999995], [-83.250411, 39.970711], [-83.250227, 39.970327999999995], [-83.250087, 39.97023], [-83.249876, 39.970138], [-83.249253, 39.969972], [-83.248693, 39.97013], [-83.24862499999999, 39.970264], [-83.24868699999999, 39.970476999999995], [-83.248577, 39.970774], [-83.24857399999999, 39.970988999999996], [-83.24852299999999, 39.971167], [-83.24839899999999, 39.971281999999995], [-83.24812299999999, 39.97145], [-83.247894, 39.97152], [-83.247714, 39.971514], [-83.247408, 39.971478999999995], [-83.24718999999999, 39.971343999999995], [-83.24697499999999, 39.971119], [-83.246768, 39.970698], [-83.246765, 39.970388], [-83.246792, 39.970194], [-83.24684599999999, 39.970087], [-83.246909, 39.969985], [-83.24691299999999, 39.969899], [-83.246937, 39.969805], [-83.246922, 39.969671], [-83.246848, 39.969566], [-83.246545, 39.969272], [-83.24612499999999, 39.969028], [-83.245819, 39.968778], [-83.24554499999999, 39.96828], [-83.245516, 39.967563999999996], [-83.245471, 39.967254], [-83.245502, 39.967102], [-83.24555, 39.966839], [-83.245826, 39.966338], [-83.24585499999999, 39.966285], [-83.245852, 39.965098], [-83.245875, 39.964721], [-83.245967, 39.964268], [-83.24590099999999, 39.963901], [-83.24577599999999, 39.963639], [-83.245435, 39.963288], [-83.24483099999999, 39.962869999999995], [-83.243984, 39.962396999999996], [-83.241991, 39.961414999999995], [-83.24148699999999, 39.961054999999995], [-83.240828, 39.960730999999996], [-83.24041299999999, 39.960321], [-83.24023799999999, 39.959924], [-83.240251, 39.959224999999996], [-83.24034, 39.95879], [-83.240568, 39.958448], [-83.240731, 39.958208], [-83.24095, 39.957957], [-83.24132499999999, 39.957509], [-83.24160499999999, 39.957280999999995], [-83.241682, 39.957139], [-83.24175699999999, 39.956793], [-83.241823, 39.956618], [-83.24189899999999, 39.956537], [-83.24198799999999, 39.956528999999996], [-83.242057, 39.956534999999995], [-83.242156, 39.956514], [-83.242277, 39.956367], [-83.242389, 39.955993], [-83.24242699999999, 39.955495], [-83.24237699999999, 39.954927], [-83.242317, 39.954603999999996], [-83.242183, 39.953858], [-83.24194399999999, 39.953032], [-83.241699, 39.952552], [-83.24113299999999, 39.952042], [-83.240628, 39.951465], [-83.240225, 39.951187999999995], [-83.240133, 39.951147], [-83.23968099999999, 39.950944], [-83.23931499999999, 39.950852], [-83.238643, 39.950641999999995], [-83.237935, 39.950184], [-83.237399, 39.949991], [-83.237298, 39.949954], [-83.236903, 39.949616], [-83.236544, 39.948884], [-83.236504, 39.948733], [-83.236453, 39.948544], [-83.23639899999999, 39.948344999999996], [-83.236243, 39.947725999999996], [-83.236042, 39.947429], [-83.235845, 39.947361], [-83.235765, 39.947333], [-83.23546999999999, 39.947185], [-83.235174, 39.94704], [-83.233942, 39.946494], [-83.232907, 39.945752], [-83.231865, 39.944863999999995], [-83.231689, 39.944565999999995], [-83.23157499999999, 39.944359999999996], [-83.231383, 39.943805], [-83.23119899999999, 39.943113], [-83.23119299999999, 39.942727999999995], [-83.23122699999999, 39.942225], [-83.231228, 39.942181], [-83.231233, 39.941963], [-83.231175, 39.941829999999996], [-83.231116, 39.941696], [-83.23093899999999, 39.941599], [-83.230527, 39.941372], [-83.2299, 39.941053], [-83.229137, 39.940777], [-83.228506, 39.940219], [-83.228426, 39.939854], [-83.22857599999999, 39.939301], [-83.228591, 39.93925], [-83.228676, 39.939167], [-83.229046, 39.938615], [-83.229018, 39.938309], [-83.228718, 39.937829], [-83.228156, 39.937311], [-83.227651, 39.936813], [-83.227327, 39.936358], [-83.227065, 39.935426], [-83.226922, 39.935133], [-83.22675699999999, 39.934681999999995], [-83.22665099999999, 39.934484], [-83.226467, 39.934121999999995], [-83.225937, 39.933372], [-83.22564299999999, 39.932262], [-83.22582799999999, 39.932035], [-83.227232, 39.930639], [-83.228417, 39.930096999999996], [-83.229552, 39.929375], [-83.229929, 39.929024], [-83.23029, 39.928688], [-83.230617, 39.928551999999996], [-83.23066399999999, 39.928512], [-83.230879, 39.928397], [-83.246516, 39.920038999999996], [-83.249793, 39.918392999999995], [-83.249935, 39.918324], [-83.25007699999999, 39.918254], [-83.252031, 39.917363], [-83.250878, 39.905021999999995], [-83.250824, 39.904443], [-83.250798, 39.904126999999995], [-83.25074699999999, 39.903501], [-83.25028499999999, 39.897780999999995], [-83.24976199999999, 39.891342], [-83.249467, 39.887674], [-83.247652, 39.865133], [-83.24752699999999, 39.863572999999995], [-83.247523, 39.863529], [-83.24734699999999, 39.861334], [-83.247301, 39.860777], [-83.24644099999999, 39.848827], [-83.245278, 39.832639], [-83.24502, 39.829045], [-83.245014, 39.828965], [-83.244536, 39.826069], [-83.244304, 39.824211], [-83.244202, 39.823149], [-83.24401, 39.822333], [-83.244001, 39.821514], [-83.243939, 39.819511999999996], [-83.24387899999999, 39.817433], [-83.243865, 39.815661], [-83.243843, 39.815129999999996], [-83.243659, 39.81355], [-83.243702, 39.812503], [-83.243777, 39.811645], [-83.243836, 39.810041999999996], [-83.243839, 39.809326999999996], [-83.24423, 39.807421999999995], [-83.244469, 39.803512], [-83.244519, 39.79961], [-83.24502799999999, 39.795187], [-83.24526499999999, 39.791728], [-83.24527499999999, 39.791472], [-83.245419, 39.789688999999996], [-83.245588, 39.78742], [-83.245672, 39.786291], [-83.24571399999999, 39.785883999999996], [-83.245886, 39.784074], [-83.245801, 39.782863], [-83.24613099999999, 39.779634], [-83.24656999999999, 39.776621], [-83.246714, 39.772966], [-83.246793, 39.771423999999996], [-83.246864, 39.770767], [-83.246978, 39.768194], [-83.247152, 39.765276], [-83.247168, 39.765084], [-83.247446, 39.76178], [-83.24759, 39.760365], [-83.24761, 39.760143], [-83.247834, 39.756268], [-83.247924, 39.755817], [-83.247934, 39.755781], [-83.247933, 39.755707], [-83.247976, 39.755139], [-83.24812899999999, 39.752938], [-83.248502, 39.745335], [-83.248758, 39.744231], [-83.248756, 39.744191], [-83.24875399999999, 39.744144999999996], [-83.248763, 39.744105], [-83.24876599999999, 39.744064], [-83.248896, 39.742245], [-83.248943, 39.741586], [-83.24898499999999, 39.740995999999996], [-83.249262, 39.737142], [-83.249313, 39.736426], [-83.24933899999999, 39.736064999999996], [-83.249376, 39.7355], [-83.249513, 39.733781], [-83.24966599999999, 39.732014], [-83.249669, 39.73196], [-83.249675, 39.731746], [-83.249686, 39.731719], [-83.24968199999999, 39.731663], [-83.24969899999999, 39.731474999999996], [-83.249715, 39.731255], [-83.249752, 39.730806], [-83.249788, 39.730357999999995], [-83.24979499999999, 39.730266], [-83.24980599999999, 39.730131], [-83.249811, 39.730032], [-83.249827, 39.729744], [-83.249853, 39.729399], [-83.249866, 39.729186], [-83.249899, 39.728896999999996], [-83.249915, 39.728812], [-83.249915, 39.728727], [-83.249932, 39.728528], [-83.24995799999999, 39.728224], [-83.250006, 39.727658], [-83.25005399999999, 39.727092], [-83.25009299999999, 39.726864], [-83.25012199999999, 39.726290999999996], [-83.25018999999999, 39.725488999999996], [-83.250197, 39.725407], [-83.250204, 39.725325], [-83.250211, 39.725249999999996], [-83.25021699999999, 39.725176], [-83.25021199999999, 39.725094999999996], [-83.250222, 39.724816], [-83.250253, 39.724720999999995], [-83.25026, 39.724622], [-83.25026799999999, 39.724523999999995], [-83.25101599999999, 39.714448], [-83.251136, 39.713436], [-83.25144, 39.709576], [-83.251864, 39.704211], [-83.251913, 39.703533], [-83.251999, 39.702293], [-83.25224999999999, 39.698372], [-83.25243499999999, 39.695437999999996], [-83.256123, 39.695679999999996], [-83.256205, 39.695685], [-83.256481, 39.695703], [-83.256557, 39.695707999999996], [-83.256607, 39.695712], [-83.256699, 39.695718], [-83.256721, 39.69572], [-83.256828, 39.695726], [-83.26401, 39.696107999999995], [-83.271191, 39.696491], [-83.272819, 39.696594999999995], [-83.276679, 39.696819], [-83.279282, 39.69697], [-83.285574, 39.697334], [-83.285856, 39.69735], [-83.290388, 39.697616], [-83.297251, 39.697916], [-83.297431, 39.697924], [-83.303957, 39.698209], [-83.335436, 39.69958], [-83.336687, 39.699664], [-83.340497, 39.69992], [-83.352921, 39.700395], [-83.353747, 39.700401], [-83.354804, 39.700438999999996], [-83.355682, 39.700471], [-83.357146, 39.70044], [-83.363058, 39.700738], [-83.36533899999999, 39.70082], [-83.366796, 39.700703], [-83.374927, 39.701045], [-83.382404, 39.70148], [-83.384721, 39.701554], [-83.38782499999999, 39.701724], [-83.407536, 39.702732], [-83.412824, 39.703095999999995], [-83.423189, 39.703665], [-83.437758, 39.703962], [-83.437775, 39.703962], [-83.437811, 39.703963], [-83.438589, 39.703979], [-83.460601, 39.70504], [-83.46719499999999, 39.706117], [-83.474451, 39.706481], [-83.47802899999999, 39.706181], [-83.491405, 39.707056], [-83.499884, 39.707639], [-83.502839, 39.707803], [-83.514828, 39.708583], [-83.51515599999999, 39.708604], [-83.51557, 39.708631], [-83.516891, 39.708717], [-83.528718, 39.709486999999996], [-83.53011, 39.709578], [-83.54216699999999, 39.710349], [-83.575903, 39.712379999999996], [-83.589539, 39.713165], [-83.602429, 39.71395], [-83.615257, 39.714721], [-83.619946, 39.714974], [-83.624921, 39.715165], [-83.64533399999999, 39.716513], [-83.64547, 39.716521], [-83.651342, 39.716882999999996], [-83.65333, 39.716876], [-83.653386, 39.71774], [-83.65226299999999, 39.724598], [-83.65216199999999, 39.725212], [-83.652237, 39.728663], [-83.652181, 39.729194], [-83.651048, 39.739954], [-83.65080999999999, 39.742216], [-83.650019, 39.750059], [-83.648882, 39.761115], [-83.64887499999999, 39.762084], [-83.64884699999999, 39.765844], [-83.648641, 39.768477999999995], [-83.64716899999999, 39.773029], [-83.624922, 39.771448], [-83.617412, 39.77089], [-83.61492899999999, 39.770725999999996], [-83.613723, 39.770634], [-83.61084199999999, 39.770409], [-83.607235, 39.770159], [-83.59293199999999, 39.769132], [-83.588893, 39.768778], [-83.58804099999999, 39.768778], [-83.58576599999999, 39.776095], [-83.58572099999999, 39.776254], [-83.584921, 39.779164], [-83.584006, 39.78217], [-83.582621, 39.786719999999995], [-83.580854, 39.79193], [-83.578105, 39.802126], [-83.577119, 39.806146999999996], [-83.576304, 39.808715], [-83.576303, 39.80873], [-83.574834, 39.812957999999995], [-83.573449, 39.817771], [-83.57344499999999, 39.817785], [-83.57122199999999, 39.826471], [-83.571175, 39.826631], [-83.570503, 39.828936999999996], [-83.570499, 39.828950999999996], [-83.569369, 39.832992], [-83.568474, 39.835936], [-83.568424, 39.836093999999996], [-83.56837399999999, 39.836251], [-83.56791799999999, 39.837744], [-83.56687, 39.841389], [-83.564881, 39.848225], [-83.558312, 39.868078], [-83.557514, 39.871002], [-83.557507, 39.871013], [-83.55699299999999, 39.872761], [-83.555176, 39.878994], [-83.554563, 39.880919], [-83.554315, 39.881662], [-83.552792, 39.886675], [-83.551397, 39.890718], [-83.551146, 39.891456], [-83.550958, 39.891687], [-83.54876, 39.898817], [-83.548755, 39.89883], [-83.548154, 39.900648], [-83.548109, 39.900783], [-83.547375, 39.903002], [-83.546691, 39.904164], [-83.544776, 39.907503], [-83.544326, 39.908674999999995], [-83.54369799999999, 39.909802], [-83.543399, 39.910441], [-83.543348, 39.91055], [-83.541438, 39.914626], [-83.54086199999999, 39.916219999999996], [-83.54064799999999, 39.916813999999995], [-83.540525, 39.917153]]], &quot;type&quot;: &quot;Polygon&quot;}, &quot;id&quot;: &quot;4&quot;, &quot;properties&quot;: {&quot;2010&quot;: -4, &quot;2011&quot;: -320, &quot;2012&quot;: -123, &quot;2013&quot;: 265, &quot;2014&quot;: 724, &quot;2015&quot;: 159, &quot;2016&quot;: -762, &quot;2017&quot;: 664, &quot;2018&quot;: 348, &quot;2019&quot;: 342, &quot;CTYNAME&quot;: &quot;Madison&quot;, &quot;__folium_color&quot;: &quot;#440154&quot;}, &quot;type&quot;: &quot;Feature&quot;}, {&quot;bbox&quot;: [-83.26673699999999, 39.468061999999996, -82.731518, 39.812503], &quot;geometry&quot;: {&quot;coordinates&quot;: [[[-83.013071, 39.804393999999995], [-83.01285, 39.804386], [-83.01262899999999, 39.804379], [-83.01207699999999, 39.804356], [-83.011923, 39.804348], [-83.011753, 39.804342], [-82.996353, 39.803661999999996], [-82.995892, 39.803647999999995], [-82.995228, 39.803622999999995], [-82.993755, 39.803579], [-82.993299, 39.803551999999996], [-82.993211, 39.803546999999995], [-82.993104, 39.80354], [-82.992741, 39.803518], [-82.992133, 39.803481999999995], [-82.991867, 39.803473], [-82.991563, 39.803461999999996], [-82.983885, 39.803087], [-82.98355, 39.803053999999996], [-82.983307, 39.803044], [-82.983055, 39.803034], [-82.98104699999999, 39.802955], [-82.980927, 39.802949999999996], [-82.980899, 39.802949], [-82.980749, 39.802943], [-82.98053, 39.802934], [-82.974901, 39.802713], [-82.960351, 39.802042], [-82.960289, 39.802039], [-82.957662, 39.801919], [-82.95724799999999, 39.801897], [-82.956958, 39.801885999999996], [-82.95690599999999, 39.801884], [-82.956336, 39.801859], [-82.956307, 39.801857999999996], [-82.95617299999999, 39.801852], [-82.95533999999999, 39.801818], [-82.95526199999999, 39.801815], [-82.952556, 39.801701], [-82.951179, 39.801643], [-82.94260299999999, 39.801279], [-82.941801, 39.801199], [-82.941628, 39.801182], [-82.937725, 39.801007], [-82.930542, 39.80064], [-82.92535, 39.800376], [-82.924984, 39.800357], [-82.921101, 39.800159], [-82.919085, 39.800095], [-82.918544, 39.800065], [-82.902412, 39.799167], [-82.90200399999999, 39.799119], [-82.89984299999999, 39.798935], [-82.899517, 39.798905], [-82.899429, 39.798898], [-82.899087, 39.79888], [-82.898848, 39.798867], [-82.898669, 39.798857999999996], [-82.897897, 39.798818], [-82.89609, 39.79873], [-82.895749, 39.798711999999995], [-82.895006, 39.798674], [-82.894682, 39.798656], [-82.89149599999999, 39.798477999999996], [-82.890309, 39.798411], [-82.89023, 39.798406], [-82.890101, 39.798398999999996], [-82.887677, 39.798280999999996], [-82.887007, 39.798246999999996], [-82.884704, 39.798139], [-82.88259599999999, 39.798038999999996], [-82.88090199999999, 39.797961], [-82.879515, 39.797895], [-82.877617, 39.797796999999996], [-82.876751, 39.79775], [-82.873696, 39.797579999999996], [-82.873076, 39.797537999999996], [-82.872905, 39.797529], [-82.872276, 39.797495999999995], [-82.87148499999999, 39.797463], [-82.871425, 39.79746], [-82.87129399999999, 39.797453], [-82.870302, 39.797411], [-82.870125, 39.797404], [-82.86833999999999, 39.797315], [-82.86653799999999, 39.797219999999996], [-82.864796, 39.797134], [-82.86195, 39.796983999999995], [-82.861367, 39.796957], [-82.858773, 39.796817], [-82.857286, 39.796741], [-82.855896, 39.796667], [-82.854586, 39.796594999999996], [-82.853191, 39.796524], [-82.85288, 39.796504999999996], [-82.85262399999999, 39.796496999999995], [-82.85157099999999, 39.796428999999996], [-82.848022, 39.79623], [-82.84699599999999, 39.796175999999996], [-82.84594299999999, 39.796121], [-82.845816, 39.796113999999996], [-82.844448, 39.796042], [-82.843366, 39.795975], [-82.84322499999999, 39.795966], [-82.84295499999999, 39.79595], [-82.842214, 39.795902999999996], [-82.841966, 39.795888999999995], [-82.84150000000001, 39.795864], [-82.840713, 39.795836], [-82.840575, 39.795828], [-82.840519, 39.795825], [-82.840226, 39.795808], [-82.839968, 39.795794], [-82.835657, 39.795553999999996], [-82.832323, 39.795393], [-82.82978399999999, 39.795271], [-82.82968199999999, 39.795266], [-82.82943, 39.795255], [-82.82867999999999, 39.795217], [-82.828605, 39.795213], [-82.82580999999999, 39.795077], [-82.825738, 39.795074], [-82.82564699999999, 39.795069], [-82.825588, 39.795066], [-82.824434, 39.795004], [-82.824254, 39.794996], [-82.82425599999999, 39.794978], [-82.824264, 39.794897999999996], [-82.824336, 39.794163999999995], [-82.824466, 39.792774], [-82.82460499999999, 39.791432], [-82.82477, 39.789663999999995], [-82.82490399999999, 39.788415], [-82.824936, 39.788121], [-82.824974, 39.787583], [-82.82506599999999, 39.786417], [-82.825079, 39.78613], [-82.825102, 39.78561], [-82.82512299999999, 39.785340999999995], [-82.825184, 39.784894], [-82.825251, 39.784538999999995], [-82.82534799999999, 39.784186999999996], [-82.825389, 39.784003], [-82.825402, 39.783829999999995], [-82.8254, 39.78374], [-82.825379, 39.78356], [-82.825361, 39.783291], [-82.82536499999999, 39.783021], [-82.825374, 39.782928999999996], [-82.825474, 39.781943], [-82.825509, 39.781495], [-82.825518, 39.781374], [-82.825533, 39.781182], [-82.825571, 39.780685], [-82.825606, 39.780333999999996], [-82.825617, 39.780224], [-82.825864, 39.777723], [-82.826117, 39.774938], [-82.82627099999999, 39.773322], [-82.826295, 39.773053], [-82.8263, 39.773001], [-82.82638399999999, 39.772064], [-82.826813, 39.767483999999996], [-82.826904, 39.766448], [-82.826955, 39.765823999999995], [-82.826961, 39.765755999999996], [-82.826989, 39.765418], [-82.827176, 39.763487], [-82.827237, 39.762893999999996], [-82.827294, 39.762339999999995], [-82.827319, 39.762096], [-82.82746999999999, 39.760388999999996], [-82.82771699999999, 39.757965999999996], [-82.82776899999999, 39.757337], [-82.82788, 39.756133], [-82.828136, 39.753057999999996], [-82.82816299999999, 39.752732], [-82.828214, 39.752126], [-82.82826899999999, 39.751508], [-82.8284, 39.750206], [-82.82841599999999, 39.750063], [-82.828542, 39.748895], [-82.828636, 39.747727], [-82.82885499999999, 39.745242], [-82.82886599999999, 39.745121999999995], [-82.828935, 39.744496999999996], [-82.82898399999999, 39.744046], [-82.829077, 39.743148], [-82.82921999999999, 39.741530999999995], [-82.82967, 39.736698], [-82.82969299999999, 39.736455], [-82.829976, 39.733449], [-82.830343, 39.729406999999995], [-82.830466, 39.727973], [-82.83076899999999, 39.724647], [-82.830917, 39.722864], [-82.830963, 39.722401], [-82.83098299999999, 39.722148], [-82.830989, 39.722062], [-82.83099299999999, 39.722021999999996], [-82.831002, 39.72191], [-82.831036, 39.721537999999995], [-82.83110599999999, 39.720785], [-82.83122, 39.719437], [-82.831317, 39.71854], [-82.831558, 39.716026], [-82.83187199999999, 39.712914999999995], [-82.831887, 39.712767], [-82.831893, 39.712702], [-82.831902, 39.712615], [-82.832004, 39.711476999999995], [-82.83203499999999, 39.71113], [-82.832179, 39.709525], [-82.832188, 39.709434], [-82.832216, 39.709164], [-82.832459, 39.706328], [-82.83261, 39.704892], [-82.832714, 39.703778], [-82.832736, 39.703545], [-82.83282, 39.702738], [-82.832983, 39.701032], [-82.833079, 39.700134999999996], [-82.83314999999999, 39.699369999999995], [-82.83318799999999, 39.698968], [-82.833289, 39.697981], [-82.833434, 39.696453999999996], [-82.83349, 39.695816], [-82.833685, 39.693580999999995], [-82.833773, 39.692634], [-82.834036, 39.689809], [-82.83442199999999, 39.685412], [-82.834474, 39.684923], [-82.83470299999999, 39.682427], [-82.83470899999999, 39.682361], [-82.83482599999999, 39.681014999999995], [-82.834913, 39.680208], [-82.83505799999999, 39.678681999999995], [-82.835133, 39.677811], [-82.835239, 39.676634], [-82.835281, 39.676169], [-82.83531099999999, 39.675847], [-82.835531, 39.673474], [-82.835638, 39.672343], [-82.835929, 39.669255], [-82.836081, 39.667729], [-82.836192, 39.666416999999996], [-82.836202, 39.666292], [-82.836216, 39.666076], [-82.83623, 39.665859], [-82.83624499999999, 39.665634], [-82.83626699999999, 39.665301], [-82.836281, 39.665082], [-82.836308, 39.664674], [-82.83631799999999, 39.664556999999995], [-82.83632899999999, 39.664417], [-82.836434, 39.663165], [-82.83655, 39.661542], [-82.836742, 39.659284], [-82.8369, 39.657579], [-82.836942, 39.657039999999995], [-82.836981, 39.656681], [-82.83708, 39.655508999999995], [-82.837204, 39.655443], [-82.837259, 39.6546], [-82.837514, 39.650675], [-82.837616, 39.649606], [-82.837398, 39.649592999999996], [-82.835143, 39.649485], [-82.834414, 39.649446999999995], [-82.834378, 39.649445], [-82.834411, 39.649108], [-82.834417, 39.649045], [-82.835492, 39.637792], [-82.835537, 39.637332], [-82.835689, 39.635785999999996], [-82.836103, 39.631741999999996], [-82.836165, 39.631293], [-82.83622799999999, 39.630599], [-82.83646, 39.627856], [-82.836496, 39.627494999999996], [-82.836739, 39.625063], [-82.837034, 39.622115], [-82.83704399999999, 39.622001999999995], [-82.837171, 39.620560999999995], [-82.837488, 39.617084], [-82.837711, 39.615021], [-82.837724, 39.614889999999995], [-82.83790499999999, 39.613101], [-82.837912, 39.613029999999995], [-82.838402, 39.60818], [-82.83842, 39.608002], [-82.838618, 39.606043], [-82.838663, 39.60563], [-82.83868, 39.60548], [-82.83869899999999, 39.605325], [-82.838708, 39.605253999999995], [-82.83870999999999, 39.605236], [-82.838719, 39.605146], [-82.83872199999999, 39.605118], [-82.83873, 39.605056], [-82.83874, 39.604966999999995], [-82.83874899999999, 39.604876999999995], [-82.83875599999999, 39.604787], [-82.838765, 39.604697], [-82.838771, 39.604607], [-82.838775, 39.604572], [-82.838788, 39.604428], [-82.838797, 39.604338], [-82.838805, 39.604248], [-82.838835, 39.603978999999995], [-82.838844, 39.603888999999995], [-82.838855, 39.603798999999995], [-82.838864, 39.60371], [-82.838872, 39.60362], [-82.838881, 39.60353], [-82.838889, 39.60344], [-82.838899, 39.603344], [-82.83890699999999, 39.603260999999996], [-82.838917, 39.603170999999996], [-82.838926, 39.603071], [-82.838934, 39.602990999999996], [-82.83894099999999, 39.602900999999996], [-82.838957, 39.602722], [-82.83896399999999, 39.602632], [-82.838972, 39.602542], [-82.838979, 39.602452], [-82.838985, 39.602394], [-82.838988, 39.602363], [-82.839028, 39.602004], [-82.839046, 39.601824], [-82.83905399999999, 39.601734], [-82.83906999999999, 39.601576], [-82.839072, 39.601555], [-82.83908799999999, 39.601375], [-82.839097, 39.601285], [-82.83910499999999, 39.601195], [-82.83913199999999, 39.600926], [-82.839142, 39.600836], [-82.83914999999999, 39.600747], [-82.839159, 39.600657], [-82.839167, 39.600567], [-82.839185, 39.600387], [-82.839188, 39.600345999999995], [-82.839193, 39.600297], [-82.839201, 39.600207999999995], [-82.83921, 39.600117999999995], [-82.839219, 39.600021999999996], [-82.83922799999999, 39.599938], [-82.839236, 39.59986], [-82.839246, 39.599759], [-82.83925599999999, 39.599669], [-82.83926199999999, 39.599613], [-82.83926699999999, 39.599579], [-82.839277, 39.599489999999996], [-82.839288, 39.5994], [-82.83931, 39.599212], [-82.839353, 39.598819], [-82.839365, 39.598715], [-82.839387, 39.598462999999995], [-82.83939099999999, 39.598413], [-82.839394, 39.598380999999996], [-82.839399, 39.598323], [-82.839415, 39.598143], [-82.839469, 39.597605], [-82.839474, 39.597561999999996], [-82.839479, 39.597515], [-82.839506, 39.597246], [-82.83951499999999, 39.597152], [-82.839524, 39.597066], [-82.839533, 39.596976], [-82.839553, 39.596796999999995], [-82.839558, 39.596743], [-82.839562, 39.596706999999995], [-82.83957, 39.596616999999995], [-82.83958799999999, 39.596438], [-82.83960499999999, 39.596258], [-82.839621, 39.596078], [-82.83963, 39.595988999999996], [-82.839637, 39.595923], [-82.83963899999999, 39.595898999999996], [-82.839648, 39.595808999999996], [-82.839658, 39.595718999999995], [-82.83966699999999, 39.59563], [-82.839749, 39.594893], [-82.839767, 39.594733], [-82.839771, 39.594691999999995], [-82.839777, 39.594643], [-82.83978599999999, 39.594553], [-82.83979599999999, 39.594463], [-82.839805, 39.594373999999995], [-82.83981399999999, 39.594282], [-82.839832, 39.594104], [-82.83984, 39.594014], [-82.83984699999999, 39.593925], [-82.839865, 39.593745], [-82.839873, 39.593655], [-82.8399, 39.593385999999995], [-82.83991999999999, 39.593207], [-82.839929, 39.593117], [-82.839936, 39.593053], [-82.83993799999999, 39.593027], [-82.839956, 39.592847], [-82.839963, 39.592782], [-82.83996499999999, 39.592757999999996], [-82.839974, 39.592667999999996], [-82.839984, 39.592577999999996], [-82.83999299999999, 39.592487999999996], [-82.840043, 39.59204], [-82.84006099999999, 39.59186], [-82.840069, 39.59177], [-82.840105, 39.591411], [-82.840115, 39.591322], [-82.840124, 39.591232], [-82.840133, 39.591128999999995], [-82.84013999999999, 39.591052], [-82.840147, 39.590962], [-82.84015, 39.590931], [-82.840152, 39.590906], [-82.840155, 39.590869999999995], [-82.84016299999999, 39.590782999999995], [-82.840169, 39.590714], [-82.840204, 39.590334], [-82.840316, 39.589256999999996], [-82.840464, 39.58764], [-82.840474, 39.587531999999996], [-82.840481, 39.587454], [-82.84062399999999, 39.585909], [-82.84063599999999, 39.585778999999995], [-82.840639, 39.585754], [-82.840705, 39.584945], [-82.840837, 39.583509], [-82.840949, 39.582704], [-82.840993, 39.582436], [-82.84099499999999, 39.582335], [-82.840986, 39.582212999999996], [-82.84098, 39.582135], [-82.841309, 39.581815999999996], [-82.841331, 39.581331999999996], [-82.841571, 39.577334], [-82.841624, 39.576448], [-82.841552, 39.576209], [-82.841537, 39.576122999999995], [-82.84176699999999, 39.573682], [-82.842134, 39.569784], [-82.842135, 39.569767999999996], [-82.8422, 39.569082], [-82.842502, 39.56603], [-82.84263399999999, 39.5647], [-82.84266699999999, 39.564361], [-82.842697, 39.564054], [-82.842708, 39.563947999999996], [-82.8429, 39.562014], [-82.842913, 39.562004], [-82.84294, 39.561609], [-82.842953, 39.561479999999996], [-82.842878, 39.561476], [-82.842137, 39.561434999999996], [-82.841988, 39.561426999999995], [-82.841686, 39.561409999999995], [-82.841601, 39.561405], [-82.841528, 39.561401], [-82.83906499999999, 39.561262], [-82.836186, 39.561108], [-82.83594699999999, 39.561095], [-82.833399, 39.560947], [-82.833167, 39.560929], [-82.83288, 39.560893], [-82.83259799999999, 39.560842], [-82.832377, 39.560787999999995], [-82.832263, 39.560767999999996], [-82.832146, 39.560756], [-82.832033, 39.56075], [-82.8318, 39.560752], [-82.831454, 39.560767], [-82.831105, 39.560787], [-82.830972, 39.56079], [-82.830756, 39.560795], [-82.83040799999999, 39.560786], [-82.82924799999999, 39.560724], [-82.827393, 39.560614], [-82.82691299999999, 39.560589], [-82.826881, 39.560587999999996], [-82.82652399999999, 39.560569], [-82.825138, 39.560497], [-82.824266, 39.560444], [-82.824108, 39.560435], [-82.82338999999999, 39.560392], [-82.82328799999999, 39.560386], [-82.819499, 39.560161], [-82.81830099999999, 39.560096], [-82.81824999999999, 39.560092999999995], [-82.81801, 39.56008], [-82.816968, 39.560016], [-82.816042, 39.559954], [-82.81430499999999, 39.559844999999996], [-82.810682, 39.559602999999996], [-82.80868799999999, 39.559474], [-82.808542, 39.559464999999996], [-82.807729, 39.559413], [-82.80627899999999, 39.559332], [-82.805874, 39.559307], [-82.805697, 39.559297], [-82.80562599999999, 39.559293], [-82.80529399999999, 39.55927], [-82.804926, 39.559245], [-82.804643, 39.559225999999995], [-82.803887, 39.559174999999996], [-82.803776, 39.559166999999995], [-82.803178, 39.559127], [-82.802179, 39.559059], [-82.802031, 39.559049], [-82.801711, 39.559027], [-82.800783, 39.558955], [-82.800394, 39.558927], [-82.800111, 39.558907], [-82.79995, 39.558895], [-82.798451, 39.558785], [-82.79727, 39.558699], [-82.796849, 39.558668], [-82.796718, 39.558659], [-82.794311, 39.558488], [-82.793934, 39.558465999999996], [-82.793516, 39.558442], [-82.793494, 39.558440999999995], [-82.79134499999999, 39.558296999999996], [-82.79073799999999, 39.558256], [-82.79029799999999, 39.558217], [-82.790258, 39.558214], [-82.789935, 39.558188], [-82.789822, 39.558178999999996], [-82.78851499999999, 39.558071999999996], [-82.787601, 39.558009999999996], [-82.787538, 39.558006], [-82.786979, 39.557967999999995], [-82.78103899999999, 39.557565], [-82.778528, 39.557395], [-82.778264, 39.557381], [-82.778155, 39.557375], [-82.777673, 39.557353], [-82.775759, 39.557263999999996], [-82.775714, 39.557276], [-82.77569, 39.557275], [-82.774974, 39.557227], [-82.774722, 39.557207999999996], [-82.77352599999999, 39.557117], [-82.77293399999999, 39.557072], [-82.772274, 39.557021999999996], [-82.77217, 39.557013999999995], [-82.771604, 39.556978], [-82.77142099999999, 39.556967], [-82.77054299999999, 39.556902], [-82.770448, 39.556895999999995], [-82.770247, 39.556884], [-82.76989499999999, 39.556863], [-82.76956899999999, 39.556838], [-82.76874099999999, 39.556774], [-82.768509, 39.556759], [-82.767702, 39.55668], [-82.767355, 39.556654], [-82.765964, 39.55658], [-82.764692, 39.556489], [-82.76290999999999, 39.556384], [-82.762698, 39.556371], [-82.761561, 39.556304], [-82.760519, 39.556239], [-82.75994, 39.556199], [-82.758898, 39.556151], [-82.756473, 39.555966], [-82.75543499999999, 39.555915999999996], [-82.750523, 39.55562], [-82.749878, 39.555578], [-82.74856899999999, 39.555492], [-82.747804, 39.555442], [-82.747641, 39.555431], [-82.747592, 39.555428], [-82.746207, 39.555351], [-82.745746, 39.555316], [-82.74470699999999, 39.555254], [-82.743668, 39.555181], [-82.742744, 39.555129], [-82.740718, 39.555009], [-82.740693, 39.555008], [-82.74066499999999, 39.555006], [-82.739626, 39.554930999999996], [-82.73946699999999, 39.554922], [-82.738005, 39.554837], [-82.737783, 39.554829999999995], [-82.737561, 39.554834], [-82.736976, 39.554883], [-82.73680499999999, 39.554888], [-82.73663499999999, 39.554877], [-82.73656299999999, 39.554867], [-82.736305, 39.554811], [-82.736144, 39.554766], [-82.736076, 39.554742999999995], [-82.73601099999999, 39.554717], [-82.734662, 39.554606], [-82.734228, 39.554576999999995], [-82.733594, 39.554545999999995], [-82.731518, 39.554445], [-82.732069, 39.551238999999995], [-82.73207599999999, 39.551167], [-82.732114, 39.550789], [-82.732224, 39.549597], [-82.733009, 39.54179], [-82.733633, 39.535525], [-82.73398999999999, 39.532000000000004], [-82.73451399999999, 39.526801999999996], [-82.735115, 39.520858], [-82.73548699999999, 39.517177], [-82.735618, 39.516743], [-82.735615, 39.516645], [-82.735612, 39.516534], [-82.735612, 39.516514], [-82.735625, 39.516329], [-82.735648, 39.516141999999995], [-82.73568999999999, 39.515889], [-82.735768, 39.51542], [-82.735815, 39.515062], [-82.735844, 39.514747], [-82.735861, 39.514432], [-82.735875, 39.513802], [-82.73589199999999, 39.513577999999995], [-82.73593, 39.513264], [-82.73606199999999, 39.512404], [-82.736108, 39.51204], [-82.736175, 39.511517999999995], [-82.73625299999999, 39.51095], [-82.73629199999999, 39.51067], [-82.736494, 39.508654], [-82.73653, 39.508201], [-82.736556, 39.507891], [-82.736644, 39.507038], [-82.736724, 39.506186], [-82.736796, 39.505603], [-82.736813, 39.505423], [-82.73681499999999, 39.505333], [-82.736807, 39.505244], [-82.736783, 39.505168], [-82.73674199999999, 39.505081], [-82.736716, 39.505033999999995], [-82.73662, 39.504858], [-82.736677, 39.504469], [-82.73731, 39.500063], [-82.737393, 39.500063], [-82.737405, 39.499936], [-82.737432, 39.499900000000004], [-82.737464, 39.499835999999995], [-82.737479, 39.499792], [-82.737498, 39.499686], [-82.73750299999999, 39.49966], [-82.737578, 39.498857], [-82.737759, 39.497029], [-82.737771, 39.49687], [-82.737777, 39.496789], [-82.737783, 39.496716], [-82.737798, 39.496628], [-82.73781799999999, 39.496586], [-82.737813, 39.496548], [-82.737811, 39.496533], [-82.737804, 39.496477999999996], [-82.739852, 39.478283], [-82.73988899999999, 39.477951999999995], [-82.739925, 39.477646], [-82.740014, 39.47688], [-82.74003599999999, 39.476686], [-82.740102, 39.475021999999996], [-82.740104, 39.474965], [-82.740107, 39.474909], [-82.74011, 39.474838], [-82.740113, 39.474768], [-82.740134, 39.473358], [-82.740202, 39.472527], [-82.74022699999999, 39.472305999999996], [-82.740264, 39.471968], [-82.74028799999999, 39.471753], [-82.740335, 39.471379999999996], [-82.740344, 39.471315], [-82.74037299999999, 39.4711], [-82.740417, 39.470622999999996], [-82.740445, 39.470321], [-82.740495, 39.469786], [-82.74050799999999, 39.469637999999996], [-82.740534, 39.469335], [-82.74055, 39.469152], [-82.740583, 39.468776999999996], [-82.740594, 39.468677], [-82.740612, 39.468509999999995], [-82.74062599999999, 39.468464], [-82.740639, 39.468439], [-82.74064899999999, 39.468421], [-82.740687, 39.468382999999996], [-82.740729, 39.46835], [-82.74083499999999, 39.468298999999995], [-82.74092399999999, 39.468271], [-82.74094699999999, 39.468267999999995], [-82.74101399999999, 39.468258999999996], [-82.741074, 39.468263], [-82.741227, 39.468274], [-82.74130799999999, 39.468287], [-82.741388, 39.4683], [-82.741458, 39.468308], [-82.74152699999999, 39.468316], [-82.74264199999999, 39.468444], [-82.74399, 39.468607999999996], [-82.74401, 39.468467], [-82.74516799999999, 39.468551999999995], [-82.745875, 39.468605], [-82.746455, 39.468648], [-82.747695, 39.468756], [-82.748644, 39.468837], [-82.748768, 39.468854], [-82.74987899999999, 39.468899], [-82.74999799999999, 39.468061999999996], [-82.75136599999999, 39.468140999999996], [-82.751477, 39.468143999999995], [-82.75159599999999, 39.468164], [-82.751706, 39.468174], [-82.751826, 39.468174], [-82.752056, 39.468194], [-82.752166, 39.468194], [-82.75239599999999, 39.468213999999996], [-82.752507, 39.468213999999996], [-82.75262599999999, 39.468224], [-82.752735, 39.468224], [-82.752845, 39.468233999999995], [-82.752965, 39.468233999999995], [-82.753076, 39.468244], [-82.753196, 39.468243], [-82.75341499999999, 39.468263], [-82.753525, 39.468263], [-82.75364599999999, 39.468283], [-82.753755, 39.468292999999996], [-82.754086, 39.468353], [-82.754426, 39.468382999999996], [-82.75454599999999, 39.468382999999996], [-82.75477599999999, 39.468363], [-82.754896, 39.468363], [-82.755006, 39.468353], [-82.755247, 39.468353], [-82.75535599999999, 39.468363], [-82.755476, 39.468363], [-82.755586, 39.468373], [-82.75570599999999, 39.468373], [-82.755937, 39.468393], [-82.756046, 39.468393], [-82.756276, 39.468413], [-82.756396, 39.468413], [-82.756507, 39.468423], [-82.756627, 39.468423], [-82.756856, 39.468443], [-82.75696599999999, 39.468443], [-82.75719699999999, 39.468463], [-82.757317, 39.468463], [-82.75754599999999, 39.468483], [-82.757666, 39.468483], [-82.75777599999999, 39.468492999999995], [-82.757896, 39.468492999999995], [-82.758127, 39.468513], [-82.758236, 39.468513], [-82.758466, 39.468533], [-82.758577, 39.468533], [-82.758926, 39.468562999999996], [-82.759046, 39.468562999999996], [-82.759267, 39.468582999999995], [-82.75938699999999, 39.468582999999995], [-82.759726, 39.468613], [-82.759846, 39.468613], [-82.759957, 39.468623], [-82.760077, 39.468623], [-82.760196, 39.468633], [-82.760306, 39.468633], [-82.760426, 39.468643], [-82.760536, 39.468643], [-82.760656, 39.468652999999996], [-82.760767, 39.468652999999996], [-82.760887, 39.468663], [-82.76099599999999, 39.468663], [-82.761116, 39.468672999999995], [-82.761226, 39.468672999999995], [-82.761346, 39.468683], [-82.761466, 39.468683], [-82.761577, 39.468692999999995], [-82.76180599999999, 39.468692999999995], [-82.76215599999999, 39.468723], [-82.762267, 39.468723], [-82.762726, 39.468762999999996], [-82.762846, 39.468762999999996], [-82.76307299999999, 39.468782999999995], [-82.76318599999999, 39.468793], [-82.763306, 39.468793], [-82.763536, 39.468813], [-82.76364699999999, 39.468813], [-82.76376599999999, 39.468823], [-82.763876, 39.468823], [-82.76399599999999, 39.468833], [-82.764106, 39.468833], [-82.764226, 39.468843], [-82.764346, 39.468843], [-82.76457599999999, 39.468863], [-82.764686, 39.468863], [-82.764916, 39.468883], [-82.765036, 39.468883], [-82.765146, 39.468893], [-82.765266, 39.468893], [-82.765496, 39.468913], [-82.76560599999999, 39.468913], [-82.765726, 39.468923], [-82.76583699999999, 39.468923], [-82.766066, 39.468942999999996], [-82.76618599999999, 39.468942999999996], [-82.76641599999999, 39.468962999999995], [-82.766526, 39.468962999999995], [-82.76683, 39.468989], [-82.766877, 39.468993], [-82.76699699999999, 39.468993], [-82.767226, 39.469013], [-82.767336, 39.469013], [-82.767687, 39.469043], [-82.76779599999999, 39.469043], [-82.767943, 39.469055999999995], [-82.76802599999999, 39.469062], [-82.768146, 39.469060999999996], [-82.76825699999999, 39.469069999999995], [-82.768377, 39.469069], [-82.768457, 39.469075], [-82.76850499999999, 39.469079], [-82.76860599999999, 39.469079], [-82.768726, 39.469089], [-82.768836, 39.469089], [-82.76906699999999, 39.469108999999996], [-82.769187, 39.469108999999996], [-82.769296, 39.46912], [-82.76941599999999, 39.46912], [-82.769646, 39.469139999999996], [-82.769757, 39.469139999999996], [-82.769877, 39.46915], [-82.76999699999999, 39.46915], [-82.770226, 39.469170999999996], [-82.77034599999999, 39.469170999999996], [-82.770456, 39.469181], [-82.77057599999999, 39.469181], [-82.770806, 39.469201], [-82.770926, 39.469201], [-82.771036, 39.469212], [-82.77115599999999, 39.469212], [-82.771266, 39.469221999999995], [-82.77138599999999, 39.469221999999995], [-82.771616, 39.469242], [-82.77173599999999, 39.469242], [-82.771805, 39.469246], [-82.771845, 39.469249999999995], [-82.771965, 39.469249], [-82.77207399999999, 39.46926], [-82.772195, 39.469259], [-82.772424, 39.46928], [-82.772545, 39.469279], [-82.77266399999999, 39.469291], [-82.772776, 39.46929], [-82.773004, 39.469311], [-82.773125, 39.46931], [-82.773354, 39.469331], [-82.773474, 39.469332], [-82.773585, 39.469342], [-82.77370599999999, 39.469341], [-82.773934, 39.469362], [-82.77405399999999, 39.469362], [-82.774164, 39.469372], [-82.77429599999999, 39.469373999999995], [-82.774515, 39.469392], [-82.774625, 39.469392], [-82.774745, 39.469401], [-82.774864, 39.469401], [-82.775094, 39.469421], [-82.77521399999999, 39.46942], [-82.775324, 39.469429999999996], [-82.775443, 39.469429999999996], [-82.775554, 39.46944], [-82.775673, 39.469439], [-82.775902, 39.469459], [-82.776022, 39.469459], [-82.77613199999999, 39.469468], [-82.776252, 39.469468], [-82.776482, 39.469488], [-82.776602, 39.469487], [-82.776831, 39.469507], [-82.77693, 39.469507], [-82.776955, 39.469505999999996], [-82.777171, 39.469525999999995], [-82.77729099999999, 39.469525], [-82.77752, 39.469546], [-82.77763999999999, 39.469546], [-82.77775, 39.469556], [-82.77787, 39.469555], [-82.77810000000001, 39.469575999999996], [-82.77821999999999, 39.469575], [-82.77834, 39.469586], [-82.77844999999999, 39.469584999999995], [-82.77868, 39.469606], [-82.7788, 39.469605], [-82.77891, 39.469615999999995], [-82.77902999999999, 39.469614], [-82.77926099999999, 39.469635], [-82.779381, 39.469635], [-82.77960999999999, 39.469656], [-82.77973, 39.469654999999996], [-82.779842, 39.469666], [-82.779962, 39.469665], [-82.780073, 39.469676], [-82.780193, 39.469674999999995], [-82.780422, 39.469696], [-82.780542, 39.469695], [-82.78066299999999, 39.469705], [-82.780772, 39.469705], [-82.781002, 39.469725], [-82.781122, 39.469724], [-82.781233, 39.469733999999995], [-82.781353, 39.469733999999995], [-82.781582, 39.469753999999995], [-82.781702, 39.469755], [-82.781812, 39.469764999999995], [-82.781932, 39.469764999999995], [-82.782163, 39.469785], [-82.78228299999999, 39.469785], [-82.782512, 39.469806], [-82.782624, 39.469805], [-82.782855, 39.469826], [-82.782975, 39.469825], [-82.78309399999999, 39.469834], [-82.783215, 39.469834], [-82.783445, 39.469854], [-82.783554, 39.469854], [-82.78367399999999, 39.469864], [-82.783785, 39.469864], [-82.78402299999999, 39.469885], [-82.784134, 39.469885], [-82.78425399999999, 39.469895], [-82.784363, 39.469895], [-82.78460299999999, 39.469915], [-82.784713, 39.469915], [-82.784944, 39.469936], [-82.78506399999999, 39.469933999999995], [-82.785293, 39.469955], [-82.785414, 39.469954], [-82.78552499999999, 39.469964], [-82.785645, 39.469964], [-82.785765, 39.469974], [-82.785876, 39.469974], [-82.78610599999999, 39.469994], [-82.786226, 39.469994], [-82.786346, 39.470003999999996], [-82.78645499999999, 39.470005], [-82.78668499999999, 39.470025], [-82.786805, 39.470025], [-82.78691599999999, 39.470034999999996], [-82.787036, 39.470034], [-82.78726499999999, 39.470054], [-82.787385, 39.470054], [-82.78749499999999, 39.470064], [-82.787615, 39.470064], [-82.787846, 39.470084], [-82.787966, 39.470084], [-82.788196, 39.470104], [-82.788307, 39.470104], [-82.788547, 39.470124], [-82.788657, 39.470124], [-82.788777, 39.470135], [-82.78889699999999, 39.470135], [-82.78912799999999, 39.470154], [-82.789237, 39.470154], [-82.789467, 39.470174], [-82.789587, 39.470174], [-82.78970699999999, 39.470183999999996], [-82.789818, 39.470183999999996], [-82.790047, 39.470203999999995], [-82.790167, 39.470203999999995], [-82.790517, 39.470234999999995], [-82.790627, 39.470234], [-82.790747, 39.470244], [-82.79086699999999, 39.470244], [-82.791074, 39.470264], [-82.791101, 39.470271], [-82.791208, 39.470271], [-82.791327, 39.470279999999995], [-82.791392, 39.470281], [-82.791446, 39.470281], [-82.791556, 39.470290999999996], [-82.791676, 39.470290999999996], [-82.791907, 39.470310999999995], [-82.79201599999999, 39.470310999999995], [-82.792137, 39.470321], [-82.79225699999999, 39.470321], [-82.792486, 39.470341], [-82.792596, 39.470341], [-82.792827, 39.470361], [-82.792947, 39.470361], [-82.793176, 39.470380999999996], [-82.793296, 39.470380999999996], [-82.79340599999999, 39.470391], [-82.793526, 39.470391], [-82.793757, 39.470411999999996], [-82.793877, 39.470411999999996], [-82.79399599999999, 39.470422], [-82.794106, 39.470422], [-82.794336, 39.470442], [-82.794456, 39.470442], [-82.794686, 39.470462], [-82.794806, 39.470462], [-82.795037, 39.470482], [-82.795146, 39.470482], [-82.79537599999999, 39.470501999999996], [-82.795496, 39.470501999999996], [-82.795726, 39.470521999999995], [-82.795847, 39.470521999999995], [-82.79590999999999, 39.470528], [-82.796077, 39.470543], [-82.79619699999999, 39.470543], [-82.796331, 39.470549], [-82.796425, 39.470557], [-82.79654599999999, 39.470557], [-82.796775, 39.470577], [-82.796887, 39.470577], [-82.797116, 39.470597], [-82.797237, 39.470597], [-82.797356, 39.470607], [-82.797466, 39.470607], [-82.79769499999999, 39.470627], [-82.797816, 39.470627], [-82.798046, 39.470647], [-82.79816699999999, 39.470647], [-82.798395, 39.470667], [-82.79850499999999, 39.470667], [-82.798625, 39.470676999999995], [-82.798746, 39.470676999999995], [-82.798975, 39.470697], [-82.79909599999999, 39.470697], [-82.799326, 39.470717], [-82.799436, 39.470717], [-82.79966499999999, 39.470737], [-82.799785, 39.470737], [-82.799905, 39.470746999999996], [-82.800017, 39.470746999999996], [-82.800136, 39.470757], [-82.800246, 39.470757], [-82.80047499999999, 39.470777], [-82.800596, 39.470777999999996], [-82.800825, 39.470797999999995], [-82.800946, 39.470797999999995], [-82.801056, 39.470808], [-82.801177, 39.470808], [-82.80129699999999, 39.470818], [-82.801406, 39.470818], [-82.801645, 39.470838], [-82.801756, 39.470838], [-82.801986, 39.470858], [-82.80210699999999, 39.470858], [-82.802336, 39.470878], [-82.80245699999999, 39.470878], [-82.802685, 39.470898], [-82.802796, 39.470898], [-82.803026, 39.470918], [-82.803147, 39.470918], [-82.803266, 39.470928], [-82.803376, 39.470928], [-82.80360499999999, 39.470948], [-82.803726, 39.470948], [-82.803845, 39.470957999999996], [-82.803957, 39.470957999999996], [-82.80419499999999, 39.470977999999995], [-82.804307, 39.470977999999995], [-82.804535, 39.470998], [-82.804656, 39.470998], [-82.804885, 39.471019], [-82.80500599999999, 39.471019], [-82.805235, 39.471039], [-82.805347, 39.471039], [-82.80557499999999, 39.471059], [-82.805695, 39.471059], [-82.805815, 39.471069], [-82.805926, 39.471069], [-82.806156, 39.471089], [-82.806277, 39.471089], [-82.806626, 39.471119], [-82.80674599999999, 39.471119], [-82.806975, 39.471139], [-82.807085, 39.471139], [-82.807316, 39.471159], [-82.807436, 39.471159], [-82.807666, 39.471179], [-82.807786, 39.471179], [-82.807895, 39.471188999999995], [-82.808015, 39.471188999999995], [-82.808245, 39.471209], [-82.808476, 39.471209], [-82.808705, 39.471229], [-82.808825, 39.471229], [-82.808945, 39.471239], [-82.809056, 39.47124], [-82.809405, 39.47127], [-82.809525, 39.47127], [-82.809756, 39.471289999999996], [-82.809865, 39.471289999999996], [-82.810215, 39.47132], [-82.810335, 39.47132], [-82.810565, 39.47134], [-82.810676, 39.47134], [-82.81091599999999, 39.47136], [-82.811025, 39.47136], [-82.811145, 39.47137], [-82.81126499999999, 39.47137], [-82.811375, 39.471379999999996], [-82.811495, 39.471379999999996], [-82.811606, 39.47139], [-82.811726, 39.47139], [-82.811956, 39.47141], [-82.81207599999999, 39.47141], [-82.812305, 39.47143], [-82.812415, 39.47143], [-82.812535, 39.47144], [-82.81265499999999, 39.47144], [-82.81288599999999, 39.47146], [-82.812995, 39.47146], [-82.813116, 39.47147], [-82.813225, 39.471471], [-82.813465, 39.471491], [-82.813576, 39.471491], [-82.81381499999999, 39.471511], [-82.813926, 39.471511], [-82.814155, 39.471531], [-82.814275, 39.471531], [-82.814396, 39.471540999999995], [-82.814505, 39.471540999999995], [-82.814736, 39.471561], [-82.81485599999999, 39.471561], [-82.815086, 39.471581], [-82.81520599999999, 39.471581], [-82.815315, 39.471591], [-82.815435, 39.471591], [-82.815665, 39.471610999999996], [-82.815776, 39.471610999999996], [-82.816015, 39.471630999999995], [-82.816126, 39.471630999999995], [-82.81624599999999, 39.471641], [-82.816366, 39.471641], [-82.81659499999999, 39.471661], [-82.816705, 39.471661], [-82.816825, 39.471671], [-82.81694499999999, 39.471671], [-82.81717599999999, 39.471691], [-82.817286, 39.471691], [-82.81740599999999, 39.471702], [-82.817515, 39.471702], [-82.817635, 39.471712], [-82.817756, 39.471712], [-82.817985, 39.471731999999996], [-82.818097, 39.471731999999996], [-82.818336, 39.471751999999995], [-82.818445, 39.471751999999995], [-82.81856599999999, 39.471762], [-82.818676, 39.471762], [-82.81891499999999, 39.471782], [-82.81902699999999, 39.471782], [-82.81914499999999, 39.471792], [-82.819257, 39.471792], [-82.819496, 39.471812], [-82.819606, 39.471812], [-82.819726, 39.471821999999996], [-82.819836, 39.471821999999996], [-82.81995599999999, 39.471832], [-82.820076, 39.471832], [-82.820306, 39.471852], [-82.82041699999999, 39.471852], [-82.820537, 39.471862], [-82.820646, 39.471862], [-82.820887, 39.471882], [-82.820996, 39.471882], [-82.821227, 39.471902], [-82.821347, 39.471902], [-82.821569, 39.471922], [-82.821624, 39.471922], [-82.821696, 39.471922], [-82.82192599999999, 39.471942], [-82.822046, 39.471942], [-82.822274, 39.471961], [-82.822385, 39.471961], [-82.82250499999999, 39.471970999999996], [-82.822625, 39.471970999999996], [-82.82285399999999, 39.47199], [-82.822963, 39.47199], [-82.82319299999999, 39.47201], [-82.823313, 39.472009], [-82.823432, 39.472018999999996], [-82.823543, 39.472018999999996], [-82.823663, 39.472029], [-82.823773, 39.472029], [-82.823894, 39.472038], [-82.824013, 39.472038999999995], [-82.824122, 39.472049999999996], [-82.824244, 39.472052], [-82.824364, 39.472063], [-82.824424, 39.472065], [-82.82447499999999, 39.472063999999996], [-82.82470699999999, 39.472083999999995], [-82.824826, 39.472083999999995], [-82.824947, 39.472094], [-82.82505599999999, 39.472094], [-82.82528599999999, 39.472114], [-82.82540499999999, 39.472114], [-82.825516, 39.472124], [-82.82563499999999, 39.472124], [-82.825867, 39.472144], [-82.825986, 39.472144], [-82.826217, 39.472164], [-82.826325, 39.472164], [-82.826566, 39.472183], [-82.826675, 39.472183], [-82.826916, 39.472203], [-82.827027, 39.472203], [-82.827257, 39.472223], [-82.827377, 39.472223], [-82.827497, 39.472232999999996], [-82.82760499999999, 39.472232999999996], [-82.82783599999999, 39.472252999999995], [-82.827956, 39.472252999999995], [-82.82806699999999, 39.472263], [-82.828186, 39.472263], [-82.828417, 39.472283], [-82.828531, 39.472283], [-82.82864599999999, 39.472291999999996], [-82.82876499999999, 39.472291999999996], [-82.82899599999999, 39.472311999999995], [-82.829115, 39.472311999999995], [-82.829227, 39.472322], [-82.829346, 39.472322], [-82.829467, 39.472332], [-82.829576, 39.472332], [-82.829696, 39.472342], [-82.829805, 39.472342], [-82.830046, 39.472361], [-82.83015499999999, 39.472361], [-82.830387, 39.472381], [-82.830506, 39.472381], [-82.83061699999999, 39.472390999999995], [-82.830736, 39.472390999999995], [-82.83096599999999, 39.472411], [-82.831085, 39.472411], [-82.831316, 39.472429999999996], [-82.831428, 39.472429999999996], [-82.831548, 39.47244], [-82.831667, 39.47244], [-82.831898, 39.47246], [-82.83200699999999, 39.47246], [-82.832247, 39.47248], [-82.832357, 39.47248], [-82.832477, 39.47249], [-82.832596, 39.472488999999996], [-82.83282799999999, 39.472508999999995], [-82.832938, 39.472508999999995], [-82.833058, 39.472519], [-82.833167, 39.472519], [-82.833287, 39.472529], [-82.833406, 39.472529], [-82.833517, 39.472539], [-82.833636, 39.472539], [-82.833868, 39.472558], [-82.833987, 39.472558], [-82.834098, 39.472567999999995], [-82.834217, 39.472567999999995], [-82.834448, 39.472587999999995], [-82.834558, 39.472587999999995], [-82.83479799999999, 39.472608], [-82.834909, 39.472608], [-82.835149, 39.472626999999996], [-82.835259, 39.472626999999996], [-82.835379, 39.472637], [-82.835488, 39.472637], [-82.835729, 39.472657], [-82.835838, 39.472657], [-82.836069, 39.472677], [-82.83618899999999, 39.472677], [-82.836299, 39.472687], [-82.83641899999999, 39.472687], [-82.836648, 39.472705999999995], [-82.83676799999999, 39.472705999999995], [-82.836878, 39.472716], [-82.836998, 39.472716], [-82.83722999999999, 39.472736], [-82.83735, 39.472736], [-82.83746, 39.472746], [-82.83758, 39.472746], [-82.83780999999999, 39.472764999999995], [-82.83793, 39.472764999999995], [-82.838039, 39.472775], [-82.83815899999999, 39.472775], [-82.838279, 39.472784999999995], [-82.83838999999999, 39.472784999999995], [-82.83861999999999, 39.472805], [-82.83874, 39.472805], [-82.83897, 39.472825], [-82.83909, 39.472823999999996], [-82.839199, 39.472834], [-82.839319, 39.472834], [-82.83955, 39.472854], [-82.83967, 39.472854], [-82.83977999999999, 39.472864], [-82.8399, 39.472864], [-82.840131, 39.472884], [-82.840251, 39.472884], [-82.84035999999999, 39.472894], [-82.84048, 39.472893], [-82.84060000000001, 39.472902999999995], [-82.840711, 39.472902999999995], [-82.84083, 39.472913], [-82.84094, 39.472913], [-82.841061, 39.472923], [-82.841169, 39.472923], [-82.841291, 39.472933], [-82.84141, 39.472933], [-82.84164, 39.472953], [-82.84174999999999, 39.472952], [-82.841871, 39.472961999999995], [-82.84197999999999, 39.472961999999995], [-82.842221, 39.472981999999995], [-82.84232899999999, 39.472981999999995], [-82.842451, 39.472992], [-82.84257, 39.472992], [-82.84267899999999, 39.473002], [-82.842799, 39.473002], [-82.843004, 39.473020999999996], [-82.843004, 39.473031], [-82.84303, 39.473033], [-82.84315, 39.473033], [-82.843261, 39.473043], [-82.84338, 39.473043], [-82.84361, 39.473062999999996], [-82.84383799999999, 39.473062999999996], [-82.844068, 39.473082999999995], [-82.844188, 39.473082999999995], [-82.844297, 39.473093], [-82.844537, 39.473093], [-82.84476599999999, 39.473110999999996], [-82.844995, 39.473110999999996], [-82.845226, 39.473130999999995], [-82.84534599999999, 39.473130999999995], [-82.84546499999999, 39.473141], [-82.845575, 39.473141], [-82.84569499999999, 39.473151], [-82.845804, 39.473151], [-82.845925, 39.473161], [-82.846034, 39.473161], [-82.846155, 39.473169999999996], [-82.84627499999999, 39.473169999999996], [-82.84650599999999, 39.473189999999995], [-82.846615, 39.473189999999995], [-82.846845, 39.47321], [-82.846965, 39.47321], [-82.84707399999999, 39.47322], [-82.847194, 39.47322], [-82.847425, 39.47324], [-82.847561, 39.473241], [-82.847775, 39.473259999999996], [-82.84789599999999, 39.473259999999996], [-82.848006, 39.47327], [-82.848125, 39.473271], [-82.848235, 39.473281], [-82.848355, 39.473281], [-82.848475, 39.473290999999996], [-82.84856099999999, 39.473293], [-82.848586, 39.473292], [-82.848817, 39.473312], [-82.84893699999999, 39.473312], [-82.849047, 39.473321999999996], [-82.849167, 39.473321], [-82.84928699999999, 39.473331], [-82.849395, 39.473331], [-82.849516, 39.473341], [-82.849626, 39.47334], [-82.849858, 39.47336], [-82.849978, 39.47336], [-82.850098, 39.473369], [-82.850207, 39.473369], [-82.85032799999999, 39.473379], [-82.850447, 39.473379], [-82.850557, 39.473388], [-82.85067599999999, 39.473388], [-82.85090699999999, 39.473408], [-82.85099799999999, 39.473409], [-82.85102599999999, 39.473407], [-82.851136, 39.473417], [-82.851365, 39.473416], [-82.85160499999999, 39.473436], [-82.851714, 39.473436], [-82.851942, 39.473455], [-82.85206199999999, 39.473455], [-82.852172, 39.473465999999995], [-82.852293, 39.473465], [-82.85240999999999, 39.473475], [-82.852521, 39.473473999999996], [-82.85264, 39.473485], [-82.852749, 39.473485], [-82.852988, 39.473504], [-82.853099, 39.473503], [-82.853336, 39.473524], [-82.853447, 39.473523], [-82.853563, 39.473532999999996], [-82.853663, 39.473534], [-82.853796, 39.473544], [-82.853916, 39.473545], [-82.854027, 39.473555999999995], [-82.854147, 39.473557], [-82.85425699999999, 39.473566999999996], [-82.854377, 39.473569], [-82.854609, 39.47359], [-82.85472899999999, 39.473591], [-82.854839, 39.473602], [-82.85495999999999, 39.473603], [-82.85507, 39.473614], [-82.85519099999999, 39.473614], [-82.8553, 39.473625999999996], [-82.85542, 39.473625999999996], [-82.855541, 39.473637], [-82.855661, 39.473638], [-82.855773, 39.473649], [-82.856003, 39.473651], [-82.856124, 39.473661], [-82.856233, 39.473662], [-82.856355, 39.473673], [-82.85659, 39.473676], [-82.85670499999999, 39.473684], [-82.856816, 39.473682], [-82.857056, 39.473698999999996], [-82.85716599999999, 39.473697], [-82.857395, 39.473714], [-82.857466, 39.473713], [-82.857517, 39.473712], [-82.85774599999999, 39.473732], [-82.857857, 39.473732], [-82.858096, 39.473752], [-82.858207, 39.473752], [-82.858447, 39.473772], [-82.85855699999999, 39.473772], [-82.858786, 39.473791999999996], [-82.85890599999999, 39.473791999999996], [-82.859017, 39.473802], [-82.85913599999999, 39.473802], [-82.859256, 39.473811999999995], [-82.85936699999999, 39.473811999999995], [-82.859487, 39.473822], [-82.859597, 39.473822], [-82.859826, 39.473842], [-82.859946, 39.473842], [-82.860067, 39.473852], [-82.860177, 39.473852], [-82.860416, 39.473872], [-82.86052699999999, 39.473872], [-82.86075699999999, 39.473892], [-82.860877, 39.473892], [-82.86110699999999, 39.473912], [-82.861227, 39.473911], [-82.861336, 39.473921], [-82.86145599999999, 39.473921], [-82.86168599999999, 39.473940999999996], [-82.861806, 39.473940999999996], [-82.862037, 39.473960999999996], [-82.862147, 39.473960999999996], [-82.862267, 39.473971], [-82.862376, 39.473971], [-82.862617, 39.473991], [-82.862726, 39.473991], [-82.862967, 39.474011], [-82.86307699999999, 39.474011], [-82.863196, 39.474021], [-82.86330699999999, 39.474021], [-82.863537, 39.474041], [-82.86365699999999, 39.474041], [-82.86388699999999, 39.474061], [-82.864007, 39.474061], [-82.86423599999999, 39.474081], [-82.864347, 39.474081], [-82.864586, 39.474101], [-82.86469699999999, 39.474101], [-82.86504699999999, 39.474129999999995], [-82.865167, 39.474129999999995], [-82.86527699999999, 39.47414], [-82.865397, 39.47414], [-82.865517, 39.47415], [-82.86562599999999, 39.47415], [-82.865746, 39.47416], [-82.86585699999999, 39.47416], [-82.866087, 39.47418], [-82.866207, 39.47418], [-82.866327, 39.47419], [-82.86643699999999, 39.47419], [-82.866666, 39.47421], [-82.86678599999999, 39.47421], [-82.866897, 39.474219999999995], [-82.86701699999999, 39.474219999999995], [-82.867136, 39.47423], [-82.86724699999999, 39.47423], [-82.867367, 39.474239999999995], [-82.867477, 39.474239999999995], [-82.867717, 39.47426], [-82.867826, 39.47426], [-82.868067, 39.47428], [-82.86817599999999, 39.47428], [-82.868296, 39.474289999999996], [-82.86840699999999, 39.474289999999996], [-82.86863, 39.474309], [-82.868657, 39.474309999999996], [-82.868757, 39.474309999999996], [-82.86898699999999, 39.474329999999995], [-82.869107, 39.474329999999995], [-82.869216, 39.474340999999995], [-82.86933599999999, 39.474340999999995], [-82.86956599999999, 39.474360999999995], [-82.869686, 39.474360999999995], [-82.86979699999999, 39.474371999999995], [-82.869917, 39.474371999999995], [-82.870147, 39.474392], [-82.870237, 39.474393], [-82.87037699999999, 39.474402999999995], [-82.870497, 39.474402999999995], [-82.870617, 39.474413], [-82.87072599999999, 39.474413], [-82.87095699999999, 39.474433], [-82.871077, 39.474433], [-82.871307, 39.474453], [-82.871427, 39.474453], [-82.871657, 39.474472999999996], [-82.871766, 39.474472999999996], [-82.871887, 39.474483], [-82.872007, 39.474483], [-82.872236, 39.474503], [-82.87234699999999, 39.474503], [-82.872467, 39.474513], [-82.87257699999999, 39.474513], [-82.872817, 39.474533], [-82.87292699999999, 39.474533], [-82.873047, 39.474543], [-82.873167, 39.474543], [-82.873397, 39.474562999999996], [-82.87350599999999, 39.474562999999996], [-82.873626, 39.474573], [-82.873746, 39.474573], [-82.873976, 39.474593], [-82.874087, 39.474593], [-82.874207, 39.474602999999995], [-82.87431699999999, 39.474602999999995], [-82.874557, 39.474623], [-82.87466599999999, 39.474623], [-82.874777, 39.474633], [-82.87489599999999, 39.474641999999996], [-82.875016, 39.474641999999996], [-82.87512699999999, 39.474652], [-82.875247, 39.474652], [-82.875367, 39.474661999999995], [-82.87547699999999, 39.474661999999995], [-82.875717, 39.474681], [-82.875827, 39.474681], [-82.875947, 39.474691], [-82.87605599999999, 39.474691], [-82.876297, 39.47471], [-82.876407, 39.47471], [-82.876526, 39.47472], [-82.876637, 39.47472], [-82.87686699999999, 39.47474], [-82.876987, 39.47474], [-82.877217, 39.474759], [-82.877337, 39.474759], [-82.87744599999999, 39.474768999999995], [-82.877566, 39.474768999999995], [-82.87779599999999, 39.474788], [-82.877916, 39.474788], [-82.878027, 39.474798], [-82.878147, 39.474798], [-82.87825699999999, 39.474807999999996], [-82.878377, 39.474807999999996], [-82.87861699999999, 39.474827], [-82.878727, 39.474827], [-82.878847, 39.474837], [-82.878956, 39.474837], [-82.879187, 39.474857], [-82.879307, 39.474855999999996], [-82.879426, 39.474866], [-82.879537, 39.474866], [-82.879657, 39.474875999999995], [-82.879767, 39.474875999999995], [-82.879954, 39.474892], [-82.879987, 39.474895], [-82.880117, 39.474896], [-82.880236, 39.474907], [-82.880346, 39.474907], [-82.88057599999999, 39.474928], [-82.880696, 39.474928999999996], [-82.880815, 39.47494], [-82.880926, 39.47494], [-82.881046, 39.47495], [-82.88115599999999, 39.474951], [-82.881396, 39.474973], [-82.88150499999999, 39.474973], [-82.881626, 39.474984], [-82.88173599999999, 39.474984], [-82.881975, 39.475006], [-82.882086, 39.475006], [-82.882316, 39.475027], [-82.882436, 39.475027999999995], [-82.88254599999999, 39.475038999999995], [-82.882666, 39.475038999999995], [-82.882786, 39.475049999999996], [-82.88289499999999, 39.475049999999996], [-82.883016, 39.475062], [-82.88312599999999, 39.475062], [-82.883245, 39.475072], [-82.883365, 39.475072999999995], [-82.883476, 39.475083], [-82.883826, 39.475085], [-82.883946, 39.475096], [-82.884121, 39.475097999999996], [-82.884175, 39.475097], [-82.884517, 39.475125], [-82.884637, 39.475125], [-82.884757, 39.475134], [-82.884867, 39.475134], [-82.885097, 39.475152], [-82.885217, 39.475152], [-82.885446, 39.475170999999996], [-82.885567, 39.47517], [-82.885796, 39.475189], [-82.885916, 39.475187999999996], [-82.886027, 39.475198], [-82.886147, 39.475197], [-82.886377, 39.475215999999996], [-82.886607, 39.475215], [-82.886727, 39.475224], [-82.886836, 39.475223], [-82.886956, 39.475232999999996], [-82.887018, 39.475229], [-82.887187, 39.475243], [-82.88730699999999, 39.475243], [-82.887417, 39.475252999999995], [-82.887537, 39.475252999999995], [-82.887647, 39.475263], [-82.887767, 39.475263], [-82.88787599999999, 39.475273], [-82.888116, 39.475273], [-82.888244, 39.475283999999995], [-82.888346, 39.475293], [-82.888577, 39.475293], [-82.888817, 39.475313], [-82.888927, 39.475313], [-82.889157, 39.475333], [-82.88927699999999, 39.475333], [-82.889386, 39.475342999999995], [-82.889506, 39.475342999999995], [-82.889737, 39.475363], [-82.889856, 39.475363], [-82.889967, 39.475373], [-82.890087, 39.475373], [-82.890197, 39.475383], [-82.890317, 39.475383], [-82.89043699999999, 39.475393], [-82.890547, 39.475393], [-82.890667, 39.475403], [-82.890777, 39.475403], [-82.890896, 39.475412999999996], [-82.891016, 39.475412999999996], [-82.891223, 39.475431], [-82.89124699999999, 39.475432999999995], [-82.891357, 39.475432999999995], [-82.891477, 39.475443], [-82.89159699999999, 39.475443], [-82.891707, 39.475453], [-82.89182699999999, 39.475453], [-82.891947, 39.475463], [-82.892057, 39.475463], [-82.89240699999999, 39.475493], [-82.892637, 39.475493], [-82.892855, 39.475511999999995], [-82.904201, 39.476036], [-82.90500399999999, 39.476076], [-82.907731, 39.476214999999996], [-82.907827, 39.476214999999996], [-82.90805499999999, 39.47624], [-82.908287, 39.476243], [-82.908395, 39.476254999999995], [-82.908532, 39.476259], [-82.90870000000001, 39.476268999999995], [-82.90874699999999, 39.476268999999995], [-82.908867, 39.476284], [-82.908919, 39.476282], [-82.908981, 39.476290999999996], [-82.909328, 39.476315], [-82.909447, 39.476313999999995], [-82.909511, 39.476319], [-82.909677, 39.476333], [-82.90990699999999, 39.476333], [-82.910027, 39.476341999999995], [-82.91013699999999, 39.476341999999995], [-82.910257, 39.476352999999996], [-82.910367, 39.476352], [-82.91048699999999, 39.476362], [-82.910607, 39.476362], [-82.910837, 39.476382], [-82.910947, 39.476380999999996], [-82.911067, 39.476392], [-82.91117799999999, 39.476391], [-82.91129699999999, 39.476400999999996], [-82.911418, 39.476400999999996], [-82.911648, 39.476420999999995], [-82.911768, 39.476420999999995], [-82.911878, 39.476431], [-82.911998, 39.47643], [-82.912228, 39.476451], [-82.912348, 39.47645], [-82.912458, 39.476461], [-82.912578, 39.476459999999996], [-82.912786, 39.476479], [-82.912808, 39.476481], [-82.91291799999999, 39.476482], [-82.913037, 39.476493999999995], [-82.913157, 39.476496], [-82.91326699999999, 39.476506], [-82.913387, 39.476507], [-82.91349699999999, 39.476518], [-82.913628, 39.47652], [-82.913727, 39.476529], [-82.91384699999999, 39.476529], [-82.913967, 39.47654], [-82.91407699999999, 39.47654], [-82.914197, 39.476551], [-82.914311, 39.476551], [-82.91442599999999, 39.476561], [-82.914666, 39.476559], [-82.914897, 39.476577999999996], [-82.91502, 39.476577999999996], [-82.915127, 39.476579], [-82.91523699999999, 39.476588], [-82.915356, 39.476586], [-82.915477, 39.476594999999996], [-82.91558599999999, 39.476594], [-82.915716, 39.476603], [-82.91581699999999, 39.476606], [-82.915936, 39.476619], [-82.91604699999999, 39.476623], [-82.916287, 39.476641], [-82.91636, 39.476638], [-82.91639599999999, 39.476638], [-82.916449, 39.476642], [-82.916517, 39.476647], [-82.916626, 39.476647], [-82.916737, 39.476656], [-82.916867, 39.476656999999996], [-82.916977, 39.476668], [-82.917097, 39.476668], [-82.917217, 39.476679], [-82.917327, 39.476679], [-82.917447, 39.47669], [-82.917557, 39.47669], [-82.917795, 39.476711], [-82.917907, 39.476712], [-82.91803, 39.476723], [-82.918137, 39.476723], [-82.918257, 39.476732999999996], [-82.91836699999999, 39.476732999999996], [-82.918607, 39.476752999999995], [-82.918717, 39.476752999999995], [-82.918837, 39.476763], [-82.918947, 39.476763], [-82.91917699999999, 39.476783], [-82.919297, 39.476783], [-82.919417, 39.476793], [-82.919528, 39.476793], [-82.91976799999999, 39.476813], [-82.919878, 39.476813], [-82.91999799999999, 39.476822999999996], [-82.920108, 39.476822999999996], [-82.920228, 39.476833], [-82.92034799999999, 39.476833], [-82.920458, 39.476842999999995], [-82.92057799999999, 39.476842999999995], [-82.920808, 39.476858], [-82.920918, 39.476856999999995], [-82.921157, 39.476876999999995], [-82.921268, 39.476876999999995], [-82.921334, 39.476883], [-82.921387, 39.476887], [-82.921618, 39.476887], [-82.92173799999999, 39.476897], [-82.921848, 39.476897], [-82.92196799999999, 39.476907], [-82.922078, 39.476908], [-82.922198, 39.476918], [-82.92231699999999, 39.476918], [-82.922428, 39.476928], [-82.92254799999999, 39.476928], [-82.922658, 39.476938], [-82.922778, 39.476938], [-82.923008, 39.476957999999996], [-82.92312799999999, 39.476957999999996], [-82.923238, 39.476969], [-82.923358, 39.476969], [-82.923587, 39.476988999999996], [-82.92370799999999, 39.476988999999996], [-82.923937, 39.477008999999995], [-82.924048, 39.477008999999995], [-82.92428699999999, 39.477029], [-82.924396, 39.47703], [-82.924516, 39.477039999999995], [-82.92462599999999, 39.477039999999995], [-82.924866, 39.47706], [-82.924976, 39.47706], [-82.925096, 39.47707], [-82.92520499999999, 39.47707], [-82.925326, 39.47708], [-82.925446, 39.47708], [-82.925556, 39.477091], [-82.925676, 39.477091], [-82.925906, 39.477111], [-82.926026, 39.477111], [-82.926136, 39.477121], [-82.926256, 39.477121], [-82.926366, 39.477131], [-82.926486, 39.477131], [-82.92659599999999, 39.477140999999996], [-82.92683699999999, 39.477142], [-82.927066, 39.477162], [-82.927176, 39.477162], [-82.927296, 39.477171999999996], [-82.927416, 39.477171999999996], [-82.927526, 39.477182], [-82.927646, 39.477182], [-82.927756, 39.477191999999995], [-82.927877, 39.477193], [-82.928107, 39.47721], [-82.928197, 39.477208999999995], [-82.92845899999999, 39.477226], [-82.92857599999999, 39.477225], [-82.928686, 39.477235], [-82.928806, 39.477235], [-82.929036, 39.477255], [-82.92915599999999, 39.477256], [-82.929266, 39.477266], [-82.929386, 39.477266], [-82.929616, 39.477286], [-82.929726, 39.477286], [-82.929846, 39.477295999999996], [-82.929966, 39.477297], [-82.930076, 39.477306999999996], [-82.930196, 39.477306999999996], [-82.930306, 39.477317], [-82.930426, 39.477317], [-82.93054599999999, 39.477328], [-82.930656, 39.477328], [-82.930776, 39.477337999999996], [-82.93089599999999, 39.477337999999996], [-82.93112599999999, 39.477357999999995], [-82.931356, 39.477359], [-82.93147599999999, 39.477368999999996], [-82.931586, 39.477368999999996], [-82.931816, 39.477388999999995], [-82.931936, 39.47739], [-82.932046, 39.4774], [-82.932166, 39.4774], [-82.93228599999999, 39.47741], [-82.932396, 39.47741], [-82.932626, 39.477430999999996], [-82.93286599999999, 39.477430999999996], [-82.932976, 39.477441], [-82.933095, 39.477441], [-82.933206, 39.477450999999995], [-82.933319, 39.477452], [-82.933371, 39.477456], [-82.93344599999999, 39.477461999999996], [-82.933556, 39.477461999999996], [-82.93367599999999, 39.477472], [-82.933796, 39.477472], [-82.933906, 39.477481999999995], [-82.934026, 39.477481999999995], [-82.934136, 39.477492], [-82.93425599999999, 39.477492], [-82.934376, 39.477502], [-82.93448599999999, 39.477502], [-82.934606, 39.477512], [-82.934716, 39.477512], [-82.934946, 39.477532], [-82.935186, 39.477532], [-82.935296, 39.477542], [-82.93541599999999, 39.477542], [-82.93564599999999, 39.477562], [-82.935766, 39.477562], [-82.935876, 39.477571999999995], [-82.935996, 39.477571999999995], [-82.936106, 39.477582], [-82.93622599999999, 39.477582], [-82.936346, 39.477592], [-82.93645599999999, 39.477592], [-82.936696, 39.477612], [-82.93680599999999, 39.477612], [-82.936926, 39.477622], [-82.93703599999999, 39.477622], [-82.937156, 39.477632], [-82.937266, 39.477632], [-82.93738599999999, 39.477641999999996], [-82.937506, 39.477641999999996], [-82.93761599999999, 39.477652], [-82.937736, 39.477652], [-82.937846, 39.477661999999995], [-82.937966, 39.477661999999995], [-82.938086, 39.477672], [-82.938316, 39.477672], [-82.93842599999999, 39.477682], [-82.938546, 39.477682], [-82.938666, 39.477692], [-82.938896, 39.477692], [-82.939016, 39.477702], [-82.939126, 39.477702], [-82.939246, 39.477712], [-82.93935599999999, 39.477712], [-82.939596, 39.477731999999996], [-82.939706, 39.477731999999996], [-82.939826, 39.477742], [-82.940056, 39.477742], [-82.94016599999999, 39.477751999999995], [-82.940286, 39.477751999999995], [-82.940406, 39.477762], [-82.940516, 39.477762], [-82.940636, 39.477772], [-82.940866, 39.477772], [-82.940986, 39.477782], [-82.941096, 39.477782], [-82.941216, 39.477792], [-82.941446, 39.477792], [-82.941566, 39.477802], [-82.941676, 39.477802], [-82.941796, 39.477812], [-82.942026, 39.477812], [-82.942146, 39.477821999999996], [-82.942256, 39.477821999999996], [-82.942376, 39.477832], [-82.942619, 39.477834], [-82.94272699999999, 39.477841999999995], [-82.942836, 39.477841999999995], [-82.943067, 39.477861], [-82.943187, 39.477861], [-82.94330699999999, 39.477869999999996], [-82.943416, 39.477869999999996], [-82.94353699999999, 39.477879], [-82.943646, 39.477879], [-82.943767, 39.477889], [-82.943806, 39.477889], [-82.94388699999999, 39.477889], [-82.943996, 39.477899], [-82.94411699999999, 39.477899], [-82.944226, 39.477909], [-82.944347, 39.477909], [-82.944456, 39.477919], [-82.944577, 39.477919], [-82.944806, 39.477939], [-82.94492699999999, 39.477939], [-82.945156, 39.477959], [-82.94527599999999, 39.477959], [-82.945386, 39.477969], [-82.945506, 39.477969], [-82.94562599999999, 39.477979], [-82.945736, 39.477979999999995], [-82.94585599999999, 39.47799], [-82.945966, 39.47799], [-82.946086, 39.478], [-82.94620599999999, 39.478], [-82.946316, 39.47801], [-82.94643599999999, 39.47801], [-82.946666, 39.47803], [-82.946776, 39.47803], [-82.946896, 39.47804], [-82.947126, 39.47804], [-82.947356, 39.47806], [-82.947597, 39.478061], [-82.94782599999999, 39.478080999999996], [-82.94805699999999, 39.478080999999996], [-82.94817599999999, 39.478091], [-82.948287, 39.478091], [-82.94840599999999, 39.478100999999995], [-82.948527, 39.478100999999995], [-82.948636, 39.478111], [-82.948757, 39.478111], [-82.948866, 39.478121], [-82.948987, 39.478121], [-82.949096, 39.478131], [-82.94921699999999, 39.478131], [-82.949336, 39.478142], [-82.94944699999999, 39.478142], [-82.949676, 39.478162], [-82.949917, 39.478162], [-82.95014599999999, 39.478182], [-82.950256, 39.478182], [-82.95037599999999, 39.478192], [-82.950497, 39.478192], [-82.950606, 39.478201999999996], [-82.950727, 39.478201999999996], [-82.950846, 39.478212], [-82.950957, 39.478212], [-82.951076, 39.478221999999995], [-82.95114699999999, 39.478223], [-82.951185, 39.478221999999995], [-82.951413, 39.478237], [-82.951531, 39.478235], [-82.95165, 39.478244], [-82.95176099999999, 39.478245], [-82.951882, 39.478257], [-82.951994, 39.478259], [-82.95211499999999, 39.478272], [-82.952156, 39.478273], [-82.952226, 39.478273], [-82.95234599999999, 39.478283], [-82.952576, 39.478283], [-82.952696, 39.478294], [-82.952806, 39.478294], [-82.95292599999999, 39.478304], [-82.953045, 39.478305], [-82.953155, 39.478314999999995], [-82.95327499999999, 39.478314999999995], [-82.953385, 39.478325], [-82.953625, 39.478325999999996], [-82.953735, 39.478336], [-82.95385499999999, 39.478336], [-82.953887, 39.478341], [-82.953965, 39.478345], [-82.95420399999999, 39.478345], [-82.95443399999999, 39.478363], [-82.954544, 39.478363], [-82.954664, 39.478373], [-82.954774, 39.478372], [-82.954894, 39.478381999999996], [-82.955015, 39.478381], [-82.955125, 39.478390999999995], [-82.95524499999999, 39.47839], [-82.95547499999999, 39.47841], [-82.955595, 39.478409], [-82.955826, 39.478428], [-82.955935, 39.478428], [-82.95606699999999, 39.478438], [-82.956177, 39.478438], [-82.956406, 39.478459], [-82.95651699999999, 39.478459], [-82.956746, 39.47848], [-82.95686599999999, 39.47848], [-82.956976, 39.47849], [-82.95709599999999, 39.478491], [-82.957216, 39.478501], [-82.95732699999999, 39.478502], [-82.95744599999999, 39.478511999999995], [-82.957567, 39.478511999999995], [-82.957622, 39.478518], [-82.95767699999999, 39.478522999999996], [-82.957797, 39.478522999999996], [-82.95790699999999, 39.478533], [-82.958027, 39.478533], [-82.958147, 39.478542999999995], [-82.958257, 39.478542999999995], [-82.95848699999999, 39.478563], [-82.958607, 39.478563], [-82.958717, 39.478573], [-82.958957, 39.478573], [-82.959187, 39.478593], [-82.959417, 39.478593], [-82.95964699999999, 39.478612999999996], [-82.95987699999999, 39.478612999999996], [-82.959997, 39.478623], [-82.960117, 39.478623], [-82.960227, 39.478632999999995], [-82.960347, 39.478632999999995], [-82.960467, 39.478643], [-82.960577, 39.478643], [-82.960697, 39.478653], [-82.960807, 39.478653], [-82.960927, 39.478663], [-82.961157, 39.478663], [-82.961277, 39.478673], [-82.961387, 39.478673], [-82.961507, 39.478683], [-82.96161699999999, 39.478683], [-82.961737, 39.478693], [-82.961857, 39.478693], [-82.962087, 39.478713], [-82.962197, 39.478713], [-82.962317, 39.478722999999995], [-82.96242699999999, 39.478722999999995], [-82.962547, 39.478733], [-82.962667, 39.478733], [-82.962777, 39.478743], [-82.962897, 39.478743], [-82.963127, 39.478763], [-82.963247, 39.478763], [-82.963357, 39.478773], [-82.963477, 39.478773], [-82.96358699999999, 39.478783], [-82.963707, 39.478783], [-82.96381699999999, 39.478792999999996], [-82.963937, 39.478792999999996], [-82.964057, 39.478803], [-82.964167, 39.478803], [-82.964287, 39.478812999999995], [-82.96439699999999, 39.478812999999995], [-82.964637, 39.478833], [-82.964867, 39.478833], [-82.96497699999999, 39.478843], [-82.965097, 39.478843], [-82.965327, 39.478863], [-82.965447, 39.478863], [-82.96555699999999, 39.478873], [-82.965677, 39.478873], [-82.965797, 39.478882999999996], [-82.965907, 39.478882999999996], [-82.966027, 39.478893], [-82.96613699999999, 39.478893], [-82.966257, 39.478902999999995], [-82.966377, 39.478902999999995], [-82.966487, 39.478913], [-82.966607, 39.478913], [-82.966837, 39.478933], [-82.967067, 39.478933], [-82.967187, 39.478943], [-82.967297, 39.478943], [-82.96752699999999, 39.478963], [-82.967647, 39.478963], [-82.967767, 39.478972999999996], [-82.967877, 39.478972999999996], [-82.967997, 39.478983], [-82.96811699999999, 39.478983], [-82.968227, 39.478992999999996], [-82.968347, 39.478992999999996], [-82.968457, 39.479003], [-82.968577, 39.479003], [-82.96869699999999, 39.479012999999995], [-82.968807, 39.479012999999995], [-82.969037, 39.479033], [-82.969267, 39.479033], [-82.969387, 39.479043], [-82.969507, 39.479043], [-82.969617, 39.479053], [-82.969737, 39.479053], [-82.969847, 39.479063], [-82.969967, 39.479063], [-82.97008699999999, 39.479073], [-82.970197, 39.479073], [-82.970317, 39.479082999999996], [-82.970427, 39.479082999999996], [-82.970547, 39.479093], [-82.970777, 39.479093], [-82.970897, 39.479102999999995], [-82.97099299999999, 39.4791], [-82.971008, 39.479109], [-82.971261, 39.479119], [-82.971637, 39.479133], [-82.971706, 39.479138999999996], [-82.971826, 39.479138999999996], [-82.971936, 39.479149], [-82.972056, 39.47915], [-82.972166, 39.47916], [-82.972287, 39.47916], [-82.97240699999999, 39.479169999999996], [-82.972517, 39.479171], [-82.97263699999999, 39.47918], [-82.972747, 39.47918], [-82.972988, 39.479200999999996], [-82.973098, 39.479200999999996], [-82.973218, 39.479211], [-82.973328, 39.479212], [-82.97344799999999, 39.479222], [-82.97367899999999, 39.479220999999995], [-82.97390899999999, 39.479242], [-82.974149, 39.479242], [-82.97425899999999, 39.479253], [-82.97438, 39.479253], [-82.9745, 39.479262999999996], [-82.97461, 39.479262999999996], [-82.97473, 39.479273], [-82.97496, 39.479273], [-82.975191, 39.479293999999996], [-82.975421, 39.479293999999996], [-82.97554099999999, 39.479304], [-82.975651, 39.479304], [-82.97577199999999, 39.479313999999995], [-82.975892, 39.479315], [-82.976002, 39.479324999999996], [-82.97612199999999, 39.479324999999996], [-82.976232, 39.479335], [-82.97635199999999, 39.479335999999996], [-82.976473, 39.479346], [-82.976703, 39.479344999999995], [-82.976823, 39.479355999999996], [-82.977053, 39.479355999999996], [-82.977284, 39.479377], [-82.97740399999999, 39.479377], [-82.977514, 39.479386], [-82.977744, 39.479386999999996], [-82.977865, 39.479397], [-82.97798499999999, 39.479397], [-82.97821499999999, 39.479417999999995], [-82.978325, 39.479417999999995], [-82.978447, 39.479409], [-82.980407, 39.479548], [-82.99767299999999, 39.480042], [-82.99785899999999, 39.480048], [-82.99804499999999, 39.480055], [-82.99812399999999, 39.480058], [-82.998204, 39.480061], [-82.998204, 39.48036], [-82.998142, 39.48046], [-82.998003, 39.480661], [-82.997804, 39.481362], [-82.997503, 39.481961999999996], [-82.997202, 39.482561], [-82.996803, 39.483061], [-82.99650299999999, 39.483661], [-82.996203, 39.484361], [-82.996003, 39.485161], [-82.995953, 39.485776], [-82.995801, 39.486461999999996], [-82.995502, 39.487161], [-82.99522, 39.48787], [-82.995104, 39.488161], [-82.994768, 39.488493], [-82.994604, 39.488661], [-82.99439199999999, 39.48883], [-82.994101, 39.489061], [-82.993875, 39.489213], [-82.99350199999999, 39.489461999999996], [-82.99290099999999, 39.489861], [-82.99244499999999, 39.490003], [-82.99231999999999, 39.490041999999995], [-82.992195, 39.490080999999996], [-82.99206199999999, 39.490122], [-82.991929, 39.490162999999995], [-82.991599, 39.490261], [-82.991199, 39.49046], [-82.990399, 39.490761], [-82.9895, 39.491054], [-82.98849799999999, 39.49106], [-82.987398, 39.490961], [-82.986498, 39.490860999999995], [-82.985598, 39.490660999999996], [-82.984698, 39.490361], [-82.983798, 39.490061], [-82.983097, 39.489661], [-82.98229599999999, 39.489362], [-82.981796, 39.489360999999995], [-82.981196, 39.489560999999995], [-82.980938, 39.489717999999996], [-82.980696, 39.489861], [-82.98060199999999, 39.489985999999995], [-82.980396, 39.490261], [-82.980195, 39.490862], [-82.980093, 39.491364], [-82.980096, 39.492062], [-82.98009499999999, 39.492861], [-82.979896, 39.493561], [-82.979595, 39.494261], [-82.979399, 39.494864], [-82.9792, 39.495360999999995], [-82.978804, 39.496556999999996], [-82.978807, 39.497461], [-82.97909399999999, 39.497861], [-82.979394, 39.49836], [-82.979486, 39.498581], [-82.979603, 39.498861], [-82.979603, 39.499162], [-82.979502, 39.499762], [-82.97930199999999, 39.499962], [-82.979225, 39.499987], [-82.97925, 39.500164999999996], [-82.97927899999999, 39.500344999999996], [-82.978966, 39.500535], [-82.978741, 39.500854], [-82.97897499999999, 39.501087999999996], [-82.979209, 39.501321999999995], [-82.97970099999999, 39.501557999999996], [-82.980434, 39.501511], [-82.981076, 39.501809], [-82.981887, 39.501971], [-82.982823, 39.50261], [-82.98339399999999, 39.503242], [-82.983691, 39.503358999999996], [-82.984025, 39.504028999999996], [-82.983766, 39.504466], [-82.983626, 39.504819], [-82.983597, 39.505126], [-82.983561, 39.505235], [-82.983334, 39.505624], [-82.98325299999999, 39.506155], [-82.98356, 39.506477], [-82.983915, 39.506631], [-82.98456, 39.506754], [-82.984911, 39.506766], [-82.985507, 39.506786], [-82.98554299999999, 39.506782], [-82.986466, 39.506681], [-82.987516, 39.506425], [-82.988537, 39.506208], [-82.98941099999999, 39.506006], [-82.99040099999999, 39.505950999999996], [-82.99156099999999, 39.506119], [-82.992425, 39.506381], [-82.99259699999999, 39.506388], [-82.993382, 39.506411], [-82.996904, 39.50647], [-82.997204, 39.506488], [-82.99750399999999, 39.506505], [-82.999723, 39.506555], [-83.00478, 39.50662], [-83.00852599999999, 39.506805], [-83.010864, 39.506881], [-83.011063, 39.506889], [-83.01198, 39.506921999999996], [-83.014847, 39.507023], [-83.021914, 39.507273999999995], [-83.026659, 39.507442], [-83.02825, 39.507498], [-83.02873199999999, 39.507515], [-83.029215, 39.507532], [-83.029828, 39.507560999999995], [-83.030188, 39.507579], [-83.030661, 39.507583], [-83.03070000000001, 39.507576], [-83.031078, 39.507598], [-83.03149599999999, 39.507612], [-83.03725899999999, 39.507815], [-83.040551, 39.507931], [-83.056243, 39.508469999999996], [-83.061646, 39.508632], [-83.061667, 39.508634], [-83.06575699999999, 39.508761], [-83.07166, 39.50893], [-83.07991299999999, 39.509215999999995], [-83.079934, 39.509218], [-83.10210000000001, 39.509947], [-83.102395, 39.509955999999995], [-83.111871, 39.510273999999995], [-83.112946, 39.510255], [-83.112984, 39.510253999999996], [-83.113018, 39.510262999999995], [-83.11305, 39.510272], [-83.113091, 39.510269], [-83.113119, 39.510266], [-83.113146, 39.510261], [-83.117783, 39.510425999999995], [-83.119708, 39.510495999999996], [-83.11975699999999, 39.510498999999996], [-83.124813, 39.51076], [-83.127544, 39.510813], [-83.128039, 39.510830999999996], [-83.130704, 39.510943999999995], [-83.134982, 39.511083], [-83.148122, 39.511495], [-83.14814199999999, 39.511497], [-83.15111, 39.51161], [-83.155459, 39.511776], [-83.155472, 39.511776], [-83.156464, 39.51182], [-83.165611, 39.51219], [-83.18333799999999, 39.512886], [-83.19361099999999, 39.51329], [-83.195961, 39.513385], [-83.196923, 39.513424], [-83.209791, 39.513947], [-83.21280999999999, 39.514072999999996], [-83.21287199999999, 39.514075999999996], [-83.216253, 39.514219], [-83.22009899999999, 39.514376], [-83.220147, 39.514378], [-83.224839, 39.514579], [-83.22627399999999, 39.514638999999995], [-83.234017, 39.514959], [-83.236255, 39.515052], [-83.236502, 39.515062], [-83.239603, 39.51519], [-83.24080099999999, 39.515239], [-83.24709899999999, 39.515432], [-83.24741, 39.515442], [-83.248803, 39.515487], [-83.248815, 39.515488999999995], [-83.249924, 39.515628], [-83.26673699999999, 39.516248999999995], [-83.266436, 39.519504999999995], [-83.264528, 39.540161999999995], [-83.26448099999999, 39.540672], [-83.264183, 39.543896], [-83.264123, 39.54455], [-83.264121, 39.544571999999995], [-83.26408099999999, 39.545004999999996], [-83.26369299999999, 39.549213], [-83.263582, 39.552701], [-83.263492, 39.553706999999996], [-83.26347799999999, 39.553882], [-83.263059, 39.559152], [-83.26272, 39.563325999999996], [-83.26270000000001, 39.563575], [-83.26266, 39.564085], [-83.262545, 39.565523], [-83.262461, 39.566582], [-83.261235, 39.581874], [-83.260688, 39.588564], [-83.26021999999999, 39.594522999999995], [-83.26020299999999, 39.594744999999996], [-83.25964599999999, 39.601698], [-83.25931899999999, 39.605779999999996], [-83.259242, 39.606741], [-83.258423, 39.617039999999996], [-83.258207, 39.619597999999996], [-83.257802, 39.624474], [-83.257911, 39.62506], [-83.257909, 39.625206999999996], [-83.25788, 39.625498], [-83.25783, 39.626492], [-83.25777099999999, 39.627109], [-83.257751, 39.62733], [-83.25769, 39.628146], [-83.257632, 39.628918999999996], [-83.257019, 39.635303], [-83.25682499999999, 39.638881999999995], [-83.256621, 39.64206], [-83.255629, 39.657368], [-83.255628, 39.657624999999996], [-83.25562699999999, 39.657787], [-83.255586, 39.658719], [-83.25545799999999, 39.659596], [-83.25530499999999, 39.660627999999996], [-83.255144, 39.661715], [-83.25512599999999, 39.661915], [-83.254729, 39.666376], [-83.254718, 39.666495], [-83.25471399999999, 39.66655], [-83.254706, 39.666641], [-83.254702, 39.666696], [-83.25468699999999, 39.666882], [-83.254677, 39.667027999999995], [-83.254667, 39.667173999999996], [-83.25456, 39.668741], [-83.254453, 39.670308], [-83.254448, 39.670378], [-83.254443, 39.670449], [-83.254437, 39.670528], [-83.254431, 39.670606], [-83.253844, 39.677904], [-83.25325699999999, 39.685201], [-83.252743, 39.69159], [-83.252695, 39.692192], [-83.25243499999999, 39.695437999999996], [-83.25224999999999, 39.698372], [-83.251999, 39.702293], [-83.251913, 39.703533], [-83.251864, 39.704211], [-83.25144, 39.709576], [-83.251136, 39.713436], [-83.25101599999999, 39.714448], [-83.25026799999999, 39.724523999999995], [-83.25026, 39.724622], [-83.250253, 39.724720999999995], [-83.250222, 39.724816], [-83.25021199999999, 39.725094999999996], [-83.25021699999999, 39.725176], [-83.250211, 39.725249999999996], [-83.250204, 39.725325], [-83.250197, 39.725407], [-83.25018999999999, 39.725488999999996], [-83.25012199999999, 39.726290999999996], [-83.25009299999999, 39.726864], [-83.25005399999999, 39.727092], [-83.250006, 39.727658], [-83.24995799999999, 39.728224], [-83.249932, 39.728528], [-83.249915, 39.728727], [-83.249915, 39.728812], [-83.249899, 39.728896999999996], [-83.249866, 39.729186], [-83.249853, 39.729399], [-83.249827, 39.729744], [-83.249811, 39.730032], [-83.24980599999999, 39.730131], [-83.24979499999999, 39.730266], [-83.249788, 39.730357999999995], [-83.249752, 39.730806], [-83.249715, 39.731255], [-83.24969899999999, 39.731474999999996], [-83.24968199999999, 39.731663], [-83.249686, 39.731719], [-83.249675, 39.731746], [-83.249669, 39.73196], [-83.24966599999999, 39.732014], [-83.249513, 39.733781], [-83.249376, 39.7355], [-83.24933899999999, 39.736064999999996], [-83.249313, 39.736426], [-83.249262, 39.737142], [-83.24898499999999, 39.740995999999996], [-83.248943, 39.741586], [-83.248896, 39.742245], [-83.24876599999999, 39.744064], [-83.248763, 39.744105], [-83.24875399999999, 39.744144999999996], [-83.248756, 39.744191], [-83.248758, 39.744231], [-83.248502, 39.745335], [-83.24812899999999, 39.752938], [-83.247976, 39.755139], [-83.247933, 39.755707], [-83.247934, 39.755781], [-83.247924, 39.755817], [-83.247834, 39.756268], [-83.24761, 39.760143], [-83.24759, 39.760365], [-83.247446, 39.76178], [-83.247168, 39.765084], [-83.247152, 39.765276], [-83.246978, 39.768194], [-83.246864, 39.770767], [-83.246793, 39.771423999999996], [-83.246714, 39.772966], [-83.24656999999999, 39.776621], [-83.24613099999999, 39.779634], [-83.245801, 39.782863], [-83.245886, 39.784074], [-83.24571399999999, 39.785883999999996], [-83.245672, 39.786291], [-83.245588, 39.78742], [-83.245419, 39.789688999999996], [-83.24527499999999, 39.791472], [-83.24526499999999, 39.791728], [-83.24502799999999, 39.795187], [-83.244519, 39.79961], [-83.244469, 39.803512], [-83.24423, 39.807421999999995], [-83.243839, 39.809326999999996], [-83.243836, 39.810041999999996], [-83.243777, 39.811645], [-83.243702, 39.812503], [-83.200943, 39.810656], [-83.194659, 39.810300999999995], [-83.193621, 39.810266], [-83.193288, 39.810257], [-83.192906, 39.810247], [-83.18512799999999, 39.809340999999996], [-83.183272, 39.809261], [-83.181544, 39.809245], [-83.180959, 39.809233], [-83.18063099999999, 39.809227], [-83.17911199999999, 39.809197], [-83.17644, 39.809084999999996], [-83.175783, 39.809069], [-83.173447, 39.808989], [-83.172938, 39.808974], [-83.172764, 39.808957], [-83.172731, 39.808954], [-83.17269499999999, 39.808949999999996], [-83.172521, 39.808932999999996], [-83.172285, 39.808909], [-83.171869, 39.80889], [-83.170929, 39.808856999999996], [-83.170816, 39.808853], [-83.17004299999999, 39.808823], [-83.16989199999999, 39.808817], [-83.169383, 39.808797], [-83.16902, 39.808791], [-83.168981, 39.808789], [-83.16895, 39.808786999999995], [-83.168888, 39.808783999999996], [-83.168477, 39.808763], [-83.168424, 39.80876], [-83.168016, 39.808738999999996], [-83.16793799999999, 39.808735], [-83.167627, 39.808684], [-83.167085, 39.808668999999995], [-83.166479, 39.808681], [-83.165103, 39.808710999999995], [-83.162599, 39.808701], [-83.154118, 39.80851], [-83.153515, 39.808476999999996], [-83.153436, 39.808479], [-83.153257, 39.808465], [-83.153026, 39.808489], [-83.15172799999999, 39.808527], [-83.151207, 39.808491], [-83.149822, 39.808431999999996], [-83.149253, 39.808426], [-83.14787799999999, 39.808414], [-83.147171, 39.808398], [-83.137464, 39.808178999999996], [-83.12943299999999, 39.808011], [-83.12035499999999, 39.807823], [-83.11138, 39.80751], [-83.10242099999999, 39.807198], [-83.102052, 39.807167], [-83.101922, 39.807155], [-83.101806, 39.807144], [-83.10170099999999, 39.807134], [-83.10155, 39.807128], [-83.101353, 39.80712], [-83.089342, 39.806627999999996], [-83.074686, 39.806138], [-83.07257, 39.806053], [-83.06145599999999, 39.80581], [-83.06047, 39.805685], [-83.059519, 39.805667], [-83.05938599999999, 39.805664], [-83.05730199999999, 39.805614999999996], [-83.05644, 39.805595], [-83.056034, 39.805586], [-83.05528, 39.805563], [-83.054914, 39.805552999999996], [-83.05457, 39.805543], [-83.052656, 39.80549], [-83.052268, 39.805479], [-83.051904, 39.80547], [-83.051711, 39.805465999999996], [-83.049829, 39.805425], [-83.047393, 39.805372], [-83.04516799999999, 39.805304], [-83.04445799999999, 39.805282], [-83.044361, 39.805299], [-83.044291, 39.805355], [-83.044277, 39.805467], [-83.044252, 39.805468], [-83.04356299999999, 39.805485999999995], [-83.043476, 39.805493], [-83.03865499999999, 39.805558999999995], [-83.037672, 39.805566999999996], [-83.037634, 39.805566999999996], [-83.03627999999999, 39.8055], [-83.03536299999999, 39.805453], [-83.03227799999999, 39.805296], [-83.03223899999999, 39.805293], [-83.030193, 39.805192], [-83.01375999999999, 39.804415], [-83.01324, 39.804399], [-83.013071, 39.804393999999995]]], &quot;type&quot;: &quot;Polygon&quot;}, &quot;id&quot;: &quot;5&quot;, &quot;properties&quot;: {&quot;2010&quot;: 56, &quot;2011&quot;: 208, &quot;2012&quot;: 289, &quot;2013&quot;: 118, &quot;2014&quot;: 349, &quot;2015&quot;: 285, &quot;2016&quot;: 556, &quot;2017&quot;: 195, &quot;2018&quot;: 337, &quot;2019&quot;: 380, &quot;CTYNAME&quot;: &quot;Pickaway&quot;, &quot;__folium_color&quot;: &quot;#440256&quot;}, &quot;type&quot;: &quot;Feature&quot;}, {&quot;bbox&quot;: [-83.551338, 40.106927, -83.16988599999999, 40.507047], &quot;geometry&quot;: {&quot;coordinates&quot;: [[[-83.528215, 40.43664], [-83.52776399999999, 40.440635], [-83.527756, 40.440706], [-83.52773599999999, 40.440881], [-83.52604099999999, 40.455625999999995], [-83.525696, 40.458749999999995], [-83.525691, 40.458791], [-83.525688, 40.458822], [-83.525385, 40.461619], [-83.524982, 40.465347], [-83.524653, 40.468393], [-83.523958, 40.474002], [-83.522897, 40.483267], [-83.52240499999999, 40.487899], [-83.52189299999999, 40.49258], [-83.521022, 40.498554], [-83.52101499999999, 40.498602999999996], [-83.520335, 40.503329], [-83.520308, 40.503519], [-83.520282, 40.503696], [-83.52023899999999, 40.503997], [-83.52022699999999, 40.504076999999995], [-83.518472, 40.504087], [-83.51585399999999, 40.504158], [-83.515793, 40.504159], [-83.514044, 40.504203], [-83.506773, 40.504221], [-83.503196, 40.50423], [-83.49914299999999, 40.504241], [-83.49725, 40.504258], [-83.49715499999999, 40.504261], [-83.497087, 40.504262], [-83.497022, 40.504263], [-83.490016, 40.504329999999996], [-83.48958499999999, 40.504335999999995], [-83.477148, 40.504366999999995], [-83.45266699999999, 40.504441], [-83.451605, 40.504498], [-83.450211, 40.504554], [-83.449372, 40.504591], [-83.436595, 40.504996999999996], [-83.434985, 40.505033], [-83.434777, 40.505037], [-83.430508, 40.505097], [-83.420767, 40.505210999999996], [-83.41866999999999, 40.505229], [-83.416012, 40.505252], [-83.415936, 40.505252], [-83.408636, 40.505342999999996], [-83.408613, 40.505342999999996], [-83.406173, 40.505407999999996], [-83.40253299999999, 40.505475], [-83.402481, 40.505475], [-83.392757, 40.505547], [-83.39140499999999, 40.505565999999995], [-83.3899, 40.505587999999996], [-83.387822, 40.505604], [-83.38771299999999, 40.505604999999996], [-83.38656, 40.505613], [-83.385804, 40.505618999999996], [-83.38310299999999, 40.505646], [-83.381951, 40.505658], [-83.379328, 40.505694999999996], [-83.37704599999999, 40.505728], [-83.37146, 40.505792], [-83.368838, 40.505823], [-83.363637, 40.505862], [-83.362292, 40.505882], [-83.352104, 40.506035], [-83.34495, 40.50613], [-83.342654, 40.506152], [-83.336109, 40.506215], [-83.331379, 40.506276], [-83.331124, 40.506277999999995], [-83.331046, 40.506279], [-83.330944, 40.50628], [-83.326984, 40.506324], [-83.321761, 40.506366], [-83.319434, 40.506385], [-83.312828, 40.506440999999995], [-83.312455, 40.506445], [-83.31012899999999, 40.506471], [-83.30959899999999, 40.506476], [-83.30801, 40.506493], [-83.307481, 40.5065], [-83.305872, 40.506518], [-83.301048, 40.506572], [-83.299441, 40.506591], [-83.297975, 40.506606999999995], [-83.297635, 40.506609999999995], [-83.292217, 40.506659], [-83.29041099999999, 40.506676], [-83.28659499999999, 40.506713999999995], [-83.275149, 40.50683], [-83.27163, 40.506865999999995], [-83.271334, 40.506876], [-83.271254, 40.506876999999996], [-83.271017, 40.506879999999995], [-83.270939, 40.506882], [-83.268256, 40.506901], [-83.26776699999999, 40.506906], [-83.261055, 40.506980999999996], [-83.25908, 40.507003], [-83.258254, 40.507011999999996], [-83.255084, 40.507047], [-83.254334, 40.507044], [-83.253368, 40.507042], [-83.248223, 40.507034], [-83.248183, 40.507034], [-83.24821299999999, 40.505359999999996], [-83.24822999999999, 40.504487], [-83.24828, 40.501869], [-83.24829799999999, 40.500997], [-83.24846, 40.500026], [-83.248448, 40.499719], [-83.248302, 40.495847], [-83.248254, 40.494557], [-83.24825299999999, 40.494023], [-83.248251, 40.492424], [-83.248251, 40.491890999999995], [-83.24825, 40.491772], [-83.248249, 40.491417999999996], [-83.248249, 40.4913], [-83.248246, 40.490012], [-83.24826, 40.489381], [-83.248291, 40.488023], [-83.248267, 40.483624], [-83.248257, 40.481705], [-83.24825799999999, 40.479921], [-83.24826399999999, 40.47457], [-83.248267, 40.472787], [-83.248269, 40.470873999999995], [-83.248277, 40.465137999999996], [-83.24828099999999, 40.463226], [-83.248289, 40.462522], [-83.248299, 40.462109999999996], [-83.24838299999999, 40.458765], [-83.248412, 40.45765], [-83.248424, 40.45715], [-83.24846199999999, 40.455652], [-83.248475, 40.455152999999996], [-83.248468, 40.454834], [-83.248449, 40.453877999999996], [-83.248443, 40.453559999999996], [-83.24843899999999, 40.453390999999996], [-83.24842799999999, 40.452884], [-83.248425, 40.452715], [-83.248424, 40.452698999999996], [-83.248424, 40.452667999999996], [-83.248424, 40.452658], [-83.248425, 40.452636], [-83.248431, 40.452292], [-83.248451, 40.451262], [-83.248459, 40.450919], [-83.248589, 40.444424], [-83.248595, 40.443988999999995], [-83.248654, 40.439881], [-83.248677, 40.438338], [-83.248764, 40.432750999999996], [-83.249044, 40.424569], [-83.249065, 40.423944], [-83.249133, 40.419957], [-83.24915399999999, 40.419165], [-83.249158, 40.418724999999995], [-83.249158, 40.417384999999996], [-83.249172, 40.415776], [-83.249259, 40.411529], [-83.249292, 40.409940999999996], [-83.249293, 40.409873999999995], [-83.2493, 40.409535999999996], [-83.249498, 40.40356], [-83.249526, 40.402699], [-83.249538, 40.398843], [-83.249468, 40.388508], [-83.249506, 40.384616], [-83.249523, 40.38181], [-83.249523, 40.381702], [-83.249524, 40.381499], [-83.24953599999999, 40.379794], [-83.249556, 40.376768], [-83.249557, 40.376678], [-83.249557, 40.376664999999996], [-83.249558, 40.376605999999995], [-83.249558, 40.376507], [-83.24956999999999, 40.374507], [-83.249573, 40.374075], [-83.24958099999999, 40.370501], [-83.249588, 40.366924999999995], [-83.249596, 40.365772], [-83.249591, 40.364354999999996], [-83.249591, 40.364305], [-83.24959299999999, 40.362767], [-83.249567, 40.358838], [-83.24958199999999, 40.357699], [-83.249586, 40.357386999999996], [-83.249572, 40.352888], [-83.249578, 40.349765], [-83.249448, 40.349405999999995], [-83.249574, 40.339915999999995], [-83.249573, 40.339846], [-83.249572, 40.339749], [-83.249566, 40.339335], [-83.249495, 40.327093999999995], [-83.24945799999999, 40.324073], [-83.24945699999999, 40.324014999999996], [-83.249443, 40.322798999999996], [-83.249406, 40.315768], [-83.24962599999999, 40.311910999999995], [-83.249613, 40.311659999999996], [-83.24939599999999, 40.3074], [-83.249383, 40.304596], [-83.249378, 40.303701], [-83.249372, 40.302544], [-83.24937299999999, 40.302512], [-83.249372, 40.302496999999995], [-83.24937, 40.302482999999995], [-83.24936799999999, 40.302352], [-83.249364, 40.296518999999996], [-83.24936199999999, 40.294779999999996], [-83.24936199999999, 40.294753], [-83.249318, 40.287219], [-83.249253, 40.282284], [-83.249247, 40.280409999999996], [-83.249247, 40.280305999999996], [-83.249156, 40.274156], [-83.24912499999999, 40.27126], [-83.24912499999999, 40.271218999999995], [-83.249124, 40.270846], [-83.249152, 40.270326999999995], [-83.24912599999999, 40.267314], [-83.249386, 40.264688], [-83.249438, 40.264078999999995], [-83.24907499999999, 40.259068], [-83.248972, 40.257503], [-83.24896299999999, 40.257307], [-83.248893, 40.255811], [-83.248891, 40.25577], [-83.248751, 40.252665], [-83.248673, 40.250481], [-83.248639, 40.249694], [-83.248621, 40.249294], [-83.24862, 40.249269999999996], [-83.24861899999999, 40.249249999999996], [-83.248611, 40.249092], [-83.24860699999999, 40.249], [-83.248605, 40.248961], [-83.248604, 40.248926999999995], [-83.248603, 40.248903999999996], [-83.24860000000001, 40.24883], [-83.24859699999999, 40.248768], [-83.248595, 40.248722], [-83.248593, 40.248687], [-83.24851, 40.24695], [-83.24844999999999, 40.245415], [-83.248442, 40.245067], [-83.24842799999999, 40.244465999999996], [-83.247481, 40.244474], [-83.246606, 40.244475], [-83.246466, 40.244475], [-83.24633399999999, 40.244476], [-83.246257, 40.244476], [-83.24089599999999, 40.244496], [-83.24033, 40.244493999999996], [-83.23915099999999, 40.244492], [-83.235525, 40.244482], [-83.233954, 40.244485], [-83.233728, 40.244484], [-83.228248, 40.244465999999996], [-83.226925, 40.244465], [-83.21641, 40.244457], [-83.214806, 40.244461], [-83.205916, 40.244419], [-83.200125, 40.244408], [-83.200086, 40.244408], [-83.199185, 40.244411], [-83.199023, 40.244412], [-83.19776, 40.244417], [-83.197723, 40.244417], [-83.197603, 40.244417999999996], [-83.196719, 40.244423], [-83.19228799999999, 40.2444], [-83.190818, 40.244392], [-83.19077899999999, 40.244392], [-83.185684, 40.24435], [-83.183769, 40.244333999999995], [-83.177424, 40.244265], [-83.17484499999999, 40.244262], [-83.172797, 40.244259], [-83.17273899999999, 40.244259], [-83.17233, 40.244257], [-83.172266, 40.23634], [-83.172265, 40.236312999999996], [-83.172241, 40.235084], [-83.172063, 40.228669], [-83.17203099999999, 40.227520999999996], [-83.171937, 40.225121], [-83.17191299999999, 40.224509999999995], [-83.17186099999999, 40.222305999999996], [-83.171826, 40.219079], [-83.171737, 40.216446], [-83.171646, 40.214479], [-83.171548, 40.209765], [-83.171482, 40.207004999999995], [-83.171427, 40.203795], [-83.171396, 40.202642], [-83.17139499999999, 40.202605999999996], [-83.17137199999999, 40.201709], [-83.17127699999999, 40.198077], [-83.17123699999999, 40.196542], [-83.171236, 40.196497], [-83.171208, 40.195465999999996], [-83.171087, 40.193171], [-83.171025, 40.190576], [-83.17096099999999, 40.187868], [-83.17094399999999, 40.186313999999996], [-83.170903, 40.184171], [-83.170874, 40.182775], [-83.170861, 40.182365999999995], [-83.170858, 40.182307], [-83.17075899999999, 40.179736999999996], [-83.170745, 40.178571], [-83.17074699999999, 40.176503], [-83.170732, 40.175551], [-83.170569, 40.170321], [-83.17052699999999, 40.16896], [-83.170478, 40.167393], [-83.170476, 40.167336], [-83.17045999999999, 40.166833], [-83.170407, 40.165034], [-83.170333, 40.16012], [-83.17031999999999, 40.159656999999996], [-83.170305, 40.15914], [-83.17030299999999, 40.159082999999995], [-83.170294, 40.158756], [-83.170295, 40.157927], [-83.170295, 40.157841999999995], [-83.170295, 40.157525], [-83.170295, 40.157396], [-83.17029199999999, 40.157334], [-83.17027499999999, 40.156963999999995], [-83.170256, 40.156498], [-83.17025, 40.156352], [-83.170132, 40.153782], [-83.170126, 40.15361], [-83.170118, 40.153354], [-83.17009499999999, 40.152684], [-83.17007, 40.151562999999996], [-83.170063, 40.151047], [-83.17005999999999, 40.150768], [-83.170056, 40.150476999999995], [-83.170053, 40.150268], [-83.170051, 40.150166999999996], [-83.17004899999999, 40.150017], [-83.17004899999999, 40.149899], [-83.17004999999999, 40.149229999999996], [-83.17004999999999, 40.149190999999995], [-83.17004999999999, 40.148986], [-83.17002099999999, 40.147532], [-83.170012, 40.147095], [-83.17000999999999, 40.146989], [-83.170002, 40.146587], [-83.16999299999999, 40.145103999999996], [-83.16998099999999, 40.143087], [-83.169969, 40.13921], [-83.169968, 40.139154999999995], [-83.169968, 40.1391], [-83.169967, 40.138962], [-83.169968, 40.138892999999996], [-83.169968, 40.138824], [-83.169968, 40.13878], [-83.169967, 40.138704], [-83.169967, 40.138566999999995], [-83.169958, 40.136249], [-83.16994799999999, 40.135382], [-83.169913, 40.132072], [-83.1699, 40.13184], [-83.16989699999999, 40.131792], [-83.16988599999999, 40.131588], [-83.169902, 40.131022], [-83.169907, 40.13033], [-83.16991, 40.130013999999996], [-83.169912, 40.129818], [-83.169913, 40.129681999999995], [-83.16991399999999, 40.129619], [-83.16991399999999, 40.129593], [-83.16991399999999, 40.129577], [-83.16991399999999, 40.129557999999996], [-83.16991399999999, 40.129538], [-83.169915, 40.129509999999996], [-83.169916, 40.129453], [-83.169919, 40.129311], [-83.16991999999999, 40.129239999999996], [-83.169919, 40.129054], [-83.16991999999999, 40.128943], [-83.169922, 40.128825], [-83.169922, 40.128679999999996], [-83.169923, 40.128538], [-83.16993099999999, 40.127696], [-83.169933, 40.127500999999995], [-83.169932, 40.127483], [-83.16995299999999, 40.126743999999995], [-83.169957, 40.126309], [-83.16996, 40.126028999999996], [-83.169985, 40.124159999999996], [-83.170009, 40.122361999999995], [-83.17003, 40.120751], [-83.17003299999999, 40.120549], [-83.170047, 40.119530999999995], [-83.17004899999999, 40.119349], [-83.17005999999999, 40.118556], [-83.170071, 40.117702], [-83.170085, 40.11676], [-83.170093, 40.116049], [-83.17011699999999, 40.114228], [-83.170118, 40.114139], [-83.170124, 40.113866], [-83.170127, 40.113482999999995], [-83.170136, 40.112801], [-83.170141, 40.112673], [-83.170141, 40.112632], [-83.17019499999999, 40.107890999999995], [-83.17019499999999, 40.107867], [-83.17019599999999, 40.107838], [-83.170198, 40.107715], [-83.17020099999999, 40.107459], [-83.170208, 40.107073], [-83.170208, 40.106927], [-83.17215, 40.10698], [-83.17263799999999, 40.107005], [-83.172736, 40.107011], [-83.172755, 40.107012], [-83.17277, 40.107012999999995], [-83.172889, 40.107017], [-83.17325699999999, 40.107031], [-83.173703, 40.107048], [-83.173785, 40.107051], [-83.174476, 40.107079999999996], [-83.17620099999999, 40.107144], [-83.178146, 40.107137], [-83.17826699999999, 40.107139], [-83.178445, 40.107143], [-83.178585, 40.107144999999996], [-83.178699, 40.107147], [-83.18042299999999, 40.107181], [-83.181309, 40.107199], [-83.181535, 40.107206999999995], [-83.185446, 40.107296999999996], [-83.19032399999999, 40.107409], [-83.191206, 40.107428], [-83.19139799999999, 40.107431999999996], [-83.19161199999999, 40.107437], [-83.19448899999999, 40.107484], [-83.19614299999999, 40.107541999999995], [-83.206273, 40.107732999999996], [-83.209921, 40.107816], [-83.214428, 40.107918999999995], [-83.215567, 40.107929], [-83.22205199999999, 40.107988999999996], [-83.22701599999999, 40.108073999999995], [-83.233666, 40.108176], [-83.236042, 40.108205999999996], [-83.236105, 40.108205999999996], [-83.237898, 40.108236], [-83.23934299999999, 40.10826], [-83.24004099999999, 40.108270999999995], [-83.240145, 40.108273], [-83.245272, 40.108368999999996], [-83.250438, 40.108463], [-83.250935, 40.108475], [-83.255186, 40.108579], [-83.25773699999999, 40.108643], [-83.258343, 40.108655999999996], [-83.258586, 40.108661], [-83.258822, 40.108666], [-83.258905, 40.108667], [-83.259339, 40.108677], [-83.259388, 40.108678], [-83.262729, 40.108748999999996], [-83.262846, 40.108754], [-83.262903, 40.108756], [-83.26301, 40.108759], [-83.263131, 40.108765999999996], [-83.263808, 40.108802999999995], [-83.26383799999999, 40.108805], [-83.264377, 40.108804], [-83.264941, 40.108824], [-83.265627, 40.108841999999996], [-83.26620899999999, 40.108865], [-83.267457, 40.108906], [-83.268605, 40.108934], [-83.26926, 40.108943], [-83.26928199999999, 40.108943], [-83.270454, 40.108958], [-83.27183099999999, 40.108976], [-83.272392, 40.108988], [-83.273006, 40.109021999999996], [-83.27416, 40.109038999999996], [-83.274194, 40.109038999999996], [-83.274284, 40.10904], [-83.274731, 40.109049], [-83.275621, 40.109082], [-83.275853, 40.109086999999995], [-83.275879, 40.109088], [-83.276012, 40.109091], [-83.276185, 40.109094999999996], [-83.27723999999999, 40.109152], [-83.27827099999999, 40.109207], [-83.279415, 40.109229], [-83.27976, 40.109235999999996], [-83.279861, 40.109237], [-83.28124299999999, 40.109255999999995], [-83.281814, 40.10926], [-83.284998, 40.109279], [-83.28510299999999, 40.109279], [-83.28523899999999, 40.109280999999996], [-83.28598099999999, 40.109293], [-83.287274, 40.109317999999995], [-83.287441, 40.109319], [-83.28939299999999, 40.109334], [-83.29162099999999, 40.109362999999995], [-83.2917, 40.109364], [-83.291879, 40.109366], [-83.29236, 40.109379], [-83.29615199999999, 40.109452], [-83.300106, 40.109482], [-83.307001, 40.109556999999995], [-83.308758, 40.109576], [-83.31035299999999, 40.109593], [-83.316937, 40.109663999999995], [-83.322217, 40.109733999999996], [-83.322617, 40.109738], [-83.328898, 40.109803], [-83.339173, 40.109921], [-83.340857, 40.10994], [-83.345187, 40.109956], [-83.346409, 40.109972], [-83.347478, 40.10998], [-83.350583, 40.110003999999996], [-83.35157, 40.110011], [-83.359404, 40.110059], [-83.36497299999999, 40.110076], [-83.368675, 40.110161999999995], [-83.371545, 40.110206999999996], [-83.374916, 40.110240999999995], [-83.378258, 40.110274], [-83.382262, 40.110313999999995], [-83.385542, 40.110347], [-83.392022, 40.110403], [-83.392442, 40.110403999999996], [-83.39246, 40.110403999999996], [-83.39258699999999, 40.110405], [-83.392629, 40.110405], [-83.395128, 40.110437999999995], [-83.39525499999999, 40.110434999999995], [-83.396574, 40.110453], [-83.405023, 40.110524999999996], [-83.408723, 40.110583], [-83.414614, 40.110659], [-83.418309, 40.1107], [-83.42400099999999, 40.110757], [-83.424405, 40.110761], [-83.429481, 40.110794], [-83.439739, 40.110822], [-83.447231, 40.110842999999996], [-83.449117, 40.11088], [-83.453338, 40.110913], [-83.46352, 40.110993], [-83.46903999999999, 40.111069], [-83.472769, 40.111111], [-83.480238, 40.111213], [-83.48464, 40.111264], [-83.48477199999999, 40.111266], [-83.488874, 40.111325], [-83.49104, 40.111368], [-83.492108, 40.111381], [-83.496184, 40.111397], [-83.496219, 40.111397], [-83.49717199999999, 40.111398], [-83.499164, 40.111413], [-83.49988599999999, 40.111486], [-83.503714, 40.111467999999995], [-83.503084, 40.120205999999996], [-83.50304, 40.120837], [-83.502899, 40.122873999999996], [-83.502686, 40.126084], [-83.502662, 40.126449], [-83.502594, 40.127311], [-83.50256399999999, 40.127821], [-83.502556, 40.128094999999995], [-83.50253, 40.128299], [-83.502495, 40.128727999999995], [-83.502273, 40.131451999999996], [-83.5022, 40.13236], [-83.50219899999999, 40.132371], [-83.502195, 40.132405999999996], [-83.502195, 40.132418], [-83.502111, 40.133388], [-83.501347, 40.142236], [-83.501342, 40.14232], [-83.501171, 40.145344], [-83.500984, 40.148438], [-83.500765, 40.151264999999995], [-83.50076299999999, 40.151303999999996], [-83.50034699999999, 40.156534], [-83.500283, 40.157543], [-83.50027299999999, 40.157697], [-83.500242, 40.158201], [-83.50011599999999, 40.159555999999995], [-83.499723, 40.163793], [-83.499603, 40.165132], [-83.499437, 40.166992], [-83.49943499999999, 40.167002], [-83.499433, 40.167035], [-83.499433, 40.167047], [-83.498955, 40.172564], [-83.498949, 40.172619], [-83.498787, 40.174351], [-83.498775, 40.174482], [-83.498719, 40.175048], [-83.49821, 40.180228], [-83.497918, 40.183305], [-83.49791599999999, 40.183347], [-83.497316, 40.191278], [-83.497311, 40.191342], [-83.497305, 40.191413999999995], [-83.497013, 40.195456], [-83.49685, 40.197528999999996], [-83.496819, 40.19793], [-83.49677, 40.19855], [-83.49674499999999, 40.198848999999996], [-83.496022, 40.207837], [-83.49590599999999, 40.209334], [-83.495632, 40.212939], [-83.495622, 40.213060999999996], [-83.49550699999999, 40.214392], [-83.495318, 40.216584999999995], [-83.495239, 40.21745], [-83.495153, 40.218385999999995], [-83.49512, 40.218758], [-83.495054, 40.219484], [-83.49503299999999, 40.219716999999996], [-83.49502199999999, 40.219823999999996], [-83.495021, 40.219845], [-83.495004, 40.220034999999996], [-83.494993, 40.220146], [-83.494984, 40.220254], [-83.494942, 40.220715999999996], [-83.49493199999999, 40.220827], [-83.494928, 40.22087], [-83.494923, 40.220929], [-83.494908, 40.221095999999996], [-83.49489, 40.221289999999996], [-83.49477499999999, 40.222553], [-83.494759, 40.222718], [-83.494704, 40.223335], [-83.494683, 40.223557], [-83.494635, 40.22409], [-83.494632, 40.224122], [-83.494621, 40.224222999999995], [-83.4946, 40.224444999999996], [-83.494498, 40.225466999999995], [-83.49701499999999, 40.225562], [-83.49907, 40.225712], [-83.49989099999999, 40.225772], [-83.515855, 40.22681], [-83.517859, 40.226941], [-83.521451, 40.227174999999995], [-83.521474, 40.227176], [-83.521545, 40.227181], [-83.521569, 40.227183], [-83.521675, 40.22719], [-83.525916, 40.227532], [-83.528565, 40.227729], [-83.528649, 40.227734999999996], [-83.53000899999999, 40.227841999999995], [-83.530104, 40.227851], [-83.530391, 40.227877], [-83.531768, 40.227987], [-83.53412, 40.228155], [-83.534249, 40.228165], [-83.53516499999999, 40.228231], [-83.53673599999999, 40.228358], [-83.538432, 40.228497], [-83.54262299999999, 40.228730999999996], [-83.54420499999999, 40.228819], [-83.54521, 40.228876], [-83.545372, 40.228885], [-83.546695, 40.228975999999996], [-83.54691199999999, 40.228989999999996], [-83.54756599999999, 40.229034999999996], [-83.547784, 40.22905], [-83.547956, 40.229062], [-83.548495, 40.229110999999996], [-83.55062699999999, 40.229305], [-83.551338, 40.229369999999996], [-83.551289, 40.229791], [-83.551067, 40.231714], [-83.55084599999999, 40.233965999999995], [-83.550837, 40.234057], [-83.550624, 40.236222999999995], [-83.550263, 40.239298], [-83.549685, 40.243846999999995], [-83.549481, 40.245923], [-83.549475, 40.245976999999996], [-83.54936, 40.247091999999995], [-83.549162, 40.248785], [-83.548706, 40.252317999999995], [-83.548699, 40.252376], [-83.548602, 40.253271999999996], [-83.54856699999999, 40.253596], [-83.548306, 40.256012], [-83.54824599999999, 40.256561999999995], [-83.547887, 40.26001], [-83.547884, 40.26004], [-83.54787999999999, 40.260079], [-83.547538, 40.263422], [-83.54753099999999, 40.263484], [-83.547524, 40.263554], [-83.54671499999999, 40.2704], [-83.54655799999999, 40.272006999999995], [-83.546128, 40.275813], [-83.546122, 40.275869], [-83.54593299999999, 40.277438], [-83.54562399999999, 40.279999], [-83.54556699999999, 40.280467], [-83.545461, 40.281451], [-83.545422, 40.281818], [-83.545395, 40.282089], [-83.54539299999999, 40.282115], [-83.545296, 40.283127], [-83.545132, 40.284853], [-83.544975, 40.286504], [-83.544922, 40.286988], [-83.54484599999999, 40.287690999999995], [-83.544456, 40.29109], [-83.544448, 40.291152], [-83.544439, 40.29123], [-83.54442499999999, 40.291351999999996], [-83.543814, 40.296695], [-83.543776, 40.297073], [-83.543649, 40.298319], [-83.543644, 40.298362], [-83.54343899999999, 40.300360999999995], [-83.543399, 40.300748], [-83.543047, 40.30419], [-83.54283099999999, 40.306292], [-83.542577, 40.308768], [-83.54245, 40.310006], [-83.542208, 40.312371999999996], [-83.541206, 40.321965], [-83.541122, 40.322617], [-83.541106, 40.322737], [-83.540663, 40.326504], [-83.540655, 40.326571], [-83.539357, 40.337612], [-83.539343, 40.337787999999996], [-83.539108, 40.340243], [-83.539046, 40.340894], [-83.539025, 40.341119], [-83.538946, 40.341949], [-83.538446, 40.346779], [-83.53827799999999, 40.348065999999996], [-83.53734999999999, 40.356351], [-83.537335, 40.356487], [-83.53652799999999, 40.363445], [-83.536446, 40.364109], [-83.536238, 40.365789], [-83.534835, 40.3781], [-83.534762, 40.378896999999995], [-83.534491, 40.381912], [-83.533879, 40.387245], [-83.533833, 40.387671999999995], [-83.533783, 40.38813], [-83.533575, 40.390024], [-83.533568, 40.390091999999996], [-83.533204, 40.393446], [-83.53309899999999, 40.394382], [-83.532816, 40.396802], [-83.53220999999999, 40.401792], [-83.53206999999999, 40.402885], [-83.531931, 40.403973], [-83.531928, 40.404002], [-83.531925, 40.404027], [-83.531458, 40.40818], [-83.531452, 40.408235], [-83.53066799999999, 40.41542], [-83.53060699999999, 40.415951], [-83.530317, 40.418217999999996], [-83.529747, 40.423203], [-83.52918, 40.428322], [-83.529169, 40.428425999999995], [-83.529127, 40.42881], [-83.529116, 40.428914999999996], [-83.528936, 40.430592999999995], [-83.528215, 40.43664]]], &quot;type&quot;: &quot;Polygon&quot;}, &quot;id&quot;: &quot;6&quot;, &quot;properties&quot;: {&quot;2010&quot;: 133, &quot;2011&quot;: 631, &quot;2012&quot;: -299, &quot;2013&quot;: 640, &quot;2014&quot;: 337, &quot;2015&quot;: 615, &quot;2016&quot;: 1193, &quot;2017&quot;: 1217, &quot;2018&quot;: 984, &quot;2019&quot;: 1206, &quot;CTYNAME&quot;: &quot;Union&quot;, &quot;__folium_color&quot;: &quot;#482475&quot;}, &quot;type&quot;: &quot;Feature&quot;}], &quot;type&quot;: &quot;FeatureCollection&quot;});\n",
       "\n",
       "        \n",
       "    \n",
       "    geo_json_cd6554dd9038d3817d7f1da09763bc2c.bindTooltip(\n",
       "    function(layer){\n",
       "    let div = L.DomUtil.create(&#x27;div&#x27;);\n",
       "    \n",
       "    let handleObject = feature=&gt;typeof(feature)==&#x27;object&#x27; ? JSON.stringify(feature) : feature;\n",
       "    let fields = [&quot;CTYNAME&quot;, &quot;2010&quot;, &quot;2011&quot;, &quot;2012&quot;, &quot;2013&quot;, &quot;2014&quot;, &quot;2015&quot;, &quot;2016&quot;, &quot;2017&quot;, &quot;2018&quot;, &quot;2019&quot;];\n",
       "    let aliases = [&quot;CTYNAME&quot;, &quot;2010&quot;, &quot;2011&quot;, &quot;2012&quot;, &quot;2013&quot;, &quot;2014&quot;, &quot;2015&quot;, &quot;2016&quot;, &quot;2017&quot;, &quot;2018&quot;, &quot;2019&quot;];\n",
       "    let table = &#x27;&lt;table&gt;&#x27; +\n",
       "        String(\n",
       "        fields.map(\n",
       "        (v,i)=&gt;\n",
       "        `&lt;tr&gt;\n",
       "            &lt;th&gt;${aliases[i]}&lt;/th&gt;\n",
       "            \n",
       "            &lt;td&gt;${handleObject(layer.feature.properties[v])}&lt;/td&gt;\n",
       "        &lt;/tr&gt;`).join(&#x27;&#x27;))\n",
       "    +&#x27;&lt;/table&gt;&#x27;;\n",
       "    div.innerHTML=table;\n",
       "    \n",
       "    return div\n",
       "    }\n",
       "    ,{&quot;className&quot;: &quot;foliumtooltip&quot;, &quot;sticky&quot;: true});\n",
       "                     \n",
       "    \n",
       "    var color_map_04c1d272675c8934e78cb4d8a0f30ee4 = {};\n",
       "\n",
       "    \n",
       "    color_map_04c1d272675c8934e78cb4d8a0f30ee4.color = d3.scale.threshold()\n",
       "              .domain([342.0, 359.46693386773546, 376.9338677354709, 394.4008016032064, 411.86773547094185, 429.3346693386774, 446.80160320641284, 464.2685370741483, 481.73547094188376, 499.2024048096192, 516.6693386773547, 534.1362725450902, 551.6032064128257, 569.0701402805612, 586.5370741482966, 604.004008016032, 621.4709418837675, 638.937875751503, 656.4048096192384, 673.871743486974, 691.3386773547095, 708.8056112224449, 726.2725450901803, 743.7394789579158, 761.2064128256513, 778.6733466933867, 796.1402805611223, 813.6072144288578, 831.0741482965932, 848.5410821643286, 866.0080160320641, 883.4749498997996, 900.941883767535, 918.4088176352706, 935.875751503006, 953.3426853707415, 970.8096192384769, 988.2765531062124, 1005.7434869739479, 1023.2104208416833, 1040.677354709419, 1058.1442885771544, 1075.6112224448898, 1093.0781563126252, 1110.5450901803606, 1128.0120240480962, 1145.4789579158316, 1162.9458917835673, 1180.4128256513027, 1197.879759519038, 1215.3466933867735, 1232.813627254509, 1250.2805611222445, 1267.74749498998, 1285.2144288577156, 1302.681362725451, 1320.1482965931864, 1337.6152304609218, 1355.0821643286572, 1372.5490981963928, 1390.0160320641282, 1407.4829659318636, 1424.9498997995993, 1442.4168336673347, 1459.88376753507, 1477.3507014028055, 1494.8176352705411, 1512.2845691382765, 1529.751503006012, 1547.2184368737476, 1564.685370741483, 1582.1523046092184, 1599.6192384769538, 1617.0861723446894, 1634.5531062124248, 1652.0200400801602, 1669.4869739478959, 1686.9539078156313, 1704.4208416833667, 1721.887775551102, 1739.3547094188377, 1756.8216432865731, 1774.2885771543085, 1791.7555110220442, 1809.2224448897796, 1826.689378757515, 1844.1563126252504, 1861.623246492986, 1879.0901803607214, 1896.5571142284568, 1914.0240480961925, 1931.4909819639279, 1948.9579158316633, 1966.4248496993987, 1983.8917835671343, 2001.3587174348697, 2018.8256513026051, 2036.2925851703408, 2053.759519038076, 2071.2264529058116, 2088.693386773547, 2106.160320641283, 2123.627254509018, 2141.0941883767537, 2158.561122244489, 2176.0280561122245, 2193.49498997996, 2210.9619238476953, 2228.428857715431, 2245.895791583166, 2263.362725450902, 2280.8296593186374, 2298.296593186373, 2315.763527054108, 2333.2304609218436, 2350.6973947895794, 2368.1643286573144, 2385.6312625250503, 2403.0981963927857, 2420.565130260521, 2438.0320641282565, 2455.498997995992, 2472.9659318637273, 2490.432865731463, 2507.8997995991986, 2525.366733466934, 2542.8336673346694, 2560.300601202405, 2577.76753507014, 2595.2344689378756, 2612.701402805611, 2630.168336673347, 2647.6352705410823, 2665.1022044088177, 2682.569138276553, 2700.0360721442885, 2717.503006012024, 2734.9699398797593, 2752.436873747495, 2769.9038076152306, 2787.370741482966, 2804.8376753507014, 2822.304609218437, 2839.771543086172, 2857.2384769539076, 2874.7054108216435, 2892.172344689379, 2909.6392785571143, 2927.1062124248497, 2944.573146292585, 2962.0400801603205, 2979.507014028056, 2996.9739478957918, 3014.440881763527, 3031.9078156312626, 3049.374749498998, 3066.8416833667334, 3084.308617234469, 3101.775551102204, 3119.24248496994, 3136.7094188376755, 3154.176352705411, 3171.6432865731463, 3189.1102204408817, 3206.577154308617, 3224.0440881763525, 3241.5110220440883, 3258.9779559118238, 3276.444889779559, 3293.9118236472946, 3311.37875751503, 3328.8456913827654, 3346.312625250501, 3363.7795591182366, 3381.246492985972, 3398.7134268537075, 3416.180360721443, 3433.6472945891783, 3451.1142284569137, 3468.581162324649, 3486.048096192385, 3503.5150300601204, 3520.9819639278558, 3538.448897795591, 3555.9158316633266, 3573.382765531062, 3590.8496993987974, 3608.3166332665332, 3625.7835671342687, 3643.250501002004, 3660.7174348697395, 3678.184368737475, 3695.6513026052103, 3713.1182364729457, 3730.5851703406815, 3748.052104208417, 3765.5190380761524, 3782.9859719438878, 3800.452905811623, 3817.9198396793586, 3835.386773547094, 3852.85370741483, 3870.3206412825652, 3887.7875751503007, 3905.254509018036, 3922.7214428857715, 3940.188376753507, 3957.6553106212423, 3975.122244488978, 3992.5891783567135, 4010.056112224449, 4027.5230460921844, 4044.9899799599198, 4062.456913827655, 4079.9238476953906, 4097.390781563126, 4114.857715430862, 4132.324649298597, 4149.791583166332, 4167.258517034068, 4184.725450901804, 4202.192384769539, 4219.659318637275, 4237.12625250501, 4254.593186372746, 4272.060120240481, 4289.527054108216, 4306.993987975951, 4324.460921843687, 4341.927855711423, 4359.394789579159, 4376.861723446894, 4394.328657314629, 4411.795591182365, 4429.2625250501005, 4446.7294589178355, 4464.196392785571, 4481.663326653306, 4499.130260521042, 4516.597194388778, 4534.064128256513, 4551.531062124249, 4568.997995991984, 4586.46492985972, 4603.931863727455, 4621.39879759519, 4638.865731462926, 4656.332665330661, 4673.799599198397, 4691.266533066132, 4708.733466933868, 4726.200400801603, 4743.667334669339, 4761.134268537074, 4778.60120240481, 4796.068136272545, 4813.53507014028, 4831.002004008016, 4848.468937875751, 4865.935871743487, 4883.402805611222, 4900.869739478958, 4918.336673346694, 4935.803607214429, 4953.2705410821645, 4970.7374749498995, 4988.204408817635, 5005.67134268537, 5023.138276553106, 5040.605210420842, 5058.072144288577, 5075.539078156313, 5093.006012024048, 5110.472945891784, 5127.939879759519, 5145.406813627254, 5162.87374749499, 5180.340681362725, 5197.807615230461, 5215.274549098196, 5232.741482965932, 5250.208416833667, 5267.675350701403, 5285.142284569139, 5302.609218436874, 5320.076152304609, 5337.543086172344, 5355.01002004008, 5372.476953907815, 5389.943887775551, 5407.410821643287, 5424.877755511022, 5442.344689378758, 5459.811623246493, 5477.2785571142285, 5494.7454909819635, 5512.212424849699, 5529.679358717435, 5547.14629258517, 5564.613226452906, 5582.080160320641, 5599.547094188377, 5617.014028056112, 5634.480961923848, 5651.9478957915835, 5669.4148296593185, 5686.881763527054, 5704.348697394789, 5721.815631262525, 5739.28256513026, 5756.749498997996, 5774.216432865732, 5791.683366733467, 5809.150300601203, 5826.617234468938, 5844.084168336673, 5861.551102204408, 5879.018036072144, 5896.48496993988, 5913.951903807615, 5931.418837675351, 5948.885771543086, 5966.352705410822, 5983.819639278557, 6001.2865731462925, 6018.753507014028, 6036.220440881763, 6053.687374749499, 6071.154308617234, 6088.62124248497, 6106.088176352705, 6123.555110220441, 6141.022044088177, 6158.488977955912, 6175.9559118236475, 6193.4228456913825, 6210.889779559118, 6228.356713426853, 6245.823647294589, 6263.290581162325, 6280.75751503006, 6298.224448897796, 6315.691382765531, 6333.158316633267, 6350.625250501002, 6368.092184368737, 6385.559118236473, 6403.026052104208, 6420.492985971944, 6437.959919839679, 6455.426853707415, 6472.89378757515, 6490.360721442886, 6507.827655310622, 6525.294589178357, 6542.761523046092, 6560.228456913827, 6577.695390781563, 6595.162324649298, 6612.629258517034, 6630.09619238477, 6647.563126252505, 6665.030060120241, 6682.496993987976, 6699.9639278557115, 6717.4308617234465, 6734.897795591182, 6752.364729458918, 6769.831663326653, 6787.298597194389, 6804.765531062124, 6822.23246492986, 6839.699398797595, 6857.166332665331, 6874.6332665330665, 6892.100200400801, 6909.567134268537, 6927.034068136272, 6944.501002004008, 6961.967935871743, 6979.434869739479, 6996.901803607215, 7014.36873747495, 7031.835671342686, 7049.302605210421, 7066.769539078156, 7084.236472945891, 7101.703406813627, 7119.170340681363, 7136.637274549098, 7154.104208416834, 7171.571142284569, 7189.038076152305, 7206.50501002004, 7223.9719438877755, 7241.438877755511, 7258.905811623246, 7276.372745490982, 7293.839679358717, 7311.306613226453, 7328.773547094188, 7346.240480961924, 7363.70741482966, 7381.174348697395, 7398.6412825651305, 7416.108216432865, 7433.575150300601, 7451.042084168336, 7468.509018036072, 7485.975951903808, 7503.442885771543, 7520.909819639279, 7538.376753507014, 7555.84368737475, 7573.310621242485, 7590.77755511022, 7608.244488977956, 7625.711422845691, 7643.178356713427, 7660.645290581162, 7678.112224448898, 7695.579158316633, 7713.046092184369, 7730.513026052105, 7747.9799599198395, 7765.446893787575, 7782.91382765531, 7800.380761523046, 7817.847695390781, 7835.314629258517, 7852.781563126253, 7870.248496993988, 7887.715430861724, 7905.182364729459, 7922.6492985971945, 7940.116232464929, 7957.583166332665, 7975.050100200401, 7992.517034068136, 8009.983967935872, 8027.450901803607, 8044.917835671343, 8062.384769539078, 8079.851703406814, 8097.3186372745495, 8114.785571142284, 8132.25250501002, 8149.719438877755, 8167.186372745491, 8184.653306613226, 8202.120240480963, 8219.587174348697, 8237.054108216433, 8254.521042084169, 8271.987975951903, 8289.45490981964, 8306.921843687374, 8324.38877755511, 8341.855711422846, 8359.32264529058, 8376.789579158318, 8394.256513026052, 8411.723446893788, 8429.190380761524, 8446.657314629258, 8464.124248496995, 8481.59118236473, 8499.058116232465, 8516.525050100201, 8533.991983967935, 8551.458917835671, 8568.925851703407, 8586.392785571143, 8603.859719438879, 8621.326653306613, 8638.793587174348, 8656.260521042084, 8673.72745490982, 8691.194388777556, 8708.66132264529, 8726.128256513026, 8743.595190380762, 8761.062124248498, 8778.529058116232, 8795.995991983968, 8813.462925851703, 8830.92985971944, 8848.396793587175, 8865.86372745491, 8883.330661322645, 8900.79759519038, 8918.264529058117, 8935.731462925853, 8953.198396793587, 8970.665330661323, 8988.132264529058, 9005.599198396794, 9023.066132264528, 9040.533066132264, 9058.0])\n",
       "              .range([&#x27;#440154ff&#x27;, &#x27;#440155ff&#x27;, &#x27;#440256ff&#x27;, &#x27;#440356ff&#x27;, &#x27;#450457ff&#x27;, &#x27;#450458ff&#x27;, &#x27;#450559ff&#x27;, &#x27;#450659ff&#x27;, &#x27;#46075aff&#x27;, &#x27;#46075bff&#x27;, &#x27;#46085cff&#x27;, &#x27;#46095cff&#x27;, &#x27;#460a5dff&#x27;, &#x27;#460a5eff&#x27;, &#x27;#460b5eff&#x27;, &#x27;#460c5fff&#x27;, &#x27;#470d60ff&#x27;, &#x27;#470d61ff&#x27;, &#x27;#470e61ff&#x27;, &#x27;#470f62ff&#x27;, &#x27;#471063ff&#x27;, &#x27;#471064ff&#x27;, &#x27;#471164ff&#x27;, &#x27;#471265ff&#x27;, &#x27;#471365ff&#x27;, &#x27;#481366ff&#x27;, &#x27;#481467ff&#x27;, &#x27;#481568ff&#x27;, &#x27;#481668ff&#x27;, &#x27;#481669ff&#x27;, &#x27;#481769ff&#x27;, &#x27;#48176aff&#x27;, &#x27;#48186bff&#x27;, &#x27;#48196cff&#x27;, &#x27;#481a6cff&#x27;, &#x27;#481a6dff&#x27;, &#x27;#481b6dff&#x27;, &#x27;#481c6eff&#x27;, &#x27;#481c6eff&#x27;, &#x27;#481d6fff&#x27;, &#x27;#481d6fff&#x27;, &#x27;#481f70ff&#x27;, &#x27;#481f70ff&#x27;, &#x27;#482071ff&#x27;, &#x27;#482072ff&#x27;, &#x27;#482173ff&#x27;, &#x27;#482273ff&#x27;, &#x27;#482374ff&#x27;, &#x27;#482374ff&#x27;, &#x27;#482475ff&#x27;, &#x27;#482476ff&#x27;, &#x27;#482576ff&#x27;, &#x27;#482577ff&#x27;, &#x27;#482677ff&#x27;, &#x27;#482778ff&#x27;, &#x27;#482878ff&#x27;, &#x27;#482879ff&#x27;, &#x27;#482979ff&#x27;, &#x27;#47297aff&#x27;, &#x27;#472a7aff&#x27;, &#x27;#472b7aff&#x27;, &#x27;#472c7aff&#x27;, &#x27;#472c7bff&#x27;, &#x27;#472d7bff&#x27;, &#x27;#472d7cff&#x27;, &#x27;#472e7cff&#x27;, &#x27;#472e7dff&#x27;, &#x27;#472f7dff&#x27;, &#x27;#462f7eff&#x27;, &#x27;#46307eff&#x27;, &#x27;#46317eff&#x27;, &#x27;#46327eff&#x27;, &#x27;#46327fff&#x27;, &#x27;#46337fff&#x27;, &#x27;#463480ff&#x27;, &#x27;#453480ff&#x27;, &#x27;#453581ff&#x27;, &#x27;#453581ff&#x27;, &#x27;#453681ff&#x27;, &#x27;#453781ff&#x27;, &#x27;#453882ff&#x27;, &#x27;#443882ff&#x27;, &#x27;#443983ff&#x27;, &#x27;#443983ff&#x27;, &#x27;#443a83ff&#x27;, &#x27;#443a83ff&#x27;, &#x27;#443b84ff&#x27;, &#x27;#433c84ff&#x27;, &#x27;#433d84ff&#x27;, &#x27;#433d85ff&#x27;, &#x27;#433e85ff&#x27;, &#x27;#423e85ff&#x27;, &#x27;#423f85ff&#x27;, &#x27;#423f86ff&#x27;, &#x27;#424086ff&#x27;, &#x27;#424086ff&#x27;, &#x27;#424186ff&#x27;, &#x27;#414187ff&#x27;, &#x27;#414287ff&#x27;, &#x27;#414387ff&#x27;, &#x27;#414487ff&#x27;, &#x27;#404488ff&#x27;, &#x27;#404588ff&#x27;, &#x27;#404588ff&#x27;, &#x27;#404688ff&#x27;, &#x27;#3f4688ff&#x27;, &#x27;#3f4788ff&#x27;, &#x27;#3f4789ff&#x27;, &#x27;#3f4889ff&#x27;, &#x27;#3e4889ff&#x27;, &#x27;#3e4989ff&#x27;, &#x27;#3e4a89ff&#x27;, &#x27;#3e4a89ff&#x27;, &#x27;#3e4b8aff&#x27;, &#x27;#3d4c8aff&#x27;, &#x27;#3d4d8aff&#x27;, &#x27;#3d4d8aff&#x27;, &#x27;#3d4e8aff&#x27;, &#x27;#3c4e8aff&#x27;, &#x27;#3c4f8aff&#x27;, &#x27;#3c4f8aff&#x27;, &#x27;#3c508bff&#x27;, &#x27;#3b508bff&#x27;, &#x27;#3b518bff&#x27;, &#x27;#3b518bff&#x27;, &#x27;#3b528bff&#x27;, &#x27;#3a528bff&#x27;, &#x27;#3a538bff&#x27;, &#x27;#3a538bff&#x27;, &#x27;#3a548cff&#x27;, &#x27;#39548cff&#x27;, &#x27;#39558cff&#x27;, &#x27;#39558cff&#x27;, &#x27;#39568cff&#x27;, &#x27;#38578cff&#x27;, &#x27;#38588cff&#x27;, &#x27;#38588cff&#x27;, &#x27;#38598cff&#x27;, &#x27;#37598cff&#x27;, &#x27;#375a8cff&#x27;, &#x27;#375a8dff&#x27;, &#x27;#375b8dff&#x27;, &#x27;#365b8dff&#x27;, &#x27;#365c8dff&#x27;, &#x27;#365c8dff&#x27;, &#x27;#365d8dff&#x27;, &#x27;#355d8dff&#x27;, &#x27;#355e8dff&#x27;, &#x27;#355f8dff&#x27;, &#x27;#355f8dff&#x27;, &#x27;#34608dff&#x27;, &#x27;#34608dff&#x27;, &#x27;#34618dff&#x27;, &#x27;#34618dff&#x27;, &#x27;#33628dff&#x27;, &#x27;#33628dff&#x27;, &#x27;#33638dff&#x27;, &#x27;#32638dff&#x27;, &#x27;#32648eff&#x27;, &#x27;#32648eff&#x27;, &#x27;#32658eff&#x27;, &#x27;#31658eff&#x27;, &#x27;#31668eff&#x27;, &#x27;#31668eff&#x27;, &#x27;#31678eff&#x27;, &#x27;#31678eff&#x27;, &#x27;#31688eff&#x27;, &#x27;#30688eff&#x27;, &#x27;#30698eff&#x27;, &#x27;#30698eff&#x27;, &#x27;#306a8eff&#x27;, &#x27;#2f6a8eff&#x27;, &#x27;#2f6b8eff&#x27;, &#x27;#2f6b8eff&#x27;, &#x27;#2f6c8eff&#x27;, &#x27;#2e6c8eff&#x27;, &#x27;#2e6d8eff&#x27;, &#x27;#2e6d8eff&#x27;, &#x27;#2e6e8eff&#x27;, &#x27;#2e6e8eff&#x27;, &#x27;#2e6f8eff&#x27;, &#x27;#2d6f8eff&#x27;, &#x27;#2d708eff&#x27;, &#x27;#2d708eff&#x27;, &#x27;#2d718eff&#x27;, &#x27;#2c718eff&#x27;, &#x27;#2c718eff&#x27;, &#x27;#2c728eff&#x27;, &#x27;#2c728eff&#x27;, &#x27;#2c738eff&#x27;, &#x27;#2c738eff&#x27;, &#x27;#2b748eff&#x27;, &#x27;#2b748eff&#x27;, &#x27;#2b758eff&#x27;, &#x27;#2b758eff&#x27;, &#x27;#2a768eff&#x27;, &#x27;#2a768eff&#x27;, &#x27;#2a778eff&#x27;, &#x27;#2a778eff&#x27;, &#x27;#2a788eff&#x27;, &#x27;#29788eff&#x27;, &#x27;#29798eff&#x27;, &#x27;#29798eff&#x27;, &#x27;#297a8eff&#x27;, &#x27;#297a8eff&#x27;, &#x27;#297b8eff&#x27;, &#x27;#287b8eff&#x27;, &#x27;#287c8eff&#x27;, &#x27;#287c8eff&#x27;, &#x27;#287d8eff&#x27;, &#x27;#277d8eff&#x27;, &#x27;#277e8eff&#x27;, &#x27;#277e8eff&#x27;, &#x27;#277f8eff&#x27;, &#x27;#277f8eff&#x27;, &#x27;#27808eff&#x27;, &#x27;#26808eff&#x27;, &#x27;#26818eff&#x27;, &#x27;#26818eff&#x27;, &#x27;#26828eff&#x27;, &#x27;#26828eff&#x27;, &#x27;#26828eff&#x27;, &#x27;#25828eff&#x27;, &#x27;#25838eff&#x27;, &#x27;#25838eff&#x27;, &#x27;#25848eff&#x27;, &#x27;#25858eff&#x27;, &#x27;#25858eff&#x27;, &#x27;#24868eff&#x27;, &#x27;#24868eff&#x27;, &#x27;#24878eff&#x27;, &#x27;#24878eff&#x27;, &#x27;#23888eff&#x27;, &#x27;#23888eff&#x27;, &#x27;#23898eff&#x27;, &#x27;#23898eff&#x27;, &#x27;#238a8dff&#x27;, &#x27;#238a8dff&#x27;, &#x27;#228b8dff&#x27;, &#x27;#228b8dff&#x27;, &#x27;#228c8dff&#x27;, &#x27;#228c8dff&#x27;, &#x27;#228d8dff&#x27;, &#x27;#218d8dff&#x27;, &#x27;#218e8dff&#x27;, &#x27;#218e8dff&#x27;, &#x27;#218f8dff&#x27;, &#x27;#218f8dff&#x27;, &#x27;#21908dff&#x27;, &#x27;#21908dff&#x27;, &#x27;#21918cff&#x27;, &#x27;#20918cff&#x27;, &#x27;#20928cff&#x27;, &#x27;#20928cff&#x27;, &#x27;#20928cff&#x27;, &#x27;#20928cff&#x27;, &#x27;#20938cff&#x27;, &#x27;#1f938cff&#x27;, &#x27;#1f948cff&#x27;, &#x27;#1f948cff&#x27;, &#x27;#1f958bff&#x27;, &#x27;#1f958bff&#x27;, &#x27;#1f968bff&#x27;, &#x27;#1f968bff&#x27;, &#x27;#1f978bff&#x27;, &#x27;#1f988bff&#x27;, &#x27;#1f988bff&#x27;, &#x27;#1f998bff&#x27;, &#x27;#1f998aff&#x27;, &#x27;#1f9a8aff&#x27;, &#x27;#1f9a8aff&#x27;, &#x27;#1e9b8aff&#x27;, &#x27;#1e9b8aff&#x27;, &#x27;#1e9c8aff&#x27;, &#x27;#1e9c89ff&#x27;, &#x27;#1e9d89ff&#x27;, &#x27;#1e9d89ff&#x27;, &#x27;#1e9e89ff&#x27;, &#x27;#1f9e89ff&#x27;, &#x27;#1f9f88ff&#x27;, &#x27;#1f9f88ff&#x27;, &#x27;#1fa088ff&#x27;, &#x27;#1fa088ff&#x27;, &#x27;#1fa188ff&#x27;, &#x27;#1fa188ff&#x27;, &#x27;#1fa187ff&#x27;, &#x27;#1fa187ff&#x27;, &#x27;#1fa287ff&#x27;, &#x27;#1fa287ff&#x27;, &#x27;#1fa386ff&#x27;, &#x27;#20a386ff&#x27;, &#x27;#20a486ff&#x27;, &#x27;#20a486ff&#x27;, &#x27;#20a585ff&#x27;, &#x27;#21a585ff&#x27;, &#x27;#21a685ff&#x27;, &#x27;#21a685ff&#x27;, &#x27;#21a785ff&#x27;, &#x27;#22a785ff&#x27;, &#x27;#22a884ff&#x27;, &#x27;#22a884ff&#x27;, &#x27;#22a983ff&#x27;, &#x27;#23a983ff&#x27;, &#x27;#23aa83ff&#x27;, &#x27;#24ab83ff&#x27;, &#x27;#25ab82ff&#x27;, &#x27;#25ac82ff&#x27;, &#x27;#25ac82ff&#x27;, &#x27;#25ad82ff&#x27;, &#x27;#26ad81ff&#x27;, &#x27;#26ad81ff&#x27;, &#x27;#27ad81ff&#x27;, &#x27;#27ae81ff&#x27;, &#x27;#28ae80ff&#x27;, &#x27;#28af80ff&#x27;, &#x27;#29af7fff&#x27;, &#x27;#29b07fff&#x27;, &#x27;#2ab07fff&#x27;, &#x27;#2bb17eff&#x27;, &#x27;#2cb17eff&#x27;, &#x27;#2cb27dff&#x27;, &#x27;#2db27dff&#x27;, &#x27;#2db37cff&#x27;, &#x27;#2eb37cff&#x27;, &#x27;#2eb47cff&#x27;, &#x27;#2fb47cff&#x27;, &#x27;#30b57bff&#x27;, &#x27;#31b57bff&#x27;, &#x27;#31b67aff&#x27;, &#x27;#32b67aff&#x27;, &#x27;#33b679ff&#x27;, &#x27;#34b679ff&#x27;, &#x27;#34b779ff&#x27;, &#x27;#35b779ff&#x27;, &#x27;#36b878ff&#x27;, &#x27;#37b878ff&#x27;, &#x27;#37b977ff&#x27;, &#x27;#38b977ff&#x27;, &#x27;#39ba76ff&#x27;, &#x27;#3aba76ff&#x27;, &#x27;#3abb75ff&#x27;, &#x27;#3bbb75ff&#x27;, &#x27;#3cbc74ff&#x27;, &#x27;#3dbc74ff&#x27;, &#x27;#3ebc73ff&#x27;, &#x27;#3fbd73ff&#x27;, &#x27;#40bd72ff&#x27;, &#x27;#40be72ff&#x27;, &#x27;#41be71ff&#x27;, &#x27;#42bf71ff&#x27;, &#x27;#43bf70ff&#x27;, &#x27;#45c070ff&#x27;, &#x27;#46c06fff&#x27;, &#x27;#47c16fff&#x27;, &#x27;#48c16eff&#x27;, &#x27;#49c16eff&#x27;, &#x27;#4ac16dff&#x27;, &#x27;#4bc26cff&#x27;, &#x27;#4cc26cff&#x27;, &#x27;#4dc36bff&#x27;, &#x27;#4ec36bff&#x27;, &#x27;#4fc46aff&#x27;, &#x27;#50c46aff&#x27;, &#x27;#51c569ff&#x27;, &#x27;#52c569ff&#x27;, &#x27;#53c568ff&#x27;, &#x27;#54c568ff&#x27;, &#x27;#55c667ff&#x27;, &#x27;#56c667ff&#x27;, &#x27;#57c766ff&#x27;, &#x27;#58c765ff&#x27;, &#x27;#59c864ff&#x27;, &#x27;#5ac864ff&#x27;, &#x27;#5bc863ff&#x27;, &#x27;#5cc863ff&#x27;, &#x27;#5dc962ff&#x27;, &#x27;#5ec962ff&#x27;, &#x27;#5fca61ff&#x27;, &#x27;#60ca60ff&#x27;, &#x27;#62cb5fff&#x27;, &#x27;#63cb5fff&#x27;, &#x27;#64cb5eff&#x27;, &#x27;#65cc5dff&#x27;, &#x27;#66cc5cff&#x27;, &#x27;#67cd5cff&#x27;, &#x27;#68cd5bff&#x27;, &#x27;#6acd5bff&#x27;, &#x27;#6bcd5aff&#x27;, &#x27;#6cce59ff&#x27;, &#x27;#6ece58ff&#x27;, &#x27;#6fcf58ff&#x27;, &#x27;#70cf57ff&#x27;, &#x27;#71d057ff&#x27;, &#x27;#72d056ff&#x27;, &#x27;#74d055ff&#x27;, &#x27;#75d054ff&#x27;, &#x27;#76d153ff&#x27;, &#x27;#77d153ff&#x27;, &#x27;#78d152ff&#x27;, &#x27;#7ad151ff&#x27;, &#x27;#7bd250ff&#x27;, &#x27;#7cd250ff&#x27;, &#x27;#7dd34fff&#x27;, &#x27;#7fd34eff&#x27;, &#x27;#80d34dff&#x27;, &#x27;#81d34dff&#x27;, &#x27;#82d44cff&#x27;, &#x27;#84d44bff&#x27;, &#x27;#85d54aff&#x27;, &#x27;#86d549ff&#x27;, &#x27;#88d548ff&#x27;, &#x27;#89d548ff&#x27;, &#x27;#8ad647ff&#x27;, &#x27;#8bd646ff&#x27;, &#x27;#8dd645ff&#x27;, &#x27;#8ed645ff&#x27;, &#x27;#8fd744ff&#x27;, &#x27;#90d743ff&#x27;, &#x27;#92d742ff&#x27;, &#x27;#93d741ff&#x27;, &#x27;#94d840ff&#x27;, &#x27;#96d83fff&#x27;, &#x27;#97d83eff&#x27;, &#x27;#99d93dff&#x27;, &#x27;#9ad93cff&#x27;, &#x27;#9bd93cff&#x27;, &#x27;#9dd93bff&#x27;, &#x27;#9eda3aff&#x27;, &#x27;#9fda39ff&#x27;, &#x27;#a1da38ff&#x27;, &#x27;#a2da37ff&#x27;, &#x27;#a3db36ff&#x27;, &#x27;#a4db36ff&#x27;, &#x27;#a6db35ff&#x27;, &#x27;#a8db34ff&#x27;, &#x27;#a9dc33ff&#x27;, &#x27;#aadc32ff&#x27;, &#x27;#abdc31ff&#x27;, &#x27;#addc30ff&#x27;, &#x27;#aedd2fff&#x27;, &#x27;#b0dd2fff&#x27;, &#x27;#b1dd2eff&#x27;, &#x27;#b2dd2dff&#x27;, &#x27;#b3de2cff&#x27;, &#x27;#b5de2bff&#x27;, &#x27;#b6de2aff&#x27;, &#x27;#b8de29ff&#x27;, &#x27;#b9de28ff&#x27;, &#x27;#bade28ff&#x27;, &#x27;#bcdf27ff&#x27;, &#x27;#bddf26ff&#x27;, &#x27;#bfdf25ff&#x27;, &#x27;#c0df25ff&#x27;, &#x27;#c1df24ff&#x27;, &#x27;#c2df23ff&#x27;, &#x27;#c4e022ff&#x27;, &#x27;#c5e021ff&#x27;, &#x27;#c7e020ff&#x27;, &#x27;#c8e020ff&#x27;, &#x27;#c9e11fff&#x27;, &#x27;#cbe11eff&#x27;, &#x27;#cce11dff&#x27;, &#x27;#cee11dff&#x27;, &#x27;#cfe11cff&#x27;, &#x27;#d1e11bff&#x27;, &#x27;#d2e21bff&#x27;, &#x27;#d3e21aff&#x27;, &#x27;#d4e21aff&#x27;, &#x27;#d6e219ff&#x27;, &#x27;#d7e219ff&#x27;, &#x27;#d9e319ff&#x27;, &#x27;#dae319ff&#x27;, &#x27;#dbe318ff&#x27;, &#x27;#dde318ff&#x27;, &#x27;#dee318ff&#x27;, &#x27;#dfe318ff&#x27;, &#x27;#e0e418ff&#x27;, &#x27;#e2e418ff&#x27;, &#x27;#e3e418ff&#x27;, &#x27;#e5e418ff&#x27;, &#x27;#e6e419ff&#x27;, &#x27;#e7e419ff&#x27;, &#x27;#e8e519ff&#x27;, &#x27;#eae519ff&#x27;, &#x27;#ebe51aff&#x27;, &#x27;#ece51aff&#x27;, &#x27;#ede51bff&#x27;, &#x27;#efe51bff&#x27;, &#x27;#f0e51cff&#x27;, &#x27;#f1e51dff&#x27;, &#x27;#f3e61dff&#x27;, &#x27;#f4e61eff&#x27;, &#x27;#f5e61eff&#x27;, &#x27;#f6e61fff&#x27;, &#x27;#f7e620ff&#x27;, &#x27;#f8e621ff&#x27;, &#x27;#fae722ff&#x27;, &#x27;#fbe723ff&#x27;, &#x27;#fce724ff&#x27;, &#x27;#fde725ff&#x27;]);\n",
       "    \n",
       "\n",
       "    color_map_04c1d272675c8934e78cb4d8a0f30ee4.x = d3.scale.linear()\n",
       "              .domain([342.0, 9058.0])\n",
       "              .range([0, 400]);\n",
       "\n",
       "    color_map_04c1d272675c8934e78cb4d8a0f30ee4.legend = L.control({position: &#x27;topright&#x27;});\n",
       "    color_map_04c1d272675c8934e78cb4d8a0f30ee4.legend.onAdd = function (map) {var div = L.DomUtil.create(&#x27;div&#x27;, &#x27;legend&#x27;); return div};\n",
       "    color_map_04c1d272675c8934e78cb4d8a0f30ee4.legend.addTo(map_8ae16f75f35d455f5f2469142fab60db);\n",
       "\n",
       "    color_map_04c1d272675c8934e78cb4d8a0f30ee4.xAxis = d3.svg.axis()\n",
       "        .scale(color_map_04c1d272675c8934e78cb4d8a0f30ee4.x)\n",
       "        .orient(&quot;top&quot;)\n",
       "        .tickSize(1)\n",
       "        .tickValues([342.0, &#x27;&#x27;, &#x27;&#x27;, &#x27;&#x27;, &#x27;&#x27;, &#x27;&#x27;, &#x27;&#x27;, &#x27;&#x27;, &#x27;&#x27;, &#x27;&#x27;, &#x27;&#x27;, &#x27;&#x27;, &#x27;&#x27;, &#x27;&#x27;, &#x27;&#x27;, &#x27;&#x27;, &#x27;&#x27;, &#x27;&#x27;, &#x27;&#x27;, &#x27;&#x27;, &#x27;&#x27;, &#x27;&#x27;, &#x27;&#x27;, &#x27;&#x27;, &#x27;&#x27;, &#x27;&#x27;, 1230.6901960784314, &#x27;&#x27;, &#x27;&#x27;, &#x27;&#x27;, &#x27;&#x27;, &#x27;&#x27;, &#x27;&#x27;, &#x27;&#x27;, &#x27;&#x27;, &#x27;&#x27;, &#x27;&#x27;, &#x27;&#x27;, &#x27;&#x27;, &#x27;&#x27;, &#x27;&#x27;, &#x27;&#x27;, &#x27;&#x27;, &#x27;&#x27;, &#x27;&#x27;, &#x27;&#x27;, &#x27;&#x27;, &#x27;&#x27;, &#x27;&#x27;, &#x27;&#x27;, &#x27;&#x27;, &#x27;&#x27;, 2119.380392156863, &#x27;&#x27;, &#x27;&#x27;, &#x27;&#x27;, &#x27;&#x27;, &#x27;&#x27;, &#x27;&#x27;, &#x27;&#x27;, &#x27;&#x27;, &#x27;&#x27;, &#x27;&#x27;, &#x27;&#x27;, &#x27;&#x27;, &#x27;&#x27;, &#x27;&#x27;, &#x27;&#x27;, &#x27;&#x27;, &#x27;&#x27;, &#x27;&#x27;, &#x27;&#x27;, &#x27;&#x27;, &#x27;&#x27;, &#x27;&#x27;, &#x27;&#x27;, &#x27;&#x27;, &#x27;&#x27;, 3008.070588235294, &#x27;&#x27;, &#x27;&#x27;, &#x27;&#x27;, &#x27;&#x27;, &#x27;&#x27;, &#x27;&#x27;, &#x27;&#x27;, &#x27;&#x27;, &#x27;&#x27;, &#x27;&#x27;, &#x27;&#x27;, &#x27;&#x27;, &#x27;&#x27;, &#x27;&#x27;, &#x27;&#x27;, &#x27;&#x27;, &#x27;&#x27;, &#x27;&#x27;, &#x27;&#x27;, &#x27;&#x27;, &#x27;&#x27;, &#x27;&#x27;, &#x27;&#x27;, &#x27;&#x27;, &#x27;&#x27;, 3896.7607843137257, &#x27;&#x27;, &#x27;&#x27;, &#x27;&#x27;, &#x27;&#x27;, &#x27;&#x27;, &#x27;&#x27;, &#x27;&#x27;, &#x27;&#x27;, &#x27;&#x27;, &#x27;&#x27;, &#x27;&#x27;, &#x27;&#x27;, &#x27;&#x27;, &#x27;&#x27;, &#x27;&#x27;, &#x27;&#x27;, &#x27;&#x27;, &#x27;&#x27;, &#x27;&#x27;, &#x27;&#x27;, &#x27;&#x27;, &#x27;&#x27;, &#x27;&#x27;, &#x27;&#x27;, &#x27;&#x27;, 4785.450980392156, &#x27;&#x27;, &#x27;&#x27;, &#x27;&#x27;, &#x27;&#x27;, &#x27;&#x27;, &#x27;&#x27;, &#x27;&#x27;, &#x27;&#x27;, &#x27;&#x27;, &#x27;&#x27;, &#x27;&#x27;, &#x27;&#x27;, &#x27;&#x27;, &#x27;&#x27;, &#x27;&#x27;, &#x27;&#x27;, &#x27;&#x27;, &#x27;&#x27;, &#x27;&#x27;, &#x27;&#x27;, &#x27;&#x27;, &#x27;&#x27;, &#x27;&#x27;, &#x27;&#x27;, &#x27;&#x27;, 5674.141176470588, &#x27;&#x27;, &#x27;&#x27;, &#x27;&#x27;, &#x27;&#x27;, &#x27;&#x27;, &#x27;&#x27;, &#x27;&#x27;, &#x27;&#x27;, &#x27;&#x27;, &#x27;&#x27;, &#x27;&#x27;, &#x27;&#x27;, &#x27;&#x27;, &#x27;&#x27;, &#x27;&#x27;, &#x27;&#x27;, &#x27;&#x27;, &#x27;&#x27;, &#x27;&#x27;, &#x27;&#x27;, &#x27;&#x27;, &#x27;&#x27;, &#x27;&#x27;, &#x27;&#x27;, &#x27;&#x27;, 6562.83137254902, &#x27;&#x27;, &#x27;&#x27;, &#x27;&#x27;, &#x27;&#x27;, &#x27;&#x27;, &#x27;&#x27;, &#x27;&#x27;, &#x27;&#x27;, &#x27;&#x27;, &#x27;&#x27;, &#x27;&#x27;, &#x27;&#x27;, &#x27;&#x27;, &#x27;&#x27;, &#x27;&#x27;, &#x27;&#x27;, &#x27;&#x27;, &#x27;&#x27;, &#x27;&#x27;, &#x27;&#x27;, &#x27;&#x27;, &#x27;&#x27;, &#x27;&#x27;, &#x27;&#x27;, &#x27;&#x27;, 7451.521568627451, &#x27;&#x27;, &#x27;&#x27;, &#x27;&#x27;, &#x27;&#x27;, &#x27;&#x27;, &#x27;&#x27;, &#x27;&#x27;, &#x27;&#x27;, &#x27;&#x27;, &#x27;&#x27;, &#x27;&#x27;, &#x27;&#x27;, &#x27;&#x27;, &#x27;&#x27;, &#x27;&#x27;, &#x27;&#x27;, &#x27;&#x27;, &#x27;&#x27;, &#x27;&#x27;, &#x27;&#x27;, &#x27;&#x27;, &#x27;&#x27;, &#x27;&#x27;, &#x27;&#x27;, &#x27;&#x27;, 8340.211764705882, &#x27;&#x27;, &#x27;&#x27;, &#x27;&#x27;, &#x27;&#x27;, &#x27;&#x27;, &#x27;&#x27;, &#x27;&#x27;, &#x27;&#x27;, &#x27;&#x27;, &#x27;&#x27;, &#x27;&#x27;, &#x27;&#x27;, &#x27;&#x27;, &#x27;&#x27;, &#x27;&#x27;, &#x27;&#x27;, &#x27;&#x27;, &#x27;&#x27;, &#x27;&#x27;, &#x27;&#x27;, &#x27;&#x27;, &#x27;&#x27;, &#x27;&#x27;, &#x27;&#x27;, &#x27;&#x27;]);\n",
       "\n",
       "    color_map_04c1d272675c8934e78cb4d8a0f30ee4.svg = d3.select(&quot;.legend.leaflet-control&quot;).append(&quot;svg&quot;)\n",
       "        .attr(&quot;id&quot;, &#x27;legend&#x27;)\n",
       "        .attr(&quot;width&quot;, 450)\n",
       "        .attr(&quot;height&quot;, 40);\n",
       "\n",
       "    color_map_04c1d272675c8934e78cb4d8a0f30ee4.g = color_map_04c1d272675c8934e78cb4d8a0f30ee4.svg.append(&quot;g&quot;)\n",
       "        .attr(&quot;class&quot;, &quot;key&quot;)\n",
       "        .attr(&quot;transform&quot;, &quot;translate(25,16)&quot;);\n",
       "\n",
       "    color_map_04c1d272675c8934e78cb4d8a0f30ee4.g.selectAll(&quot;rect&quot;)\n",
       "        .data(color_map_04c1d272675c8934e78cb4d8a0f30ee4.color.range().map(function(d, i) {\n",
       "          return {\n",
       "            x0: i ? color_map_04c1d272675c8934e78cb4d8a0f30ee4.x(color_map_04c1d272675c8934e78cb4d8a0f30ee4.color.domain()[i - 1]) : color_map_04c1d272675c8934e78cb4d8a0f30ee4.x.range()[0],\n",
       "            x1: i &lt; color_map_04c1d272675c8934e78cb4d8a0f30ee4.color.domain().length ? color_map_04c1d272675c8934e78cb4d8a0f30ee4.x(color_map_04c1d272675c8934e78cb4d8a0f30ee4.color.domain()[i]) : color_map_04c1d272675c8934e78cb4d8a0f30ee4.x.range()[1],\n",
       "            z: d\n",
       "          };\n",
       "        }))\n",
       "      .enter().append(&quot;rect&quot;)\n",
       "        .attr(&quot;height&quot;, 10)\n",
       "        .attr(&quot;x&quot;, function(d) { return d.x0; })\n",
       "        .attr(&quot;width&quot;, function(d) { return d.x1 - d.x0; })\n",
       "        .style(&quot;fill&quot;, function(d) { return d.z; });\n",
       "\n",
       "    color_map_04c1d272675c8934e78cb4d8a0f30ee4.g.call(color_map_04c1d272675c8934e78cb4d8a0f30ee4.xAxis).append(&quot;text&quot;)\n",
       "        .attr(&quot;class&quot;, &quot;caption&quot;)\n",
       "        .attr(&quot;y&quot;, 21)\n",
       "        .text(&#x27;2019&#x27;);\n",
       "&lt;/script&gt;\" style=\"position:absolute;width:100%;height:100%;left:0;top:0;border:none !important;\" allowfullscreen webkitallowfullscreen mozallowfullscreen></iframe></div></div>"
      ],
      "text/plain": [
       "<folium.folium.Map at 0x2123430f8e0>"
      ]
     },
     "execution_count": 13,
     "metadata": {},
     "output_type": "execute_result"
    }
   ],
   "source": [
    "censusPepPolys.explore(column=\"2019\")"
   ]
  },
  {
   "cell_type": "markdown",
   "metadata": {},
   "source": [
    "## And statistical analyses? You bet."
   ]
  },
  {
   "cell_type": "code",
   "execution_count": 14,
   "metadata": {},
   "outputs": [],
   "source": [
    "from scipy import stats\n",
    "import numpy as np\n",
    "\n",
    "x = censusPepPopChg.columns.to_series()\n",
    "y = censusPepPopChg.loc[\"Franklin\"]"
   ]
  },
  {
   "cell_type": "code",
   "execution_count": 15,
   "metadata": {},
   "outputs": [],
   "source": [
    "# Perform linear regression and calculate slope and standard error\n",
    "slope, intercept, r_value, p_value, std_err = stats.linregress(x, y)\n",
    "\n",
    "trendline = slope * x + intercept"
   ]
  },
  {
   "cell_type": "code",
   "execution_count": 16,
   "metadata": {},
   "outputs": [
    {
     "name": "stdout",
     "output_type": "stream",
     "text": [
      "There is no significant evidence of a negative trend\n",
      "There is no significant evidence of a positive trend\n"
     ]
    },
    {
     "data": {
      "image/png": "[encoded data removed]",
      "text/plain": [
       "<Figure size 432x288 with 1 Axes>"
      ]
     },
     "metadata": {
      "needs_background": "light"
     },
     "output_type": "display_data"
    }
   ],
   "source": [
    "# Calculate t-statistic and p-value for one-tailed test\n",
    "t_stat = slope / (std_err / np.sqrt(len(x)))\n",
    "p_value = stats.t.sf(np.abs(t_stat), len(x)-2)\n",
    "\n",
    "# Set significance level and print results\n",
    "alpha = 0.05\n",
    "if p_value < alpha and slope < 0:\n",
    "    print(\"There is significant evidence (p = {:.4f}) of a negative trend\".format(p_value))\n",
    "else:\n",
    "    print(\"There is no significant evidence of a negative trend\")\n",
    "if p_value < alpha and slope > 0:\n",
    "    print(\"There is significant evidence (p = {:.4f}) of a positive trend\".format(p_value))\n",
    "else:\n",
    "    print(\"There is no significant evidence of a positive trend\")\n",
    "\n",
    "plt.plot(x,y,\"o\")\n",
    "plt.plot(x,trendline)\n",
    "plt.show()"
   ]
  },
  {
   "cell_type": "markdown",
   "metadata": {},
   "source": [
    "## Need some nicely-formatted output for the boss? Jupyter has you covered."
   ]
  },
  {
   "cell_type": "markdown",
   "metadata": {},
   "source": [
    "<table>\n",
    "    <tr>\n",
    "        <td width=\"30%\" style=\"vertical-align:top\">\n",
    "            <ul>\n",
    "                <li>HTML</li>\n",
    "                <li>PDF</li>\n",
    "                <li>Microsoft Word</li>\n",
    "                <li>Presentations</li>\n",
    "                <li>Interactive dashboards</li>\n",
    "                <li>Websites</li>\n",
    "                <li>Books</li>\n",
    "            </ul>\n",
    "        </td>\n",
    "        <td>\n",
    "            <img src=\"https://quarto.org/docs/gallery/interactive/interactive-ojs.png\" alt=\"Dashboard example screenshot\" />\n",
    "        </td>\n",
    "    </tr>\n",
    "</table>"
   ]
  },
  {
   "cell_type": "markdown",
   "metadata": {
    "slideshow": {
     "slide_type": "notes"
    },
    "tags": []
   },
   "source": [
    "Note: Some of these export options are built into Jupyter Notebook and JupyterLab.  For others, you need a more sophisticated export tool like [Quarto](https://quarto.org/)."
   ]
  },
  {
   "cell_type": "markdown",
   "metadata": {},
   "source": [
    "## Closing thoughts"
   ]
  },
  {
   "cell_type": "markdown",
   "metadata": {},
   "source": [
    "### Your environment should be reproducible too\n",
    "\n",
    "  - Python virtual environments (for Python-only work)\n",
    "  - Docker (for more complex workflows)"
   ]
  },
  {
   "cell_type": "markdown",
   "metadata": {},
   "source": [
    "### Version control\n",
    "\n",
    "  - Lots of choices. Git (often via GitHub) is most popular.\n",
    "  - Control versions of your data too!\n",
    "  - Text formats allow you to see diffs"
   ]
  },
  {
   "cell_type": "markdown",
   "metadata": {},
   "source": [
    "### You can do all of this in R too"
   ]
  },
  {
   "cell_type": "markdown",
   "metadata": {},
   "source": [
    "### Binder lets you run Jupyter in the cloud \n",
    "\n",
    "No Jupyter? No problem! [Binder](https://mybinder.org/) spins up a notebook from GitHub."
   ]
  },
  {
   "cell_type": "markdown",
   "metadata": {},
   "source": [
    "### Jupyter is Free Software"
   ]
  },
  {
   "cell_type": "markdown",
   "metadata": {},
   "source": [
    "## 10 commandments of reproducible data science (any questions?)"
   ]
  },
  {
   "cell_type": "markdown",
   "metadata": {},
   "source": [
    "  1. Thou shalt **provide a succint and simple introduction**\n",
    "  1. Thou shalt **capture every step and assumption**\n",
    "  1. Thou shalt **capture metadata** for inputs and outputs\n",
    "  1. Thou shalt **explain complex operations** in words your boss can understand\n",
    "  1. Thou shalt **collect prerequisite steps in one place** \n",
    "  1. Thou shalt **preserve versions** of thine process\n",
    "  1. Thou shalt **get thine input data directly from the source**\n",
    "  1. Thou shalt **save a copy of thine input data**\n",
    "  1. Thou shalt **document thine analysis environment**\n",
    "  1. Thou shalt use **freely-available tools** that thine peers have access to"
   ]
  },
  {
   "cell_type": "markdown",
   "metadata": {
    "jp-MarkdownHeadingCollapsed": true,
    "slideshow": {
     "slide_type": "subslide"
    },
    "tags": []
   },
   "source": [
    "## Accessing the content from this presentation\n",
    "\n",
    "All of the content presented today is publicly available in GitHub:\n",
    "\n",
    "https://github.com/aporr/jupyter-reproducible-workflows\n",
    "\n",
    "The slides are available directly from the following URL:\n",
    "\n",
    "https://aporr.github.io/jupyter-reproducible-workflows/slides.html\n",
    "\n",
    "The slides are implemented using Reveal.js, which [arranges slides in a 2D layout](https://revealjs.com/vertical-slides/).  Press `PGDN` to move to the next slide or `PGUP` to move to previous slide, or press `ESC` to see an overview and move through the slides non-linearly."
   ]
  },
  {
   "cell_type": "markdown",
   "metadata": {
    "slideshow": {
     "slide_type": "skip"
    },
    "tags": []
   },
   "source": [
    "## Takeaways\n",
    "\n",
    "  1. Data scientists are terrible at documentation.\n",
    "  2. Computers are dumb. If a computer can follow your analysis, so can a human.\n",
    "  2. Humans are busy. A few thoughtful comments go a long way.\n",
    "  3. Jupyter is ideal for creating analyses for computers and humans.\n",
    "  4. A well-organized Jupyter notebook reads like a book but runs like a program.\n",
    "  5. Jupyter is great at data manipulation, thanks to pandas and geopandas.\n",
    "  6. Jupyter can create charts.\n",
    "  7. Maps too!\n",
    "  8. And statistical analyses? You bet.\n",
    "  9. Plus, it plays nicely with other tools.\n",
    "  10. Need some nicely-formatted output for the boss? Jupyter has you covered.\n",
    "  8. Closing thoughts and questions\n",
    "    - You can do all of this in R too.  \n",
    "    - Open source\n",
    "    - Binder\n",
    "    - Environment\n",
    "    - Version control\n",
    "  "
   ]
  }
 ],
 "metadata": {
  "celltoolbar": "Slideshow",
  "kernelspec": {
   "display_name": "Python 3 (ipykernel)",
   "language": "python",
   "name": "python3"
  },
  "language_info": {
   "codemirror_mode": {
    "name": "ipython",
    "version": 3
   },
   "file_extension": ".py",
   "mimetype": "text/x-python",
   "name": "python",
   "nbconvert_exporter": "python",
   "pygments_lexer": "ipython3",
   "version": "3.10.4"
  }
 },
 "nbformat": 4,
 "nbformat_minor": 4
}
